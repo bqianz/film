{
 "cells": [
  {
   "cell_type": "code",
   "execution_count": 1,
   "id": "0ada02c0-57d1-45ba-bf36-abfafe780c6f",
   "metadata": {},
   "outputs": [
    {
     "name": "stderr",
     "output_type": "stream",
     "text": [
      "c:\\users\\mouju\\appdata\\local\\programs\\python\\python38\\lib\\site-packages\\scipy\\__init__.py:138: UserWarning: A NumPy version >=1.16.5 and <1.23.0 is required for this version of SciPy (detected version 1.24.1)\n",
      "  warnings.warn(f\"A NumPy version >={np_minversion} and <{np_maxversion} is required for this version of \"\n"
     ]
    }
   ],
   "source": [
    "from filmModels import *\n",
    "from dataPreprocess import *"
   ]
  },
  {
   "cell_type": "code",
   "execution_count": 2,
   "id": "d5bae37c-3fab-4948-93c7-957daaa46bca",
   "metadata": {},
   "outputs": [],
   "source": [
    "# path of csv containing \n",
    "bh_file_path = 'data_stephen_fix_header.csv'\n",
    "\n",
    "# list of columns in the dataframe to normalize\n",
    "list_cols = ['latitude', 'longitude', 'proj_x', 'proj_y', 'depth', 'interval_length', 'time']\n",
    "\n",
    "chips_collection_path = 'raster_chips'\n",
    "\n",
    "# geo90 = {'path': ''}\n",
    "# saga = {'path': ''}"
   ]
  },
  {
   "cell_type": "code",
   "execution_count": 3,
   "id": "b43d2eea-c51c-4c11-a4ab-036573436622",
   "metadata": {},
   "outputs": [
    {
     "name": "stdout",
     "output_type": "stream",
     "text": [
      "Dataframe has length 2837\n",
      "Number of unique boreholes is 566\n",
      "Latitude ranges from 68.36933 to 69.44755\n",
      "Longitude ranges from -133.82843 to -132.89346\n",
      "List of columns normalized: ['latitude_norm', 'longitude_norm', 'proj_x_norm', 'proj_y_norm', 'depth_norm', 'interval_length_norm', 'year_norm', 'month_cyclic_norm']\n"
     ]
    }
   ],
   "source": [
    "df = pd.read_csv(bh_file_path, header=[0])\n",
    "df['interval_length'] = df['bottom_of_interval'] - df['top_of_interval']\n",
    "project_df(df)\n",
    "df_scaler, list_of_columns_normalized = normalize_df(df, list_cols)"
   ]
  },
  {
   "cell_type": "code",
   "execution_count": 4,
   "id": "b07206ed-6faa-4107-821d-6b93d1f1c581",
   "metadata": {},
   "outputs": [
    {
     "name": "stdout",
     "output_type": "stream",
     "text": [
      "visible_ice: 'None' entries have been replaced by 'No visible ice'\n",
      "visible_ice column entries has been ordered:\n",
      "[NaN, 'Pure ice', 'No visible ice', 'High', 'Medium to high', 'Low']\n",
      "Categories (5, object): ['No visible ice' < 'Low' < 'Medium to high' < 'High' < 'Pure ice']\n",
      "with corresponding codes in visible_ice_code column:\n",
      "[-1  4  0  3  2  1]\n",
      "visible_ice: binary column generated\n",
      "materials: 'ICE' and 'ice' entries has been standardized into 'Ice'\n",
      "'material_ice' column generated\n"
     ]
    }
   ],
   "source": [
    "filter_df_visibile_ice(df)\n",
    "filter_df_materials(df)"
   ]
  },
  {
   "cell_type": "code",
   "execution_count": 5,
   "id": "94692046-fa08-4c74-9695-ea9a0f0179d6",
   "metadata": {},
   "outputs": [],
   "source": [
    "## draw heatmap"
   ]
  },
  {
   "cell_type": "code",
   "execution_count": 6,
   "id": "c67c5796-27d1-47c0-9368-cd19c9ac49cd",
   "metadata": {},
   "outputs": [],
   "source": [
    "# df2 = df.dropna(subset=['visible_ice'])"
   ]
  },
  {
   "cell_type": "code",
   "execution_count": 7,
   "id": "39e16d60-bd52-41bf-8489-884c336936b5",
   "metadata": {},
   "outputs": [
    {
     "ename": "SyntaxError",
     "evalue": "invalid syntax (<ipython-input-7-38c5f689de93>, line 6)",
     "output_type": "error",
     "traceback": [
      "\u001b[1;36m  File \u001b[1;32m\"<ipython-input-7-38c5f689de93>\"\u001b[1;36m, line \u001b[1;32m6\u001b[0m\n\u001b[1;33m    if not os.path.exists(chips_path)\u001b[0m\n\u001b[1;37m                                     ^\u001b[0m\n\u001b[1;31mSyntaxError\u001b[0m\u001b[1;31m:\u001b[0m invalid syntax\n"
     ]
    }
   ],
   "source": [
    "import os\n",
    "\n",
    "if not os.path.exists(chips_collection_path):\n",
    "    os.makedirs(chips_collection_path)\n",
    "\n",
    "if not os.path.exists(chips_path)"
   ]
  }
 ],
 "metadata": {
  "kernelspec": {
   "display_name": "Python 3",
   "language": "python",
   "name": "python3"
  },
  "language_info": {
   "codemirror_mode": {
    "name": "ipython",
    "version": 3
   },
   "file_extension": ".py",
   "mimetype": "text/x-python",
   "name": "python",
   "nbconvert_exporter": "python",
   "pygments_lexer": "ipython3",
   "version": "3.8.8"
  }
 },
 "nbformat": 4,
 "nbformat_minor": 5
}
