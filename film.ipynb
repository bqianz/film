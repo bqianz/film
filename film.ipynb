{
 "cells": [
  {
   "cell_type": "code",
   "execution_count": 1,
   "id": "0ada02c0-57d1-45ba-bf36-abfafe780c6f",
   "metadata": {},
   "outputs": [
    {
     "name": "stderr",
     "output_type": "stream",
     "text": [
      "c:\\users\\mouju\\appdata\\local\\programs\\python\\python38\\lib\\site-packages\\scipy\\__init__.py:138: UserWarning: A NumPy version >=1.16.5 and <1.23.0 is required for this version of SciPy (detected version 1.24.1)\n",
      "  warnings.warn(f\"A NumPy version >={np_minversion} and <{np_maxversion} is required for this version of \"\n"
     ]
    }
   ],
   "source": [
    "from filmModels import *\n",
    "from dataPreprocess import *\n",
    "from filmPostProcess import *\n",
    "import os"
   ]
  },
  {
   "cell_type": "code",
   "execution_count": 2,
   "id": "d5bae37c-3fab-4948-93c7-957daaa46bca",
   "metadata": {},
   "outputs": [],
   "source": [
    "label = 'visible_ice'\n",
    "tab_params = ['proj_x_norm', 'proj_y_norm', 'depth_norm', 'interval_length_norm', 'year_norm', 'month_cyclic_norm']\n",
    "label_predict = label + '_code'\n",
    "\n",
    "film=True\n",
    "chip_size = 64\n",
    "train_max_epoch = 2\n",
    "max_iterations = 2\n",
    "print_train_progress = True\n",
    "print_test_model = True\n",
    "hidden_width=32 \n",
    "hidden_nblocks=4\n",
    "L2_param = 1e-5\n",
    "device = torch.device('cuda' if torch.cuda.is_available() else 'cpu')\n",
    "# path of csv containing tabular data\n",
    "bh_file_path = 'data_stephen_fix_header.csv'\n",
    "\n",
    "\n",
    "chips_path = r'C:\\Users\\mouju\\Desktop\\film\\raster_chips_arcticdem_hds_scaled'\n",
    "\n",
    "meta_params = {'chip_size': chip_size, 'train_max_epoch': train_max_epoch, 'max_iterations': max_iterations, \\\n",
    "               'print_train_progress': print_train_progress, 'print_test_model':print_test_model, \\\n",
    "              'device':device, 'hidden_width': hidden_width, 'hidden_nblocks':hidden_nblocks, 'L2_param':L2_param, 'film':film}"
   ]
  },
  {
   "cell_type": "code",
   "execution_count": 3,
   "id": "bc0f8054-afdc-45ee-b11a-e0876a1a74c8",
   "metadata": {},
   "outputs": [
    {
     "name": "stdout",
     "output_type": "stream",
     "text": [
      "Dataframe has length 2837\n",
      "Number of unique boreholes is 566\n",
      "Latitude ranges from 68.36933 to 69.44755\n",
      "Longitude ranges from -133.82843 to -132.89346\n",
      "List of columns normalized: ['latitude_norm', 'longitude_norm', 'proj_x_norm', 'proj_y_norm', 'depth_norm', 'interval_length_norm', 'year_norm', 'month_cyclic_norm']\n",
      "visible_ice: 'None' entries have been replaced by 'No visible ice'\n",
      "visible_ice column entries has been ordered:\n",
      "[NaN, 'Pure ice', 'No visible ice', 'High', 'Medium to high', 'Low']\n",
      "Categories (5, object): ['No visible ice' < 'Low' < 'Medium to high' < 'High' < 'Pure ice']\n",
      "with corresponding codes in visible_ice_code column:\n",
      "[-1  4  0  3  2  1]\n",
      "visible_ice: binary column generated\n",
      "materials: 'ICE' and 'ice' entries has been standardized into 'Ice'\n",
      "'material_ice' column generated\n",
      "materials has been categorized into codes in materials_code\n",
      "Null entries of visible_ice dropped\n"
     ]
    }
   ],
   "source": [
    "# list of columns in the dataframe to normalize\n",
    "list_cols = ['latitude', 'longitude', 'proj_x', 'proj_y', 'depth', 'interval_length', 'time']\n",
    "df, n_classes = prepare_df(bh_file_path, list_cols, label)"
   ]
  },
  {
   "cell_type": "code",
   "execution_count": 4,
   "id": "f9fb427b-ad01-4382-845b-684c66c288cb",
   "metadata": {},
   "outputs": [],
   "source": [
    "df = crop_df_hds(df)"
   ]
  },
  {
   "cell_type": "code",
   "execution_count": 5,
   "id": "ef840ddc-fb6c-449e-9255-1bba0fdc2382",
   "metadata": {},
   "outputs": [
    {
     "name": "stdout",
     "output_type": "stream",
     "text": [
      "Dataset contains 5 channels\n"
     ]
    }
   ],
   "source": [
    "loaded_dataset = filmDataset(chips_path, df, tab_params, label_predict, chip_size)"
   ]
  },
  {
   "cell_type": "code",
   "execution_count": 6,
   "id": "c46ac2e7-795c-4b4e-be1d-8fa7ccf1e39f",
   "metadata": {},
   "outputs": [],
   "source": [
    "meta_params['n_channels'] = loaded_dataset.n_channels\n",
    "meta_params['n_classes'] = n_classes\n",
    "if n_classes == 1:\n",
    "    meta_params['loss_fn'] = torch.nn.BCELoss()\n",
    "else:\n",
    "    meta_params['loss_fn'] = torch.nn.CrossEntropyLoss()\n",
    "meta_params['full_dataset'] = loaded_dataset"
   ]
  },
  {
   "cell_type": "code",
   "execution_count": 7,
   "id": "4608c942-ddfa-49e0-8419-e55b1453a3a5",
   "metadata": {},
   "outputs": [
    {
     "name": "stdout",
     "output_type": "stream",
     "text": [
      "Batch size 20\n",
      "Data split into training size 573 and testing size 144\n"
     ]
    }
   ],
   "source": [
    "train_loader, test_loader = split_data(loaded_dataset)"
   ]
  },
  {
   "cell_type": "code",
   "execution_count": 9,
   "id": "45f19c24-296a-4b2e-9a67-5a93fc727790",
   "metadata": {},
   "outputs": [
    {
     "name": "stderr",
     "output_type": "stream",
     "text": [
      "c:\\users\\mouju\\appdata\\local\\programs\\python\\python38\\lib\\site-packages\\torch\\nn\\functional.py:718: UserWarning: Named tensors and all their associated APIs are an experimental feature and subject to change. Please do not use them for anything important until they are released as stable. (Triggered internally at  ..\\c10/core/TensorImpl.h:1156.)\n",
      "  return torch.max_pool2d(input, kernel_size, stride, padding, dilation, ceil_mode)\n"
     ]
    },
    {
     "name": "stdout",
     "output_type": "stream",
     "text": [
      "epoch  1: running loss: 1.57695, validation loss: 1.47987\n",
      "epoch  2: running loss: 1.40572, validation loss: 1.38616\n",
      "Finished Training\n",
      "epoch 2 model selected\n",
      "iteration 1 elapsed time: 6.101025104522705, accuracy : 0.3541666666666667\n",
      "epoch  1: running loss: 1.45870, validation loss: 1.42108\n",
      "epoch  2: running loss: 1.38340, validation loss: 1.45319\n",
      "Finished Training\n",
      "epoch 1 model selected\n",
      "iteration 2 elapsed time: 3.4968881607055664, accuracy : 0.3333333333333333\n"
     ]
    }
   ],
   "source": [
    "results = iterate(meta_params, train_loader, test_loader)"
   ]
  },
  {
   "cell_type": "code",
   "execution_count": 10,
   "id": "3620eb6e-ceda-4ba3-903e-2e0ce45d0771",
   "metadata": {},
   "outputs": [
    {
     "name": "stdout",
     "output_type": "stream",
     "text": [
      "mean\n"
     ]
    },
    {
     "data": {
      "text/html": [
       "<div>\n",
       "<style scoped>\n",
       "    .dataframe tbody tr th:only-of-type {\n",
       "        vertical-align: middle;\n",
       "    }\n",
       "\n",
       "    .dataframe tbody tr th {\n",
       "        vertical-align: top;\n",
       "    }\n",
       "\n",
       "    .dataframe thead th {\n",
       "        text-align: right;\n",
       "    }\n",
       "</style>\n",
       "<table border=\"1\" class=\"dataframe\">\n",
       "  <thead>\n",
       "    <tr style=\"text-align: right;\">\n",
       "      <th></th>\n",
       "      <th>precision</th>\n",
       "      <th>recall</th>\n",
       "      <th>f1</th>\n",
       "      <th>support</th>\n",
       "    </tr>\n",
       "  </thead>\n",
       "  <tbody>\n",
       "    <tr>\n",
       "      <th>0</th>\n",
       "      <td>0.143678</td>\n",
       "      <td>0.328947</td>\n",
       "      <td>0.200000</td>\n",
       "      <td>38.0</td>\n",
       "    </tr>\n",
       "    <tr>\n",
       "      <th>1</th>\n",
       "      <td>0.078947</td>\n",
       "      <td>0.050000</td>\n",
       "      <td>0.061224</td>\n",
       "      <td>30.0</td>\n",
       "    </tr>\n",
       "    <tr>\n",
       "      <th>2</th>\n",
       "      <td>0.440241</td>\n",
       "      <td>0.696078</td>\n",
       "      <td>0.486258</td>\n",
       "      <td>51.0</td>\n",
       "    </tr>\n",
       "    <tr>\n",
       "      <th>3</th>\n",
       "      <td>0.000000</td>\n",
       "      <td>0.000000</td>\n",
       "      <td>0.000000</td>\n",
       "      <td>6.0</td>\n",
       "    </tr>\n",
       "    <tr>\n",
       "      <th>4</th>\n",
       "      <td>0.000000</td>\n",
       "      <td>0.000000</td>\n",
       "      <td>0.000000</td>\n",
       "      <td>19.0</td>\n",
       "    </tr>\n",
       "  </tbody>\n",
       "</table>\n",
       "</div>"
      ],
      "text/plain": [
       "   precision    recall        f1  support\n",
       "0   0.143678  0.328947  0.200000     38.0\n",
       "1   0.078947  0.050000  0.061224     30.0\n",
       "2   0.440241  0.696078  0.486258     51.0\n",
       "3   0.000000  0.000000  0.000000      6.0\n",
       "4   0.000000  0.000000  0.000000     19.0"
      ]
     },
     "metadata": {},
     "output_type": "display_data"
    },
    {
     "name": "stdout",
     "output_type": "stream",
     "text": [
      "std\n"
     ]
    },
    {
     "data": {
      "text/html": [
       "<div>\n",
       "<style scoped>\n",
       "    .dataframe tbody tr th:only-of-type {\n",
       "        vertical-align: middle;\n",
       "    }\n",
       "\n",
       "    .dataframe tbody tr th {\n",
       "        vertical-align: top;\n",
       "    }\n",
       "\n",
       "    .dataframe thead th {\n",
       "        text-align: right;\n",
       "    }\n",
       "</style>\n",
       "<table border=\"1\" class=\"dataframe\">\n",
       "  <thead>\n",
       "    <tr style=\"text-align: right;\">\n",
       "      <th></th>\n",
       "      <th>precision</th>\n",
       "      <th>recall</th>\n",
       "      <th>f1</th>\n",
       "      <th>support</th>\n",
       "    </tr>\n",
       "  </thead>\n",
       "  <tbody>\n",
       "    <tr>\n",
       "      <th>0</th>\n",
       "      <td>0.143678</td>\n",
       "      <td>0.328947</td>\n",
       "      <td>0.200000</td>\n",
       "      <td>0.0</td>\n",
       "    </tr>\n",
       "    <tr>\n",
       "      <th>1</th>\n",
       "      <td>0.078947</td>\n",
       "      <td>0.050000</td>\n",
       "      <td>0.061224</td>\n",
       "      <td>0.0</td>\n",
       "    </tr>\n",
       "    <tr>\n",
       "      <th>2</th>\n",
       "      <td>0.086075</td>\n",
       "      <td>0.303922</td>\n",
       "      <td>0.036819</td>\n",
       "      <td>0.0</td>\n",
       "    </tr>\n",
       "    <tr>\n",
       "      <th>3</th>\n",
       "      <td>0.000000</td>\n",
       "      <td>0.000000</td>\n",
       "      <td>0.000000</td>\n",
       "      <td>0.0</td>\n",
       "    </tr>\n",
       "    <tr>\n",
       "      <th>4</th>\n",
       "      <td>0.000000</td>\n",
       "      <td>0.000000</td>\n",
       "      <td>0.000000</td>\n",
       "      <td>0.0</td>\n",
       "    </tr>\n",
       "  </tbody>\n",
       "</table>\n",
       "</div>"
      ],
      "text/plain": [
       "   precision    recall        f1  support\n",
       "0   0.143678  0.328947  0.200000      0.0\n",
       "1   0.078947  0.050000  0.061224      0.0\n",
       "2   0.086075  0.303922  0.036819      0.0\n",
       "3   0.000000  0.000000  0.000000      0.0\n",
       "4   0.000000  0.000000  0.000000      0.0"
      ]
     },
     "metadata": {},
     "output_type": "display_data"
    },
    {
     "name": "stdout",
     "output_type": "stream",
     "text": [
      "Accuracy mean: 0.34375, std: 0.010416666666666685\n"
     ]
    }
   ],
   "source": [
    "display_results(meta_params, results)"
   ]
  },
  {
   "cell_type": "code",
   "execution_count": 11,
   "id": "94692046-fa08-4c74-9695-ea9a0f0179d6",
   "metadata": {},
   "outputs": [],
   "source": [
    "## draw heatmap"
   ]
  },
  {
   "cell_type": "code",
   "execution_count": 12,
   "id": "c67c5796-27d1-47c0-9368-cd19c9ac49cd",
   "metadata": {},
   "outputs": [],
   "source": [
    "# df2 = df.dropna(subset=['visible_ice'])"
   ]
  }
 ],
 "metadata": {
  "kernelspec": {
   "display_name": "Python 3",
   "language": "python",
   "name": "python3"
  },
  "language_info": {
   "codemirror_mode": {
    "name": "ipython",
    "version": 3
   },
   "file_extension": ".py",
   "mimetype": "text/x-python",
   "name": "python",
   "nbconvert_exporter": "python",
   "pygments_lexer": "ipython3",
   "version": "3.8.8"
  }
 },
 "nbformat": 4,
 "nbformat_minor": 5
}
