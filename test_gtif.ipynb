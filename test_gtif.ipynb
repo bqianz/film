{
 "cells": [
  {
   "cell_type": "code",
   "execution_count": 9,
   "id": "3e57d4d9-d0ae-42a0-98e2-5dcec3edfc23",
   "metadata": {},
   "outputs": [],
   "source": [
    "# Create a test 2D array (randon numbers between 0 and 9)\n",
    "from gtif import *"
   ]
  },
  {
   "cell_type": "code",
   "execution_count": 17,
   "id": "423e5731-78b4-4898-a32b-c3c07e2869d9",
   "metadata": {},
   "outputs": [],
   "source": [
    "output_file = 'ice_predictions.tif'"
   ]
  },
  {
   "cell_type": "code",
   "execution_count": 10,
   "id": "af4babd0-fd9e-40b6-aa8d-4bc1a72788d7",
   "metadata": {},
   "outputs": [
    {
     "name": "stdout",
     "output_type": "stream",
     "text": [
      "int64\n",
      "(40, 20, 5)\n"
     ]
    }
   ],
   "source": [
    "data = np.load('predicted.npy')\n",
    "print(data.dtype)\n",
    "print(data.shape)"
   ]
  },
  {
   "cell_type": "code",
   "execution_count": 11,
   "id": "8db3eb39-f415-4aaf-be6a-931a3dad4688",
   "metadata": {},
   "outputs": [],
   "source": [
    "# Define the data extent (min. lon, min. lat, max. lon, max. lat)\n",
    "# extent = [-93.0, -60.00, -25.00, 18.00] # South America\n",
    "latitude_max = 69.5\n",
    "latitude_min = 68.3\n",
    "longitude_max = -132.8\n",
    "longitude_min = -133.9\n",
    "\n",
    "extent = [longitude_min, latitude_min, longitude_max, latitude_max]\n",
    " "
   ]
  },
  {
   "cell_type": "code",
   "execution_count": 12,
   "id": "0f9b1ec0-aace-4487-b305-729ef62ccf00",
   "metadata": {},
   "outputs": [
    {
     "name": "stdout",
     "output_type": "stream",
     "text": [
      "Dimensions of data is 40 rows, 20 columns, 5 layers\n",
      "Generated GeoTIFF: gtif_test.tif\n"
     ]
    }
   ],
   "source": [
    "create_geotiff(data, output_file, extent, data_type = gdal.GDT_Int16)"
   ]
  },
  {
   "cell_type": "code",
   "execution_count": 13,
   "id": "6aa744c8-8326-4b88-809c-0aabba0b265d",
   "metadata": {},
   "outputs": [],
   "source": [
    "arr, ds = read_geotiff(output_file, 3)\n",
    "# arr, ds = read_geotiff('my_test_data.tif', 1)"
   ]
  },
  {
   "cell_type": "code",
   "execution_count": 14,
   "id": "c04024dd-7f0e-4774-9302-0d339e3a4dbd",
   "metadata": {},
   "outputs": [],
   "source": [
    "import matplotlib.pyplot as plt"
   ]
  },
  {
   "cell_type": "code",
   "execution_count": 16,
   "id": "48850273-da0a-4945-8661-6998e9b1d2e0",
   "metadata": {},
   "outputs": [
    {
     "data": {
      "text/plain": [
       "<matplotlib.colorbar.Colorbar at 0x1852b70b370>"
      ]
     },
     "execution_count": 16,
     "metadata": {},
     "output_type": "execute_result"
    },
    {
     "data": {
      "image/png": "[encoded data removed]",
      "text/plain": [
       "<Figure size 432x288 with 2 Axes>"
      ]
     },
     "metadata": {
      "needs_background": "light"
     },
     "output_type": "display_data"
    }
   ],
   "source": [
    "plt.imshow(arr)\n",
    "plt.colorbar()"
   ]
  },
  {
   "cell_type": "code",
   "execution_count": null,
   "id": "4707c364-9e29-4d69-9a43-5749eb3ca5ec",
   "metadata": {},
   "outputs": [],
   "source": []
  }
 ],
 "metadata": {
  "kernelspec": {
   "display_name": "Python 3",
   "language": "python",
   "name": "python3"
  },
  "language_info": {
   "codemirror_mode": {
    "name": "ipython",
    "version": 3
   },
   "file_extension": ".py",
   "mimetype": "text/x-python",
   "name": "python",
   "nbconvert_exporter": "python",
   "pygments_lexer": "ipython3",
   "version": "3.8.8"
  }
 },
 "nbformat": 4,
 "nbformat_minor": 5
}
