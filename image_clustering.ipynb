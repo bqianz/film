{
 "cells": [
  {
   "cell_type": "code",
   "execution_count": 69,
   "id": "8ab2ae66-c675-4500-a3b6-97b48e90a74e",
   "metadata": {},
   "outputs": [],
   "source": [
    "# for loading/processing the images  \n",
    "from keras.preprocessing.image import load_img \n",
    "from keras.preprocessing.image import img_to_array \n",
    "from keras.applications.vgg16 import preprocess_input\n",
    "from keras.preprocessing.image import save_img\n",
    "\n",
    "from sklearn.decomposition import FastICA\n",
    "\n",
    "# models \n",
    "from keras.applications.vgg16 import VGG16 \n",
    "from keras.models import Model\n",
    "\n",
    "# clustering and dimension reduction\n",
    "from sklearn.cluster import KMeans\n",
    "from sklearn.decomposition import PCA\n",
    "\n",
    "# for everything else\n",
    "import os\n",
    "import numpy as np\n",
    "import matplotlib.pyplot as plt\n",
    "from random import randint\n",
    "import pandas as pd\n",
    "import pickle\n",
    "\n",
    "from matplotlib.image import imread\n",
    "from PIL import Image\n",
    "\n",
    "import gmplot as gp"
   ]
  },
  {
   "cell_type": "code",
   "execution_count": 70,
   "id": "f39421b1-11b1-4622-af5d-a80e1109b757",
   "metadata": {},
   "outputs": [],
   "source": [
    "n_classes = 4"
   ]
  },
  {
   "cell_type": "code",
   "execution_count": 71,
   "id": "8da80797-1c9a-4e6a-8368-81e5d2fcd839",
   "metadata": {},
   "outputs": [],
   "source": [
    "# path = r\"C:\\Users\\mouju\\Downloads\\archive\\flower_images\\flower_images\"\n",
    "# path = r\"C:\\Users\\mouju\\Downloads\\archive\\crop_images\\crop_images\"\n",
    "\n",
    "# path = r\"C:\\Users\\mouju\\Desktop\\film\\saga_data\\chips_test\"\n",
    "# path = r\"C:\\Users\\mouju\\Desktop\\film\\geomorph_data_test_chips\"\n",
    "path = r\"C:\\Users\\mouju\\Desktop\\film\\saga_data_chips_try\""
   ]
  },
  {
   "cell_type": "code",
   "execution_count": 72,
   "id": "d3bbcaff-09c2-4e88-be33-6f83c7ccce26",
   "metadata": {},
   "outputs": [],
   "source": [
    "# change the working directory to the path where the images are located\n",
    "os.chdir(path)\n",
    "\n",
    "# this list holds all the image filename\n",
    "crops = []\n",
    "\n",
    "# creates a ScandirIterator aliased as files\n",
    "with os.scandir(path) as files:\n",
    "  # loops through each file in the directory\n",
    "    for file in files:\n",
    "        if file.name.endswith('.png'):\n",
    "          # adds only the image files to the crops list\n",
    "            crops.append(file.name)\n",
    "            "
   ]
  },
  {
   "cell_type": "code",
   "execution_count": 73,
   "id": "c65029a2-5960-446c-b92b-d739190a5768",
   "metadata": {},
   "outputs": [],
   "source": [
    "img = np.array(load_img(crops[0]))\n",
    "image_dim = np.prod(img.shape)\n",
    "\n",
    "input = np.zeros([image_dim, len(crops)])"
   ]
  },
  {
   "cell_type": "code",
   "execution_count": 74,
   "id": "32f2cbeb-d681-464f-bb33-9a1d5cf872c2",
   "metadata": {},
   "outputs": [
    {
     "data": {
      "text/plain": [
       "(3072, 60)"
      ]
     },
     "execution_count": 74,
     "metadata": {},
     "output_type": "execute_result"
    }
   ],
   "source": [
    "input.shape"
   ]
  },
  {
   "cell_type": "code",
   "execution_count": 75,
   "id": "048fded9-fe71-4738-ba24-6521d143277e",
   "metadata": {},
   "outputs": [],
   "source": [
    "input_try = np.random.rand(image_dim, len(crops))"
   ]
  },
  {
   "cell_type": "code",
   "execution_count": 76,
   "id": "95a65713-54ec-453a-b01f-1950affcdfa3",
   "metadata": {},
   "outputs": [],
   "source": [
    "with os.scandir(path) as files:\n",
    "  # loops through each file in the directory\n",
    "    it = 0\n",
    "    for file in files:\n",
    "        if file.name.endswith('.png'):\n",
    "          # adds only the image files to the crops list\n",
    "            input[:, it] = np.array(load_img(crops[0])).flatten()\n",
    "            it += 1"
   ]
  },
  {
   "cell_type": "code",
   "execution_count": 77,
   "id": "9285ff33-8ee7-4a2a-8b2c-ef3cc3e1522a",
   "metadata": {},
   "outputs": [
    {
     "data": {
      "text/plain": [
       "True"
      ]
     },
     "execution_count": 77,
     "metadata": {},
     "output_type": "execute_result"
    }
   ],
   "source": [
    "np.isfinite(input).all() # no values in input are inf or nan"
   ]
  },
  {
   "cell_type": "code",
   "execution_count": 90,
   "id": "65301119-9a33-484a-b4ec-8184e64e5b6d",
   "metadata": {},
   "outputs": [
    {
     "name": "stderr",
     "output_type": "stream",
     "text": [
      "c:\\users\\mouju\\appdata\\local\\programs\\python\\python38\\lib\\site-packages\\sklearn\\decomposition\\_fastica.py:482: RuntimeWarning: divide by zero encountered in true_divide\n",
      "  K = (u / d).T[:n_components]  # see (6.33) p.140\n",
      "c:\\users\\mouju\\appdata\\local\\programs\\python\\python38\\lib\\site-packages\\sklearn\\decomposition\\_fastica.py:482: RuntimeWarning: invalid value encountered in true_divide\n",
      "  K = (u / d).T[:n_components]  # see (6.33) p.140\n"
     ]
    },
    {
     "ename": "ValueError",
     "evalue": "array must not contain infs or NaNs",
     "output_type": "error",
     "traceback": [
      "\u001b[1;31m---------------------------------------------------------------------------\u001b[0m",
      "\u001b[1;31mValueError\u001b[0m                                Traceback (most recent call last)",
      "\u001b[1;32m<ipython-input-90-b7c34221d344>\u001b[0m in \u001b[0;36m<module>\u001b[1;34m\u001b[0m\n\u001b[0;32m      2\u001b[0m \u001b[0mtransformer\u001b[0m \u001b[1;33m=\u001b[0m \u001b[0mFastICA\u001b[0m\u001b[1;33m(\u001b[0m\u001b[0mn_components\u001b[0m\u001b[1;33m=\u001b[0m\u001b[0mn_classes\u001b[0m\u001b[1;33m)\u001b[0m\u001b[1;33m\u001b[0m\u001b[1;33m\u001b[0m\u001b[0m\n\u001b[0;32m      3\u001b[0m \u001b[1;33m\u001b[0m\u001b[0m\n\u001b[1;32m----> 4\u001b[1;33m \u001b[0msources\u001b[0m \u001b[1;33m=\u001b[0m \u001b[0mtransformer\u001b[0m\u001b[1;33m.\u001b[0m\u001b[0mfit_transform\u001b[0m\u001b[1;33m(\u001b[0m\u001b[0minput\u001b[0m\u001b[1;33m.\u001b[0m\u001b[0mT\u001b[0m\u001b[1;33m)\u001b[0m\u001b[1;33m\u001b[0m\u001b[1;33m\u001b[0m\u001b[0m\n\u001b[0m\u001b[0;32m      5\u001b[0m \u001b[0mmix\u001b[0m \u001b[1;33m=\u001b[0m \u001b[0mtransformer\u001b[0m\u001b[1;33m.\u001b[0m\u001b[0mmixing_\u001b[0m\u001b[1;33m\u001b[0m\u001b[1;33m\u001b[0m\u001b[0m\n",
      "\u001b[1;32mc:\\users\\mouju\\appdata\\local\\programs\\python\\python38\\lib\\site-packages\\sklearn\\decomposition\\_fastica.py\u001b[0m in \u001b[0;36mfit_transform\u001b[1;34m(self, X, y)\u001b[0m\n\u001b[0;32m    555\u001b[0m         \u001b[0mX_new\u001b[0m \u001b[1;33m:\u001b[0m \u001b[0mndarray\u001b[0m \u001b[0mof\u001b[0m \u001b[0mshape\u001b[0m \u001b[1;33m(\u001b[0m\u001b[0mn_samples\u001b[0m\u001b[1;33m,\u001b[0m \u001b[0mn_components\u001b[0m\u001b[1;33m)\u001b[0m\u001b[1;33m\u001b[0m\u001b[1;33m\u001b[0m\u001b[0m\n\u001b[0;32m    556\u001b[0m         \"\"\"\n\u001b[1;32m--> 557\u001b[1;33m         \u001b[1;32mreturn\u001b[0m \u001b[0mself\u001b[0m\u001b[1;33m.\u001b[0m\u001b[0m_fit\u001b[0m\u001b[1;33m(\u001b[0m\u001b[0mX\u001b[0m\u001b[1;33m,\u001b[0m \u001b[0mcompute_sources\u001b[0m\u001b[1;33m=\u001b[0m\u001b[1;32mTrue\u001b[0m\u001b[1;33m)\u001b[0m\u001b[1;33m\u001b[0m\u001b[1;33m\u001b[0m\u001b[0m\n\u001b[0m\u001b[0;32m    558\u001b[0m \u001b[1;33m\u001b[0m\u001b[0m\n\u001b[0;32m    559\u001b[0m     \u001b[1;32mdef\u001b[0m \u001b[0mfit\u001b[0m\u001b[1;33m(\u001b[0m\u001b[0mself\u001b[0m\u001b[1;33m,\u001b[0m \u001b[0mX\u001b[0m\u001b[1;33m,\u001b[0m \u001b[0my\u001b[0m\u001b[1;33m=\u001b[0m\u001b[1;32mNone\u001b[0m\u001b[1;33m)\u001b[0m\u001b[1;33m:\u001b[0m\u001b[1;33m\u001b[0m\u001b[1;33m\u001b[0m\u001b[0m\n",
      "\u001b[1;32mc:\\users\\mouju\\appdata\\local\\programs\\python\\python38\\lib\\site-packages\\sklearn\\decomposition\\_fastica.py\u001b[0m in \u001b[0;36m_fit\u001b[1;34m(self, X, compute_sources)\u001b[0m\n\u001b[0;32m    510\u001b[0m \u001b[1;33m\u001b[0m\u001b[0m\n\u001b[0;32m    511\u001b[0m         \u001b[1;32mif\u001b[0m \u001b[0mself\u001b[0m\u001b[1;33m.\u001b[0m\u001b[0malgorithm\u001b[0m \u001b[1;33m==\u001b[0m \u001b[1;34m'parallel'\u001b[0m\u001b[1;33m:\u001b[0m\u001b[1;33m\u001b[0m\u001b[1;33m\u001b[0m\u001b[0m\n\u001b[1;32m--> 512\u001b[1;33m             \u001b[0mW\u001b[0m\u001b[1;33m,\u001b[0m \u001b[0mn_iter\u001b[0m \u001b[1;33m=\u001b[0m \u001b[0m_ica_par\u001b[0m\u001b[1;33m(\u001b[0m\u001b[0mX1\u001b[0m\u001b[1;33m,\u001b[0m \u001b[1;33m**\u001b[0m\u001b[0mkwargs\u001b[0m\u001b[1;33m)\u001b[0m\u001b[1;33m\u001b[0m\u001b[1;33m\u001b[0m\u001b[0m\n\u001b[0m\u001b[0;32m    513\u001b[0m         \u001b[1;32melif\u001b[0m \u001b[0mself\u001b[0m\u001b[1;33m.\u001b[0m\u001b[0malgorithm\u001b[0m \u001b[1;33m==\u001b[0m \u001b[1;34m'deflation'\u001b[0m\u001b[1;33m:\u001b[0m\u001b[1;33m\u001b[0m\u001b[1;33m\u001b[0m\u001b[0m\n\u001b[0;32m    514\u001b[0m             \u001b[0mW\u001b[0m\u001b[1;33m,\u001b[0m \u001b[0mn_iter\u001b[0m \u001b[1;33m=\u001b[0m \u001b[0m_ica_def\u001b[0m\u001b[1;33m(\u001b[0m\u001b[0mX1\u001b[0m\u001b[1;33m,\u001b[0m \u001b[1;33m**\u001b[0m\u001b[0mkwargs\u001b[0m\u001b[1;33m)\u001b[0m\u001b[1;33m\u001b[0m\u001b[1;33m\u001b[0m\u001b[0m\n",
      "\u001b[1;32mc:\\users\\mouju\\appdata\\local\\programs\\python\\python38\\lib\\site-packages\\sklearn\\decomposition\\_fastica.py\u001b[0m in \u001b[0;36m_ica_par\u001b[1;34m(***failed resolving arguments***)\u001b[0m\n\u001b[0;32m    107\u001b[0m     \u001b[1;32mfor\u001b[0m \u001b[0mii\u001b[0m \u001b[1;32min\u001b[0m \u001b[0mrange\u001b[0m\u001b[1;33m(\u001b[0m\u001b[0mmax_iter\u001b[0m\u001b[1;33m)\u001b[0m\u001b[1;33m:\u001b[0m\u001b[1;33m\u001b[0m\u001b[1;33m\u001b[0m\u001b[0m\n\u001b[0;32m    108\u001b[0m         \u001b[0mgwtx\u001b[0m\u001b[1;33m,\u001b[0m \u001b[0mg_wtx\u001b[0m \u001b[1;33m=\u001b[0m \u001b[0mg\u001b[0m\u001b[1;33m(\u001b[0m\u001b[0mnp\u001b[0m\u001b[1;33m.\u001b[0m\u001b[0mdot\u001b[0m\u001b[1;33m(\u001b[0m\u001b[0mW\u001b[0m\u001b[1;33m,\u001b[0m \u001b[0mX\u001b[0m\u001b[1;33m)\u001b[0m\u001b[1;33m,\u001b[0m \u001b[0mfun_args\u001b[0m\u001b[1;33m)\u001b[0m\u001b[1;33m\u001b[0m\u001b[1;33m\u001b[0m\u001b[0m\n\u001b[1;32m--> 109\u001b[1;33m         W1 = _sym_decorrelation(np.dot(gwtx, X.T) / p_\n\u001b[0m\u001b[0;32m    110\u001b[0m                                 - g_wtx[:, np.newaxis] * W)\n\u001b[0;32m    111\u001b[0m         \u001b[1;32mdel\u001b[0m \u001b[0mgwtx\u001b[0m\u001b[1;33m,\u001b[0m \u001b[0mg_wtx\u001b[0m\u001b[1;33m\u001b[0m\u001b[1;33m\u001b[0m\u001b[0m\n",
      "\u001b[1;32mc:\\users\\mouju\\appdata\\local\\programs\\python\\python38\\lib\\site-packages\\sklearn\\decomposition\\_fastica.py\u001b[0m in \u001b[0;36m_sym_decorrelation\u001b[1;34m(W)\u001b[0m\n\u001b[0;32m     55\u001b[0m     \u001b[0mi\u001b[0m\u001b[1;33m.\u001b[0m\u001b[0me\u001b[0m\u001b[1;33m.\u001b[0m \u001b[0mW\u001b[0m \u001b[1;33m<\u001b[0m\u001b[1;33m-\u001b[0m \u001b[1;33m(\u001b[0m\u001b[0mW\u001b[0m \u001b[1;33m*\u001b[0m \u001b[0mW\u001b[0m\u001b[1;33m.\u001b[0m\u001b[0mT\u001b[0m\u001b[1;33m)\u001b[0m \u001b[1;33m^\u001b[0m\u001b[1;33m{\u001b[0m\u001b[1;33m-\u001b[0m\u001b[1;36m1\u001b[0m\u001b[1;33m/\u001b[0m\u001b[1;36m2\u001b[0m\u001b[1;33m}\u001b[0m \u001b[1;33m*\u001b[0m \u001b[0mW\u001b[0m\u001b[1;33m\u001b[0m\u001b[1;33m\u001b[0m\u001b[0m\n\u001b[0;32m     56\u001b[0m     \"\"\"\n\u001b[1;32m---> 57\u001b[1;33m     \u001b[0ms\u001b[0m\u001b[1;33m,\u001b[0m \u001b[0mu\u001b[0m \u001b[1;33m=\u001b[0m \u001b[0mlinalg\u001b[0m\u001b[1;33m.\u001b[0m\u001b[0meigh\u001b[0m\u001b[1;33m(\u001b[0m\u001b[0mnp\u001b[0m\u001b[1;33m.\u001b[0m\u001b[0mdot\u001b[0m\u001b[1;33m(\u001b[0m\u001b[0mW\u001b[0m\u001b[1;33m,\u001b[0m \u001b[0mW\u001b[0m\u001b[1;33m.\u001b[0m\u001b[0mT\u001b[0m\u001b[1;33m)\u001b[0m\u001b[1;33m)\u001b[0m\u001b[1;33m\u001b[0m\u001b[1;33m\u001b[0m\u001b[0m\n\u001b[0m\u001b[0;32m     58\u001b[0m     \u001b[1;31m# u (resp. s) contains the eigenvectors (resp. square roots of\u001b[0m\u001b[1;33m\u001b[0m\u001b[1;33m\u001b[0m\u001b[1;33m\u001b[0m\u001b[0m\n\u001b[0;32m     59\u001b[0m     \u001b[1;31m# the eigenvalues) of W * W.T\u001b[0m\u001b[1;33m\u001b[0m\u001b[1;33m\u001b[0m\u001b[1;33m\u001b[0m\u001b[0m\n",
      "\u001b[1;32mc:\\users\\mouju\\appdata\\local\\programs\\python\\python38\\lib\\site-packages\\scipy\\linalg\\decomp.py\u001b[0m in \u001b[0;36meigh\u001b[1;34m(a, b, lower, eigvals_only, overwrite_a, overwrite_b, turbo, eigvals, type, check_finite, subset_by_index, subset_by_value, driver)\u001b[0m\n\u001b[0;32m    443\u001b[0m                          ''.format(driver, '\", \"'.join(drv_str[1:])))\n\u001b[0;32m    444\u001b[0m \u001b[1;33m\u001b[0m\u001b[0m\n\u001b[1;32m--> 445\u001b[1;33m     \u001b[0ma1\u001b[0m \u001b[1;33m=\u001b[0m \u001b[0m_asarray_validated\u001b[0m\u001b[1;33m(\u001b[0m\u001b[0ma\u001b[0m\u001b[1;33m,\u001b[0m \u001b[0mcheck_finite\u001b[0m\u001b[1;33m=\u001b[0m\u001b[0mcheck_finite\u001b[0m\u001b[1;33m)\u001b[0m\u001b[1;33m\u001b[0m\u001b[1;33m\u001b[0m\u001b[0m\n\u001b[0m\u001b[0;32m    446\u001b[0m     \u001b[1;32mif\u001b[0m \u001b[0mlen\u001b[0m\u001b[1;33m(\u001b[0m\u001b[0ma1\u001b[0m\u001b[1;33m.\u001b[0m\u001b[0mshape\u001b[0m\u001b[1;33m)\u001b[0m \u001b[1;33m!=\u001b[0m \u001b[1;36m2\u001b[0m \u001b[1;32mor\u001b[0m \u001b[0ma1\u001b[0m\u001b[1;33m.\u001b[0m\u001b[0mshape\u001b[0m\u001b[1;33m[\u001b[0m\u001b[1;36m0\u001b[0m\u001b[1;33m]\u001b[0m \u001b[1;33m!=\u001b[0m \u001b[0ma1\u001b[0m\u001b[1;33m.\u001b[0m\u001b[0mshape\u001b[0m\u001b[1;33m[\u001b[0m\u001b[1;36m1\u001b[0m\u001b[1;33m]\u001b[0m\u001b[1;33m:\u001b[0m\u001b[1;33m\u001b[0m\u001b[1;33m\u001b[0m\u001b[0m\n\u001b[0;32m    447\u001b[0m         \u001b[1;32mraise\u001b[0m \u001b[0mValueError\u001b[0m\u001b[1;33m(\u001b[0m\u001b[1;34m'expected square \"a\" matrix'\u001b[0m\u001b[1;33m)\u001b[0m\u001b[1;33m\u001b[0m\u001b[1;33m\u001b[0m\u001b[0m\n",
      "\u001b[1;32mc:\\users\\mouju\\appdata\\local\\programs\\python\\python38\\lib\\site-packages\\scipy\\_lib\\_util.py\u001b[0m in \u001b[0;36m_asarray_validated\u001b[1;34m(a, check_finite, sparse_ok, objects_ok, mask_ok, as_inexact)\u001b[0m\n\u001b[0;32m    260\u001b[0m             \u001b[1;32mraise\u001b[0m \u001b[0mValueError\u001b[0m\u001b[1;33m(\u001b[0m\u001b[1;34m'masked arrays are not supported'\u001b[0m\u001b[1;33m)\u001b[0m\u001b[1;33m\u001b[0m\u001b[1;33m\u001b[0m\u001b[0m\n\u001b[0;32m    261\u001b[0m     \u001b[0mtoarray\u001b[0m \u001b[1;33m=\u001b[0m \u001b[0mnp\u001b[0m\u001b[1;33m.\u001b[0m\u001b[0masarray_chkfinite\u001b[0m \u001b[1;32mif\u001b[0m \u001b[0mcheck_finite\u001b[0m \u001b[1;32melse\u001b[0m \u001b[0mnp\u001b[0m\u001b[1;33m.\u001b[0m\u001b[0masarray\u001b[0m\u001b[1;33m\u001b[0m\u001b[1;33m\u001b[0m\u001b[0m\n\u001b[1;32m--> 262\u001b[1;33m     \u001b[0ma\u001b[0m \u001b[1;33m=\u001b[0m \u001b[0mtoarray\u001b[0m\u001b[1;33m(\u001b[0m\u001b[0ma\u001b[0m\u001b[1;33m)\u001b[0m\u001b[1;33m\u001b[0m\u001b[1;33m\u001b[0m\u001b[0m\n\u001b[0m\u001b[0;32m    263\u001b[0m     \u001b[1;32mif\u001b[0m \u001b[1;32mnot\u001b[0m \u001b[0mobjects_ok\u001b[0m\u001b[1;33m:\u001b[0m\u001b[1;33m\u001b[0m\u001b[1;33m\u001b[0m\u001b[0m\n\u001b[0;32m    264\u001b[0m         \u001b[1;32mif\u001b[0m \u001b[0ma\u001b[0m\u001b[1;33m.\u001b[0m\u001b[0mdtype\u001b[0m \u001b[1;32mis\u001b[0m \u001b[0mnp\u001b[0m\u001b[1;33m.\u001b[0m\u001b[0mdtype\u001b[0m\u001b[1;33m(\u001b[0m\u001b[1;34m'O'\u001b[0m\u001b[1;33m)\u001b[0m\u001b[1;33m:\u001b[0m\u001b[1;33m\u001b[0m\u001b[1;33m\u001b[0m\u001b[0m\n",
      "\u001b[1;32mc:\\users\\mouju\\appdata\\local\\programs\\python\\python38\\lib\\site-packages\\numpy\\lib\\function_base.py\u001b[0m in \u001b[0;36masarray_chkfinite\u001b[1;34m(a, dtype, order)\u001b[0m\n\u001b[0;32m    486\u001b[0m     \u001b[0ma\u001b[0m \u001b[1;33m=\u001b[0m \u001b[0masarray\u001b[0m\u001b[1;33m(\u001b[0m\u001b[0ma\u001b[0m\u001b[1;33m,\u001b[0m \u001b[0mdtype\u001b[0m\u001b[1;33m=\u001b[0m\u001b[0mdtype\u001b[0m\u001b[1;33m,\u001b[0m \u001b[0morder\u001b[0m\u001b[1;33m=\u001b[0m\u001b[0morder\u001b[0m\u001b[1;33m)\u001b[0m\u001b[1;33m\u001b[0m\u001b[1;33m\u001b[0m\u001b[0m\n\u001b[0;32m    487\u001b[0m     \u001b[1;32mif\u001b[0m \u001b[0ma\u001b[0m\u001b[1;33m.\u001b[0m\u001b[0mdtype\u001b[0m\u001b[1;33m.\u001b[0m\u001b[0mchar\u001b[0m \u001b[1;32min\u001b[0m \u001b[0mtypecodes\u001b[0m\u001b[1;33m[\u001b[0m\u001b[1;34m'AllFloat'\u001b[0m\u001b[1;33m]\u001b[0m \u001b[1;32mand\u001b[0m \u001b[1;32mnot\u001b[0m \u001b[0mnp\u001b[0m\u001b[1;33m.\u001b[0m\u001b[0misfinite\u001b[0m\u001b[1;33m(\u001b[0m\u001b[0ma\u001b[0m\u001b[1;33m)\u001b[0m\u001b[1;33m.\u001b[0m\u001b[0mall\u001b[0m\u001b[1;33m(\u001b[0m\u001b[1;33m)\u001b[0m\u001b[1;33m:\u001b[0m\u001b[1;33m\u001b[0m\u001b[1;33m\u001b[0m\u001b[0m\n\u001b[1;32m--> 488\u001b[1;33m         raise ValueError(\n\u001b[0m\u001b[0;32m    489\u001b[0m             \"array must not contain infs or NaNs\")\n\u001b[0;32m    490\u001b[0m     \u001b[1;32mreturn\u001b[0m \u001b[0ma\u001b[0m\u001b[1;33m\u001b[0m\u001b[1;33m\u001b[0m\u001b[0m\n",
      "\u001b[1;31mValueError\u001b[0m: array must not contain infs or NaNs"
     ]
    }
   ],
   "source": [
    "# transformer = FastICA(n_components=n_classes, random_state=0, max_iter= 1000)\n",
    "transformer = FastICA(n_components=n_classes)\n",
    "\n",
    "sources = transformer.fit_transform(input.T)\n",
    "mix = transformer.mixing_"
   ]
  },
  {
   "cell_type": "code",
   "execution_count": 82,
   "id": "849aee77-a3dd-480d-a0f8-1693f9b163cd",
   "metadata": {},
   "outputs": [
    {
     "data": {
      "text/plain": [
       "(3072, 4)"
      ]
     },
     "execution_count": 82,
     "metadata": {},
     "output_type": "execute_result"
    }
   ],
   "source": [
    "sources.shape"
   ]
  },
  {
   "cell_type": "code",
   "execution_count": 84,
   "id": "c3abb068-2c32-44a7-9f93-f9b06e359e32",
   "metadata": {},
   "outputs": [
    {
     "data": {
      "text/plain": [
       "(60,)"
      ]
     },
     "execution_count": 84,
     "metadata": {},
     "output_type": "execute_result"
    }
   ],
   "source": [
    "transformer.mean_.shape"
   ]
  },
  {
   "cell_type": "code",
   "execution_count": 88,
   "id": "cd02845c-7dbb-4963-91b3-97c566eeca42",
   "metadata": {},
   "outputs": [],
   "source": [
    "fels_mean = np.load(r'C:\\Users\\mouju\\Desktop\\film\\components_analysis\\fels_ica\\mean.npy')"
   ]
  },
  {
   "cell_type": "code",
   "execution_count": 89,
   "id": "cdf64665-419c-4cec-9fab-0b71ed4f7731",
   "metadata": {},
   "outputs": [
    {
     "data": {
      "text/plain": [
       "(52,)"
      ]
     },
     "execution_count": 89,
     "metadata": {},
     "output_type": "execute_result"
    }
   ],
   "source": [
    "fels_mean.shape"
   ]
  },
  {
   "cell_type": "code",
   "execution_count": 6,
   "id": "24988a0a-9fa3-4f92-8bb4-fa4c3095e31a",
   "metadata": {},
   "outputs": [],
   "source": [
    "            \n",
    "            \n",
    "model = VGG16()\n",
    "model = Model(inputs = model.inputs, outputs = model.layers[-2].output)\n",
    "\n",
    "def extract_features(file, model):\n",
    "    # load the image as a 224x224 array\n",
    "    img = load_img(file, target_size=(224,224))\n",
    "    \n",
    "    #convert from 'PIL.Image.Image' to numpy array\n",
    "    img = np.array(img) \n",
    "#     img = np.load(file)\n",
    "#     print(img.shape)\n",
    "    \n",
    "    # reshape the data for the model reshape(num_of_samples, dim 1, dim 2, channels)\n",
    "    reshaped_img = img.reshape(1,224,224,3)\n",
    "    # reshaped_img = img.reshape(1,img.shape[1],img.shape[2],1)\n",
    "    # prepare image for model\n",
    "    imgx = preprocess_input(reshaped_img)\n",
    "    # get the feature vector\n",
    "    features = model.predict(imgx, use_multiprocessing=True)\n",
    "    return features"
   ]
  },
  {
   "cell_type": "code",
   "execution_count": 7,
   "id": "bf9a1100-5e2f-4d58-919f-635b851def09",
   "metadata": {},
   "outputs": [],
   "source": [
    "   \n",
    "data = {}\n",
    "# p = r\"C:\\Users\\mouju\\Downloads\\archive\\crop_images\\vec\"\n",
    "# p = r\"C:\\Users\\mouju\\Desktop\\film\\saga_data\\vec\"\n",
    "p = os.path.join(path, \"vec\")\n",
    "\n",
    "# lop through each image in the dataset\n",
    "for crop in crops:\n",
    "    # try to extract the features and update the dictionary\n",
    "    try:\n",
    "        feat = extract_features(crop,model)\n",
    "        data[crop] = feat\n",
    "    # if something fails, save the extracted features as a pickle file (optional)\n",
    "    except:\n",
    "        with open(p,'wb') as file:\n",
    "            pickle.dump(data,file)\n",
    "          # get a list of the filenames\n",
    "\n",
    "filenames = np.array(list(data.keys()))"
   ]
  },
  {
   "cell_type": "code",
   "execution_count": 8,
   "id": "ab7c1a72-37c8-46c2-aa13-19b41b775184",
   "metadata": {},
   "outputs": [
    {
     "data": {
      "text/plain": [
       "561"
      ]
     },
     "execution_count": 8,
     "metadata": {},
     "output_type": "execute_result"
    }
   ],
   "source": [
    "len(filenames)"
   ]
  },
  {
   "cell_type": "code",
   "execution_count": 9,
   "id": "f336dc7c-4720-4811-8b76-6ef8ca87b83d",
   "metadata": {},
   "outputs": [
    {
     "data": {
      "text/plain": [
       "array(['0000.png', '0001.png', '0002.png', '0003.png', '0004.png',\n",
       "       '0005.png', '0006.png', '0007.png', '0008.png', '0009.png',\n",
       "       '0010.png', '0011.png', '0012.png', '0013.png', '0014.png',\n",
       "       '0015.png', '0016.png', '0017.png', '0018.png', '0019.png',\n",
       "       '0020.png', '0021.png', '0022.png', '0023.png', '0024.png',\n",
       "       '0025.png', '0026.png', '0027.png', '0028.png', '0029.png',\n",
       "       '0030.png', '0031.png', '0032.png', '0033.png', '0034.png',\n",
       "       '0035.png', '0036.png', '0037.png', '0038.png', '0039.png',\n",
       "       '0040.png', '0041.png', '0042.png', '0043.png', '0044.png',\n",
       "       '0045.png', '0046.png', '0047.png', '0048.png', '0049.png',\n",
       "       '0050.png', '0051.png', '0052.png', '0053.png', '0054.png',\n",
       "       '0055.png', '0056.png', '0057.png', '0058.png', '0059.png',\n",
       "       '0060.png', '0061.png', '0062.png', '0063.png', '0064.png',\n",
       "       '0065.png', '0066.png', '0067.png', '0068.png', '0069.png',\n",
       "       '0070.png', '0071.png', '0072.png', '0073.png', '0074.png',\n",
       "       '0075.png', '0076.png', '0077.png', '0078.png', '0079.png',\n",
       "       '0080.png', '0081.png', '0082.png', '0083.png', '0084.png',\n",
       "       '0085.png', '0086.png', '0087.png', '0088.png', '0089.png',\n",
       "       '0090.png', '0091.png', '0092.png', '0093.png', '0094.png',\n",
       "       '0095.png', '0096.png', '0097.png', '0098.png', '0099.png',\n",
       "       '0100.png', '0101.png', '0102.png', '0103.png', '0104.png',\n",
       "       '0105.png', '0106.png', '0107.png', '0108.png', '0109.png',\n",
       "       '0110.png', '0111.png', '0112.png', '0113.png', '0114.png',\n",
       "       '0115.png', '0116.png', '0117.png', '0118.png', '0119.png',\n",
       "       '0120.png', '0121.png', '0122.png', '0123.png', '0124.png',\n",
       "       '0125.png', '0126.png', '0127.png', '0128.png', '0129.png',\n",
       "       '0130.png', '0131.png', '0132.png', '0133.png', '0134.png',\n",
       "       '0135.png', '0136.png', '0137.png', '0138.png', '0139.png',\n",
       "       '0140.png', '0141.png', '0142.png', '0143.png', '0144.png',\n",
       "       '0145.png', '0146.png', '0147.png', '0148.png', '0149.png',\n",
       "       '0150.png', '0151.png', '0152.png', '0153.png', '0154.png',\n",
       "       '0155.png', '0156.png', '0157.png', '0158.png', '0159.png',\n",
       "       '0160.png', '0161.png', '0162.png', '0163.png', '0164.png',\n",
       "       '0165.png', '0166.png', '0167.png', '0168.png', '0169.png',\n",
       "       '0170.png', '0171.png', '0172.png', '0173.png', '0174.png',\n",
       "       '0175.png', '0176.png', '0177.png', '0178.png', '0179.png',\n",
       "       '0180.png', '0181.png', '0182.png', '0183.png', '0184.png',\n",
       "       '0185.png', '0186.png', '0187.png', '0188.png', '0189.png',\n",
       "       '0190.png', '0191.png', '0192.png', '0193.png', '0194.png',\n",
       "       '0195.png', '0196.png', '0197.png', '0198.png', '0199.png',\n",
       "       '0200.png', '0201.png', '0202.png', '0203.png', '0204.png',\n",
       "       '0205.png', '0206.png', '0207.png', '0208.png', '0209.png',\n",
       "       '0210.png', '0211.png', '0212.png', '0213.png', '0214.png',\n",
       "       '0215.png', '0216.png', '0217.png', '0218.png', '0219.png',\n",
       "       '0220.png', '0221.png', '0222.png', '0223.png', '0224.png',\n",
       "       '0225.png', '0226.png', '0227.png', '0228.png', '0229.png',\n",
       "       '0230.png', '0231.png', '0232.png', '0233.png', '0234.png',\n",
       "       '0235.png', '0236.png', '0237.png', '0238.png', '0239.png',\n",
       "       '0240.png', '0241.png', '0242.png', '0243.png', '0244.png',\n",
       "       '0245.png', '0246.png', '0247.png', '0248.png', '0249.png',\n",
       "       '0250.png', '0251.png', '0252.png', '0253.png', '0254.png',\n",
       "       '0255.png', '0256.png', '0257.png', '0258.png', '0259.png',\n",
       "       '0260.png', '0261.png', '0262.png', '0263.png', '0264.png',\n",
       "       '0265.png', '0266.png', '0267.png', '0268.png', '0269.png',\n",
       "       '0270.png', '0271.png', '0272.png', '0273.png', '0274.png',\n",
       "       '0275.png', '0276.png', '0277.png', '0278.png', '0279.png',\n",
       "       '0280.png', '0281.png', '0282.png', '0283.png', '0284.png',\n",
       "       '0285.png', '0286.png', '0287.png', '0288.png', '0289.png',\n",
       "       '0290.png', '0291.png', '0292.png', '0293.png', '0294.png',\n",
       "       '0295.png', '0296.png', '0297.png', '0298.png', '0299.png',\n",
       "       '0300.png', '0301.png', '0302.png', '0303.png', '0304.png',\n",
       "       '0305.png', '0306.png', '0307.png', '0308.png', '0309.png',\n",
       "       '0310.png', '0311.png', '0312.png', '0313.png', '0314.png',\n",
       "       '0315.png', '0316.png', '0317.png', '0318.png', '0319.png',\n",
       "       '0320.png', '0321.png', '0322.png', '0323.png', '0324.png',\n",
       "       '0325.png', '0326.png', '0327.png', '0328.png', '0329.png',\n",
       "       '0330.png', '0331.png', '0332.png', '0333.png', '0334.png',\n",
       "       '0335.png', '0336.png', '0337.png', '0338.png', '0339.png',\n",
       "       '0340.png', '0341.png', '0342.png', '0343.png', '0344.png',\n",
       "       '0345.png', '0346.png', '0347.png', '0348.png', '0349.png',\n",
       "       '0350.png', '0351.png', '0352.png', '0353.png', '0354.png',\n",
       "       '0355.png', '0356.png', '0357.png', '0358.png', '0359.png',\n",
       "       '0360.png', '0361.png', '0362.png', '0363.png', '0364.png',\n",
       "       '0365.png', '0366.png', '0367.png', '0368.png', '0369.png',\n",
       "       '0370.png', '0371.png', '0372.png', '0373.png', '0374.png',\n",
       "       '0375.png', '0376.png', '0377.png', '0378.png', '0379.png',\n",
       "       '0380.png', '0381.png', '0382.png', '0383.png', '0384.png',\n",
       "       '0385.png', '0386.png', '0387.png', '0388.png', '0389.png',\n",
       "       '0390.png', '0391.png', '0392.png', '0393.png', '0394.png',\n",
       "       '0395.png', '0396.png', '0397.png', '0398.png', '0399.png',\n",
       "       '0400.png', '0401.png', '0402.png', '0403.png', '0404.png',\n",
       "       '0405.png', '0406.png', '0407.png', '0408.png', '0409.png',\n",
       "       '0410.png', '0411.png', '0412.png', '0413.png', '0414.png',\n",
       "       '0415.png', '0416.png', '0417.png', '0418.png', '0419.png',\n",
       "       '0420.png', '0421.png', '0422.png', '0423.png', '0424.png',\n",
       "       '0425.png', '0426.png', '0427.png', '0428.png', '0429.png',\n",
       "       '0430.png', '0431.png', '0432.png', '0433.png', '0434.png',\n",
       "       '0435.png', '0436.png', '0437.png', '0438.png', '0439.png',\n",
       "       '0440.png', '0441.png', '0442.png', '0443.png', '0444.png',\n",
       "       '0445.png', '0446.png', '0447.png', '0448.png', '0449.png',\n",
       "       '0450.png', '0451.png', '0452.png', '0453.png', '0454.png',\n",
       "       '0455.png', '0456.png', '0457.png', '0458.png', '0459.png',\n",
       "       '0460.png', '0461.png', '0462.png', '0463.png', '0464.png',\n",
       "       '0465.png', '0466.png', '0467.png', '0468.png', '0469.png',\n",
       "       '0470.png', '0471.png', '0472.png', '0473.png', '0474.png',\n",
       "       '0475.png', '0476.png', '0477.png', '0478.png', '0479.png',\n",
       "       '0480.png', '0481.png', '0482.png', '0483.png', '0484.png',\n",
       "       '0485.png', '0486.png', '0487.png', '0488.png', '0489.png',\n",
       "       '0490.png', '0491.png', '0492.png', '0493.png', '0494.png',\n",
       "       '0495.png', '0496.png', '0497.png', '0498.png', '0499.png',\n",
       "       '0500.png', '0501.png', '0502.png', '0503.png', '0504.png',\n",
       "       '0505.png', '0506.png', '0507.png', '0508.png', '0509.png',\n",
       "       '0510.png', '0511.png', '0512.png', '0513.png', '0514.png',\n",
       "       '0515.png', '0516.png', '0517.png', '0518.png', '0519.png',\n",
       "       '0520.png', '0521.png', '0522.png', '0523.png', '0524.png',\n",
       "       '0525.png', '0526.png', '0527.png', '0528.png', '0529.png',\n",
       "       '0530.png', '0531.png', '0532.png', '0533.png', '0534.png',\n",
       "       '0535.png', '0536.png', '0537.png', '0538.png', '0539.png',\n",
       "       '0540.png', '0541.png', '0542.png', '0543.png', '0544.png',\n",
       "       '0545.png', '0546.png', '0547.png', '0548.png', '0549.png',\n",
       "       '0550.png', '0551.png', '0552.png', '0553.png', '0554.png',\n",
       "       '0555.png', '0556.png', '0557.png', '0558.png', '0559.png',\n",
       "       '0560.png'], dtype='<U8')"
      ]
     },
     "execution_count": 9,
     "metadata": {},
     "output_type": "execute_result"
    }
   ],
   "source": [
    "filenames"
   ]
  },
  {
   "cell_type": "code",
   "execution_count": 10,
   "id": "bc8ff65d-65bc-4711-ad25-a429bf6aee8c",
   "metadata": {},
   "outputs": [
    {
     "name": "stderr",
     "output_type": "stream",
     "text": [
      "c:\\users\\mouju\\appdata\\local\\programs\\python\\python38\\lib\\site-packages\\sklearn\\cluster\\_kmeans.py:792: FutureWarning: 'n_jobs' was deprecated in version 0.23 and will be removed in 1.0 (renaming of 0.25).\n",
      "  warnings.warn(\"'n_jobs' was deprecated in version 0.23 and will be\"\n",
      "c:\\users\\mouju\\appdata\\local\\programs\\python\\python38\\lib\\site-packages\\sklearn\\cluster\\_kmeans.py:792: FutureWarning: 'n_jobs' was deprecated in version 0.23 and will be removed in 1.0 (renaming of 0.25).\n",
      "  warnings.warn(\"'n_jobs' was deprecated in version 0.23 and will be\"\n",
      "c:\\users\\mouju\\appdata\\local\\programs\\python\\python38\\lib\\site-packages\\sklearn\\cluster\\_kmeans.py:792: FutureWarning: 'n_jobs' was deprecated in version 0.23 and will be removed in 1.0 (renaming of 0.25).\n",
      "  warnings.warn(\"'n_jobs' was deprecated in version 0.23 and will be\"\n",
      "c:\\users\\mouju\\appdata\\local\\programs\\python\\python38\\lib\\site-packages\\sklearn\\cluster\\_kmeans.py:792: FutureWarning: 'n_jobs' was deprecated in version 0.23 and will be removed in 1.0 (renaming of 0.25).\n",
      "  warnings.warn(\"'n_jobs' was deprecated in version 0.23 and will be\"\n",
      "c:\\users\\mouju\\appdata\\local\\programs\\python\\python38\\lib\\site-packages\\sklearn\\cluster\\_kmeans.py:792: FutureWarning: 'n_jobs' was deprecated in version 0.23 and will be removed in 1.0 (renaming of 0.25).\n",
      "  warnings.warn(\"'n_jobs' was deprecated in version 0.23 and will be\"\n",
      "c:\\users\\mouju\\appdata\\local\\programs\\python\\python38\\lib\\site-packages\\sklearn\\cluster\\_kmeans.py:792: FutureWarning: 'n_jobs' was deprecated in version 0.23 and will be removed in 1.0 (renaming of 0.25).\n",
      "  warnings.warn(\"'n_jobs' was deprecated in version 0.23 and will be\"\n",
      "c:\\users\\mouju\\appdata\\local\\programs\\python\\python38\\lib\\site-packages\\sklearn\\cluster\\_kmeans.py:792: FutureWarning: 'n_jobs' was deprecated in version 0.23 and will be removed in 1.0 (renaming of 0.25).\n",
      "  warnings.warn(\"'n_jobs' was deprecated in version 0.23 and will be\"\n",
      "c:\\users\\mouju\\appdata\\local\\programs\\python\\python38\\lib\\site-packages\\sklearn\\cluster\\_kmeans.py:792: FutureWarning: 'n_jobs' was deprecated in version 0.23 and will be removed in 1.0 (renaming of 0.25).\n",
      "  warnings.warn(\"'n_jobs' was deprecated in version 0.23 and will be\"\n",
      "c:\\users\\mouju\\appdata\\local\\programs\\python\\python38\\lib\\site-packages\\sklearn\\cluster\\_kmeans.py:792: FutureWarning: 'n_jobs' was deprecated in version 0.23 and will be removed in 1.0 (renaming of 0.25).\n",
      "  warnings.warn(\"'n_jobs' was deprecated in version 0.23 and will be\"\n",
      "c:\\users\\mouju\\appdata\\local\\programs\\python\\python38\\lib\\site-packages\\sklearn\\cluster\\_kmeans.py:792: FutureWarning: 'n_jobs' was deprecated in version 0.23 and will be removed in 1.0 (renaming of 0.25).\n",
      "  warnings.warn(\"'n_jobs' was deprecated in version 0.23 and will be\"\n",
      "c:\\users\\mouju\\appdata\\local\\programs\\python\\python38\\lib\\site-packages\\sklearn\\cluster\\_kmeans.py:792: FutureWarning: 'n_jobs' was deprecated in version 0.23 and will be removed in 1.0 (renaming of 0.25).\n",
      "  warnings.warn(\"'n_jobs' was deprecated in version 0.23 and will be\"\n",
      "c:\\users\\mouju\\appdata\\local\\programs\\python\\python38\\lib\\site-packages\\sklearn\\cluster\\_kmeans.py:792: FutureWarning: 'n_jobs' was deprecated in version 0.23 and will be removed in 1.0 (renaming of 0.25).\n",
      "  warnings.warn(\"'n_jobs' was deprecated in version 0.23 and will be\"\n",
      "c:\\users\\mouju\\appdata\\local\\programs\\python\\python38\\lib\\site-packages\\sklearn\\cluster\\_kmeans.py:792: FutureWarning: 'n_jobs' was deprecated in version 0.23 and will be removed in 1.0 (renaming of 0.25).\n",
      "  warnings.warn(\"'n_jobs' was deprecated in version 0.23 and will be\"\n",
      "c:\\users\\mouju\\appdata\\local\\programs\\python\\python38\\lib\\site-packages\\sklearn\\cluster\\_kmeans.py:792: FutureWarning: 'n_jobs' was deprecated in version 0.23 and will be removed in 1.0 (renaming of 0.25).\n",
      "  warnings.warn(\"'n_jobs' was deprecated in version 0.23 and will be\"\n",
      "c:\\users\\mouju\\appdata\\local\\programs\\python\\python38\\lib\\site-packages\\sklearn\\cluster\\_kmeans.py:792: FutureWarning: 'n_jobs' was deprecated in version 0.23 and will be removed in 1.0 (renaming of 0.25).\n",
      "  warnings.warn(\"'n_jobs' was deprecated in version 0.23 and will be\"\n",
      "c:\\users\\mouju\\appdata\\local\\programs\\python\\python38\\lib\\site-packages\\sklearn\\cluster\\_kmeans.py:792: FutureWarning: 'n_jobs' was deprecated in version 0.23 and will be removed in 1.0 (renaming of 0.25).\n",
      "  warnings.warn(\"'n_jobs' was deprecated in version 0.23 and will be\"\n",
      "c:\\users\\mouju\\appdata\\local\\programs\\python\\python38\\lib\\site-packages\\sklearn\\cluster\\_kmeans.py:792: FutureWarning: 'n_jobs' was deprecated in version 0.23 and will be removed in 1.0 (renaming of 0.25).\n",
      "  warnings.warn(\"'n_jobs' was deprecated in version 0.23 and will be\"\n",
      "c:\\users\\mouju\\appdata\\local\\programs\\python\\python38\\lib\\site-packages\\sklearn\\cluster\\_kmeans.py:792: FutureWarning: 'n_jobs' was deprecated in version 0.23 and will be removed in 1.0 (renaming of 0.25).\n",
      "  warnings.warn(\"'n_jobs' was deprecated in version 0.23 and will be\"\n",
      "c:\\users\\mouju\\appdata\\local\\programs\\python\\python38\\lib\\site-packages\\sklearn\\cluster\\_kmeans.py:792: FutureWarning: 'n_jobs' was deprecated in version 0.23 and will be removed in 1.0 (renaming of 0.25).\n",
      "  warnings.warn(\"'n_jobs' was deprecated in version 0.23 and will be\"\n",
      "c:\\users\\mouju\\appdata\\local\\programs\\python\\python38\\lib\\site-packages\\sklearn\\cluster\\_kmeans.py:792: FutureWarning: 'n_jobs' was deprecated in version 0.23 and will be removed in 1.0 (renaming of 0.25).\n",
      "  warnings.warn(\"'n_jobs' was deprecated in version 0.23 and will be\"\n",
      "c:\\users\\mouju\\appdata\\local\\programs\\python\\python38\\lib\\site-packages\\sklearn\\cluster\\_kmeans.py:792: FutureWarning: 'n_jobs' was deprecated in version 0.23 and will be removed in 1.0 (renaming of 0.25).\n",
      "  warnings.warn(\"'n_jobs' was deprecated in version 0.23 and will be\"\n",
      "c:\\users\\mouju\\appdata\\local\\programs\\python\\python38\\lib\\site-packages\\sklearn\\cluster\\_kmeans.py:792: FutureWarning: 'n_jobs' was deprecated in version 0.23 and will be removed in 1.0 (renaming of 0.25).\n",
      "  warnings.warn(\"'n_jobs' was deprecated in version 0.23 and will be\"\n",
      "c:\\users\\mouju\\appdata\\local\\programs\\python\\python38\\lib\\site-packages\\sklearn\\cluster\\_kmeans.py:792: FutureWarning: 'n_jobs' was deprecated in version 0.23 and will be removed in 1.0 (renaming of 0.25).\n",
      "  warnings.warn(\"'n_jobs' was deprecated in version 0.23 and will be\"\n",
      "c:\\users\\mouju\\appdata\\local\\programs\\python\\python38\\lib\\site-packages\\sklearn\\cluster\\_kmeans.py:792: FutureWarning: 'n_jobs' was deprecated in version 0.23 and will be removed in 1.0 (renaming of 0.25).\n",
      "  warnings.warn(\"'n_jobs' was deprecated in version 0.23 and will be\"\n",
      "c:\\users\\mouju\\appdata\\local\\programs\\python\\python38\\lib\\site-packages\\sklearn\\cluster\\_kmeans.py:792: FutureWarning: 'n_jobs' was deprecated in version 0.23 and will be removed in 1.0 (renaming of 0.25).\n",
      "  warnings.warn(\"'n_jobs' was deprecated in version 0.23 and will be\"\n",
      "c:\\users\\mouju\\appdata\\local\\programs\\python\\python38\\lib\\site-packages\\sklearn\\cluster\\_kmeans.py:792: FutureWarning: 'n_jobs' was deprecated in version 0.23 and will be removed in 1.0 (renaming of 0.25).\n",
      "  warnings.warn(\"'n_jobs' was deprecated in version 0.23 and will be\"\n",
      "c:\\users\\mouju\\appdata\\local\\programs\\python\\python38\\lib\\site-packages\\sklearn\\cluster\\_kmeans.py:792: FutureWarning: 'n_jobs' was deprecated in version 0.23 and will be removed in 1.0 (renaming of 0.25).\n",
      "  warnings.warn(\"'n_jobs' was deprecated in version 0.23 and will be\"\n",
      "c:\\users\\mouju\\appdata\\local\\programs\\python\\python38\\lib\\site-packages\\sklearn\\cluster\\_kmeans.py:792: FutureWarning: 'n_jobs' was deprecated in version 0.23 and will be removed in 1.0 (renaming of 0.25).\n",
      "  warnings.warn(\"'n_jobs' was deprecated in version 0.23 and will be\"\n",
      "c:\\users\\mouju\\appdata\\local\\programs\\python\\python38\\lib\\site-packages\\sklearn\\cluster\\_kmeans.py:792: FutureWarning: 'n_jobs' was deprecated in version 0.23 and will be removed in 1.0 (renaming of 0.25).\n",
      "  warnings.warn(\"'n_jobs' was deprecated in version 0.23 and will be\"\n",
      "c:\\users\\mouju\\appdata\\local\\programs\\python\\python38\\lib\\site-packages\\sklearn\\cluster\\_kmeans.py:792: FutureWarning: 'n_jobs' was deprecated in version 0.23 and will be removed in 1.0 (renaming of 0.25).\n",
      "  warnings.warn(\"'n_jobs' was deprecated in version 0.23 and will be\"\n",
      "c:\\users\\mouju\\appdata\\local\\programs\\python\\python38\\lib\\site-packages\\sklearn\\cluster\\_kmeans.py:792: FutureWarning: 'n_jobs' was deprecated in version 0.23 and will be removed in 1.0 (renaming of 0.25).\n",
      "  warnings.warn(\"'n_jobs' was deprecated in version 0.23 and will be\"\n",
      "c:\\users\\mouju\\appdata\\local\\programs\\python\\python38\\lib\\site-packages\\sklearn\\cluster\\_kmeans.py:792: FutureWarning: 'n_jobs' was deprecated in version 0.23 and will be removed in 1.0 (renaming of 0.25).\n",
      "  warnings.warn(\"'n_jobs' was deprecated in version 0.23 and will be\"\n",
      "c:\\users\\mouju\\appdata\\local\\programs\\python\\python38\\lib\\site-packages\\sklearn\\cluster\\_kmeans.py:792: FutureWarning: 'n_jobs' was deprecated in version 0.23 and will be removed in 1.0 (renaming of 0.25).\n",
      "  warnings.warn(\"'n_jobs' was deprecated in version 0.23 and will be\"\n",
      "c:\\users\\mouju\\appdata\\local\\programs\\python\\python38\\lib\\site-packages\\sklearn\\cluster\\_kmeans.py:792: FutureWarning: 'n_jobs' was deprecated in version 0.23 and will be removed in 1.0 (renaming of 0.25).\n",
      "  warnings.warn(\"'n_jobs' was deprecated in version 0.23 and will be\"\n",
      "c:\\users\\mouju\\appdata\\local\\programs\\python\\python38\\lib\\site-packages\\sklearn\\cluster\\_kmeans.py:792: FutureWarning: 'n_jobs' was deprecated in version 0.23 and will be removed in 1.0 (renaming of 0.25).\n",
      "  warnings.warn(\"'n_jobs' was deprecated in version 0.23 and will be\"\n",
      "c:\\users\\mouju\\appdata\\local\\programs\\python\\python38\\lib\\site-packages\\sklearn\\cluster\\_kmeans.py:792: FutureWarning: 'n_jobs' was deprecated in version 0.23 and will be removed in 1.0 (renaming of 0.25).\n",
      "  warnings.warn(\"'n_jobs' was deprecated in version 0.23 and will be\"\n",
      "c:\\users\\mouju\\appdata\\local\\programs\\python\\python38\\lib\\site-packages\\sklearn\\cluster\\_kmeans.py:792: FutureWarning: 'n_jobs' was deprecated in version 0.23 and will be removed in 1.0 (renaming of 0.25).\n",
      "  warnings.warn(\"'n_jobs' was deprecated in version 0.23 and will be\"\n",
      "c:\\users\\mouju\\appdata\\local\\programs\\python\\python38\\lib\\site-packages\\sklearn\\cluster\\_kmeans.py:792: FutureWarning: 'n_jobs' was deprecated in version 0.23 and will be removed in 1.0 (renaming of 0.25).\n",
      "  warnings.warn(\"'n_jobs' was deprecated in version 0.23 and will be\"\n",
      "c:\\users\\mouju\\appdata\\local\\programs\\python\\python38\\lib\\site-packages\\sklearn\\cluster\\_kmeans.py:792: FutureWarning: 'n_jobs' was deprecated in version 0.23 and will be removed in 1.0 (renaming of 0.25).\n",
      "  warnings.warn(\"'n_jobs' was deprecated in version 0.23 and will be\"\n",
      "c:\\users\\mouju\\appdata\\local\\programs\\python\\python38\\lib\\site-packages\\sklearn\\cluster\\_kmeans.py:792: FutureWarning: 'n_jobs' was deprecated in version 0.23 and will be removed in 1.0 (renaming of 0.25).\n",
      "  warnings.warn(\"'n_jobs' was deprecated in version 0.23 and will be\"\n",
      "c:\\users\\mouju\\appdata\\local\\programs\\python\\python38\\lib\\site-packages\\sklearn\\cluster\\_kmeans.py:792: FutureWarning: 'n_jobs' was deprecated in version 0.23 and will be removed in 1.0 (renaming of 0.25).\n",
      "  warnings.warn(\"'n_jobs' was deprecated in version 0.23 and will be\"\n",
      "c:\\users\\mouju\\appdata\\local\\programs\\python\\python38\\lib\\site-packages\\sklearn\\cluster\\_kmeans.py:792: FutureWarning: 'n_jobs' was deprecated in version 0.23 and will be removed in 1.0 (renaming of 0.25).\n",
      "  warnings.warn(\"'n_jobs' was deprecated in version 0.23 and will be\"\n",
      "c:\\users\\mouju\\appdata\\local\\programs\\python\\python38\\lib\\site-packages\\sklearn\\cluster\\_kmeans.py:792: FutureWarning: 'n_jobs' was deprecated in version 0.23 and will be removed in 1.0 (renaming of 0.25).\n",
      "  warnings.warn(\"'n_jobs' was deprecated in version 0.23 and will be\"\n",
      "c:\\users\\mouju\\appdata\\local\\programs\\python\\python38\\lib\\site-packages\\sklearn\\cluster\\_kmeans.py:792: FutureWarning: 'n_jobs' was deprecated in version 0.23 and will be removed in 1.0 (renaming of 0.25).\n",
      "  warnings.warn(\"'n_jobs' was deprecated in version 0.23 and will be\"\n",
      "c:\\users\\mouju\\appdata\\local\\programs\\python\\python38\\lib\\site-packages\\sklearn\\cluster\\_kmeans.py:792: FutureWarning: 'n_jobs' was deprecated in version 0.23 and will be removed in 1.0 (renaming of 0.25).\n",
      "  warnings.warn(\"'n_jobs' was deprecated in version 0.23 and will be\"\n",
      "c:\\users\\mouju\\appdata\\local\\programs\\python\\python38\\lib\\site-packages\\sklearn\\cluster\\_kmeans.py:792: FutureWarning: 'n_jobs' was deprecated in version 0.23 and will be removed in 1.0 (renaming of 0.25).\n",
      "  warnings.warn(\"'n_jobs' was deprecated in version 0.23 and will be\"\n",
      "c:\\users\\mouju\\appdata\\local\\programs\\python\\python38\\lib\\site-packages\\sklearn\\cluster\\_kmeans.py:792: FutureWarning: 'n_jobs' was deprecated in version 0.23 and will be removed in 1.0 (renaming of 0.25).\n",
      "  warnings.warn(\"'n_jobs' was deprecated in version 0.23 and will be\"\n",
      "c:\\users\\mouju\\appdata\\local\\programs\\python\\python38\\lib\\site-packages\\sklearn\\cluster\\_kmeans.py:792: FutureWarning: 'n_jobs' was deprecated in version 0.23 and will be removed in 1.0 (renaming of 0.25).\n",
      "  warnings.warn(\"'n_jobs' was deprecated in version 0.23 and will be\"\n"
     ]
    },
    {
     "data": {
      "image/png": "[encoded data removed]",
      "text/plain": [
       "<Figure size 432x432 with 1 Axes>"
      ]
     },
     "metadata": {
      "needs_background": "light"
     },
     "output_type": "display_data"
    }
   ],
   "source": [
    "# get a list of just the features\n",
    "feat = np.array(list(data.values()))\n",
    "\n",
    "# reshape so that there are 210 samples of 4096 vectors\n",
    "feat = feat.reshape(-1,4096)\n",
    "\n",
    "# get the unique labels (from the crop_labels.csv)\n",
    "# df = pd.read_csv('crop_labels.csv')\n",
    "# label = df['label'].tolist()\n",
    "# unique_labels = list(set(label))\n",
    "\n",
    "\n",
    "# reduce the amount of dimensions in the feature vector\n",
    "# pca = PCA(n_components=100, random_state=22)\n",
    "pca = PCA(n_components=10, random_state=22)\n",
    "pca.fit(feat)\n",
    "x = pca.transform(feat)\n",
    "\n",
    "# cluster feature vectors\n",
    "kmeans = KMeans(n_clusters=n_classes,n_jobs=-1, random_state=22)\n",
    "kmeans.fit(x)\n",
    "\n",
    "# holds the cluster id and the images { id: [images] }\n",
    "groups = {}\n",
    "for file, cluster in zip(filenames,kmeans.labels_):\n",
    "    if cluster not in groups.keys():\n",
    "        groups[cluster] = []\n",
    "        groups[cluster].append(file)\n",
    "    else:\n",
    "        groups[cluster].append(file)\n",
    "\n",
    "# function that lets you view a cluster (based on identifier)        \n",
    "def view_cluster(cluster):\n",
    "    plt.figure(figsize = (25,25));\n",
    "    # gets the list of filenames for a cluster\n",
    "    files = groups[cluster]\n",
    "    # only allow up to 30 images to be shown at a time\n",
    "    if len(files) > 30:\n",
    "        print(f\"Clipping cluster size from {len(files)} to 30\")\n",
    "        files = files[:29]\n",
    "    # plot each image in the cluster\n",
    "    for index, file in enumerate(files):\n",
    "        plt.subplot(10,10,index+1);\n",
    "        img = load_img(file)\n",
    "        img = np.array(img)\n",
    "        plt.imshow(img)\n",
    "        plt.axis('off')\n",
    "        \n",
    "   \n",
    "# this is just incase you want to see which value for k might be the best \n",
    "sse = []\n",
    "list_k = list(range(3, 50))\n",
    "\n",
    "for k in list_k:\n",
    "    km = KMeans(n_clusters=k, random_state=22, n_jobs=-1)\n",
    "    km.fit(x)\n",
    "    \n",
    "    sse.append(km.inertia_)\n",
    "\n",
    "# Plot sse against k\n",
    "plt.figure(figsize=(6, 6))\n",
    "plt.plot(list_k, sse)\n",
    "plt.xlabel(r'Number of clusters *k*')\n",
    "plt.ylabel('Sum of squared distance');\n",
    "        "
   ]
  },
  {
   "cell_type": "code",
   "execution_count": 11,
   "id": "09ad26b8-6242-44ee-8dc9-aca74e17242b",
   "metadata": {},
   "outputs": [
    {
     "data": {
      "text/plain": [
       "4"
      ]
     },
     "execution_count": 11,
     "metadata": {},
     "output_type": "execute_result"
    }
   ],
   "source": [
    "len(groups)"
   ]
  },
  {
   "cell_type": "code",
   "execution_count": 12,
   "id": "111bbfe2-56ee-4c28-acaf-167cbe1467a1",
   "metadata": {},
   "outputs": [
    {
     "data": {
      "text/plain": [
       "485"
      ]
     },
     "execution_count": 12,
     "metadata": {},
     "output_type": "execute_result"
    }
   ],
   "source": [
    "len(groups[0])"
   ]
  },
  {
   "cell_type": "code",
   "execution_count": 13,
   "id": "74927992-7a12-4027-8c8a-b760a7675ea3",
   "metadata": {},
   "outputs": [
    {
     "data": {
      "text/plain": [
       "'0000.png'"
      ]
     },
     "execution_count": 13,
     "metadata": {},
     "output_type": "execute_result"
    }
   ],
   "source": [
    "file = groups[0][0]\n",
    "file"
   ]
  },
  {
   "cell_type": "code",
   "execution_count": 14,
   "id": "b2b46413-151c-4f81-8feb-26e402cc3d32",
   "metadata": {},
   "outputs": [],
   "source": [
    "chip = os.path.join(path, file)\n",
    "chip_image = imread(chip)"
   ]
  },
  {
   "cell_type": "code",
   "execution_count": 15,
   "id": "dcb84c38-c304-407b-ad7f-dcec83a5bb8a",
   "metadata": {},
   "outputs": [
    {
     "data": {
      "text/plain": [
       "(32, 32, 3)"
      ]
     },
     "execution_count": 15,
     "metadata": {},
     "output_type": "execute_result"
    }
   ],
   "source": [
    "chip_image.shape"
   ]
  },
  {
   "cell_type": "code",
   "execution_count": 16,
   "id": "38e5c66c-d179-4de2-832c-4017d987b39f",
   "metadata": {},
   "outputs": [
    {
     "name": "stdout",
     "output_type": "stream",
     "text": [
      "0\n",
      "2\n",
      "3\n",
      "1\n"
     ]
    },
    {
     "data": {
      "text/plain": [
       "<Figure size 432x288 with 0 Axes>"
      ]
     },
     "metadata": {},
     "output_type": "display_data"
    }
   ],
   "source": [
    "plt.figure()\n",
    "\n",
    "for group_id in groups:\n",
    "    print(group_id)\n",
    "    group = groups[group_id]\n",
    "    n = len(group)\n",
    "\n",
    "    accumulator = np.zeros(chip_image.shape)\n",
    "    for file in group:\n",
    "\n",
    "        chip = os.path.join(path, file)\n",
    "        # chip_image = Image.open(chip)\n",
    "        chip = np.array(load_img(chip))\n",
    "        accumulator += chip / n\n",
    "\n",
    "    save_img(os.path.join(path, \"cluster_means\", f'{group_id:03d}.png'), accumulator)\n",
    "    plt.subplot"
   ]
  },
  {
   "cell_type": "code",
   "execution_count": 17,
   "id": "219ac743-34af-4b5a-a60a-59dce00b5a34",
   "metadata": {},
   "outputs": [],
   "source": [
    "with open(r'C:\\Users\\mouju\\Desktop\\film\\components_analysis\\apikey.txt') as f:\n",
    "    apikey = f.readlines()[0]"
   ]
  },
  {
   "cell_type": "code",
   "execution_count": 18,
   "id": "fcf0f738-37c1-40ea-a914-aa36ba61ccb6",
   "metadata": {},
   "outputs": [],
   "source": [
    "df = pd.read_csv(r\"C:\\Users\\mouju\\Desktop\\film\\components_analysis\\df_unique.csv\", header=[0])"
   ]
  },
  {
   "cell_type": "code",
   "execution_count": 19,
   "id": "eefdf447-fdf1-4043-adce-bfc4ce7f9fcc",
   "metadata": {},
   "outputs": [],
   "source": [
    "mean_lat = df.latitude.mean()\n",
    "mean_lng = df.longitude.mean()"
   ]
  },
  {
   "cell_type": "code",
   "execution_count": 20,
   "id": "fcfa324d-f291-4811-a0c5-cc6c07fac435",
   "metadata": {},
   "outputs": [],
   "source": [
    "gmap = gp.GoogleMapPlotter(mean_lat, mean_lng, 8, apikey = apikey)"
   ]
  },
  {
   "cell_type": "code",
   "execution_count": 21,
   "id": "105c74b1-c761-4469-8d03-f7a758f46d82",
   "metadata": {},
   "outputs": [],
   "source": [
    "import seaborn as sns\n",
    "palette = sns.color_palette(None, n_classes)"
   ]
  },
  {
   "cell_type": "code",
   "execution_count": 22,
   "id": "08daeaef-b988-4079-a35d-cc8eae2d530e",
   "metadata": {},
   "outputs": [],
   "source": [
    "import seaborn as sns\n",
    "palette = sns.color_palette(None, n_classes)"
   ]
  },
  {
   "cell_type": "code",
   "execution_count": 23,
   "id": "1f71d3c3-b6fd-46d3-954e-e7c61ed9c952",
   "metadata": {},
   "outputs": [
    {
     "data": {
      "text/html": [
       "<svg  width=\"220\" height=\"55\"><rect x=\"0\" y=\"0\" width=\"55\" height=\"55\" style=\"fill:#1f77b4;stroke-width:2;stroke:rgb(255,255,255)\"/><rect x=\"55\" y=\"0\" width=\"55\" height=\"55\" style=\"fill:#ff7f0e;stroke-width:2;stroke:rgb(255,255,255)\"/><rect x=\"110\" y=\"0\" width=\"55\" height=\"55\" style=\"fill:#2ca02c;stroke-width:2;stroke:rgb(255,255,255)\"/><rect x=\"165\" y=\"0\" width=\"55\" height=\"55\" style=\"fill:#d62728;stroke-width:2;stroke:rgb(255,255,255)\"/></svg>"
      ],
      "text/plain": [
       "[(0.12156862745098039, 0.4666666666666667, 0.7058823529411765),\n",
       " (1.0, 0.4980392156862745, 0.054901960784313725),\n",
       " (0.17254901960784313, 0.6274509803921569, 0.17254901960784313),\n",
       " (0.8392156862745098, 0.15294117647058825, 0.1568627450980392)]"
      ]
     },
     "execution_count": 23,
     "metadata": {},
     "output_type": "execute_result"
    }
   ],
   "source": [
    "palette"
   ]
  },
  {
   "cell_type": "code",
   "execution_count": 24,
   "id": "4bbf0a75-d3ae-494a-8574-18754c56860d",
   "metadata": {},
   "outputs": [
    {
     "name": "stdout",
     "output_type": "stream",
     "text": [
      "['#1f77b4', '#ff7f0e', '#2ca02c', '#d62728']\n"
     ]
    }
   ],
   "source": [
    "print(palette.as_hex())"
   ]
  },
  {
   "cell_type": "code",
   "execution_count": 25,
   "id": "c1adebc1-53c9-4e49-8d40-61a10d0b3cd2",
   "metadata": {},
   "outputs": [],
   "source": [
    "colour_hex = [None] * len(df)\n",
    "\n",
    "# for i, file in enumerate(filenames):\n",
    "#     print(list(groups.keys())[list(groups.values()).index(i)])\n",
    "\n",
    "for group_id, group in groups.items():  # for name, age in dictionary.iteritems():  (for Python 2.x)\n",
    "    for file in group:\n",
    "        ind =  int(file.split('.')[0])\n",
    "        colour_hex[ind] = palette.as_hex()[group_id]"
   ]
  },
  {
   "cell_type": "code",
   "execution_count": 26,
   "id": "98f9db37-dd17-4650-ba2f-d688e26d9256",
   "metadata": {},
   "outputs": [
    {
     "data": {
      "text/plain": [
       "['#1f77b4',\n",
       " '#1f77b4',\n",
       " '#1f77b4',\n",
       " '#1f77b4',\n",
       " '#1f77b4',\n",
       " '#1f77b4',\n",
       " '#1f77b4',\n",
       " '#1f77b4',\n",
       " '#1f77b4',\n",
       " '#1f77b4',\n",
       " '#1f77b4',\n",
       " '#1f77b4',\n",
       " '#1f77b4',\n",
       " '#1f77b4',\n",
       " '#1f77b4',\n",
       " '#1f77b4',\n",
       " '#1f77b4',\n",
       " '#1f77b4',\n",
       " '#1f77b4',\n",
       " '#1f77b4',\n",
       " '#1f77b4',\n",
       " '#1f77b4',\n",
       " '#1f77b4',\n",
       " '#1f77b4',\n",
       " '#1f77b4',\n",
       " '#1f77b4',\n",
       " '#1f77b4',\n",
       " '#1f77b4',\n",
       " '#1f77b4',\n",
       " '#1f77b4',\n",
       " '#1f77b4',\n",
       " '#1f77b4',\n",
       " '#1f77b4',\n",
       " '#1f77b4',\n",
       " '#1f77b4',\n",
       " '#1f77b4',\n",
       " '#1f77b4',\n",
       " '#1f77b4',\n",
       " '#1f77b4',\n",
       " '#1f77b4',\n",
       " '#1f77b4',\n",
       " '#1f77b4',\n",
       " '#1f77b4',\n",
       " '#1f77b4',\n",
       " '#1f77b4',\n",
       " '#1f77b4',\n",
       " '#1f77b4',\n",
       " '#1f77b4',\n",
       " '#1f77b4',\n",
       " '#1f77b4',\n",
       " '#1f77b4',\n",
       " '#1f77b4',\n",
       " '#1f77b4',\n",
       " '#1f77b4',\n",
       " '#1f77b4',\n",
       " '#1f77b4',\n",
       " '#1f77b4',\n",
       " '#1f77b4',\n",
       " '#1f77b4',\n",
       " '#1f77b4',\n",
       " '#1f77b4',\n",
       " '#1f77b4',\n",
       " '#1f77b4',\n",
       " '#1f77b4',\n",
       " '#1f77b4',\n",
       " '#1f77b4',\n",
       " '#1f77b4',\n",
       " '#1f77b4',\n",
       " '#1f77b4',\n",
       " '#1f77b4',\n",
       " '#1f77b4',\n",
       " '#1f77b4',\n",
       " '#1f77b4',\n",
       " '#1f77b4',\n",
       " '#1f77b4',\n",
       " '#1f77b4',\n",
       " '#1f77b4',\n",
       " '#1f77b4',\n",
       " '#1f77b4',\n",
       " '#1f77b4',\n",
       " '#1f77b4',\n",
       " '#1f77b4',\n",
       " '#1f77b4',\n",
       " '#1f77b4',\n",
       " '#1f77b4',\n",
       " '#1f77b4',\n",
       " '#1f77b4',\n",
       " '#1f77b4',\n",
       " '#2ca02c',\n",
       " '#2ca02c',\n",
       " '#1f77b4',\n",
       " '#d62728',\n",
       " '#2ca02c',\n",
       " '#2ca02c',\n",
       " '#1f77b4',\n",
       " '#2ca02c',\n",
       " '#1f77b4',\n",
       " '#1f77b4',\n",
       " '#1f77b4',\n",
       " '#1f77b4',\n",
       " '#1f77b4',\n",
       " '#1f77b4',\n",
       " '#1f77b4',\n",
       " '#1f77b4',\n",
       " '#1f77b4',\n",
       " '#1f77b4',\n",
       " '#1f77b4',\n",
       " '#1f77b4',\n",
       " '#1f77b4',\n",
       " '#d62728',\n",
       " '#ff7f0e',\n",
       " '#1f77b4',\n",
       " '#d62728',\n",
       " '#ff7f0e',\n",
       " '#ff7f0e',\n",
       " '#1f77b4',\n",
       " '#1f77b4',\n",
       " '#d62728',\n",
       " '#1f77b4',\n",
       " '#1f77b4',\n",
       " '#d62728',\n",
       " '#1f77b4',\n",
       " '#1f77b4',\n",
       " '#1f77b4',\n",
       " '#1f77b4',\n",
       " '#1f77b4',\n",
       " '#d62728',\n",
       " '#1f77b4',\n",
       " '#1f77b4',\n",
       " '#1f77b4',\n",
       " '#1f77b4',\n",
       " '#1f77b4',\n",
       " '#1f77b4',\n",
       " '#1f77b4',\n",
       " '#1f77b4',\n",
       " '#1f77b4',\n",
       " '#1f77b4',\n",
       " '#1f77b4',\n",
       " '#1f77b4',\n",
       " '#1f77b4',\n",
       " '#1f77b4',\n",
       " '#1f77b4',\n",
       " '#1f77b4',\n",
       " '#1f77b4',\n",
       " '#1f77b4',\n",
       " '#1f77b4',\n",
       " '#1f77b4',\n",
       " '#1f77b4',\n",
       " '#1f77b4',\n",
       " '#1f77b4',\n",
       " '#1f77b4',\n",
       " '#1f77b4',\n",
       " '#1f77b4',\n",
       " '#1f77b4',\n",
       " '#1f77b4',\n",
       " '#1f77b4',\n",
       " '#1f77b4',\n",
       " '#1f77b4',\n",
       " '#d62728',\n",
       " '#1f77b4',\n",
       " '#1f77b4',\n",
       " '#1f77b4',\n",
       " '#1f77b4',\n",
       " '#ff7f0e',\n",
       " '#ff7f0e',\n",
       " '#d62728',\n",
       " '#1f77b4',\n",
       " '#d62728',\n",
       " '#d62728',\n",
       " '#1f77b4',\n",
       " '#1f77b4',\n",
       " '#1f77b4',\n",
       " '#1f77b4',\n",
       " '#1f77b4',\n",
       " '#1f77b4',\n",
       " '#1f77b4',\n",
       " '#1f77b4',\n",
       " '#1f77b4',\n",
       " '#1f77b4',\n",
       " '#1f77b4',\n",
       " '#1f77b4',\n",
       " '#1f77b4',\n",
       " '#1f77b4',\n",
       " '#1f77b4',\n",
       " '#1f77b4',\n",
       " '#1f77b4',\n",
       " '#1f77b4',\n",
       " '#1f77b4',\n",
       " '#1f77b4',\n",
       " '#1f77b4',\n",
       " '#1f77b4',\n",
       " '#1f77b4',\n",
       " '#1f77b4',\n",
       " '#1f77b4',\n",
       " '#1f77b4',\n",
       " '#1f77b4',\n",
       " '#1f77b4',\n",
       " '#1f77b4',\n",
       " '#1f77b4',\n",
       " '#1f77b4',\n",
       " '#1f77b4',\n",
       " '#1f77b4',\n",
       " '#d62728',\n",
       " '#d62728',\n",
       " '#1f77b4',\n",
       " '#1f77b4',\n",
       " '#ff7f0e',\n",
       " '#d62728',\n",
       " '#1f77b4',\n",
       " '#1f77b4',\n",
       " '#1f77b4',\n",
       " '#1f77b4',\n",
       " '#1f77b4',\n",
       " '#1f77b4',\n",
       " '#1f77b4',\n",
       " '#1f77b4',\n",
       " '#1f77b4',\n",
       " '#1f77b4',\n",
       " '#1f77b4',\n",
       " '#1f77b4',\n",
       " '#1f77b4',\n",
       " '#1f77b4',\n",
       " '#1f77b4',\n",
       " '#1f77b4',\n",
       " '#1f77b4',\n",
       " '#1f77b4',\n",
       " '#1f77b4',\n",
       " '#d62728',\n",
       " '#d62728',\n",
       " '#ff7f0e',\n",
       " '#ff7f0e',\n",
       " '#1f77b4',\n",
       " '#1f77b4',\n",
       " '#1f77b4',\n",
       " '#1f77b4',\n",
       " '#1f77b4',\n",
       " '#1f77b4',\n",
       " '#1f77b4',\n",
       " '#1f77b4',\n",
       " '#1f77b4',\n",
       " '#1f77b4',\n",
       " '#1f77b4',\n",
       " '#1f77b4',\n",
       " '#1f77b4',\n",
       " '#1f77b4',\n",
       " '#1f77b4',\n",
       " '#1f77b4',\n",
       " '#1f77b4',\n",
       " '#1f77b4',\n",
       " '#1f77b4',\n",
       " '#1f77b4',\n",
       " '#1f77b4',\n",
       " '#1f77b4',\n",
       " '#1f77b4',\n",
       " '#1f77b4',\n",
       " '#1f77b4',\n",
       " '#1f77b4',\n",
       " '#1f77b4',\n",
       " '#1f77b4',\n",
       " '#1f77b4',\n",
       " '#1f77b4',\n",
       " '#1f77b4',\n",
       " '#1f77b4',\n",
       " '#1f77b4',\n",
       " '#1f77b4',\n",
       " '#1f77b4',\n",
       " '#1f77b4',\n",
       " '#1f77b4',\n",
       " '#1f77b4',\n",
       " '#2ca02c',\n",
       " '#2ca02c',\n",
       " '#2ca02c',\n",
       " '#1f77b4',\n",
       " '#1f77b4',\n",
       " '#1f77b4',\n",
       " '#d62728',\n",
       " '#1f77b4',\n",
       " '#1f77b4',\n",
       " '#d62728',\n",
       " '#d62728',\n",
       " '#1f77b4',\n",
       " '#1f77b4',\n",
       " '#1f77b4',\n",
       " '#1f77b4',\n",
       " '#1f77b4',\n",
       " '#1f77b4',\n",
       " '#1f77b4',\n",
       " '#1f77b4',\n",
       " '#1f77b4',\n",
       " '#1f77b4',\n",
       " '#1f77b4',\n",
       " '#1f77b4',\n",
       " '#d62728',\n",
       " '#ff7f0e',\n",
       " '#d62728',\n",
       " '#d62728',\n",
       " '#1f77b4',\n",
       " '#1f77b4',\n",
       " '#1f77b4',\n",
       " '#ff7f0e',\n",
       " '#1f77b4',\n",
       " '#1f77b4',\n",
       " '#1f77b4',\n",
       " '#1f77b4',\n",
       " '#d62728',\n",
       " '#d62728',\n",
       " '#ff7f0e',\n",
       " '#1f77b4',\n",
       " '#d62728',\n",
       " '#1f77b4',\n",
       " '#1f77b4',\n",
       " '#1f77b4',\n",
       " '#1f77b4',\n",
       " '#1f77b4',\n",
       " '#1f77b4',\n",
       " '#1f77b4',\n",
       " '#1f77b4',\n",
       " '#1f77b4',\n",
       " '#1f77b4',\n",
       " '#1f77b4',\n",
       " '#1f77b4',\n",
       " '#1f77b4',\n",
       " '#1f77b4',\n",
       " '#1f77b4',\n",
       " '#1f77b4',\n",
       " '#1f77b4',\n",
       " '#1f77b4',\n",
       " '#1f77b4',\n",
       " '#1f77b4',\n",
       " '#1f77b4',\n",
       " '#1f77b4',\n",
       " '#1f77b4',\n",
       " '#1f77b4',\n",
       " '#1f77b4',\n",
       " '#1f77b4',\n",
       " '#1f77b4',\n",
       " '#1f77b4',\n",
       " '#1f77b4',\n",
       " '#1f77b4',\n",
       " '#1f77b4',\n",
       " '#1f77b4',\n",
       " '#1f77b4',\n",
       " '#1f77b4',\n",
       " '#1f77b4',\n",
       " '#1f77b4',\n",
       " '#1f77b4',\n",
       " '#1f77b4',\n",
       " '#1f77b4',\n",
       " '#1f77b4',\n",
       " '#1f77b4',\n",
       " '#1f77b4',\n",
       " '#1f77b4',\n",
       " '#1f77b4',\n",
       " '#1f77b4',\n",
       " '#1f77b4',\n",
       " '#1f77b4',\n",
       " '#1f77b4',\n",
       " '#1f77b4',\n",
       " '#1f77b4',\n",
       " '#1f77b4',\n",
       " '#1f77b4',\n",
       " '#1f77b4',\n",
       " '#1f77b4',\n",
       " '#1f77b4',\n",
       " '#1f77b4',\n",
       " '#1f77b4',\n",
       " '#1f77b4',\n",
       " '#1f77b4',\n",
       " '#1f77b4',\n",
       " '#1f77b4',\n",
       " '#1f77b4',\n",
       " '#1f77b4',\n",
       " '#1f77b4',\n",
       " '#1f77b4',\n",
       " '#1f77b4',\n",
       " '#1f77b4',\n",
       " '#1f77b4',\n",
       " '#1f77b4',\n",
       " '#1f77b4',\n",
       " '#1f77b4',\n",
       " '#1f77b4',\n",
       " '#1f77b4',\n",
       " '#1f77b4',\n",
       " '#1f77b4',\n",
       " '#1f77b4',\n",
       " '#1f77b4',\n",
       " '#1f77b4',\n",
       " '#1f77b4',\n",
       " '#1f77b4',\n",
       " '#1f77b4',\n",
       " '#1f77b4',\n",
       " '#1f77b4',\n",
       " '#1f77b4',\n",
       " '#1f77b4',\n",
       " '#1f77b4',\n",
       " '#1f77b4',\n",
       " '#1f77b4',\n",
       " '#1f77b4',\n",
       " '#1f77b4',\n",
       " '#1f77b4',\n",
       " '#1f77b4',\n",
       " '#1f77b4',\n",
       " '#1f77b4',\n",
       " '#1f77b4',\n",
       " '#1f77b4',\n",
       " '#1f77b4',\n",
       " '#1f77b4',\n",
       " '#1f77b4',\n",
       " '#1f77b4',\n",
       " '#1f77b4',\n",
       " '#1f77b4',\n",
       " '#1f77b4',\n",
       " '#1f77b4',\n",
       " '#1f77b4',\n",
       " '#1f77b4',\n",
       " '#1f77b4',\n",
       " '#1f77b4',\n",
       " '#1f77b4',\n",
       " '#1f77b4',\n",
       " '#1f77b4',\n",
       " '#1f77b4',\n",
       " '#1f77b4',\n",
       " '#1f77b4',\n",
       " '#1f77b4',\n",
       " '#1f77b4',\n",
       " '#1f77b4',\n",
       " '#1f77b4',\n",
       " '#1f77b4',\n",
       " '#1f77b4',\n",
       " '#1f77b4',\n",
       " '#1f77b4',\n",
       " '#1f77b4',\n",
       " '#1f77b4',\n",
       " '#1f77b4',\n",
       " '#1f77b4',\n",
       " '#1f77b4',\n",
       " '#1f77b4',\n",
       " '#1f77b4',\n",
       " '#1f77b4',\n",
       " '#1f77b4',\n",
       " '#1f77b4',\n",
       " '#1f77b4',\n",
       " '#1f77b4',\n",
       " '#1f77b4',\n",
       " '#1f77b4',\n",
       " '#1f77b4',\n",
       " '#1f77b4',\n",
       " '#1f77b4',\n",
       " '#1f77b4',\n",
       " '#1f77b4',\n",
       " '#1f77b4',\n",
       " '#1f77b4',\n",
       " '#1f77b4',\n",
       " '#1f77b4',\n",
       " '#1f77b4',\n",
       " '#1f77b4',\n",
       " '#d62728',\n",
       " '#2ca02c',\n",
       " '#d62728',\n",
       " '#2ca02c',\n",
       " '#2ca02c',\n",
       " '#d62728',\n",
       " '#d62728',\n",
       " '#1f77b4',\n",
       " '#1f77b4',\n",
       " '#1f77b4',\n",
       " '#1f77b4',\n",
       " '#1f77b4',\n",
       " '#1f77b4',\n",
       " '#d62728',\n",
       " '#d62728',\n",
       " '#1f77b4',\n",
       " '#1f77b4',\n",
       " '#1f77b4',\n",
       " '#1f77b4',\n",
       " '#1f77b4',\n",
       " '#1f77b4',\n",
       " '#1f77b4',\n",
       " '#1f77b4',\n",
       " '#1f77b4',\n",
       " '#1f77b4',\n",
       " '#1f77b4',\n",
       " '#1f77b4',\n",
       " '#1f77b4',\n",
       " '#1f77b4',\n",
       " '#1f77b4',\n",
       " '#1f77b4',\n",
       " '#1f77b4',\n",
       " '#1f77b4',\n",
       " '#1f77b4',\n",
       " '#1f77b4',\n",
       " '#1f77b4',\n",
       " '#1f77b4',\n",
       " '#1f77b4',\n",
       " '#ff7f0e',\n",
       " '#ff7f0e',\n",
       " '#ff7f0e',\n",
       " '#ff7f0e',\n",
       " '#ff7f0e',\n",
       " '#ff7f0e',\n",
       " '#1f77b4',\n",
       " '#2ca02c',\n",
       " '#ff7f0e',\n",
       " '#ff7f0e',\n",
       " '#1f77b4',\n",
       " '#1f77b4',\n",
       " '#ff7f0e',\n",
       " '#d62728',\n",
       " '#2ca02c',\n",
       " '#2ca02c',\n",
       " '#2ca02c',\n",
       " '#1f77b4',\n",
       " '#1f77b4',\n",
       " '#1f77b4',\n",
       " '#ff7f0e',\n",
       " '#ff7f0e',\n",
       " '#ff7f0e',\n",
       " '#1f77b4',\n",
       " '#1f77b4',\n",
       " '#1f77b4',\n",
       " '#1f77b4',\n",
       " '#1f77b4',\n",
       " '#1f77b4',\n",
       " '#1f77b4',\n",
       " '#1f77b4',\n",
       " '#1f77b4',\n",
       " '#ff7f0e',\n",
       " '#ff7f0e',\n",
       " '#1f77b4',\n",
       " '#1f77b4',\n",
       " '#ff7f0e',\n",
       " '#ff7f0e',\n",
       " '#ff7f0e',\n",
       " '#ff7f0e',\n",
       " '#ff7f0e',\n",
       " '#1f77b4',\n",
       " '#1f77b4',\n",
       " '#1f77b4',\n",
       " '#1f77b4',\n",
       " '#1f77b4',\n",
       " '#1f77b4',\n",
       " '#1f77b4',\n",
       " '#1f77b4',\n",
       " '#1f77b4',\n",
       " '#1f77b4',\n",
       " '#1f77b4',\n",
       " '#1f77b4',\n",
       " '#1f77b4',\n",
       " '#1f77b4',\n",
       " '#1f77b4',\n",
       " '#1f77b4',\n",
       " '#1f77b4',\n",
       " '#1f77b4',\n",
       " '#1f77b4',\n",
       " '#1f77b4',\n",
       " '#1f77b4',\n",
       " '#1f77b4',\n",
       " '#1f77b4',\n",
       " '#1f77b4',\n",
       " '#1f77b4',\n",
       " '#1f77b4']"
      ]
     },
     "execution_count": 26,
     "metadata": {},
     "output_type": "execute_result"
    }
   ],
   "source": [
    "colour_hex"
   ]
  },
  {
   "cell_type": "code",
   "execution_count": 27,
   "id": "6b4aae93-da3f-4f8e-8554-21d7b9f6b95b",
   "metadata": {},
   "outputs": [],
   "source": [
    "gmap.scatter(list(df.latitude), list(df.longitude), size = 50, color=colour_hex, marker=False) \n",
    "\n",
    "\n",
    "gmap.draw(os.path.join(path,'clusters.html') )"
   ]
  },
  {
   "cell_type": "code",
   "execution_count": 28,
   "id": "a1dbc0ce-ff1b-4de0-86fb-55ef8f668254",
   "metadata": {},
   "outputs": [
    {
     "data": {
      "text/plain": [
       "485"
      ]
     },
     "execution_count": 28,
     "metadata": {},
     "output_type": "execute_result"
    }
   ],
   "source": [
    "sum(np.array(colour_hex) == '#1f77b4')"
   ]
  },
  {
   "cell_type": "code",
   "execution_count": 29,
   "id": "09217d23-7ebc-47b8-b31b-6177caf60513",
   "metadata": {},
   "outputs": [
    {
     "data": {
      "text/plain": [
       "76"
      ]
     },
     "execution_count": 29,
     "metadata": {},
     "output_type": "execute_result"
    }
   ],
   "source": [
    "sum(np.array(colour_hex) != '#1f77b4')"
   ]
  },
  {
   "cell_type": "code",
   "execution_count": null,
   "id": "5ec26651-bd1e-4c9c-b97e-38394dcb7b80",
   "metadata": {},
   "outputs": [],
   "source": []
  }
 ],
 "metadata": {
  "kernelspec": {
   "display_name": "Python 3",
   "language": "python",
   "name": "python3"
  },
  "language_info": {
   "codemirror_mode": {
    "name": "ipython",
    "version": 3
   },
   "file_extension": ".py",
   "mimetype": "text/x-python",
   "name": "python",
   "nbconvert_exporter": "python",
   "pygments_lexer": "ipython3",
   "version": "3.8.8"
  }
 },
 "nbformat": 4,
 "nbformat_minor": 5
}
