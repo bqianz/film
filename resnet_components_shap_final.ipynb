{
 "cells": [
  {
   "cell_type": "code",
   "execution_count": 1,
   "id": "2acc43dc-19d6-4aaa-bf16-1f899c9499ab",
   "metadata": {},
   "outputs": [],
   "source": [
    "import torch\n",
    "import torch.nn as nn\n",
    "from torch.utils.data import Dataset\n",
    "from torch.utils.data import DataLoader\n",
    "from torchvision import transforms\n",
    "from torchvision.transforms import ToTensor\n",
    "import torchvision.models as models\n",
    "from PIL import Image\n",
    "import os\n",
    "import numpy as np\n",
    "import pandas as pd\n",
    "from matplotlib import pyplot as plt\n",
    "import seaborn as sb\n",
    "\n",
    "from pathlib import Path\n",
    "\n",
    "from pyproj import Transformer\n",
    "\n",
    "from functools import partial\n",
    "from collections import OrderedDict\n",
    "\n",
    "from sklearn.metrics import classification_report, confusion_matrix, accuracy_score, precision_recall_fscore_support\n",
    "from sklearn.preprocessing import MinMaxScaler, StandardScaler\n",
    "from sklearn.cluster import MeanShift, estimate_bandwidth\n",
    "from itertools import cycle\n",
    "\n",
    "import time\n",
    "import pickle"
   ]
  },
  {
   "cell_type": "code",
   "execution_count": 2,
   "id": "79a17784-7281-4e6c-b59d-158bbe72b34e",
   "metadata": {},
   "outputs": [
    {
     "data": {
      "text/plain": [
       "tensor(2.7926, grad_fn=<NllLossBackward>)"
      ]
     },
     "execution_count": 2,
     "metadata": {},
     "output_type": "execute_result"
    }
   ],
   "source": [
    "loss = nn.CrossEntropyLoss()\n",
    "input = torch.randn(3, 5, requires_grad=True)\n",
    "target = torch.empty(3, dtype=torch.long).random_(5)\n",
    "loss(input, target)"
   ]
  },
  {
   "cell_type": "code",
   "execution_count": 3,
   "id": "d115a8f5-a02f-425c-b525-cae4fbb2777a",
   "metadata": {},
   "outputs": [
    {
     "data": {
      "text/plain": [
       "torch.Size([3, 5])"
      ]
     },
     "execution_count": 3,
     "metadata": {},
     "output_type": "execute_result"
    }
   ],
   "source": [
    "input.shape"
   ]
  },
  {
   "cell_type": "code",
   "execution_count": 4,
   "id": "88e10484-0135-43ce-81f5-ee338fc61da3",
   "metadata": {},
   "outputs": [
    {
     "data": {
      "text/plain": [
       "torch.Size([3])"
      ]
     },
     "execution_count": 4,
     "metadata": {},
     "output_type": "execute_result"
    }
   ],
   "source": [
    "target.shape"
   ]
  },
  {
   "cell_type": "code",
   "execution_count": 5,
   "id": "30eca0ef-65f3-4c60-8240-c82ee6e5db60",
   "metadata": {},
   "outputs": [],
   "source": [
    "n_components = 3\n",
    "n_channels = 28\n",
    "chip_size = 64\n",
    "train_ratio = 0.8 # ratio of train size to fullsize\n",
    "\n",
    "chips_root = r'C:\\Users\\mouju\\Desktop\\film\\raster_chips\\concat_geo90_arcticdem'\n",
    "\n",
    "device = torch.device('cuda' if torch.cuda.is_available() else 'cpu')\n",
    "# device = 'cpu'\n",
    "\n",
    "L2_param = 1e-5\n",
    "\n",
    "transformer = Transformer.from_crs(\"epsg:4326\", \"epsg:3413\")\n",
    "\n",
    "models_dir = 'res_shap/'\n",
    "Path(models_dir).mkdir(parents=True, exist_ok=True)\n",
    "\n",
    "train_max_epoch = 50"
   ]
  },
  {
   "cell_type": "code",
   "execution_count": 6,
   "id": "05bd1bc4-61b9-4e41-8f9e-866dc8be75cd",
   "metadata": {},
   "outputs": [],
   "source": [
    "with open('components_analysis/mix_n{}.npy'.format(n_components), 'rb') as f:\n",
    "    mix = np.load(f)"
   ]
  },
  {
   "cell_type": "code",
   "execution_count": 7,
   "id": "7d6e24ab-5ae1-43ed-a814-0330be9655fd",
   "metadata": {},
   "outputs": [
    {
     "data": {
      "text/plain": [
       "(561, 3)"
      ]
     },
     "execution_count": 7,
     "metadata": {},
     "output_type": "execute_result"
    }
   ],
   "source": [
    "mix.shape"
   ]
  },
  {
   "cell_type": "code",
   "execution_count": 8,
   "id": "590e2d54-bddf-40f4-a283-0d31403a418f",
   "metadata": {},
   "outputs": [],
   "source": [
    "dominant_profile = np.argmax(mix, -1)"
   ]
  },
  {
   "cell_type": "code",
   "execution_count": 9,
   "id": "5400e0a1-33a3-4a0a-923f-6f127b053c71",
   "metadata": {},
   "outputs": [],
   "source": [
    "df = pd.read_csv('components_analysis/df_unique.csv', header=[0])\n",
    "df.borehole = df.borehole.str.replace('//', '--')\n",
    "df['proj_x'], df['proj_y'] = transformer.transform(df.latitude,df.longitude)"
   ]
  },
  {
   "cell_type": "code",
   "execution_count": 10,
   "id": "e212a4a6-ecdb-4245-bd71-40ca84fbb3ae",
   "metadata": {},
   "outputs": [],
   "source": [
    "df['dominant_profile'] = dominant_profile"
   ]
  },
  {
   "cell_type": "code",
   "execution_count": 11,
   "id": "7a4d4d60-b2ef-47a8-a243-5f63d2b67ede",
   "metadata": {},
   "outputs": [
    {
     "data": {
      "text/plain": [
       "68.7847711764706"
      ]
     },
     "execution_count": 11,
     "metadata": {},
     "output_type": "execute_result"
    }
   ],
   "source": [
    "df['latitude'].mean()"
   ]
  },
  {
   "cell_type": "code",
   "execution_count": 12,
   "id": "cc99a9fe-920f-4cd0-87d4-d95f0be643aa",
   "metadata": {},
   "outputs": [
    {
     "data": {
      "text/plain": [
       "-133.49410438502673"
      ]
     },
     "execution_count": 12,
     "metadata": {},
     "output_type": "execute_result"
    }
   ],
   "source": [
    "df.longitude.mean()"
   ]
  },
  {
   "cell_type": "code",
   "execution_count": 13,
   "id": "fdae3152-779b-4a9d-aa61-3e0364d1acf2",
   "metadata": {},
   "outputs": [],
   "source": [
    "for i in range(mix.shape[1]):\n",
    "    df['component{}'.format(i)] = mix[:, i]"
   ]
  },
  {
   "cell_type": "code",
   "execution_count": 14,
   "id": "b4335684-c909-4d2d-8aa7-71687974c0e2",
   "metadata": {},
   "outputs": [
    {
     "data": {
      "text/html": [
       "<div>\n",
       "<style scoped>\n",
       "    .dataframe tbody tr th:only-of-type {\n",
       "        vertical-align: middle;\n",
       "    }\n",
       "\n",
       "    .dataframe tbody tr th {\n",
       "        vertical-align: top;\n",
       "    }\n",
       "\n",
       "    .dataframe thead th {\n",
       "        text-align: right;\n",
       "    }\n",
       "</style>\n",
       "<table border=\"1\" class=\"dataframe\">\n",
       "  <thead>\n",
       "    <tr style=\"text-align: right;\">\n",
       "      <th></th>\n",
       "      <th>latitude</th>\n",
       "      <th>longitude</th>\n",
       "      <th>time</th>\n",
       "      <th>borehole</th>\n",
       "      <th>depth</th>\n",
       "      <th>frozen</th>\n",
       "      <th>cryostructures</th>\n",
       "      <th>visible_ice</th>\n",
       "      <th>ASTM_2488</th>\n",
       "      <th>materials</th>\n",
       "      <th>...</th>\n",
       "      <th>month</th>\n",
       "      <th>year</th>\n",
       "      <th>month_cyclic</th>\n",
       "      <th>visible_ice_code</th>\n",
       "      <th>proj_x</th>\n",
       "      <th>proj_y</th>\n",
       "      <th>dominant_profile</th>\n",
       "      <th>component0</th>\n",
       "      <th>component1</th>\n",
       "      <th>component2</th>\n",
       "    </tr>\n",
       "  </thead>\n",
       "  <tbody>\n",
       "    <tr>\n",
       "      <th>0</th>\n",
       "      <td>69.16162</td>\n",
       "      <td>-133.08682</td>\n",
       "      <td>2012-03-21T00:00:00Z</td>\n",
       "      <td>0170-1-10</td>\n",
       "      <td>0.85</td>\n",
       "      <td>1</td>\n",
       "      <td>NaN</td>\n",
       "      <td>Pure ice</td>\n",
       "      <td>ICE</td>\n",
       "      <td>Ice</td>\n",
       "      <td>...</td>\n",
       "      <td>3</td>\n",
       "      <td>2012</td>\n",
       "      <td>3</td>\n",
       "      <td>4</td>\n",
       "      <td>-2.280305e+06</td>\n",
       "      <td>-76170.639998</td>\n",
       "      <td>0</td>\n",
       "      <td>3.020992</td>\n",
       "      <td>0.351328</td>\n",
       "      <td>-1.557754</td>\n",
       "    </tr>\n",
       "    <tr>\n",
       "      <th>1</th>\n",
       "      <td>69.16105</td>\n",
       "      <td>-133.08880</td>\n",
       "      <td>2012-03-21T00:00:00Z</td>\n",
       "      <td>0170-1-12</td>\n",
       "      <td>1.20</td>\n",
       "      <td>1</td>\n",
       "      <td>Nf</td>\n",
       "      <td>No visible ice</td>\n",
       "      <td>GP-GM</td>\n",
       "      <td>Coarse till</td>\n",
       "      <td>...</td>\n",
       "      <td>3</td>\n",
       "      <td>2012</td>\n",
       "      <td>3</td>\n",
       "      <td>0</td>\n",
       "      <td>-2.280371e+06</td>\n",
       "      <td>-76093.964428</td>\n",
       "      <td>0</td>\n",
       "      <td>0.000000</td>\n",
       "      <td>0.000000</td>\n",
       "      <td>0.000000</td>\n",
       "    </tr>\n",
       "    <tr>\n",
       "      <th>2</th>\n",
       "      <td>69.15849</td>\n",
       "      <td>-133.08865</td>\n",
       "      <td>2012-03-20T00:00:00Z</td>\n",
       "      <td>0170-1-17</td>\n",
       "      <td>1.45</td>\n",
       "      <td>1</td>\n",
       "      <td>NaN</td>\n",
       "      <td>No visible ice</td>\n",
       "      <td>SM-SC</td>\n",
       "      <td>Sand</td>\n",
       "      <td>...</td>\n",
       "      <td>3</td>\n",
       "      <td>2012</td>\n",
       "      <td>3</td>\n",
       "      <td>0</td>\n",
       "      <td>-2.280657e+06</td>\n",
       "      <td>-76109.484296</td>\n",
       "      <td>1</td>\n",
       "      <td>-5.746523</td>\n",
       "      <td>-0.052054</td>\n",
       "      <td>-0.600771</td>\n",
       "    </tr>\n",
       "    <tr>\n",
       "      <th>3</th>\n",
       "      <td>69.15908</td>\n",
       "      <td>-133.08968</td>\n",
       "      <td>2012-03-20T00:00:00Z</td>\n",
       "      <td>0170-1-18</td>\n",
       "      <td>1.20</td>\n",
       "      <td>1</td>\n",
       "      <td>NaN</td>\n",
       "      <td>No visible ice</td>\n",
       "      <td>ML</td>\n",
       "      <td>Silt</td>\n",
       "      <td>...</td>\n",
       "      <td>3</td>\n",
       "      <td>2012</td>\n",
       "      <td>3</td>\n",
       "      <td>0</td>\n",
       "      <td>-2.280593e+06</td>\n",
       "      <td>-76066.285386</td>\n",
       "      <td>1</td>\n",
       "      <td>-5.746523</td>\n",
       "      <td>-0.052054</td>\n",
       "      <td>-0.600771</td>\n",
       "    </tr>\n",
       "    <tr>\n",
       "      <th>4</th>\n",
       "      <td>69.15886</td>\n",
       "      <td>-133.09090</td>\n",
       "      <td>2012-03-21T00:00:00Z</td>\n",
       "      <td>0170-1-19</td>\n",
       "      <td>1.20</td>\n",
       "      <td>1</td>\n",
       "      <td>Nf</td>\n",
       "      <td>No visible ice</td>\n",
       "      <td>GP</td>\n",
       "      <td>Gravel</td>\n",
       "      <td>...</td>\n",
       "      <td>3</td>\n",
       "      <td>2012</td>\n",
       "      <td>3</td>\n",
       "      <td>0</td>\n",
       "      <td>-2.280619e+06</td>\n",
       "      <td>-76018.544396</td>\n",
       "      <td>2</td>\n",
       "      <td>-5.850486</td>\n",
       "      <td>-0.905609</td>\n",
       "      <td>-0.506412</td>\n",
       "    </tr>\n",
       "  </tbody>\n",
       "</table>\n",
       "<p>5 rows × 23 columns</p>\n",
       "</div>"
      ],
      "text/plain": [
       "   latitude  longitude                  time   borehole  depth  frozen  \\\n",
       "0  69.16162 -133.08682  2012-03-21T00:00:00Z  0170-1-10   0.85       1   \n",
       "1  69.16105 -133.08880  2012-03-21T00:00:00Z  0170-1-12   1.20       1   \n",
       "2  69.15849 -133.08865  2012-03-20T00:00:00Z  0170-1-17   1.45       1   \n",
       "3  69.15908 -133.08968  2012-03-20T00:00:00Z  0170-1-18   1.20       1   \n",
       "4  69.15886 -133.09090  2012-03-21T00:00:00Z  0170-1-19   1.20       1   \n",
       "\n",
       "  cryostructures     visible_ice ASTM_2488    materials  ...  month  year  \\\n",
       "0            NaN        Pure ice       ICE          Ice  ...      3  2012   \n",
       "1             Nf  No visible ice     GP-GM  Coarse till  ...      3  2012   \n",
       "2            NaN  No visible ice     SM-SC         Sand  ...      3  2012   \n",
       "3            NaN  No visible ice        ML         Silt  ...      3  2012   \n",
       "4             Nf  No visible ice        GP       Gravel  ...      3  2012   \n",
       "\n",
       "   month_cyclic  visible_ice_code        proj_x        proj_y  \\\n",
       "0             3                 4 -2.280305e+06 -76170.639998   \n",
       "1             3                 0 -2.280371e+06 -76093.964428   \n",
       "2             3                 0 -2.280657e+06 -76109.484296   \n",
       "3             3                 0 -2.280593e+06 -76066.285386   \n",
       "4             3                 0 -2.280619e+06 -76018.544396   \n",
       "\n",
       "   dominant_profile  component0  component1  component2  \n",
       "0                 0    3.020992    0.351328   -1.557754  \n",
       "1                 0    0.000000    0.000000    0.000000  \n",
       "2                 1   -5.746523   -0.052054   -0.600771  \n",
       "3                 1   -5.746523   -0.052054   -0.600771  \n",
       "4                 2   -5.850486   -0.905609   -0.506412  \n",
       "\n",
       "[5 rows x 23 columns]"
      ]
     },
     "execution_count": 14,
     "metadata": {},
     "output_type": "execute_result"
    }
   ],
   "source": [
    "df.head()"
   ]
  },
  {
   "cell_type": "code",
   "execution_count": 15,
   "id": "9d6f99e4-49f4-4a5a-ac6b-cfa618dd15d2",
   "metadata": {},
   "outputs": [
    {
     "name": "stdout",
     "output_type": "stream",
     "text": [
      "Number of boreholes has decreased from 561 to 560\n"
     ]
    }
   ],
   "source": [
    "n_bh_temp = len(df)\n",
    "df = df.query(\"borehole != 'ENG.YARC03097-01--HUS_H (NTGS 7)'\")\n",
    "df = df.query(\"borehole != 'W14103137-CR4N'\")\n",
    "df = df.query(\"borehole != 'W14103137-S6-BH15'\")\n",
    "df = df.query(\"borehole != 'W14103137-S6-BH14'\")\n",
    "df = df.query(\"borehole != 'W14103137-S6-BH16'\")\n",
    "print(f'Number of boreholes has decreased from {n_bh_temp} to {len(df)}')"
   ]
  },
  {
   "cell_type": "code",
   "execution_count": 91,
   "id": "cb7c4fd3-c876-40aa-847c-c49a3a102643",
   "metadata": {},
   "outputs": [
    {
     "data": {
      "text/plain": [
       "202"
      ]
     },
     "execution_count": 91,
     "metadata": {},
     "output_type": "execute_result"
    }
   ],
   "source": [
    "sum(df['dominant_profile'] == 2)"
   ]
  },
  {
   "cell_type": "code",
   "execution_count": 16,
   "id": "1caba5ba-2471-41fe-b1ef-7d97f0542767",
   "metadata": {},
   "outputs": [],
   "source": [
    "class resnet_shap_data(Dataset):\n",
    "    def __init__(self, chips_root, df, chip_size=32):\n",
    "        \n",
    "        self.df = df\n",
    "        self.chip_size = chip_size\n",
    "        self.chips_root = chips_root  \n",
    "            \n",
    "        file_list = os.listdir(chips_root)\n",
    "        with open(os.path.join(chips_root, file_list[0]), 'rb') as f:\n",
    "            loaded = np.load(f)\n",
    "        \n",
    "        self.n_channels = loaded.shape[0]\n",
    "        print(\"Dataset contains {} channels\".format(self.n_channels))\n",
    "        \n",
    "    def __len__(self):\n",
    "        return len(self.df)\n",
    "\n",
    "    def __getitem__(self, idx):\n",
    "        \n",
    "        row = self.df.iloc[idx]\n",
    "        bh_id = row.at['borehole']\n",
    "        \n",
    "        with open(os.path.join(self.chips_root, f'{bh_id}.npy', ), 'rb') as f:\n",
    "            loaded = np.load(f)\n",
    "        \n",
    "        if self.chip_size > loaded.shape[1]:\n",
    "            raise IndexError(f'chip_size parameter {self.chip_size} bigger than size of prepared chips {loaded.shape[1]} in {self.chips_root}')\n",
    "        \n",
    "        start = int(loaded.shape[1] / 2) - int(self.chip_size/2)\n",
    "        end = start + self.chip_size\n",
    "        \n",
    "        image= torch.tensor(loaded[:, start:end, start:end]).float()\n",
    "        \n",
    "        # visible_ice = torch.tensor(row.at['visible_ice']).float()\n",
    "        # label_value = torch.tensor(row.at[self.label]).long()\n",
    "        \n",
    "        # material_ice = torch.tensor(row.at['material_ice']).float()\n",
    "        \n",
    "        \n",
    "        return {'image': image, 'label': torch.tensor(row.at['dominant_profile'])}"
   ]
  },
  {
   "cell_type": "code",
   "execution_count": 17,
   "id": "31cd4b44-e9ad-4717-ba3b-6c167cee766a",
   "metadata": {},
   "outputs": [
    {
     "name": "stdout",
     "output_type": "stream",
     "text": [
      "Dataset contains 28 channels\n"
     ]
    }
   ],
   "source": [
    "full_dataset = resnet_shap_data(chips_root, df, chip_size)"
   ]
  },
  {
   "cell_type": "code",
   "execution_count": 30,
   "id": "21a0c1f4-dbd6-419c-8a67-faaa0895e71b",
   "metadata": {},
   "outputs": [],
   "source": [
    "def train(trainloader, testloader, print_epochs = False, loss_fn = torch.nn.CrossEntropyLoss()):\n",
    "    \n",
    "    model= models.resnet18()\n",
    "    model.conv1 = nn.Conv2d(n_channels, 64, kernel_size=(7, 7), stride=(2, 2), padding=(3, 3), bias=False)\n",
    "    model.fc = nn.Linear(in_features=512, out_features=n_components)\n",
    "    \n",
    "    model.to(device)\n",
    "    \n",
    "    optimizer = torch.optim.Adam(model.parameters(), weight_decay = L2_param)\n",
    "\n",
    "    epoch_loss = np.zeros([train_max_epoch, 2])\n",
    "    for epoch in range(train_max_epoch):  # loop over the dataset multiple times\n",
    "\n",
    "        model.train()\n",
    "        running_loss_sum = 0.0\n",
    "        for i, data in enumerate(trainloader, 0): # loop over each sample\n",
    "            # get the inputs; data is a list of [inputs, labels]\n",
    "            image, labels = data['image'].to(device), data['label'].to(device)\n",
    "\n",
    "            predicted = model(image)\n",
    "\n",
    "            \n",
    "            \n",
    "            # squeeze: return tensor with all dimensions of size 1 removed\n",
    "            loss = loss_fn(predicted.squeeze(), labels)\n",
    "            \n",
    "            optimizer.zero_grad()\n",
    "\n",
    "            loss.backward()\n",
    "\n",
    "            optimizer.step()\n",
    "\n",
    "            running_loss_sum += loss.item()\n",
    "\n",
    "        # ----------- get validation loss for current epoch --------------\n",
    "        model.eval()\n",
    "        validation_loss_sum = 0.0\n",
    "        for i, data in enumerate(testloader, 0): # loop over each sample\n",
    "\n",
    "            image, labels = data['image'].to(device), data['label'].to(device)\n",
    "\n",
    "            predicted = model(image)\n",
    "            \n",
    "            loss = loss_fn(predicted.squeeze(), labels)\n",
    "\n",
    "            validation_loss_sum += loss.item()\n",
    "\n",
    "        # ---------------- print statistics ------------------------\n",
    "\n",
    "        running_loss = running_loss_sum / len(trainloader)\n",
    "        validation_loss = validation_loss_sum / len(testloader)\n",
    "        epoch_loss[epoch, :] =  [running_loss, validation_loss]\n",
    "        \n",
    "        if print_epochs:\n",
    "            print('epoch %2d: running loss: %.5f, validation loss: %.5f' %\n",
    "                          (epoch + 1, running_loss, validation_loss))\n",
    "        \n",
    "        torch.save(model.state_dict(), os.path.join(models_dir, 'epoch-{}.pt'.format(epoch+1)))\n",
    "    \n",
    "    if print_epochs:\n",
    "        print('Finished Training')\n",
    "        \n",
    "    return epoch_loss\n",
    "        \n",
    "def test(epoch_loss, print_model_epoch = False):\n",
    "    \n",
    "    # ------ select model ---------\n",
    "    weighted_loss = train_ratio*epoch_loss[:, 0] + (1-train_ratio) * epoch_loss[:,1]\n",
    "    ind = np.argmin(weighted_loss)\n",
    "    \n",
    "    \n",
    "    model= models.resnet18()\n",
    "    model.conv1 = nn.Conv2d(n_channels, 64, kernel_size=(7, 7), stride=(2, 2), padding=(3, 3), bias=False)\n",
    "    model.fc = nn.Linear(in_features=512, out_features=n_components)\n",
    "    \n",
    "    model.load_state_dict(torch.load('{}epoch-{}.pt'.format(models_dir, ind+1)))\n",
    "    \n",
    "    model.to(device)\n",
    "    \n",
    "    if print_model_epoch:\n",
    "        print(\"epoch {} model selected\".format(ind+1))\n",
    "    \n",
    "    # evaluate model on test set\n",
    "    model.eval()\n",
    "\n",
    "    with torch.no_grad():\n",
    "        test_results = []\n",
    "        \n",
    "        for i, data in enumerate(testloader, 0):\n",
    "            image, labels = data['image'].to(device), data['label'].to(device)\n",
    "            # y_test.append(label.numpy().list())\n",
    "            # print(label.shape)\n",
    "            # print(images.shape)\n",
    "\n",
    "            output = model(image)\n",
    "            \n",
    "            test_results.extend(output)\n",
    "            \n",
    "    return model, test_results"
   ]
  },
  {
   "cell_type": "code",
   "execution_count": 28,
   "id": "df55f2b6-601c-4166-8f3b-f2a26076a912",
   "metadata": {},
   "outputs": [
    {
     "name": "stdout",
     "output_type": "stream",
     "text": [
      "32\n"
     ]
    }
   ],
   "source": [
    "train_size = int(train_ratio * len(full_dataset))\n",
    "test_size = len(full_dataset) - train_size\n",
    "\n",
    "# batchsize can cause error when last leftover batchsize is 1, batchnorm cannot function on 1 sample data\n",
    "batchsize = 32\n",
    "while(train_size % batchsize == 1):\n",
    "    batchsize+=1\n",
    "print(batchsize)\n",
    "\n",
    "# train_data, test_data = torch.utils.data.random_split(full_dataset, [train_size, test_size], generator=torch.Generator().manual_seed(42))\n",
    "train_data, test_data = torch.utils.data.random_split(full_dataset, [train_size, test_size])\n",
    "\n",
    "trainloader = DataLoader(train_data, batch_size=batchsize, shuffle=True)\n",
    "testloader = DataLoader(test_data, batch_size=batchsize, shuffle=True)"
   ]
  },
  {
   "cell_type": "code",
   "execution_count": 31,
   "id": "0f2877da-8b22-4a49-800c-1831f1fb7af0",
   "metadata": {},
   "outputs": [
    {
     "name": "stdout",
     "output_type": "stream",
     "text": [
      "epoch  1: running loss: 1.18950, validation loss: 3.40677\n",
      "epoch  2: running loss: 0.94145, validation loss: 1.32185\n",
      "epoch  3: running loss: 0.85278, validation loss: 1.12326\n",
      "epoch  4: running loss: 0.69436, validation loss: 1.32288\n",
      "epoch  5: running loss: 0.51121, validation loss: 1.89629\n",
      "epoch  6: running loss: 0.61260, validation loss: 1.59809\n",
      "epoch  7: running loss: 0.63140, validation loss: 1.58899\n",
      "epoch  8: running loss: 0.41027, validation loss: 1.84000\n",
      "epoch  9: running loss: 0.29934, validation loss: 2.45903\n",
      "epoch 10: running loss: 0.41075, validation loss: 1.96450\n",
      "epoch 11: running loss: 0.34994, validation loss: 2.06587\n",
      "epoch 12: running loss: 0.22973, validation loss: 2.11353\n",
      "epoch 13: running loss: 0.24153, validation loss: 2.42597\n",
      "epoch 14: running loss: 0.18854, validation loss: 2.28749\n",
      "epoch 15: running loss: 0.17084, validation loss: 2.56795\n",
      "epoch 16: running loss: 0.18049, validation loss: 2.67324\n",
      "epoch 17: running loss: 0.15464, validation loss: 2.59401\n",
      "epoch 18: running loss: 0.11616, validation loss: 2.86487\n",
      "epoch 19: running loss: 0.10539, validation loss: 2.74590\n",
      "epoch 20: running loss: 0.11462, validation loss: 2.93653\n",
      "epoch 21: running loss: 0.13391, validation loss: 2.89833\n",
      "epoch 22: running loss: 0.13159, validation loss: 3.03170\n",
      "epoch 23: running loss: 0.14795, validation loss: 2.67259\n",
      "epoch 24: running loss: 0.19413, validation loss: 2.49860\n",
      "epoch 25: running loss: 0.16003, validation loss: 2.57455\n",
      "epoch 26: running loss: 0.14206, validation loss: 2.44019\n",
      "epoch 27: running loss: 0.07945, validation loss: 2.72495\n",
      "epoch 28: running loss: 0.05036, validation loss: 3.06205\n",
      "epoch 29: running loss: 0.03725, validation loss: 3.26913\n",
      "epoch 30: running loss: 0.02931, validation loss: 3.16348\n",
      "epoch 31: running loss: 0.02467, validation loss: 3.13167\n",
      "epoch 32: running loss: 0.02814, validation loss: 3.17262\n",
      "epoch 33: running loss: 0.01881, validation loss: 3.34588\n",
      "epoch 34: running loss: 0.01564, validation loss: 3.39898\n",
      "epoch 35: running loss: 0.01431, validation loss: 3.45142\n",
      "epoch 36: running loss: 0.01188, validation loss: 3.69452\n",
      "epoch 37: running loss: 0.00867, validation loss: 3.72941\n",
      "epoch 38: running loss: 0.01239, validation loss: 3.87724\n",
      "epoch 39: running loss: 0.02389, validation loss: 4.06448\n",
      "epoch 40: running loss: 0.01461, validation loss: 3.86376\n",
      "epoch 41: running loss: 0.01467, validation loss: 3.68822\n",
      "epoch 42: running loss: 0.02334, validation loss: 3.59899\n",
      "epoch 43: running loss: 0.01700, validation loss: 3.80769\n",
      "epoch 44: running loss: 0.01739, validation loss: 3.41609\n",
      "epoch 45: running loss: 0.01301, validation loss: 3.72509\n",
      "epoch 46: running loss: 0.01400, validation loss: 3.73746\n",
      "epoch 47: running loss: 0.01111, validation loss: 3.69125\n",
      "epoch 48: running loss: 0.01904, validation loss: 3.67974\n",
      "epoch 49: running loss: 0.00909, validation loss: 3.88731\n",
      "epoch 50: running loss: 0.01222, validation loss: 3.54682\n",
      "Finished Training\n",
      "epoch 26 model selected\n",
      "iteration 1 elapsed time: 98.40011239051819\n"
     ]
    }
   ],
   "source": [
    "start = time.time()\n",
    "\n",
    "epoch_loss = train(trainloader,testloader, print_epochs = True)\n",
    "\n",
    "model, test_results= test(epoch_loss, print_model_epoch = True)\n",
    "\n",
    "end = time.time()\n",
    "\n",
    "# print(test_results)\n",
    "print('iteration {} elapsed time: {}'.format(it+1, end-start))"
   ]
  },
  {
   "cell_type": "code",
   "execution_count": 32,
   "id": "b5c5423a-f1b2-458c-8bf8-bd5a928278da",
   "metadata": {},
   "outputs": [],
   "source": [
    "trainloader = DataLoader(train_data, batch_size=len(train_data), shuffle=True)\n",
    "testloader = DataLoader(test_data, batch_size=len(test_data), shuffle=True)"
   ]
  },
  {
   "cell_type": "code",
   "execution_count": 33,
   "id": "2bcde2fd-1d0b-4907-9408-a696036243e4",
   "metadata": {},
   "outputs": [
    {
     "name": "stdout",
     "output_type": "stream",
     "text": [
      "torch.Size([112, 28, 64, 64])\n"
     ]
    }
   ],
   "source": [
    "batch = next(iter(testloader))\n",
    "print(batch['image'].shape)\n",
    "test_images = batch['image'].to(device)"
   ]
  },
  {
   "cell_type": "code",
   "execution_count": 34,
   "id": "2197ed92-82d6-497d-af2e-0dd48c9f1a01",
   "metadata": {},
   "outputs": [
    {
     "name": "stdout",
     "output_type": "stream",
     "text": [
      "torch.Size([448, 28, 64, 64])\n"
     ]
    }
   ],
   "source": [
    "batch = next(iter(trainloader))\n",
    "print(batch['image'].shape)\n",
    "train_images = batch['image'].to(device)"
   ]
  },
  {
   "cell_type": "code",
   "execution_count": 35,
   "id": "3307b65b-a0e1-4b77-8c85-dc423b335e0b",
   "metadata": {},
   "outputs": [],
   "source": [
    "import shap"
   ]
  },
  {
   "cell_type": "code",
   "execution_count": 36,
   "id": "b71b845a-92c0-4300-be20-c5f3144c40a0",
   "metadata": {},
   "outputs": [],
   "source": [
    "explainer_gen = shap.DeepExplainer(model, train_images)\n"
   ]
  },
  {
   "cell_type": "code",
   "execution_count": 37,
   "id": "84aff417-1bc0-411f-bc18-63a12890204c",
   "metadata": {},
   "outputs": [],
   "source": [
    "shap_values = explainer_gen.shap_values(test_images)\n"
   ]
  },
  {
   "cell_type": "code",
   "execution_count": 39,
   "id": "888b578a-d70f-4217-868d-82336777ae02",
   "metadata": {},
   "outputs": [
    {
     "data": {
      "text/plain": [
       "(3, 112, 28, 64, 64)"
      ]
     },
     "execution_count": 39,
     "metadata": {},
     "output_type": "execute_result"
    }
   ],
   "source": [
    "shap_values = np.array(shap_values)\n",
    "shap_values.shape"
   ]
  },
  {
   "cell_type": "code",
   "execution_count": 40,
   "id": "90859021-c42f-4149-bdf4-b2dd30333089",
   "metadata": {},
   "outputs": [],
   "source": [
    "np.save('shap_values_noseed.npy', shap_values)"
   ]
  },
  {
   "cell_type": "code",
   "execution_count": 74,
   "id": "83b848e5-b5ae-43b9-9cdc-bacc4540ff99",
   "metadata": {},
   "outputs": [],
   "source": [
    "shap_chips = np.sum(np.sum(abs(shap_values), -1), -1)\n",
    "shap_samples = np.mean(shap_pixels, 1)\n",
    "shap_channel = np.mean(shap_samples, 0) # averaged over classes"
   ]
  },
  {
   "cell_type": "code",
   "execution_count": 75,
   "id": "9c0ea5f6-c4e0-44e6-8791-c802b9c87eec",
   "metadata": {},
   "outputs": [],
   "source": [
    "import matplotlib.pyplot as plt"
   ]
  },
  {
   "cell_type": "code",
   "execution_count": 76,
   "id": "01f40859-4c93-4145-b8af-281ca91514b2",
   "metadata": {},
   "outputs": [],
   "source": [
    "temp_list = [None] * len(shap_chips) "
   ]
  },
  {
   "cell_type": "code",
   "execution_count": 77,
   "id": "9ac5be2a-3821-47c0-b237-a52642b36392",
   "metadata": {},
   "outputs": [],
   "source": [
    "for i in range(len(shap_chips)):\n",
    "    temp_list[i] = shap_chips[i]"
   ]
  },
  {
   "cell_type": "code",
   "execution_count": null,
   "id": "9f5f63b9-7f67-4b70-a06c-06a321fbe138",
   "metadata": {},
   "outputs": [],
   "source": [
    "plt.barh(range(len(shap_channel)), np.sort(shap_channel))"
   ]
  },
  {
   "cell_type": "markdown",
   "id": "59c4a18a-c478-4924-89ab-515dfd29e280",
   "metadata": {},
   "source": [
    "# Feature names"
   ]
  },
  {
   "cell_type": "code",
   "execution_count": 78,
   "id": "72bb1b06-da3a-43c1-9d1d-ef4526ad36e8",
   "metadata": {},
   "outputs": [],
   "source": [
    "data_root = r\"C:\\Users\\mouju\\Desktop\\film\\geomorph_data_epsg3413_10m\"\n",
    "n_channels = len(os.listdir(data_root))\n",
    "\n",
    "file_list = os.listdir(data_root)"
   ]
  },
  {
   "cell_type": "code",
   "execution_count": 80,
   "id": "2f3d5afa-0acd-466f-9183-371eb935a2c5",
   "metadata": {},
   "outputs": [],
   "source": [
    "channel_names_list = []\n",
    "for i, file in enumerate(file_list):\n",
    "    name = file.split('_')[0]\n",
    "    channel_names_list.append(name)"
   ]
  },
  {
   "cell_type": "code",
   "execution_count": 81,
   "id": "13a71ad1-765a-4e9c-a8ea-e3f9a284d1f0",
   "metadata": {},
   "outputs": [],
   "source": [
    "channel_names_list.extend(['dem', 'insolation','twi'])"
   ]
  },
  {
   "cell_type": "code",
   "execution_count": 85,
   "id": "0a257326-f122-44a0-9ffe-2237c7e6c20b",
   "metadata": {},
   "outputs": [
    {
     "data": {
      "text/plain": [
       "3"
      ]
     },
     "execution_count": 85,
     "metadata": {},
     "output_type": "execute_result"
    }
   ],
   "source": [
    "len(temp_list)"
   ]
  },
  {
   "cell_type": "code",
   "execution_count": 86,
   "id": "7a40276f-0521-4c06-a6e3-4be7ba5b7c50",
   "metadata": {},
   "outputs": [
    {
     "data": {
      "text/plain": [
       "(112, 28)"
      ]
     },
     "execution_count": 86,
     "metadata": {},
     "output_type": "execute_result"
    }
   ],
   "source": [
    "temp_list[0].shape"
   ]
  },
  {
   "cell_type": "code",
   "execution_count": 112,
   "id": "bb73a93f-4293-44c1-8e92-e66f004541a9",
   "metadata": {
    "scrolled": true
   },
   "outputs": [
    {
     "data": {
      "image/png": "[encoded data removed]",
      "text/plain": [
       "<Figure size 576x684 with 1 Axes>"
      ]
     },
     "metadata": {
      "needs_background": "light"
     },
     "output_type": "display_data"
    }
   ],
   "source": [
    "f = plt.gcf()\n",
    "fig.subplots_adjust(left=1)\n",
    "shap.summary_plot(temp_list, plot_type=\"bar\", feature_names = channel_names_list, show=True)"
   ]
  },
  {
   "cell_type": "code",
   "execution_count": 115,
   "id": "ec290bbc-62e2-432a-a96f-cd7ee8ae6dad",
   "metadata": {},
   "outputs": [],
   "source": [
    "f.subplots_adjust(left=0.5)\n",
    "f.savefig('shap_geo90_arctic.png')"
   ]
  },
  {
   "cell_type": "code",
   "execution_count": 87,
   "id": "058d2273-0a60-4da7-bb9e-85f65a616d07",
   "metadata": {},
   "outputs": [
    {
     "data": {
      "text/plain": [
       "28"
      ]
     },
     "execution_count": 87,
     "metadata": {},
     "output_type": "execute_result"
    }
   ],
   "source": [
    "len(channel_names_list)"
   ]
  },
  {
   "cell_type": "code",
   "execution_count": null,
   "id": "60a70520-5e2a-4b54-8e3c-ccaeca338698",
   "metadata": {},
   "outputs": [],
   "source": []
  }
 ],
 "metadata": {
  "kernelspec": {
   "display_name": "Python 3",
   "language": "python",
   "name": "python3"
  },
  "language_info": {
   "codemirror_mode": {
    "name": "ipython",
    "version": 3
   },
   "file_extension": ".py",
   "mimetype": "text/x-python",
   "name": "python",
   "nbconvert_exporter": "python",
   "pygments_lexer": "ipython3",
   "version": "3.8.8"
  }
 },
 "nbformat": 4,
 "nbformat_minor": 5
}
