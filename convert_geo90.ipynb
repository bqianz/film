{
 "cells": [
  {
   "cell_type": "code",
   "execution_count": 6,
   "id": "1a9fb507-f722-48b0-8988-fc5119acb283",
   "metadata": {},
   "outputs": [],
   "source": [
    "from osgeo import gdal, osr, ogr\n",
    "import os"
   ]
  },
  {
   "cell_type": "code",
   "execution_count": 18,
   "id": "b95136a7-64b2-490f-9ba6-23862dfc5145",
   "metadata": {},
   "outputs": [],
   "source": [
    "epsg_from=4326\n",
    "epsg_to=3413\n",
    "\n",
    "osng = osr.SpatialReference ()\n",
    "osng.ImportFromEPSG ( epsg_to )\n",
    "wgs84 = osr.SpatialReference ()\n",
    "wgs84.ImportFromEPSG ( epsg_from )\n",
    "tx = osr.CoordinateTransformation ( wgs84, osng )\n",
    "    "
   ]
  },
  {
   "cell_type": "code",
   "execution_count": 24,
   "id": "b2a3cf2a-9ae8-4e47-8f4a-baf6179e5636",
   "metadata": {},
   "outputs": [
    {
     "data": {
      "text/plain": [
       "(-2187927.649279021, -1.3397192962277733e-10, 0.0)"
      ]
     },
     "execution_count": 24,
     "metadata": {},
     "output_type": "execute_result"
    }
   ],
   "source": [
    "tx.TransformPoint(70, -135)"
   ]
  },
  {
   "cell_type": "code",
   "execution_count": 42,
   "id": "8c1a2052-991f-46d2-a3d8-93ed4bc363be",
   "metadata": {},
   "outputs": [],
   "source": [
    "def reproject_dataset ( dataset, \\\n",
    "            pixel_spacing=10., epsg_from=4326, epsg_to=3413 ):\n",
    "    \"\"\"\n",
    "    A sample function to reproject and resample a GDAL dataset from within \n",
    "    Python. The idea here is to reproject from one system to another, as well\n",
    "    as to change the pixel size. The procedure is slightly long-winded, but\n",
    "    goes like this:\n",
    "    \n",
    "    1. Set up the two Spatial Reference systems.\n",
    "    2. Open the original dataset, and get the geotransform\n",
    "    3. Calculate bounds of new geotransform by projecting the UL corners \n",
    "    4. Calculate the number of pixels with the new projection & spacing\n",
    "    5. Create an in-memory raster dataset\n",
    "    6. Perform the projection\n",
    "    \"\"\"\n",
    "    # Define the UK OSNG, see <http://spatialreference.org/ref/epsg/27700/>\n",
    "    osng = osr.SpatialReference ()\n",
    "    osng.ImportFromEPSG ( epsg_to )\n",
    "    wgs84 = osr.SpatialReference ()\n",
    "    wgs84.ImportFromEPSG ( epsg_from )\n",
    "    tx = osr.CoordinateTransformation ( wgs84, osng )\n",
    "    \n",
    "    # Up to here, all  the projection have been defined, as well as a \n",
    "    # transformation from the from to the  to :)\n",
    "    # We now open the dataset\n",
    "    g = gdal.Open ( dataset )\n",
    "    # Get the Geotransform vector\n",
    "    geo_t = g.GetGeoTransform ()\n",
    "    print(geo_t)\n",
    "    x_size = g.RasterXSize # Raster xsize\n",
    "    y_size = g.RasterYSize # Raster ysize\n",
    "    print(x_size)\n",
    "    print(y_size)\n",
    "    # Work out the boundaries of the new dataset in the target projection\n",
    "    (ulx, uly, ulz ) = tx.TransformPoint(geo_t[3], geo_t[0])\n",
    "    \n",
    "    (lrx, lry, lrz ) = tx.TransformPoint( geo_t[3] + geo_t[5]*y_size, \\\n",
    "                                         geo_t[0] + geo_t[1]*x_size)\n",
    "    \n",
    "    print(ulx, uly, ulz, lrx, lry, lrz)\n",
    "    # See how using 27700 and WGS84 introduces a z-value!\n",
    "    # Now, we create an in-memory raster\n",
    "    mem_drv = gdal.GetDriverByName( 'MEM' )\n",
    "    # The size of the raster is given the new projection and pixel spacing\n",
    "    # Using the values we calculated above. Also, setting it to store one band\n",
    "    # and to use Float32 data type.\n",
    "    dest = mem_drv.Create('dest', int((lrx - ulx)/pixel_spacing), \\\n",
    "            int((uly - lry)/pixel_spacing), 1, gdal.GDT_Float32)\n",
    "    \n",
    "    print(type(mem_drv))\n",
    "    # Calculate the new geotransform\n",
    "    new_geo = ( ulx, pixel_spacing, geo_t[2], \\\n",
    "                uly, geo_t[4], -pixel_spacing )\n",
    "    # Set the geotransform\n",
    "#     dest.SetProjection ( osng.ExportToWkt() )\n",
    "#     dest.SetGeoTransform( new_geo )\n",
    "    # Perform the projection/resampling \n",
    "    res = gdal.ReprojectImage( g, dest, \\\n",
    "                wgs84.ExportToWkt(), osng.ExportToWkt(), \\\n",
    "                gdal.GRA_Bilinear )\n",
    "    return dest"
   ]
  },
  {
   "cell_type": "code",
   "execution_count": 41,
   "id": "a62a64a2-f858-4236-bdb9-da63b2317fae",
   "metadata": {},
   "outputs": [
    {
     "name": "stdout",
     "output_type": "stream",
     "text": [
      "Help on function ReprojectImage in module osgeo.gdal:\n",
      "\n",
      "ReprojectImage(*args, **kwargs)\n",
      "    ReprojectImage(Dataset src_ds, Dataset dst_ds, char const * src_wkt=None, char const * dst_wkt=None, GDALResampleAlg eResampleAlg=GRA_NearestNeighbour, double WarpMemoryLimit=0.0, double maxerror=0.0, GDALProgressFunc callback=0, void * callback_data=None, char ** options=None) -> CPLErr\n",
      "\n"
     ]
    }
   ],
   "source": [
    "help(gdal.ReprojectImage)"
   ]
  },
  {
   "cell_type": "code",
   "execution_count": 43,
   "id": "8226c465-9f9f-4bc7-b730-316122eac023",
   "metadata": {},
   "outputs": [
    {
     "name": "stdout",
     "output_type": "stream",
     "text": [
      "C:\\Users\\mouju\\Desktop\\film\\geomorph_data\\aspect-cosine_90M_n65w135.tif\n",
      "(-135.0, 0.0008333333333333334, 0.0, 70.0, 0.0, -0.0008333333333333334)\n",
      "6000\n",
      "6000\n",
      "-2187927.649279021 -1.3397192962277733e-10 0.0 -2739782.147388793 -239699.87842723154 0.0\n",
      "<class 'osgeo.gdal.Driver'>\n"
     ]
    },
    {
     "ename": "ValueError",
     "evalue": "Received a NULL pointer.",
     "output_type": "error",
     "traceback": [
      "\u001b[1;31m---------------------------------------------------------------------------\u001b[0m",
      "\u001b[1;31mValueError\u001b[0m                                Traceback (most recent call last)",
      "\u001b[1;32m<ipython-input-43-2cb919934c42>\u001b[0m in \u001b[0;36m<module>\u001b[1;34m\u001b[0m\n\u001b[0;32m     12\u001b[0m         \u001b[0mprint\u001b[0m\u001b[1;33m(\u001b[0m\u001b[0msource\u001b[0m\u001b[1;33m)\u001b[0m\u001b[1;33m\u001b[0m\u001b[1;33m\u001b[0m\u001b[0m\n\u001b[0;32m     13\u001b[0m         \u001b[1;31m# Now, reproject and resample the NDVI dataset\u001b[0m\u001b[1;33m\u001b[0m\u001b[1;33m\u001b[0m\u001b[1;33m\u001b[0m\u001b[0m\n\u001b[1;32m---> 14\u001b[1;33m         \u001b[0mreprojected_dataset\u001b[0m \u001b[1;33m=\u001b[0m \u001b[0mreproject_dataset\u001b[0m \u001b[1;33m(\u001b[0m\u001b[0msource\u001b[0m\u001b[1;33m)\u001b[0m\u001b[1;33m\u001b[0m\u001b[1;33m\u001b[0m\u001b[0m\n\u001b[0m\u001b[0;32m     15\u001b[0m         \u001b[1;31m# This is a GDAL object. We can read it\u001b[0m\u001b[1;33m\u001b[0m\u001b[1;33m\u001b[0m\u001b[1;33m\u001b[0m\u001b[0m\n\u001b[0;32m     16\u001b[0m         \u001b[0mreprojected_data\u001b[0m \u001b[1;33m=\u001b[0m \u001b[0mreprojected_dataset\u001b[0m\u001b[1;33m.\u001b[0m\u001b[0mReadAsArray\u001b[0m \u001b[1;33m(\u001b[0m\u001b[1;33m)\u001b[0m\u001b[1;33m\u001b[0m\u001b[1;33m\u001b[0m\u001b[0m\n",
      "\u001b[1;32m<ipython-input-42-dcb63a3760a0>\u001b[0m in \u001b[0;36mreproject_dataset\u001b[1;34m(dataset, pixel_spacing, epsg_from, epsg_to)\u001b[0m\n\u001b[0;32m     56\u001b[0m \u001b[1;31m#     dest.SetGeoTransform( new_geo )\u001b[0m\u001b[1;33m\u001b[0m\u001b[1;33m\u001b[0m\u001b[1;33m\u001b[0m\u001b[0m\n\u001b[0;32m     57\u001b[0m     \u001b[1;31m# Perform the projection/resampling\u001b[0m\u001b[1;33m\u001b[0m\u001b[1;33m\u001b[0m\u001b[1;33m\u001b[0m\u001b[0m\n\u001b[1;32m---> 58\u001b[1;33m     res = gdal.ReprojectImage( g, dest, \\\n\u001b[0m\u001b[0;32m     59\u001b[0m                 \u001b[0mwgs84\u001b[0m\u001b[1;33m.\u001b[0m\u001b[0mExportToWkt\u001b[0m\u001b[1;33m(\u001b[0m\u001b[1;33m)\u001b[0m\u001b[1;33m,\u001b[0m \u001b[0mosng\u001b[0m\u001b[1;33m.\u001b[0m\u001b[0mExportToWkt\u001b[0m\u001b[1;33m(\u001b[0m\u001b[1;33m)\u001b[0m\u001b[1;33m,\u001b[0m\u001b[0;31m \u001b[0m\u001b[0;31m\\\u001b[0m\u001b[1;33m\u001b[0m\u001b[1;33m\u001b[0m\u001b[0m\n\u001b[0;32m     60\u001b[0m                 gdal.GRA_Bilinear )\n",
      "\u001b[1;32mc:\\users\\mouju\\appdata\\local\\programs\\python\\python38\\lib\\site-packages\\osgeo\\gdal.py\u001b[0m in \u001b[0;36mReprojectImage\u001b[1;34m(*args, **kwargs)\u001b[0m\n\u001b[0;32m   3912\u001b[0m \u001b[1;32mdef\u001b[0m \u001b[0mReprojectImage\u001b[0m\u001b[1;33m(\u001b[0m\u001b[1;33m*\u001b[0m\u001b[0margs\u001b[0m\u001b[1;33m,\u001b[0m \u001b[1;33m**\u001b[0m\u001b[0mkwargs\u001b[0m\u001b[1;33m)\u001b[0m\u001b[1;33m:\u001b[0m\u001b[1;33m\u001b[0m\u001b[1;33m\u001b[0m\u001b[0m\n\u001b[0;32m   3913\u001b[0m     \u001b[1;34mr\"\"\"ReprojectImage(Dataset src_ds, Dataset dst_ds, char const * src_wkt=None, char const * dst_wkt=None, GDALResampleAlg eResampleAlg=GRA_NearestNeighbour, double WarpMemoryLimit=0.0, double maxerror=0.0, GDALProgressFunc callback=0, void * callback_data=None, char ** options=None) -> CPLErr\"\"\"\u001b[0m\u001b[1;33m\u001b[0m\u001b[1;33m\u001b[0m\u001b[0m\n\u001b[1;32m-> 3914\u001b[1;33m     \u001b[1;32mreturn\u001b[0m \u001b[0m_gdal\u001b[0m\u001b[1;33m.\u001b[0m\u001b[0mReprojectImage\u001b[0m\u001b[1;33m(\u001b[0m\u001b[1;33m*\u001b[0m\u001b[0margs\u001b[0m\u001b[1;33m,\u001b[0m \u001b[1;33m**\u001b[0m\u001b[0mkwargs\u001b[0m\u001b[1;33m)\u001b[0m\u001b[1;33m\u001b[0m\u001b[1;33m\u001b[0m\u001b[0m\n\u001b[0m\u001b[0;32m   3915\u001b[0m \u001b[1;33m\u001b[0m\u001b[0m\n\u001b[0;32m   3916\u001b[0m \u001b[1;32mdef\u001b[0m \u001b[0mComputeProximity\u001b[0m\u001b[1;33m(\u001b[0m\u001b[1;33m*\u001b[0m\u001b[0margs\u001b[0m\u001b[1;33m,\u001b[0m \u001b[1;33m**\u001b[0m\u001b[0mkwargs\u001b[0m\u001b[1;33m)\u001b[0m\u001b[1;33m:\u001b[0m\u001b[1;33m\u001b[0m\u001b[1;33m\u001b[0m\u001b[0m\n",
      "\u001b[1;31mValueError\u001b[0m: Received a NULL pointer."
     ]
    }
   ],
   "source": [
    "if __name__ == \"__main__\":\n",
    "    \n",
    "    source_root = r\"C:\\Users\\mouju\\Desktop\\film\\geomorph_data\"\n",
    "    target_root = r\"C:\\Users\\mouju\\Desktop\\film\\geomorph_data_epsg3413\"\n",
    "    if not os.path.exists(target_root):\n",
    "        os.makedirs(target_root) \n",
    "        \n",
    "    file_list = os.listdir(source_root)\n",
    "    \n",
    "    for file in file_list:\n",
    "        source = os.path.join(source_root, file)\n",
    "        print(source)\n",
    "        # Now, reproject and resample the NDVI dataset\n",
    "        reprojected_dataset = reproject_dataset (source)\n",
    "        # This is a GDAL object. We can read it\n",
    "        reprojected_data = reprojected_dataset.ReadAsArray ()\n",
    "        # Let's save it as a GeoTIFF.\n",
    "        driver = gdal.GetDriverByName ( \"GTiff\" )\n",
    "        \n",
    "        target = os.path.join(target_root, file)\n",
    "        dst_ds = driver.CreateCopy(target, reprojected_dataset, 0 )\n",
    "        dst_ds = None # Flush the dataset to disk\n",
    "    "
   ]
  },
  {
   "cell_type": "code",
   "execution_count": null,
   "id": "181fca01-34d2-48f6-9bf4-0f07f5e24b14",
   "metadata": {},
   "outputs": [],
   "source": []
  }
 ],
 "metadata": {
  "kernelspec": {
   "display_name": "Python 3",
   "language": "python",
   "name": "python3"
  },
  "language_info": {
   "codemirror_mode": {
    "name": "ipython",
    "version": 3
   },
   "file_extension": ".py",
   "mimetype": "text/x-python",
   "name": "python",
   "nbconvert_exporter": "python",
   "pygments_lexer": "ipython3",
   "version": "3.8.8"
  }
 },
 "nbformat": 4,
 "nbformat_minor": 5
}
