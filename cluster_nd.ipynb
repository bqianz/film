{
 "cells": [
  {
   "cell_type": "code",
   "execution_count": 1,
   "id": "8ea3db6a-e70e-4aa8-83ac-1146d622b24d",
   "metadata": {},
   "outputs": [],
   "source": [
    "import pandas as pd\n",
    "import numpy as np\n",
    "import matplotlib.pyplot as plt\n",
    "from dataPreprocess import *"
   ]
  },
  {
   "cell_type": "code",
   "execution_count": 2,
   "id": "221c72a0-fa6d-464e-8598-d9de48cdda01",
   "metadata": {},
   "outputs": [],
   "source": [
    "def sigmoid(z):\n",
    "    return 1.0/(1 + np.exp(-z))\n",
    "\n",
    "def loss(y, y_hat):\n",
    "    loss = -np.mean(y*(np.log(y_hat)) - (1-y)*np.log(1-y_hat))\n",
    "    return loss\n",
    "\n",
    "def gradients(X, y, y_hat):\n",
    "    \n",
    "    # X --> Input.\n",
    "    # y --> true/target value.\n",
    "    # y_hat --> hypothesis/predictions.\n",
    "    # w --> weights (parameter).\n",
    "    # b --> bias (parameter).\n",
    "    \n",
    "    # m-> number of training examples.\n",
    "    m = X.shape[0]\n",
    "    \n",
    "    # Gradient of loss w.r.t weights.\n",
    "    # dw = (1/m)*np.dot(X_temp.T, (y_hat - y))\n",
    "    dw = (1/m)*np.dot(X.T, (y_hat - y))\n",
    "    \n",
    "    # Gradient of loss w.r.t bias.\n",
    "    db = (1/m)*np.sum((y_hat - y)) \n",
    "    \n",
    "    return dw, db\n",
    "    \n",
    "def normalize(X):\n",
    "    \n",
    "    # X --> Input.\n",
    "    \n",
    "    # m-> number of training examples\n",
    "    # n-> number of features \n",
    "    m, n = X.shape\n",
    "    \n",
    "    # Normalizing all the n features of X.\n",
    "    for i in range(n):\n",
    "        X = (X - X.mean(axis=0))/X.std(axis=0)\n",
    "        \n",
    "    return X\n",
    "\n",
    "def train(X, y, bs, epochs, lr):\n",
    "    \n",
    "    # X --> Input.\n",
    "    # y --> true/target value.\n",
    "    # bs --> Batch Size.\n",
    "    # epochs --> Number of iterations.\n",
    "    # lr --> Learning rate.\n",
    "        \n",
    "    # m-> number of training examples\n",
    "    # n-> number of features \n",
    "    m, n = X.shape\n",
    "    \n",
    "    # Initializing weights and bias to zeros.\n",
    "    w = np.zeros((n,1))\n",
    "    b = 0\n",
    "    \n",
    "    # Reshaping y.\n",
    "    y = y.reshape(m,1)\n",
    "    \n",
    "#     # Normalizing the inputs.\n",
    "#     x = normalize(X)\n",
    "    \n",
    "    # Empty list to store losses.\n",
    "    losses = []\n",
    "    \n",
    "    # Training loop.\n",
    "    for epoch in range(epochs):\n",
    "        for i in range((m-1)//bs + 1):\n",
    "            \n",
    "            # Defining batches. SGD.\n",
    "            start_i = i*bs\n",
    "            end_i = start_i + bs\n",
    "            xb = X[start_i:end_i]\n",
    "            yb = y[start_i:end_i]\n",
    "            \n",
    "            # Calculating hypothesis/prediction.\n",
    "            y_hat = sigmoid(np.dot(xb, w) + b)\n",
    "            \n",
    "            # Getting the gradients of loss w.r.t parameters.\n",
    "            dw, db = gradients(xb, yb, y_hat)\n",
    "            \n",
    "            # Updating the parameters.\n",
    "            regularization = np.zeros(w.shape)\n",
    "            # regularization[0] = float(np.sign(w[0]))\n",
    "            regularization[0] = w[0]\n",
    "            regularization[1] = w[1]\n",
    "            # w -= lr*dw                          \n",
    "            w -= lr*(dw + regularization)\n",
    "            b -= lr*db\n",
    "        \n",
    "        # Calculating loss and appending it in the list.\n",
    "        l = loss(y, sigmoid(np.dot(X, w) + b))\n",
    "        losses.append(l)\n",
    "        \n",
    "    # returning weights, bias and losses(List).\n",
    "    return w, b, losses\n",
    "\n",
    "def predict(X):\n",
    "    \n",
    "    # X --> Input.\n",
    "    \n",
    "    # Normalizing the inputs.\n",
    "    x = normalize(X)\n",
    "    \n",
    "    # Calculating presictions/y_hat.\n",
    "    preds = sigmoid(np.dot(X, w) + b)\n",
    "    \n",
    "    # Empty List to store predictions.\n",
    "    pred_class = []    # if y_hat >= 0.5 --> round up to 1\n",
    "    # if y_hat < 0.5 --> round up to 1\n",
    "    pred_class = [1 if i > 0.5 else 0 for i in preds]\n",
    "    \n",
    "    return np.array(pred_class)\n",
    "\n",
    "def accuracy(y, y_hat):\n",
    "    accuracy = np.sum(y == y_hat) / len(y)\n",
    "    return accuracy"
   ]
  },
  {
   "cell_type": "code",
   "execution_count": 3,
   "id": "417f2b16-27f7-42e9-98a7-de3492c44e49",
   "metadata": {},
   "outputs": [
    {
     "name": "stdout",
     "output_type": "stream",
     "text": [
      "Dataframe has length 2837\n",
      "Number of unique boreholes is 566\n",
      "Latitude ranges from 68.36933 to 69.44755\n",
      "Longitude ranges from -133.82843 to -132.89346\n",
      "List of columns normalized: ['latitude_norm', 'longitude_norm', 'depth_norm']\n",
      "visible_ice: 'None' entries have been replaced by 'No visible ice'\n",
      "visible_ice column entries has been ordered:\n",
      "[NaN, 'Pure ice', 'No visible ice', 'High', 'Medium to high', 'Low']\n",
      "Categories (5, object): ['No visible ice' < 'Low' < 'Medium to high' < 'High' < 'Pure ice']\n",
      "with corresponding codes in visible_ice_code column:\n",
      "[-1  4  0  3  2  1]\n",
      "visible_ice: binary column generated\n",
      "materials: 'ICE' and 'ice' entries has been standardized into 'Ice'\n",
      "'material_ice' column generated\n",
      "materials has been categorized into codes in materials_code\n",
      "Null entries of visible_ice dropped\n"
     ]
    }
   ],
   "source": [
    "bh_file_path = 'data_stephen_fix_header.csv'\n",
    "label = 'visible_ice'\n",
    "list_cols = ['latitude', 'longitude','depth']\n",
    "\n",
    "df = pd.read_csv(bh_file_path, header=[0])\n",
    "\n",
    "df, n_classes = prepare_df(df, list_cols, label)                              "
   ]
  },
  {
   "cell_type": "code",
   "execution_count": 4,
   "id": "87911645-e912-453d-8456-a5db43d4f201",
   "metadata": {},
   "outputs": [],
   "source": [
    "df2 = df[['latitude_norm', 'longitude_norm', 'depth_norm']]"
   ]
  },
  {
   "cell_type": "code",
   "execution_count": 5,
   "id": "eaad1b4b-9216-43d7-b2ff-1ee0f0058955",
   "metadata": {},
   "outputs": [],
   "source": [
    "X = df2.to_numpy()\n",
    "y = df[['visible_ice_binary']].to_numpy(dtype='float').reshape(len(df))"
   ]
  },
  {
   "cell_type": "code",
   "execution_count": 6,
   "id": "becded88-9cbf-4032-9643-7c86e54e8586",
   "metadata": {},
   "outputs": [
    {
     "data": {
      "text/plain": [
       "array([[ 1.43994578,  1.85145514, -0.83590049],\n",
       "       [ 1.43994578,  1.85145514, -0.55346609],\n",
       "       [ 1.43994578,  1.85145514,  0.38798192],\n",
       "       ...,\n",
       "       [-1.49448906, -0.92767219, -1.05108861],\n",
       "       [-1.49448906, -0.92767219, -0.97039306],\n",
       "       [-1.49448906, -0.92767219,  0.24004009]])"
      ]
     },
     "execution_count": 6,
     "metadata": {},
     "output_type": "execute_result"
    }
   ],
   "source": [
    "X"
   ]
  },
  {
   "cell_type": "code",
   "execution_count": 7,
   "id": "ec26ee13-71f4-4ec7-99a5-c70a4d81670c",
   "metadata": {},
   "outputs": [
    {
     "data": {
      "text/plain": [
       "array([1., 0., 0., ..., 0., 0., 0.])"
      ]
     },
     "execution_count": 7,
     "metadata": {},
     "output_type": "execute_result"
    }
   ],
   "source": [
    "y"
   ]
  },
  {
   "cell_type": "code",
   "execution_count": 8,
   "id": "301c1f51-dbbf-4321-a578-0b3c8795a2cd",
   "metadata": {},
   "outputs": [
    {
     "data": {
      "text/plain": [
       "0.6526162790697675"
      ]
     },
     "execution_count": 8,
     "metadata": {},
     "output_type": "execute_result"
    }
   ],
   "source": [
    "# Training \n",
    "w, b, l = train(X, y, bs=100, epochs=1000, lr=0.01)# Plotting Decision Boundary\n",
    "# plot_decision_boundary(X, w, b)\n",
    "accuracy(y, predict(X))"
   ]
  },
  {
   "cell_type": "code",
   "execution_count": 9,
   "id": "f0057ebf-a439-4c54-b430-6ac1892f33da",
   "metadata": {},
   "outputs": [
    {
     "data": {
      "text/plain": [
       "[<matplotlib.lines.Line2D at 0x1646cae79d0>]"
      ]
     },
     "execution_count": 9,
     "metadata": {},
     "output_type": "execute_result"
    },
    {
     "data": {
      "image/png": "[encoded data removed]",
      "text/plain": [
       "<Figure size 432x288 with 1 Axes>"
      ]
     },
     "metadata": {
      "needs_background": "light"
     },
     "output_type": "display_data"
    }
   ],
   "source": [
    "plt.plot(range(len(l)), l)"
   ]
  },
  {
   "cell_type": "code",
   "execution_count": 10,
   "id": "35999a98-274e-4506-bc99-621fc0b095bd",
   "metadata": {},
   "outputs": [],
   "source": [
    "long_max = df.longitude_norm.max()\n",
    "long_min = df.longitude_norm.min()\n",
    "long_range = np.linspace(long_min, long_max, 10)\n",
    "\n",
    "lat_max = df.latitude_norm.max()\n",
    "lat_min = df.latitude_norm.min()\n",
    "lat_range = np.linspace(lat_min, lat_max, 10)"
   ]
  },
  {
   "cell_type": "code",
   "execution_count": 11,
   "id": "0fb35b04-e387-4114-ae2b-ba2acf3b08f6",
   "metadata": {},
   "outputs": [],
   "source": [
    "xx, yy = np.meshgrid(long_range, lat_range)"
   ]
  },
  {
   "cell_type": "code",
   "execution_count": 12,
   "id": "73c2bc4d-b5d0-48d2-863d-63fe31ff0c8b",
   "metadata": {},
   "outputs": [],
   "source": [
    "z = -b/w[2] - w[0]/w[2] * yy - w[1]/w[2] * xx"
   ]
  },
  {
   "cell_type": "code",
   "execution_count": 16,
   "id": "f6cc8773-61e8-4d22-97bf-232f0419d059",
   "metadata": {},
   "outputs": [
    {
     "data": {
      "text/plain": [
       "array([-1.77035232])"
      ]
     },
     "execution_count": 16,
     "metadata": {},
     "output_type": "execute_result"
    }
   ],
   "source": [
    "-b/w[2]"
   ]
  },
  {
   "cell_type": "code",
   "execution_count": 18,
   "id": "fa857216-4296-4f5f-98ca-2238b9d4f111",
   "metadata": {},
   "outputs": [
    {
     "data": {
      "text/plain": [
       "array([-0.07057003])"
      ]
     },
     "execution_count": 18,
     "metadata": {},
     "output_type": "execute_result"
    }
   ],
   "source": [
    "-w[0]/w[2]"
   ]
  },
  {
   "cell_type": "code",
   "execution_count": 19,
   "id": "f4fb195f-ca37-4bba-bdca-a2d19fa646e9",
   "metadata": {},
   "outputs": [
    {
     "data": {
      "text/plain": [
       "<mpl_toolkits.mplot3d.art3d.Poly3DCollection at 0x1646d030ac0>"
      ]
     },
     "execution_count": 19,
     "metadata": {},
     "output_type": "execute_result"
    },
    {
     "data": {
      "image/png": "[encoded data removed]",
      "text/plain": [
       "<Figure size 640x480 with 1 Axes>"
      ]
     },
     "metadata": {},
     "output_type": "display_data"
    }
   ],
   "source": [
    "%matplotlib widget\n",
    "# Create the figure\n",
    "fig = plt.figure()\n",
    "\n",
    "# Add an axes\n",
    "ax = fig.add_subplot(111,projection='3d')\n",
    "\n",
    "# plot the surface\n",
    "ax.plot_surface(xx, yy, z, alpha=0.2)\n",
    "\n",
    "# and plot the point \n",
    "# ax.scatter(df.longitude_norm , df.latitude_norm , df.depth_norm)"
   ]
  },
  {
   "cell_type": "code",
   "execution_count": 14,
   "id": "e0d42447-5236-4f5c-b1fa-1ab350b8dd08",
   "metadata": {},
   "outputs": [],
   "source": [
    "import pickle\n",
    "pickle.dump(fig, open('DecisionBoundary.fig.pickle', 'wb'))"
   ]
  },
  {
   "cell_type": "code",
   "execution_count": null,
   "id": "753a3bd8-0113-42a8-a546-36975c019942",
   "metadata": {},
   "outputs": [],
   "source": []
  }
 ],
 "metadata": {
  "kernelspec": {
   "display_name": "Python 3",
   "language": "python",
   "name": "python3"
  },
  "language_info": {
   "codemirror_mode": {
    "name": "ipython",
    "version": 3
   },
   "file_extension": ".py",
   "mimetype": "text/x-python",
   "name": "python",
   "nbconvert_exporter": "python",
   "pygments_lexer": "ipython3",
   "version": "3.8.8"
  }
 },
 "nbformat": 4,
 "nbformat_minor": 5
}
