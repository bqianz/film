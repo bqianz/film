{
 "cells": [
  {
   "cell_type": "code",
   "execution_count": 1,
   "id": "7706759e-71a3-436b-b845-868797d043a6",
   "metadata": {},
   "outputs": [],
   "source": [
    "import torch\n",
    "import torch.nn as nn\n",
    "from torch.utils.data import Dataset\n",
    "from torch.utils.data import DataLoader\n",
    "from torchvision import transforms\n",
    "from torchvision.transforms import ToTensor\n",
    "from PIL import Image\n",
    "import os\n",
    "import numpy as np\n",
    "import pandas as pd\n",
    "from matplotlib import pyplot as plt\n",
    "import seaborn as sb\n",
    "\n",
    "from functools import partial\n",
    "from collections import OrderedDict\n",
    "\n",
    "from sklearn.metrics import classification_report, confusion_matrix, accuracy_score"
   ]
  },
  {
   "cell_type": "code",
   "execution_count": 2,
   "id": "0804eb44-1d2c-4af5-8413-876ac59b708c",
   "metadata": {},
   "outputs": [],
   "source": [
    "class mlp(nn.Module):\n",
    "        def __init__(self, input_size, output_size):\n",
    "            super(mlp, self).__init__()\n",
    "            self.input_size = input_size\n",
    "            self.output_size = output_size\n",
    "            \n",
    "            self.hidden_size = 50\n",
    "            self.fc1 = torch.nn.Linear(self.input_size, self.hidden_size)\n",
    "            self.fc2 = torch.nn.Linear(self.hidden_size,self.hidden_size)\n",
    "            self.fc3 = torch.nn.Linear(self.hidden_size, self.output_size)\n",
    "            \n",
    "            self.relu = torch.nn.ReLU()\n",
    "            self.sigmoid = torch.nn.Sigmoid() ## sigmoid for multi-label, softmax for multi-class (mutually exclusive)\n",
    "            \n",
    "        def forward(self, x):\n",
    "            out = self.fc1(x)\n",
    "            out = self.relu(out)\n",
    "            \n",
    "            out = self.fc2(out)\n",
    "            out = self.relu(out)\n",
    "            \n",
    "            out = self.fc2(out)\n",
    "            out = self.relu(out)\n",
    "            \n",
    "            out = self.fc2(out)\n",
    "            out = self.relu(out)\n",
    "            \n",
    "            out = self.fc2(out)\n",
    "            out = self.relu(out)\n",
    "            \n",
    "            out = self.fc2(out)\n",
    "            out = self.relu(out)\n",
    "            \n",
    "            out = self.fc3(out)\n",
    "            out = self.sigmoid(out)\n",
    "            return out"
   ]
  },
  {
   "cell_type": "code",
   "execution_count": 3,
   "id": "23e59888-3add-4b4d-95c7-c9924aa73b33",
   "metadata": {},
   "outputs": [
    {
     "name": "stdout",
     "output_type": "stream",
     "text": [
      "2837\n",
      "566\n"
     ]
    },
    {
     "data": {
      "text/html": [
       "<div>\n",
       "<style scoped>\n",
       "    .dataframe tbody tr th:only-of-type {\n",
       "        vertical-align: middle;\n",
       "    }\n",
       "\n",
       "    .dataframe tbody tr th {\n",
       "        vertical-align: top;\n",
       "    }\n",
       "\n",
       "    .dataframe thead th {\n",
       "        text-align: right;\n",
       "    }\n",
       "</style>\n",
       "<table border=\"1\" class=\"dataframe\">\n",
       "  <thead>\n",
       "    <tr style=\"text-align: right;\">\n",
       "      <th></th>\n",
       "      <th>latitude</th>\n",
       "      <th>longitude</th>\n",
       "      <th>time</th>\n",
       "      <th>borehole</th>\n",
       "      <th>depth</th>\n",
       "      <th>frozen</th>\n",
       "      <th>cryostructures</th>\n",
       "      <th>visible_ice</th>\n",
       "      <th>ASTM_2488</th>\n",
       "      <th>materials</th>\n",
       "      <th>organic_cover</th>\n",
       "      <th>top_of_interval</th>\n",
       "      <th>bottom_of_interval</th>\n",
       "      <th>month</th>\n",
       "      <th>year</th>\n",
       "      <th>month_cyclic</th>\n",
       "    </tr>\n",
       "  </thead>\n",
       "  <tbody>\n",
       "    <tr>\n",
       "      <th>0</th>\n",
       "      <td>69.16162</td>\n",
       "      <td>-133.08682</td>\n",
       "      <td>2012-03-21T00:00:00Z</td>\n",
       "      <td>0170-1-10</td>\n",
       "      <td>0.15</td>\n",
       "      <td>0</td>\n",
       "      <td>NaN</td>\n",
       "      <td>NaN</td>\n",
       "      <td>TOPSOIL</td>\n",
       "      <td>Organics</td>\n",
       "      <td>0.3</td>\n",
       "      <td>0.0</td>\n",
       "      <td>0.3</td>\n",
       "      <td>3</td>\n",
       "      <td>2012</td>\n",
       "      <td>3</td>\n",
       "    </tr>\n",
       "    <tr>\n",
       "      <th>1</th>\n",
       "      <td>69.16162</td>\n",
       "      <td>-133.08682</td>\n",
       "      <td>2012-03-21T00:00:00Z</td>\n",
       "      <td>0170-1-10</td>\n",
       "      <td>0.85</td>\n",
       "      <td>1</td>\n",
       "      <td>NaN</td>\n",
       "      <td>Pure ice</td>\n",
       "      <td>ICE</td>\n",
       "      <td>Ice</td>\n",
       "      <td>0.3</td>\n",
       "      <td>0.3</td>\n",
       "      <td>1.4</td>\n",
       "      <td>3</td>\n",
       "      <td>2012</td>\n",
       "      <td>3</td>\n",
       "    </tr>\n",
       "    <tr>\n",
       "      <th>2</th>\n",
       "      <td>69.16162</td>\n",
       "      <td>-133.08682</td>\n",
       "      <td>2012-03-21T00:00:00Z</td>\n",
       "      <td>0170-1-10</td>\n",
       "      <td>1.90</td>\n",
       "      <td>1</td>\n",
       "      <td>Nf</td>\n",
       "      <td>No visible ice</td>\n",
       "      <td>SW-SM</td>\n",
       "      <td>Coarse till</td>\n",
       "      <td>0.3</td>\n",
       "      <td>1.4</td>\n",
       "      <td>2.4</td>\n",
       "      <td>3</td>\n",
       "      <td>2012</td>\n",
       "      <td>3</td>\n",
       "    </tr>\n",
       "    <tr>\n",
       "      <th>3</th>\n",
       "      <td>69.16162</td>\n",
       "      <td>-133.08682</td>\n",
       "      <td>2012-03-21T00:00:00Z</td>\n",
       "      <td>0170-1-10</td>\n",
       "      <td>5.40</td>\n",
       "      <td>1</td>\n",
       "      <td>Nf</td>\n",
       "      <td>No visible ice</td>\n",
       "      <td>GW-GM</td>\n",
       "      <td>Coarse till</td>\n",
       "      <td>0.3</td>\n",
       "      <td>2.4</td>\n",
       "      <td>8.4</td>\n",
       "      <td>3</td>\n",
       "      <td>2012</td>\n",
       "      <td>3</td>\n",
       "    </tr>\n",
       "    <tr>\n",
       "      <th>4</th>\n",
       "      <td>69.16105</td>\n",
       "      <td>-133.08880</td>\n",
       "      <td>2012-03-21T00:00:00Z</td>\n",
       "      <td>0170-1-12</td>\n",
       "      <td>1.20</td>\n",
       "      <td>1</td>\n",
       "      <td>Nf</td>\n",
       "      <td>No visible ice</td>\n",
       "      <td>GP-GM</td>\n",
       "      <td>Coarse till</td>\n",
       "      <td>0.0</td>\n",
       "      <td>0.0</td>\n",
       "      <td>2.4</td>\n",
       "      <td>3</td>\n",
       "      <td>2012</td>\n",
       "      <td>3</td>\n",
       "    </tr>\n",
       "  </tbody>\n",
       "</table>\n",
       "</div>"
      ],
      "text/plain": [
       "   latitude  longitude                  time   borehole  depth  frozen  \\\n",
       "0  69.16162 -133.08682  2012-03-21T00:00:00Z  0170-1-10   0.15       0   \n",
       "1  69.16162 -133.08682  2012-03-21T00:00:00Z  0170-1-10   0.85       1   \n",
       "2  69.16162 -133.08682  2012-03-21T00:00:00Z  0170-1-10   1.90       1   \n",
       "3  69.16162 -133.08682  2012-03-21T00:00:00Z  0170-1-10   5.40       1   \n",
       "4  69.16105 -133.08880  2012-03-21T00:00:00Z  0170-1-12   1.20       1   \n",
       "\n",
       "  cryostructures     visible_ice ASTM_2488    materials  organic_cover  \\\n",
       "0            NaN             NaN   TOPSOIL     Organics            0.3   \n",
       "1            NaN        Pure ice       ICE          Ice            0.3   \n",
       "2             Nf  No visible ice     SW-SM  Coarse till            0.3   \n",
       "3             Nf  No visible ice     GW-GM  Coarse till            0.3   \n",
       "4             Nf  No visible ice     GP-GM  Coarse till            0.0   \n",
       "\n",
       "   top_of_interval  bottom_of_interval  month  year  month_cyclic  \n",
       "0              0.0                 0.3      3  2012             3  \n",
       "1              0.3                 1.4      3  2012             3  \n",
       "2              1.4                 2.4      3  2012             3  \n",
       "3              2.4                 8.4      3  2012             3  \n",
       "4              0.0                 2.4      3  2012             3  "
      ]
     },
     "execution_count": 3,
     "metadata": {},
     "output_type": "execute_result"
    }
   ],
   "source": [
    "df = pd.read_csv('data_stephen_fix_header.csv', header=[0])\n",
    "# convert timecodes to year and month columns\n",
    "datetimes = pd.to_datetime(df['time'])\n",
    "df['month'] = datetimes.dt.month\n",
    "df['year'] = datetimes.dt.year\n",
    "df['month_cyclic'] = 7 - abs(df['month'] - 7)\n",
    "print(df.shape[0])\n",
    "print(df['borehole'].nunique())\n",
    "df.head()"
   ]
  },
  {
   "cell_type": "code",
   "execution_count": 4,
   "id": "cf514f4f-26b4-466d-8539-7050d9368afc",
   "metadata": {},
   "outputs": [
    {
     "name": "stdout",
     "output_type": "stream",
     "text": [
      "[3 4 2]\n"
     ]
    },
    {
     "data": {
      "image/png": "[encoded data removed]",
      "text/plain": [
       "<Figure size 432x288 with 1 Axes>"
      ]
     },
     "metadata": {
      "needs_background": "light"
     },
     "output_type": "display_data"
    }
   ],
   "source": [
    "print(df['month'].unique())\n",
    "b = plt.hist(df['month'].values)"
   ]
  },
  {
   "cell_type": "code",
   "execution_count": 5,
   "id": "7dfd1960-9778-41e9-9894-ce4a4fa1cefd",
   "metadata": {},
   "outputs": [
    {
     "name": "stdout",
     "output_type": "stream",
     "text": [
      "[2012 2014 2013 2017]\n"
     ]
    },
    {
     "data": {
      "image/png": "[encoded data removed]",
      "text/plain": [
       "<Figure size 432x288 with 1 Axes>"
      ]
     },
     "metadata": {
      "needs_background": "light"
     },
     "output_type": "display_data"
    }
   ],
   "source": [
    "print(df.year.unique())\n",
    "b = plt.hist(df.year.values)"
   ]
  },
  {
   "cell_type": "code",
   "execution_count": 6,
   "id": "10c44177-d62f-48ac-80a7-667fce49b7c0",
   "metadata": {},
   "outputs": [],
   "source": [
    "class boreholeDataset(Dataset):\n",
    "    def __init__(self, data_root, df):\n",
    "        \n",
    "        self.df = df\n",
    "        \n",
    "    def __len__(self):\n",
    "        return self.df.shape[0]\n",
    "\n",
    "    def __getitem__(self, idx):\n",
    "        row = self.df.iloc[idx]\n",
    "        \n",
    "        #surface = torch.tensor(row.filter(['latitude', 'longitude', 'year', 'month', 'depth'])).float()\n",
    "        surface = torch.tensor(row.filter(['depth', 'month'])).float()\n",
    "        \n",
    "        frozen = torch.tensor(row.at['frozen']).float()\n",
    "        \n",
    "        return {'surface_data': surface, 'frozen': frozen}"
   ]
  },
  {
   "cell_type": "code",
   "execution_count": 7,
   "id": "ce55b458-1dd0-45f2-a16e-ad8e2a9d3bec",
   "metadata": {},
   "outputs": [],
   "source": [
    "full_dataset = boreholeDataset(\"geomorph_data\", df)\n",
    "\n",
    "train_size = int(0.8 * len(full_dataset))\n",
    "test_size = len(full_dataset) - train_size\n",
    "\n",
    "training_data, test_data = torch.utils.data.random_split(full_dataset, [train_size, test_size])\n",
    "\n",
    "batchsize = 20\n",
    "\n",
    "trainloader = DataLoader(training_data, batch_size=batchsize, shuffle=True)\n",
    "testloader = DataLoader(test_data, batch_size=batchsize, shuffle=True)"
   ]
  },
  {
   "cell_type": "code",
   "execution_count": 8,
   "id": "3d2aa83d-217f-4c69-9f9b-da160b287e18",
   "metadata": {},
   "outputs": [
    {
     "name": "stdout",
     "output_type": "stream",
     "text": [
      "[1,    50] running loss: 0.47315\n",
      "[1,   100] running loss: 0.26972\n",
      "[2,    50] running loss: 0.21882\n",
      "[2,   100] running loss: 0.18287\n",
      "[3,    50] running loss: 0.14980\n",
      "[3,   100] running loss: 0.16434\n",
      "[4,    50] running loss: 0.18648\n",
      "[4,   100] running loss: 0.12794\n",
      "[5,    50] running loss: 0.11355\n",
      "[5,   100] running loss: 0.18536\n",
      "[6,    50] running loss: 0.12270\n",
      "[6,   100] running loss: 0.15788\n",
      "[7,    50] running loss: 0.16154\n",
      "[7,   100] running loss: 0.12481\n",
      "[8,    50] running loss: 0.12594\n",
      "[8,   100] running loss: 0.15145\n",
      "[9,    50] running loss: 0.15459\n",
      "[9,   100] running loss: 0.12929\n",
      "[10,    50] running loss: 0.12865\n",
      "[10,   100] running loss: 0.12766\n",
      "Finished Training\n"
     ]
    }
   ],
   "source": [
    "input_size = list(full_dataset[0]['surface_data'].size())\n",
    "surface_model = mlp(input_size[0],1)\n",
    "\n",
    "optimizer = torch.optim.Adam(surface_model.parameters())\n",
    "\n",
    "# loss_fn = nn.CrossEntropyLoss()\n",
    "loss_fn = torch.nn.BCELoss() # binary cross entropy\n",
    "\n",
    "surface_model.train()\n",
    "for epoch in range(10):  # loop over the dataset multiple times\n",
    "\n",
    "    running_loss = 0.0\n",
    "    for i, data in enumerate(trainloader, 0): # loop over each sample\n",
    "        \n",
    "        # get the inputs; data is a list of [inputs, labels]\n",
    "        surface_data, labels = data['surface_data'], data['frozen']\n",
    "        \n",
    "#         print(surface_data)\n",
    "#         print(labels)\n",
    "#         break;\n",
    "        predicted = surface_model(surface_data)\n",
    "        \n",
    "        #print(predicted.squeeze().shape)\n",
    "        #print(labels.shape)\n",
    "\n",
    "        loss = loss_fn(predicted.squeeze(), labels)\n",
    "\n",
    "        optimizer.zero_grad()\n",
    "        \n",
    "        loss.backward()\n",
    "        \n",
    "        optimizer.step()\n",
    "        \n",
    "        # print statistics\n",
    "        print_interval = 50\n",
    "        running_loss += loss.item()\n",
    "        if i % print_interval == print_interval-1:    # print every $print_interval mini-batches\n",
    "            print('[%d, %5d] running loss: %.5f' %\n",
    "                  (epoch + 1, i + 1, running_loss / print_interval))\n",
    "            running_loss = 0.0\n",
    "\n",
    "print('Finished Training')"
   ]
  },
  {
   "cell_type": "code",
   "execution_count": 9,
   "id": "83c69231-bf2f-495d-8dc5-f360622b437c",
   "metadata": {},
   "outputs": [],
   "source": [
    "surface_model.eval()\n",
    "with torch.no_grad():\n",
    "    y_test = []\n",
    "    y_pred = []\n",
    "    for i, data in enumerate(testloader, 0):\n",
    "        surface_data, label = data['surface_data'], data['frozen']\n",
    "\n",
    "        # y_test.append(label.numpy().list())\n",
    "        # print(label.shape)\n",
    "        # print(images.shape)\n",
    "        output = surface_model(surface_data)\n",
    "        predicted = torch.round(output)\n",
    "        # print(predicted.shape)\n",
    "        lb = label.tolist()\n",
    "        pd = predicted.tolist()\n",
    "        y_test.extend(lb)\n",
    "        y_pred.extend(pd)\n",
    "    "
   ]
  },
  {
   "cell_type": "code",
   "execution_count": 10,
   "id": "1d72bdc4-91da-42dc-81a4-d59f394d263a",
   "metadata": {},
   "outputs": [
    {
     "name": "stdout",
     "output_type": "stream",
     "text": [
      "[[ 59  17]\n",
      " [ 10 482]]\n",
      "              precision    recall  f1-score   support\n",
      "\n",
      "         0.0       0.86      0.78      0.81        76\n",
      "         1.0       0.97      0.98      0.97       492\n",
      "\n",
      "    accuracy                           0.95       568\n",
      "   macro avg       0.91      0.88      0.89       568\n",
      "weighted avg       0.95      0.95      0.95       568\n",
      "\n",
      "0.9524647887323944\n"
     ]
    }
   ],
   "source": [
    "print(confusion_matrix(y_test,y_pred))\n",
    "print(classification_report(y_test,y_pred))\n",
    "print(accuracy_score(y_test, y_pred))"
   ]
  },
  {
   "cell_type": "code",
   "execution_count": 11,
   "id": "224a97b6-a9fc-4cac-8dc1-62257dc0d2bc",
   "metadata": {},
   "outputs": [
    {
     "data": {
      "text/plain": [
       "{'surface_data': tensor([0.1500, 3.0000]), 'frozen': tensor(0.)}"
      ]
     },
     "execution_count": 11,
     "metadata": {},
     "output_type": "execute_result"
    }
   ],
   "source": [
    "full_dataset[0]"
   ]
  },
  {
   "cell_type": "code",
   "execution_count": null,
   "id": "648f5bfa-7917-4c2d-aa78-c4f9edc86dda",
   "metadata": {},
   "outputs": [],
   "source": []
  }
 ],
 "metadata": {
  "kernelspec": {
   "display_name": "Python 3",
   "language": "python",
   "name": "python3"
  },
  "language_info": {
   "codemirror_mode": {
    "name": "ipython",
    "version": 3
   },
   "file_extension": ".py",
   "mimetype": "text/x-python",
   "name": "python",
   "nbconvert_exporter": "python",
   "pygments_lexer": "ipython3",
   "version": "3.8.8"
  }
 },
 "nbformat": 4,
 "nbformat_minor": 5
}
