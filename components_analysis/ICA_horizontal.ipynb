{
 "cells": [
  {
   "cell_type": "code",
   "execution_count": 1,
   "id": "755f7fda-f7b0-44a8-b629-42c53fbfe86c",
   "metadata": {},
   "outputs": [],
   "source": [
    "import numpy as np\n",
    "import matplotlib.pyplot as plt\n",
    "from sklearn.decomposition import PCA, FastICA\n",
    "import pandas as pd"
   ]
  },
  {
   "cell_type": "code",
   "execution_count": 2,
   "id": "f6055885-f43a-45e8-9d15-ad19a365a348",
   "metadata": {},
   "outputs": [],
   "source": [
    "import pandas as pd\n",
    "import gmplot as gp\n",
    "from matplotlib.colors import to_hex"
   ]
  },
  {
   "cell_type": "code",
   "execution_count": 3,
   "id": "8759280f-2189-48ae-9553-03dec0c4fc4b",
   "metadata": {},
   "outputs": [],
   "source": [
    "df_unique = pd.read_csv('df_unique.csv')"
   ]
  },
  {
   "cell_type": "code",
   "execution_count": 4,
   "id": "ed0b62a9-076e-4d79-8eff-84900340571c",
   "metadata": {},
   "outputs": [],
   "source": [
    "bh_interpolated = np.load('bh_observations.npy').transpose()"
   ]
  },
  {
   "cell_type": "code",
   "execution_count": 5,
   "id": "f5c5c9af-a46f-49f7-9b39-2c7b734bd7a2",
   "metadata": {},
   "outputs": [],
   "source": [
    "layer_std = np.std(bh_interpolated, axis=0)"
   ]
  },
  {
   "cell_type": "code",
   "execution_count": 6,
   "id": "177c6db7-f749-40a0-802a-8b92cd83d07a",
   "metadata": {},
   "outputs": [
    {
     "data": {
      "image/png": "[encoded data removed]",
      "text/plain": [
       "<Figure size 432x288 with 2 Axes>"
      ]
     },
     "metadata": {
      "needs_background": "light"
     },
     "output_type": "display_data"
    }
   ],
   "source": [
    "plt.imshow(np.expand_dims(layer_std, axis=1))\n",
    "plt.colorbar()\n",
    "plt.title(\"Standard Deviation of each depth layer\")\n",
    "plt.show()"
   ]
  },
  {
   "cell_type": "code",
   "execution_count": 7,
   "id": "c2453e70-c246-49c9-a668-abe42607fa62",
   "metadata": {},
   "outputs": [],
   "source": [
    "def flatten_list(L):\n",
    "    return [item for sublist in L for item in sublist]"
   ]
  },
  {
   "cell_type": "code",
   "execution_count": 8,
   "id": "47513127-1677-4ff8-947b-ab44baa214ad",
   "metadata": {},
   "outputs": [],
   "source": [
    "def toRadians(degree):\n",
    "    one_deg =  np.pi / 180\n",
    "    return one_deg * degree\n",
    " \n",
    "def distance(lat1, long1, lat2, long2):\n",
    "    \n",
    "    lat1 = toRadians(lat1);\n",
    "    long1 = toRadians(long1);\n",
    "    lat2 = toRadians(lat2);\n",
    "    long2 = toRadians(long2);\n",
    "    \n",
    "    dlong = long2 - long1;\n",
    "    dlat = lat2 - lat1;\n",
    " \n",
    "    ans = np.square(np.sin(dlat / 2)) + np.cos(lat1) * np.cos(lat2) *np.square(np.sin(dlong / 2))\n",
    " \n",
    "    ans = 2 * np.arcsin(np.sqrt(ans))\n",
    "    \n",
    "#     Kilometers, R = 6371\n",
    "#     Use R = 3956 for miles\n",
    "    R = 6371000\n",
    "    \n",
    "    ans = ans * R\n",
    " \n",
    "    return ans"
   ]
  },
  {
   "cell_type": "code",
   "execution_count": 9,
   "id": "5a35f6ce-ddfe-494b-b509-7af286de7308",
   "metadata": {},
   "outputs": [],
   "source": [
    "n_bh = len(df_unique)"
   ]
  },
  {
   "cell_type": "code",
   "execution_count": 10,
   "id": "2c54f4d0-6f4d-4844-b7e3-c89b6e0701be",
   "metadata": {},
   "outputs": [],
   "source": [
    "lats = df_unique.latitude\n",
    "longs = df_unique.longitude"
   ]
  },
  {
   "cell_type": "code",
   "execution_count": 11,
   "id": "f4d40e78-27fa-492b-b59f-dde1106cfa48",
   "metadata": {},
   "outputs": [
    {
     "data": {
      "text/plain": [
       "(561, 10)"
      ]
     },
     "execution_count": 11,
     "metadata": {},
     "output_type": "execute_result"
    }
   ],
   "source": [
    "bh_interpolated.shape"
   ]
  },
  {
   "cell_type": "code",
   "execution_count": 12,
   "id": "b7e56a63-7603-44f0-bf7b-2ca1958cf275",
   "metadata": {},
   "outputs": [],
   "source": [
    "distances= []\n",
    "variance_weighted = []\n",
    "#for i, bh in df_unique.iterrows():\n",
    "for i in range(n_bh-1):\n",
    "    lat1 = lats[i]\n",
    "    long1 = longs[i]\n",
    "    \n",
    "    bh1 = bh_interpolated[i]\n",
    "    \n",
    "\n",
    "    lat2 = lats[i+1:n_bh]\n",
    "    long2 = longs[i+1: n_bh]\n",
    "    bh2 = bh_interpolated[i+1:n_bh]\n",
    "    \n",
    "    cur_distances = distance(lat1, long1, lat2, long2)\n",
    "    cur_variances = np.linalg.norm(bh2 - bh1, axis=1)\n",
    "    \n",
    "    cur_distances[cur_distances == 0] = 1e-12\n",
    "    #print(cur_distances.shape)\n",
    "    #print(cur_variances.shape)\n",
    "    \n",
    "    scaled_variances = cur_variances / cur_distances\n",
    "    \n",
    "    #print(scaled_variances.shape)\n",
    "    \n",
    "    distances.append(sorted(list(cur_distances)))\n",
    "    variance_weighted.append(sorted(list(scaled_variances), reverse=True))\n",
    "    \n",
    "#     for j in range(i+1, n_bh):\n",
    "#         bh2 = df_unique.iloc[[j]]\n",
    "#         lat2 = np.array(bh2['latitude'])\n",
    "#         long2 = np.array(bh2['longitude'])\n",
    "#         distances[i,j] = distance(lat1, long1, lat2, long2)\n"
   ]
  },
  {
   "cell_type": "code",
   "execution_count": 13,
   "id": "f572a6d6-c006-4197-b5ea-bac6681e69fc",
   "metadata": {},
   "outputs": [],
   "source": [
    "distances_flat = flatten_list(distances)"
   ]
  },
  {
   "cell_type": "code",
   "execution_count": 60,
   "id": "7b3002b0-7755-4c4a-980c-e05f8e6a8ad4",
   "metadata": {},
   "outputs": [
    {
     "data": {
      "text/plain": [
       "157080"
      ]
     },
     "execution_count": 60,
     "metadata": {},
     "output_type": "execute_result"
    }
   ],
   "source": [
    "len(distances_flat)"
   ]
  },
  {
   "cell_type": "code",
   "execution_count": 14,
   "id": "e9f8ba7d-1a39-4f77-972c-5e870f23272a",
   "metadata": {},
   "outputs": [],
   "source": [
    "distances_flat_sorted = sorted(distances_flat)"
   ]
  },
  {
   "cell_type": "code",
   "execution_count": 15,
   "id": "188ee607-63e7-4407-859d-f21189b743b2",
   "metadata": {},
   "outputs": [
    {
     "data": {
      "text/plain": [
       "[1e-12,\n",
       " 1e-12,\n",
       " 9.262617721114353,\n",
       " 11.379863166641998,\n",
       " 13.916369734505794,\n",
       " 14.596940626888797,\n",
       " 15.233139244299483,\n",
       " 16.584585613049363,\n",
       " 17.273330897513805,\n",
       " 17.80396036794228]"
      ]
     },
     "execution_count": 15,
     "metadata": {},
     "output_type": "execute_result"
    }
   ],
   "source": [
    "distances_flat_sorted[0:10]"
   ]
  },
  {
   "cell_type": "code",
   "execution_count": 16,
   "id": "67d46fde-d724-42f2-be02-e5efe2606660",
   "metadata": {},
   "outputs": [
    {
     "data": {
      "image/png": "[encoded data removed]",
      "text/plain": [
       "<Figure size 432x288 with 1 Axes>"
      ]
     },
     "metadata": {
      "needs_background": "light"
     },
     "output_type": "display_data"
    }
   ],
   "source": [
    "plt.hist(distances_flat)\n",
    "plt.title(\"All Distances between Boreholes\")\n",
    "plt.show()"
   ]
  },
  {
   "cell_type": "code",
   "execution_count": 17,
   "id": "2ad6dc2e-211d-4a13-9765-c920a5d69914",
   "metadata": {},
   "outputs": [],
   "source": [
    "distances_min =  [item[0] for item in distances]"
   ]
  },
  {
   "cell_type": "code",
   "execution_count": 62,
   "id": "eded7c06-161d-4e02-9e9f-48208c8a7e04",
   "metadata": {},
   "outputs": [
    {
     "data": {
      "text/plain": [
       "746.2753743386546"
      ]
     },
     "execution_count": 62,
     "metadata": {},
     "output_type": "execute_result"
    }
   ],
   "source": [
    "np.mean(distances_min)"
   ]
  },
  {
   "cell_type": "code",
   "execution_count": 63,
   "id": "04c87b23-660f-4a90-be87-fe8ae795a8f1",
   "metadata": {},
   "outputs": [
    {
     "data": {
      "text/plain": [
       "136.7429501922902"
      ]
     },
     "execution_count": 63,
     "metadata": {},
     "output_type": "execute_result"
    }
   ],
   "source": [
    "np.median(distances_min)"
   ]
  },
  {
   "cell_type": "code",
   "execution_count": 18,
   "id": "011a98c3-40ca-49cb-9209-323deaa05931",
   "metadata": {},
   "outputs": [
    {
     "data": {
      "image/png": "[encoded data removed]",
      "text/plain": [
       "<Figure size 432x288 with 1 Axes>"
      ]
     },
     "metadata": {
      "needs_background": "light"
     },
     "output_type": "display_data"
    }
   ],
   "source": [
    "plt.hist(distances_min, bins = 30, range = [0, 1000])\n",
    "plt.title(\"Borehole's Distances to Closest Neighbour\")\n",
    "plt.show()"
   ]
  },
  {
   "cell_type": "code",
   "execution_count": 19,
   "id": "ca051a1b-17b9-4be7-b3fb-f38fbc09182c",
   "metadata": {},
   "outputs": [],
   "source": [
    "variance_weighted_flat = flatten_list(variance_weighted)"
   ]
  },
  {
   "cell_type": "code",
   "execution_count": 20,
   "id": "e775d62c-19c5-4ca1-bb41-0c8542c797e1",
   "metadata": {},
   "outputs": [
    {
     "data": {
      "image/png": "[encoded data removed]",
      "text/plain": [
       "<Figure size 432x288 with 1 Axes>"
      ]
     },
     "metadata": {
      "needs_background": "light"
     },
     "output_type": "display_data"
    }
   ],
   "source": [
    "plt.hist(variance_weighted_flat, range=[0, 0.0025], bins=30)\n",
    "plt.title(\"Variance Between Boreholes Weighted by Distance\")\n",
    "plt.show()"
   ]
  },
  {
   "cell_type": "code",
   "execution_count": 21,
   "id": "0c7d373b-6a32-42cb-bf92-7da5d1aae790",
   "metadata": {},
   "outputs": [],
   "source": [
    "variance_max = [item[0] for item in variance_weighted]"
   ]
  },
  {
   "cell_type": "code",
   "execution_count": 22,
   "id": "25668c4a-3959-471c-aea6-997ce535e170",
   "metadata": {},
   "outputs": [
    {
     "data": {
      "text/plain": [
       "1.3659946696191705"
      ]
     },
     "execution_count": 22,
     "metadata": {},
     "output_type": "execute_result"
    }
   ],
   "source": [
    "# greatest variance imaginable is if two boreholes 9 meters apart have profiles all 0 and all 4\n",
    "\n",
    "np.linalg.norm(np.ones(10) * 4 - np.zeros(10)) / 9.26"
   ]
  },
  {
   "cell_type": "code",
   "execution_count": 23,
   "id": "117d0325-e969-4233-8e37-c521446e1f8b",
   "metadata": {},
   "outputs": [
    {
     "data": {
      "text/plain": [
       "0.3414986674047926"
      ]
     },
     "execution_count": 23,
     "metadata": {},
     "output_type": "execute_result"
    }
   ],
   "source": [
    "np.linalg.norm(np.ones(10) * 1 - np.zeros(10)) / 9.26"
   ]
  },
  {
   "cell_type": "code",
   "execution_count": 24,
   "id": "c3865794-9ad1-4f3a-987c-ef8064075136",
   "metadata": {},
   "outputs": [
    {
     "data": {
      "image/png": "[encoded data removed]",
      "text/plain": [
       "<Figure size 432x288 with 1 Axes>"
      ]
     },
     "metadata": {
      "needs_background": "light"
     },
     "output_type": "display_data"
    }
   ],
   "source": [
    "plt.hist(variance_max, bins=30, range=[0, 0.2])\n",
    "plt.title(\"Greatest weighted variance of each borehole\")\n",
    "plt.show()"
   ]
  },
  {
   "cell_type": "code",
   "execution_count": 25,
   "id": "211a776e-16f8-4098-9d9b-46e7b613098d",
   "metadata": {},
   "outputs": [],
   "source": [
    "lats = np.array(df_unique.latitude)"
   ]
  },
  {
   "cell_type": "code",
   "execution_count": 26,
   "id": "ea673d8b-22c0-47ae-8f8d-56a0f41b1940",
   "metadata": {},
   "outputs": [],
   "source": [
    "lats.sort()"
   ]
  },
  {
   "cell_type": "code",
   "execution_count": 27,
   "id": "9e265a5d-99ad-4a7a-80ca-eb540c6ff384",
   "metadata": {},
   "outputs": [],
   "source": [
    "dif = np.diff(lats)"
   ]
  },
  {
   "cell_type": "code",
   "execution_count": 28,
   "id": "5961f2a3-959c-4e2a-bd8a-41ccf04f86df",
   "metadata": {},
   "outputs": [],
   "source": [
    "dif.sort()"
   ]
  },
  {
   "cell_type": "code",
   "execution_count": 30,
   "id": "9b6616b8-f8bc-4e38-9797-dd7c7a6887e2",
   "metadata": {},
   "outputs": [
    {
     "data": {
      "text/plain": [
       "11.100000000000001"
      ]
     },
     "execution_count": 30,
     "metadata": {},
     "output_type": "execute_result"
    }
   ],
   "source": [
    "1.0e-5 * 1110000"
   ]
  },
  {
   "cell_type": "code",
   "execution_count": 31,
   "id": "c814a457-cc37-45b8-b8e6-65d3c8a784f4",
   "metadata": {},
   "outputs": [],
   "source": [
    "def plot_gmplot(input, channel=0, map_name='gmap.html', size=50):\n",
    "    # channel: 0, 1, 2 refers to RGB\n",
    "    \n",
    "    df_unique = pd.read_csv('df_unique.csv')\n",
    "    mean_lat = df_unique.latitude.mean()\n",
    "    mean_lng = df_unique.longitude.mean()\n",
    "    \n",
    "    with open('apikey.txt') as f:\n",
    "        apikey = f.readlines()[0]\n",
    "\n",
    "    colour = np.zeros(input.shape)\n",
    "\n",
    "    for i, c in enumerate(input[:, channel]):\n",
    "        if c > 0:\n",
    "            colour[i, channel] = c\n",
    "        else:\n",
    "            for k in range(3):\n",
    "                if k!=channel:\n",
    "                    colour[i, k] = -c\n",
    "    \n",
    "    colour = colour / np.max(colour.flatten())\n",
    "    colour_hex = [None] * len(colour)\n",
    "\n",
    "    for i, color in enumerate(colour):\n",
    "        colour_hex[i] = to_hex(color)\n",
    "    \n",
    "    gmap = gp.GoogleMapPlotter(mean_lat, mean_lng, 8, apikey = apikey)\n",
    "    gmap.scatter(list(df_unique.latitude), list(df_unique.longitude), size = size, color=colour_hex, marker=False) \n",
    "    gmap.draw(map_name)\n",
    "    \n",
    "    return list(df_unique.latitude), list(df_unique.longitude), colour_hex, colour"
   ]
  },
  {
   "cell_type": "code",
   "execution_count": 32,
   "id": "9a1aca26-6851-462c-b33f-64d266b9f098",
   "metadata": {},
   "outputs": [],
   "source": [
    "n_components = 3"
   ]
  },
  {
   "cell_type": "code",
   "execution_count": 33,
   "id": "eb81c0af-d2e6-4d1a-96bf-1461ea634292",
   "metadata": {},
   "outputs": [],
   "source": [
    "input = np.load('bh_observations.npy')"
   ]
  },
  {
   "cell_type": "code",
   "execution_count": 34,
   "id": "a72cd33d-81e2-4d1b-8496-92e7b9e1f81a",
   "metadata": {},
   "outputs": [
    {
     "data": {
      "text/plain": [
       "(10, 561)"
      ]
     },
     "execution_count": 34,
     "metadata": {},
     "output_type": "execute_result"
    }
   ],
   "source": [
    "input.shape"
   ]
  },
  {
   "cell_type": "code",
   "execution_count": 35,
   "id": "641d717f-1256-413b-a628-73d16aedadfe",
   "metadata": {},
   "outputs": [
    {
     "data": {
      "text/plain": [
       "array([0.46051456, 0.20711781, 0.10397956])"
      ]
     },
     "execution_count": 35,
     "metadata": {},
     "output_type": "execute_result"
    }
   ],
   "source": [
    "pca = PCA(n_components=n_components)\n",
    "pca_sources = pca.fit_transform(input)\n",
    "pca.explained_variance_ratio_"
   ]
  },
  {
   "cell_type": "code",
   "execution_count": 36,
   "id": "7868c983-b351-4131-8626-d7a2f40a3ceb",
   "metadata": {},
   "outputs": [
    {
     "data": {
      "image/png": "[encoded data removed]",
      "text/plain": [
       "<Figure size 432x288 with 2 Axes>"
      ]
     },
     "metadata": {
      "needs_background": "light"
     },
     "output_type": "display_data"
    }
   ],
   "source": [
    "plt.imshow(pca_sources, interpolation = 'none', extent=[0, pca_sources.shape[1], 5, 0])\n",
    "ax = plt.gca()\n",
    "ax.set_aspect(2)\n",
    "plt.colorbar()\n",
    "plt.title(\"Visible Ice of Sources\")\n",
    "plt.xlabel(\"Components\")\n",
    "plt.ylabel('Depth')\n",
    "# plt.savefig('components_analysis/components_n{}.png'.format(n_components))\n",
    "plt.show()"
   ]
  },
  {
   "cell_type": "code",
   "execution_count": 37,
   "id": "30624d7c-e63f-4b1e-a53e-858cafd3a1cc",
   "metadata": {},
   "outputs": [
    {
     "data": {
      "text/plain": [
       "array([0.51903607, 0.21231796, 0.09981609])"
      ]
     },
     "execution_count": 37,
     "metadata": {},
     "output_type": "execute_result"
    }
   ],
   "source": [
    "pca_h = PCA(n_components=n_components)\n",
    "pca_h_sources = pca_h.fit_transform(input.T)\n",
    "pca_h.explained_variance_ratio_"
   ]
  },
  {
   "cell_type": "code",
   "execution_count": 38,
   "id": "89bf1612-4068-445f-afd4-6327b3d84c6e",
   "metadata": {},
   "outputs": [
    {
     "data": {
      "text/plain": [
       "(561, 3)"
      ]
     },
     "execution_count": 38,
     "metadata": {},
     "output_type": "execute_result"
    }
   ],
   "source": [
    "pca_h_sources.shape"
   ]
  },
  {
   "cell_type": "code",
   "execution_count": 39,
   "id": "39272adc-6343-4c9d-bfb0-c0ee6e1f12a0",
   "metadata": {},
   "outputs": [
    {
     "data": {
      "image/png": "[encoded data removed]",
      "text/plain": [
       "<Figure size 432x288 with 2 Axes>"
      ]
     },
     "metadata": {
      "needs_background": "light"
     },
     "output_type": "display_data"
    }
   ],
   "source": [
    "plt.imshow(pca_h_sources[0:50])\n",
    "plt.title(\"Visible Ice of Sources\")\n",
    "plt.colorbar()\n",
    "plt.show()"
   ]
  },
  {
   "cell_type": "code",
   "execution_count": 40,
   "id": "55140f22-84bc-41d8-a491-73e3b261c1d6",
   "metadata": {},
   "outputs": [],
   "source": [
    "ica_h = FastICA(n_components=n_components, random_state=0)\n",
    "\n",
    "ica_h_sources = ica_h.fit_transform(input.T)\n",
    "mix = ica_h.mixing_\n",
    "\n",
    "np.save('horizontal_sources_n{}.npy'.format(n_components), ica_h_sources)\n",
    "np.save('horizontal_mix_n{}.npy'.format(n_components), mix)"
   ]
  },
  {
   "cell_type": "code",
   "execution_count": null,
   "id": "1860aaaa-7254-4f78-84c9-2e418f5f6e93",
   "metadata": {},
   "outputs": [],
   "source": []
  },
  {
   "cell_type": "code",
   "execution_count": 41,
   "id": "29bab115-cc8c-43aa-b796-aad8634dce14",
   "metadata": {},
   "outputs": [
    {
     "data": {
      "text/plain": [
       "(561, 3)"
      ]
     },
     "execution_count": 41,
     "metadata": {},
     "output_type": "execute_result"
    }
   ],
   "source": [
    "ica_h_sources.shape"
   ]
  },
  {
   "cell_type": "code",
   "execution_count": 42,
   "id": "6558568d-5e6f-49dd-a357-779cbca7fcbe",
   "metadata": {},
   "outputs": [
    {
     "data": {
      "image/png": "[encoded data removed]",
      "text/plain": [
       "<Figure size 432x288 with 2 Axes>"
      ]
     },
     "metadata": {
      "needs_background": "light"
     },
     "output_type": "display_data"
    }
   ],
   "source": [
    "plt.imshow(ica_h_sources[0:50])\n",
    "plt.title(\"Visible Ice of Sources Horizontal\")\n",
    "plt.colorbar()\n",
    "plt.show()"
   ]
  },
  {
   "cell_type": "code",
   "execution_count": 43,
   "id": "a8c543b8-f1ed-4e61-a547-22d8d7960ab3",
   "metadata": {},
   "outputs": [
    {
     "data": {
      "text/plain": [
       "(10,)"
      ]
     },
     "execution_count": 43,
     "metadata": {},
     "output_type": "execute_result"
    }
   ],
   "source": [
    "ica_h.mean_.shape"
   ]
  },
  {
   "cell_type": "code",
   "execution_count": 44,
   "id": "71811b2c-5ff0-44d5-9196-7a94cff0d1a5",
   "metadata": {},
   "outputs": [],
   "source": [
    "channel = 2\n",
    "lat, lng, colour_hex, colour = plot_gmplot(ica_h_sources[:, 0:3], channel=channel, map_name='ica_h_channel_{}.html'.format(channel))"
   ]
  },
  {
   "cell_type": "code",
   "execution_count": 45,
   "id": "093d5204-88c1-4ca7-8ccd-5bee6e2623c7",
   "metadata": {},
   "outputs": [
    {
     "data": {
      "text/plain": [
       "(10, 3)"
      ]
     },
     "execution_count": 45,
     "metadata": {},
     "output_type": "execute_result"
    }
   ],
   "source": [
    "mix.shape"
   ]
  },
  {
   "cell_type": "code",
   "execution_count": 46,
   "id": "debe524f-54ef-40a9-aebe-683e88a466ea",
   "metadata": {},
   "outputs": [
    {
     "data": {
      "text/plain": [
       "array([ 21.91649423,  16.35216557, -16.7960873 ])"
      ]
     },
     "execution_count": 46,
     "metadata": {},
     "output_type": "execute_result"
    }
   ],
   "source": [
    "np.max(mix, axis=0)"
   ]
  },
  {
   "cell_type": "code",
   "execution_count": 47,
   "id": "2b31db2d-83a8-4c13-adeb-298c60429818",
   "metadata": {},
   "outputs": [
    {
     "data": {
      "text/plain": [
       "array([-12.88276843, -14.93057284, -22.73903592])"
      ]
     },
     "execution_count": 47,
     "metadata": {},
     "output_type": "execute_result"
    }
   ],
   "source": [
    "np.min(mix, axis=0)"
   ]
  },
  {
   "cell_type": "code",
   "execution_count": 48,
   "id": "1330e169-12cb-4c58-b3f3-22c180ca8c3a",
   "metadata": {},
   "outputs": [],
   "source": [
    "mix[:,-1] *= -1 "
   ]
  },
  {
   "cell_type": "code",
   "execution_count": 52,
   "id": "8e8b648e-a26a-4969-be1c-07aa7d35d043",
   "metadata": {},
   "outputs": [],
   "source": [
    "mean = ica_h.mean_\n",
    "mean = np.expand_dims(mean, axis=1)"
   ]
  },
  {
   "cell_type": "code",
   "execution_count": 54,
   "id": "28ffe36c-a630-4ef4-874e-3bdd8b727038",
   "metadata": {},
   "outputs": [
    {
     "data": {
      "image/png": "[encoded data removed]",
      "text/plain": [
       "<Figure size 432x288 with 2 Axes>"
      ]
     },
     "metadata": {
      "needs_background": "light"
     },
     "output_type": "display_data"
    }
   ],
   "source": [
    "plt.imshow(mean)\n",
    "plt.colorbar()\n",
    "plt.title(\"Mean of horizontal ICA\")\n",
    "plt.show()"
   ]
  },
  {
   "cell_type": "code",
   "execution_count": 55,
   "id": "b9dce47f-2c2f-401a-b36e-2fbbd56d9f81",
   "metadata": {},
   "outputs": [
    {
     "data": {
      "image/png": "[encoded data removed]",
      "text/plain": [
       "<Figure size 432x288 with 2 Axes>"
      ]
     },
     "metadata": {
      "needs_background": "light"
     },
     "output_type": "display_data"
    }
   ],
   "source": [
    "max_val = np.amax(abs(mix))\n",
    "plt.imshow(mix, vmin = -max_val, vmax=max_val)\n",
    "plt.title('Mixture Strengths ICA Horizontal')\n",
    "plt.colorbar()\n",
    "plt.show()"
   ]
  },
  {
   "cell_type": "code",
   "execution_count": 56,
   "id": "02f45de5-9471-456e-8052-8d8aaa8e8246",
   "metadata": {},
   "outputs": [],
   "source": [
    "last_source = ica_h_sources[:, -1]"
   ]
  },
  {
   "cell_type": "code",
   "execution_count": 57,
   "id": "16697329-40df-4e7f-8cb9-e2c7b6316142",
   "metadata": {},
   "outputs": [
    {
     "data": {
      "image/png": "[encoded data removed]",
      "text/plain": [
       "<Figure size 432x288 with 1 Axes>"
      ]
     },
     "metadata": {
      "needs_background": "light"
     },
     "output_type": "display_data"
    }
   ],
   "source": [
    "plt.hist(last_source)\n",
    "plt.title(\"Least Impactful Horizontal Source\")\n",
    "plt.show()"
   ]
  },
  {
   "cell_type": "code",
   "execution_count": 58,
   "id": "b44b3775-a22e-484a-b4ef-9f211ae76d07",
   "metadata": {},
   "outputs": [
    {
     "data": {
      "image/png": "[encoded data removed]",
      "text/plain": [
       "<Figure size 432x288 with 1 Axes>"
      ]
     },
     "metadata": {
      "needs_background": "light"
     },
     "output_type": "display_data"
    }
   ],
   "source": [
    "plt.hist(ica_h_sources[:, 0])\n",
    "plt.title(\"Most Impactful Horizontal Source\")\n",
    "plt.show()"
   ]
  },
  {
   "cell_type": "code",
   "execution_count": null,
   "id": "a3230fd2-083c-46f9-8266-fd237f5eb105",
   "metadata": {},
   "outputs": [],
   "source": []
  }
 ],
 "metadata": {
  "kernelspec": {
   "display_name": "Python 3",
   "language": "python",
   "name": "python3"
  },
  "language_info": {
   "codemirror_mode": {
    "name": "ipython",
    "version": 3
   },
   "file_extension": ".py",
   "mimetype": "text/x-python",
   "name": "python",
   "nbconvert_exporter": "python",
   "pygments_lexer": "ipython3",
   "version": "3.8.8"
  }
 },
 "nbformat": 4,
 "nbformat_minor": 5
}
