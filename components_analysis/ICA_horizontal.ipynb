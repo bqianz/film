{
 "cells": [
  {
   "cell_type": "code",
   "execution_count": 1,
   "id": "755f7fda-f7b0-44a8-b629-42c53fbfe86c",
   "metadata": {},
   "outputs": [],
   "source": [
    "import numpy as np\n",
    "import matplotlib.pyplot as plt\n",
    "from sklearn.decomposition import PCA, FastICA\n",
    "import pandas as pd"
   ]
  },
  {
   "cell_type": "code",
   "execution_count": 2,
   "id": "af64af4f-fa97-48a5-bf19-180180c98115",
   "metadata": {},
   "outputs": [],
   "source": [
    "import pandas as pd\n",
    "import gmplot as gp\n",
    "from matplotlib.colors import to_hex\n",
    "\n",
    "def plot_gmplot(input, channel=0, map_name='gmap.html', size=50):\n",
    "    # channel: 0, 1, 2 refers to RGB\n",
    "    \n",
    "    df_unique = pd.read_csv('df_unique.csv')\n",
    "    mean_lat = df_unique.latitude.mean()\n",
    "    mean_lng = df_unique.longitude.mean()\n",
    "    \n",
    "    with open('apikey.txt') as f:\n",
    "        apikey = f.readlines()[0]\n",
    "\n",
    "    colour = np.zeros(input.shape)\n",
    "\n",
    "    for i, c in enumerate(input[:, channel]):\n",
    "        if c > 0:\n",
    "            colour[i, channel] = c\n",
    "        else:\n",
    "            for k in range(3):\n",
    "                if k!=channel:\n",
    "                    colour[i, k] = -c\n",
    "    \n",
    "    colour = colour / np.max(colour.flatten())\n",
    "    colour_hex = [None] * len(colour)\n",
    "\n",
    "    for i, color in enumerate(colour):\n",
    "        colour_hex[i] = to_hex(color)\n",
    "    \n",
    "    gmap = gp.GoogleMapPlotter(mean_lat, mean_lng, 8, apikey = apikey)\n",
    "    gmap.scatter(list(df_unique.latitude), list(df_unique.longitude), size = size, color=colour_hex, marker=False) \n",
    "    gmap.draw(map_name)\n",
    "    \n",
    "    return list(df_unique.latitude), list(df_unique.longitude), colour_hex, colour"
   ]
  },
  {
   "cell_type": "code",
   "execution_count": 3,
   "id": "9a1aca26-6851-462c-b33f-64d266b9f098",
   "metadata": {},
   "outputs": [],
   "source": [
    "n_components = 3"
   ]
  },
  {
   "cell_type": "code",
   "execution_count": 4,
   "id": "eb81c0af-d2e6-4d1a-96bf-1461ea634292",
   "metadata": {},
   "outputs": [],
   "source": [
    "input = np.load('bh_observations.npy')"
   ]
  },
  {
   "cell_type": "code",
   "execution_count": 5,
   "id": "a72cd33d-81e2-4d1b-8496-92e7b9e1f81a",
   "metadata": {},
   "outputs": [
    {
     "data": {
      "text/plain": [
       "(10, 561)"
      ]
     },
     "execution_count": 5,
     "metadata": {},
     "output_type": "execute_result"
    }
   ],
   "source": [
    "input.shape"
   ]
  },
  {
   "cell_type": "code",
   "execution_count": 6,
   "id": "641d717f-1256-413b-a628-73d16aedadfe",
   "metadata": {},
   "outputs": [
    {
     "data": {
      "text/plain": [
       "array([0.46051456, 0.20711781, 0.10397956])"
      ]
     },
     "execution_count": 6,
     "metadata": {},
     "output_type": "execute_result"
    }
   ],
   "source": [
    "pca = PCA(n_components=n_components)\n",
    "pca_sources = pca.fit_transform(input)\n",
    "pca.explained_variance_ratio_"
   ]
  },
  {
   "cell_type": "code",
   "execution_count": 7,
   "id": "7868c983-b351-4131-8626-d7a2f40a3ceb",
   "metadata": {},
   "outputs": [
    {
     "data": {
      "image/png": "[encoded data removed]",
      "text/plain": [
       "<Figure size 432x288 with 2 Axes>"
      ]
     },
     "metadata": {
      "needs_background": "light"
     },
     "output_type": "display_data"
    }
   ],
   "source": [
    "plt.imshow(pca_sources, interpolation = 'none', extent=[0, pca_sources.shape[1], 5, 0])\n",
    "ax = plt.gca()\n",
    "ax.set_aspect(2)\n",
    "plt.colorbar()\n",
    "plt.title(\"Visible Ice of Sources\")\n",
    "plt.xlabel(\"Components\")\n",
    "plt.ylabel('Depth')\n",
    "# plt.savefig('components_analysis/components_n{}.png'.format(n_components))\n",
    "plt.show()"
   ]
  },
  {
   "cell_type": "code",
   "execution_count": 8,
   "id": "30624d7c-e63f-4b1e-a53e-858cafd3a1cc",
   "metadata": {},
   "outputs": [
    {
     "data": {
      "text/plain": [
       "array([0.51903607, 0.21231796, 0.09981609])"
      ]
     },
     "execution_count": 8,
     "metadata": {},
     "output_type": "execute_result"
    }
   ],
   "source": [
    "pca_h = PCA(n_components=n_components)\n",
    "pca_h_sources = pca_h.fit_transform(input.T)\n",
    "pca_h.explained_variance_ratio_"
   ]
  },
  {
   "cell_type": "code",
   "execution_count": 9,
   "id": "89bf1612-4068-445f-afd4-6327b3d84c6e",
   "metadata": {},
   "outputs": [
    {
     "data": {
      "text/plain": [
       "(561, 3)"
      ]
     },
     "execution_count": 9,
     "metadata": {},
     "output_type": "execute_result"
    }
   ],
   "source": [
    "pca_h_sources.shape"
   ]
  },
  {
   "cell_type": "code",
   "execution_count": 10,
   "id": "39272adc-6343-4c9d-bfb0-c0ee6e1f12a0",
   "metadata": {},
   "outputs": [
    {
     "data": {
      "image/png": "[encoded data removed]",
      "text/plain": [
       "<Figure size 432x288 with 2 Axes>"
      ]
     },
     "metadata": {
      "needs_background": "light"
     },
     "output_type": "display_data"
    }
   ],
   "source": [
    "plt.imshow(pca_h_sources[0:50])\n",
    "plt.title(\"Visible Ice of Sources\")\n",
    "plt.colorbar()\n",
    "plt.show()"
   ]
  },
  {
   "cell_type": "code",
   "execution_count": 11,
   "id": "55140f22-84bc-41d8-a491-73e3b261c1d6",
   "metadata": {},
   "outputs": [],
   "source": [
    "ica_h = FastICA(n_components=n_components, random_state=0)\n",
    "\n",
    "ica_h_sources = ica_h.fit_transform(input.T)\n",
    "mix = ica_h.mixing_"
   ]
  },
  {
   "cell_type": "code",
   "execution_count": 12,
   "id": "29bab115-cc8c-43aa-b796-aad8634dce14",
   "metadata": {},
   "outputs": [
    {
     "data": {
      "text/plain": [
       "(561, 3)"
      ]
     },
     "execution_count": 12,
     "metadata": {},
     "output_type": "execute_result"
    }
   ],
   "source": [
    "ica_h_sources.shape"
   ]
  },
  {
   "cell_type": "code",
   "execution_count": 13,
   "id": "6558568d-5e6f-49dd-a357-779cbca7fcbe",
   "metadata": {},
   "outputs": [
    {
     "data": {
      "image/png": "[encoded data removed]",
      "text/plain": [
       "<Figure size 432x288 with 2 Axes>"
      ]
     },
     "metadata": {
      "needs_background": "light"
     },
     "output_type": "display_data"
    }
   ],
   "source": [
    "plt.imshow(ica_h_sources[0:50])\n",
    "plt.title(\"Visible Ice of Sources Horizontal\")\n",
    "plt.colorbar()\n",
    "plt.show()"
   ]
  },
  {
   "cell_type": "code",
   "execution_count": 14,
   "id": "a8c543b8-f1ed-4e61-a547-22d8d7960ab3",
   "metadata": {},
   "outputs": [
    {
     "data": {
      "text/plain": [
       "(10,)"
      ]
     },
     "execution_count": 14,
     "metadata": {},
     "output_type": "execute_result"
    }
   ],
   "source": [
    "ica_h.mean_.shape"
   ]
  },
  {
   "cell_type": "code",
   "execution_count": 15,
   "id": "71811b2c-5ff0-44d5-9196-7a94cff0d1a5",
   "metadata": {},
   "outputs": [],
   "source": [
    "channel = 2\n",
    "lat, lng, colour_hex, colour = plot_gmplot(ica_h_sources[:, 0:3], channel=channel, map_name='ica_h_channel_{}.html'.format(channel))"
   ]
  },
  {
   "cell_type": "code",
   "execution_count": 16,
   "id": "093d5204-88c1-4ca7-8ccd-5bee6e2623c7",
   "metadata": {},
   "outputs": [
    {
     "data": {
      "text/plain": [
       "(10, 3)"
      ]
     },
     "execution_count": 16,
     "metadata": {},
     "output_type": "execute_result"
    }
   ],
   "source": [
    "mix.shape"
   ]
  },
  {
   "cell_type": "code",
   "execution_count": 17,
   "id": "debe524f-54ef-40a9-aebe-683e88a466ea",
   "metadata": {},
   "outputs": [
    {
     "data": {
      "text/plain": [
       "array([ 21.91649423,  16.35216557, -16.7960873 ])"
      ]
     },
     "execution_count": 17,
     "metadata": {},
     "output_type": "execute_result"
    }
   ],
   "source": [
    "np.max(mix, axis=0)"
   ]
  },
  {
   "cell_type": "code",
   "execution_count": 18,
   "id": "2b31db2d-83a8-4c13-adeb-298c60429818",
   "metadata": {},
   "outputs": [
    {
     "data": {
      "text/plain": [
       "array([-12.88276843, -14.93057284, -22.73903592])"
      ]
     },
     "execution_count": 18,
     "metadata": {},
     "output_type": "execute_result"
    }
   ],
   "source": [
    "np.min(mix, axis=0)"
   ]
  },
  {
   "cell_type": "code",
   "execution_count": 19,
   "id": "1330e169-12cb-4c58-b3f3-22c180ca8c3a",
   "metadata": {},
   "outputs": [],
   "source": [
    "mix[:,-1] *= -1 "
   ]
  },
  {
   "cell_type": "code",
   "execution_count": 20,
   "id": "b9dce47f-2c2f-401a-b36e-2fbbd56d9f81",
   "metadata": {},
   "outputs": [
    {
     "data": {
      "image/png": "[encoded data removed]",
      "text/plain": [
       "<Figure size 432x288 with 2 Axes>"
      ]
     },
     "metadata": {
      "needs_background": "light"
     },
     "output_type": "display_data"
    }
   ],
   "source": [
    "max_val = np.amax(abs(mix))\n",
    "plt.imshow(mix, vmin = -max_val, vmax=max_val)\n",
    "plt.title('Mixture Strengths ICA Horizontal')\n",
    "plt.colorbar()\n",
    "plt.show()"
   ]
  },
  {
   "cell_type": "code",
   "execution_count": 21,
   "id": "02f45de5-9471-456e-8052-8d8aaa8e8246",
   "metadata": {},
   "outputs": [],
   "source": [
    "last_source = ica_h_sources[:, -1]"
   ]
  },
  {
   "cell_type": "code",
   "execution_count": 22,
   "id": "16697329-40df-4e7f-8cb9-e2c7b6316142",
   "metadata": {},
   "outputs": [
    {
     "data": {
      "image/png": "[encoded data removed]",
      "text/plain": [
       "<Figure size 432x288 with 1 Axes>"
      ]
     },
     "metadata": {
      "needs_background": "light"
     },
     "output_type": "display_data"
    }
   ],
   "source": [
    "plt.hist(last_source)\n",
    "plt.title(\"Least Impactful Horizontal Source\")\n",
    "plt.show()"
   ]
  },
  {
   "cell_type": "code",
   "execution_count": 23,
   "id": "b44b3775-a22e-484a-b4ef-9f211ae76d07",
   "metadata": {},
   "outputs": [
    {
     "data": {
      "image/png": "[encoded data removed]",
      "text/plain": [
       "<Figure size 432x288 with 1 Axes>"
      ]
     },
     "metadata": {
      "needs_background": "light"
     },
     "output_type": "display_data"
    }
   ],
   "source": [
    "plt.hist(ica_h_sources[:, 0])\n",
    "plt.title(\"Most Impactful Horizontal Source\")\n",
    "plt.show()"
   ]
  },
  {
   "cell_type": "code",
   "execution_count": null,
   "id": "a3230fd2-083c-46f9-8266-fd237f5eb105",
   "metadata": {},
   "outputs": [],
   "source": []
  }
 ],
 "metadata": {
  "kernelspec": {
   "display_name": "Python 3",
   "language": "python",
   "name": "python3"
  },
  "language_info": {
   "codemirror_mode": {
    "name": "ipython",
    "version": 3
   },
   "file_extension": ".py",
   "mimetype": "text/x-python",
   "name": "python",
   "nbconvert_exporter": "python",
   "pygments_lexer": "ipython3",
   "version": "3.8.8"
  }
 },
 "nbformat": 4,
 "nbformat_minor": 5
}
