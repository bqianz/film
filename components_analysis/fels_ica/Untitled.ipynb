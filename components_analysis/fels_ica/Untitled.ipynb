{
 "cells": [
  {
   "cell_type": "code",
   "execution_count": 1,
   "id": "b4e5d1ba-c9b1-42f4-b321-aac26b5a8dbf",
   "metadata": {},
   "outputs": [
    {
     "data": {
      "text/plain": [
       "(623061, 5)"
      ]
     },
     "execution_count": 1,
     "metadata": {},
     "output_type": "execute_result"
    }
   ],
   "source": [
    "import numpy as np\n",
    "\n",
    "sources = np.load(\"sources.npy\")\n",
    "\n",
    "sources.shape"
   ]
  },
  {
   "cell_type": "code",
   "execution_count": 2,
   "id": "cc829976-55b0-43d9-aa82-4a2938047329",
   "metadata": {},
   "outputs": [
    {
     "data": {
      "text/plain": [
       "0.02911060296325819"
      ]
     },
     "execution_count": 2,
     "metadata": {},
     "output_type": "execute_result"
    }
   ],
   "source": [
    "np.amax(sources)"
   ]
  },
  {
   "cell_type": "code",
   "execution_count": 3,
   "id": "3d89c884-0dba-4ee9-b550-b2db8e8f772c",
   "metadata": {},
   "outputs": [
    {
     "data": {
      "text/plain": [
       "-0.011477686562000346"
      ]
     },
     "execution_count": 3,
     "metadata": {},
     "output_type": "execute_result"
    }
   ],
   "source": [
    "np.amin(sources)"
   ]
  },
  {
   "cell_type": "code",
   "execution_count": 6,
   "id": "15ab63bc-a42a-4294-bedd-661b4e4610dd",
   "metadata": {},
   "outputs": [
    {
     "data": {
      "text/plain": [
       "(52, 5)"
      ]
     },
     "execution_count": 6,
     "metadata": {},
     "output_type": "execute_result"
    }
   ],
   "source": [
    "mixing = np.load(\"mixing.npy\")\n",
    "\n",
    "mixing.shape"
   ]
  },
  {
   "cell_type": "code",
   "execution_count": 7,
   "id": "8fd33411-de10-4e0b-b04e-2de271416c11",
   "metadata": {},
   "outputs": [
    {
     "data": {
      "text/plain": [
       "3077.5790823066345"
      ]
     },
     "execution_count": 7,
     "metadata": {},
     "output_type": "execute_result"
    }
   ],
   "source": [
    "np.amax(mixing)"
   ]
  },
  {
   "cell_type": "code",
   "execution_count": 8,
   "id": "da29129f-01ae-4ae4-a87e-ec1d6a8f24d2",
   "metadata": {},
   "outputs": [
    {
     "data": {
      "text/plain": [
       "-314.1993081265889"
      ]
     },
     "execution_count": 8,
     "metadata": {},
     "output_type": "execute_result"
    }
   ],
   "source": [
    "np.amin(mixing)"
   ]
  },
  {
   "cell_type": "code",
   "execution_count": 9,
   "id": "27477cdc-c08a-40fb-8a2a-e2474b9a4ac5",
   "metadata": {},
   "outputs": [],
   "source": [
    "import matplotlib.pyplot as plt"
   ]
  },
  {
   "cell_type": "code",
   "execution_count": 12,
   "id": "5714cb30-3dd1-4305-8e04-5f41391540ea",
   "metadata": {},
   "outputs": [
    {
     "data": {
      "text/plain": [
       "(array([4.600000e+01, 2.920000e+02, 2.134000e+03, 1.532200e+04,\n",
       "        1.774150e+05, 2.624862e+06, 2.167890e+05, 4.229100e+04,\n",
       "        2.059900e+04, 8.653000e+03, 2.317000e+03, 1.664000e+03,\n",
       "        1.066000e+03, 5.570000e+02, 3.620000e+02, 3.180000e+02,\n",
       "        2.470000e+02, 2.470000e+02, 1.080000e+02, 1.600000e+01]),\n",
       " array([-0.01147769, -0.00944827, -0.00741886, -0.00538944, -0.00336003,\n",
       "        -0.00133061,  0.0006988 ,  0.00272821,  0.00475763,  0.00678704,\n",
       "         0.00881646,  0.01084587,  0.01287529,  0.0149047 ,  0.01693412,\n",
       "         0.01896353,  0.02099295,  0.02302236,  0.02505177,  0.02708119,\n",
       "         0.0291106 ]),\n",
       " <BarContainer object of 20 artists>)"
      ]
     },
     "execution_count": 12,
     "metadata": {},
     "output_type": "execute_result"
    },
    {
     "data": {
      "image/png": "[encoded data removed]",
      "text/plain": [
       "<Figure size 432x288 with 1 Axes>"
      ]
     },
     "metadata": {
      "needs_background": "light"
     },
     "output_type": "display_data"
    }
   ],
   "source": [
    "plt.hist(sources.flatten(), bins=20)"
   ]
  },
  {
   "cell_type": "code",
   "execution_count": 13,
   "id": "d869c72c-f2fd-4fa9-b992-f59a1dfbd820",
   "metadata": {},
   "outputs": [
    {
     "data": {
      "text/plain": [
       "(array([ 2.,  9., 41., 65., 37., 28., 27., 20., 10.,  4.,  5.,  1.,  1.,\n",
       "         4.,  3.,  2.,  0.,  0.,  0.,  1.]),\n",
       " array([-314.19930813, -144.6103886 ,   24.97853092,  194.56745044,\n",
       "         364.15636996,  533.74528948,  703.334209  ,  872.92312853,\n",
       "        1042.51204805, 1212.10096757, 1381.68988709, 1551.27880661,\n",
       "        1720.86772613, 1890.45664566, 2060.04556518, 2229.6344847 ,\n",
       "        2399.22340422, 2568.81232374, 2738.40124326, 2907.99016278,\n",
       "        3077.57908231]),\n",
       " <BarContainer object of 20 artists>)"
      ]
     },
     "execution_count": 13,
     "metadata": {},
     "output_type": "execute_result"
    },
    {
     "data": {
      "image/png": "[encoded data removed]",
      "text/plain": [
       "<Figure size 432x288 with 1 Axes>"
      ]
     },
     "metadata": {
      "needs_background": "light"
     },
     "output_type": "display_data"
    }
   ],
   "source": [
    "plt.hist(mixing.flatten(), bins=20)"
   ]
  },
  {
   "cell_type": "code",
   "execution_count": 14,
   "id": "7871ac03-25ad-493b-9640-7fa4ee13f331",
   "metadata": {},
   "outputs": [],
   "source": [
    "mean = np.load(\"mean.npy\")"
   ]
  },
  {
   "cell_type": "code",
   "execution_count": 15,
   "id": "b58c4fec-b600-4950-926e-4f6a648263d6",
   "metadata": {},
   "outputs": [
    {
     "data": {
      "text/plain": [
       "(array([ 1.,  6., 11., 11.,  6.,  2.,  2.,  6.,  4.,  1.,  0.,  0.,  0.,\n",
       "         0.,  0.,  0.,  1.,  0.,  0.,  1.]),\n",
       " array([-0.01374221,  0.41371024,  0.8411627 ,  1.2686151 ,  1.6960676 ,\n",
       "         2.1235201 ,  2.5509725 ,  2.978425  ,  3.4058774 ,  3.83333   ,\n",
       "         4.2607822 ,  4.688235  ,  5.1156874 ,  5.54314   ,  5.970592  ,\n",
       "         6.3980446 ,  6.825497  ,  7.2529497 ,  7.680402  ,  8.107855  ,\n",
       "         8.535307  ], dtype=float32),\n",
       " <BarContainer object of 20 artists>)"
      ]
     },
     "execution_count": 15,
     "metadata": {},
     "output_type": "execute_result"
    },
    {
     "data": {
      "image/png": "[encoded data removed]",
      "text/plain": [
       "<Figure size 432x288 with 1 Axes>"
      ]
     },
     "metadata": {
      "needs_background": "light"
     },
     "output_type": "display_data"
    }
   ],
   "source": [
    "plt.hist(mean.flatten(), bins=20)"
   ]
  },
  {
   "cell_type": "code",
   "execution_count": null,
   "id": "9360c1f3-ff6a-46c8-8d76-f163aca1e2e5",
   "metadata": {},
   "outputs": [],
   "source": []
  }
 ],
 "metadata": {
  "kernelspec": {
   "display_name": "Python 3",
   "language": "python",
   "name": "python3"
  },
  "language_info": {
   "codemirror_mode": {
    "name": "ipython",
    "version": 3
   },
   "file_extension": ".py",
   "mimetype": "text/x-python",
   "name": "python",
   "nbconvert_exporter": "python",
   "pygments_lexer": "ipython3",
   "version": "3.8.8"
  }
 },
 "nbformat": 4,
 "nbformat_minor": 5
}
