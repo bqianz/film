{
 "cells": [
  {
   "cell_type": "code",
   "execution_count": 1,
   "id": "534daa57-edac-4c5c-be60-c86292f8ff6d",
   "metadata": {},
   "outputs": [],
   "source": [
    "import os"
   ]
  },
  {
   "cell_type": "code",
   "execution_count": 4,
   "id": "693cbc9e-4361-4c4c-9ea6-6b5240809489",
   "metadata": {},
   "outputs": [],
   "source": [
    "chips_dir = \"chips_temp\"\n",
    "if not os.path.exists(chips_dir):\n",
    "    # if the demo_folder directory is not present \n",
    "    # then create it.\n",
    "    os.makedirs(chips_dir)"
   ]
  },
  {
   "cell_type": "code",
   "execution_count": null,
   "id": "83d6f548-27a0-4096-8c49-aebba766fc6d",
   "metadata": {},
   "outputs": [],
   "source": [
    "location_ids = ['0170-1-10']"
   ]
  },
  {
   "cell_type": "code",
   "execution_count": 6,
   "id": "282d713f-b4fb-4354-a467-89caa7a17eb5",
   "metadata": {},
   "outputs": [],
   "source": [
    "# base lat and long at lower left corner of input image\n",
    "base_lat = 65\n",
    "base_lng = -135\n",
    "\n",
    "degrees_coverage_lat = 5\n",
    "degrees_coverage_lng = 5\n",
    "\n",
    "num_pixels_lat = 6000\n",
    "num_pixels_lng = 6000\n",
    "\n",
    "degree_per_pixel_lat= degrees_coverage_lat / num_pixels_lat\n",
    "degree_per_pixel_lng = degrees_coverage_lng / num_pixels_lng\n",
    "\n",
    "end_lat = base_lat + degrees_coverage_lat\n",
    "end_lng = base_lng + degrees_coverage_lng"
   ]
  },
  {
   "cell_type": "code",
   "execution_count": null,
   "id": "fd2a8079-ab1d-4ad5-891b-8a5a7849e929",
   "metadata": {},
   "outputs": [],
   "source": [
    "chip_size_lat = 128\n",
    "chip_size_lng = 128\n",
    "\n",
    "chip_size_lat_degree = chip_size_lat * degree_per_pixel_lat\n",
    "chip_size_lng_degree = chip_size_lng * degree_per_pixel_lng"
   ]
  },
  {
   "cell_type": "code",
   "execution_count": null,
   "id": "4a8315cb-6713-4ad0-8fc6-dce6b7cc2440",
   "metadata": {},
   "outputs": [],
   "source": [
    "def get_chip_pixel_indices(lat, lng):\n",
    "    chip_start_lat = lat - chip_size_lat_degree / 2\n",
    "    chip_end_lat = chip_start + chip_size_lat\n",
    "    \n",
    "    if chip_end_lat >= \n",
    "    \n",
    "    lat_index_start = np.round((lat - base_lat) / pixel_len - chip_size/2).astype(int)\n",
    "    lat_index_end = lat_index_start + self.chip_size\n",
    "    "
   ]
  },
  {
   "cell_type": "code",
   "execution_count": 7,
   "id": "ed6c3e80-b505-4eb8-ae38-040cc2187f49",
   "metadata": {},
   "outputs": [],
   "source": [
    "# degree\n",
    "\n",
    "tile_base = 65\n",
    "tile_coverage = 5\n",
    "num_pixels_per_tile = 6000\n",
    "chip_size = 128\n",
    "\n",
    "\n",
    "deg_per_pixel = tile_coverage / num_pixels_per_tile\n",
    "\n",
    "def get_anchor_pixel():\n",
    "    if anchor < tile_base:\n",
    "        return 0\n",
    "    elif tile_base + tile + cover <= anchor:\n",
    "        return num_pixels_per_tile - 1\n",
    "    else:\n",
    "        return (anchor - tile_base) / deg_per_pixel\n",
    "\n",
    "\n",
    "\n"
   ]
  },
  {
   "cell_type": "code",
   "execution_count": null,
   "id": "9e2ffbd6-2175-4ea4-bc38-751963dc507f",
   "metadata": {},
   "outputs": [],
   "source": [
    "# lat\n",
    "    start_pix = get_anchor_pixel()\n",
    "    end_pix = get_anchor_pixel()\n",
    "\n",
    "if is_lat:\n",
    "    start_pix = num_pixels_per_tile - start_pix -1\n",
    "    end_pix = num_pixels_per_tile - end_pix -1\n",
    "\n",
    "range = end_pix + \n",
    "\n",
    "chip[] = tile[][]"
   ]
  },
  {
   "cell_type": "code",
   "execution_count": null,
   "id": "0bb70353-ae8e-402a-814c-c6473eab0dc3",
   "metadata": {},
   "outputs": [],
   "source": [
    "# lat_index_start = np.round((self.base_lat - lat) / pixel_len - self.chip_size/2).astype(int)\n",
    "# lat_index_end = lat_index_start + self.chip_size\n",
    "\n",
    "# lng_index_start = np.round((lng - self.base_lng) / pixel_len - self.chip_size/2).astype(int)\n",
    "# lng_index_end = lng_index_start + self.chip_size\n",
    "\n",
    "# image = self.preloaded[:, lat_index_start:lat_index_end,lng_index_start:lng_index_end]"
   ]
  },
  {
   "cell_type": "code",
   "execution_count": null,
   "id": "c098ca4d-a1e3-48a9-baf6-1420701f5122",
   "metadata": {},
   "outputs": [],
   "source": [
    "# print(test_dataset[0]['image'].shape)\n",
    "\n",
    "# chips_root = \"geomorph_data_test_chips\"\n",
    "\n",
    "# for i, data in enumerate(test_dataset):\n",
    "    \n",
    "#     save_image(data['image'], os.path.join(\"geomorph_data_test_chips\", f'{i:04d}.png'))\n",
    "#     # np.save(os.path.join(chips_root, f'{i:04d}.npy'), data['image'])"
   ]
  }
 ],
 "metadata": {
  "kernelspec": {
   "display_name": "Python 3",
   "language": "python",
   "name": "python3"
  },
  "language_info": {
   "codemirror_mode": {
    "name": "ipython",
    "version": 3
   },
   "file_extension": ".py",
   "mimetype": "text/x-python",
   "name": "python",
   "nbconvert_exporter": "python",
   "pygments_lexer": "ipython3",
   "version": "3.8.8"
  }
 },
 "nbformat": 4,
 "nbformat_minor": 5
}
