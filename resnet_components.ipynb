{
 "cells": [
  {
   "cell_type": "code",
   "execution_count": 1,
   "id": "2acc43dc-19d6-4aaa-bf16-1f899c9499ab",
   "metadata": {},
   "outputs": [],
   "source": [
    "import torch\n",
    "import torch.nn as nn\n",
    "from torch.utils.data import Dataset\n",
    "from torch.utils.data import DataLoader\n",
    "from torchvision import transforms\n",
    "from torchvision.transforms import ToTensor\n",
    "import torchvision.models as models\n",
    "from PIL import Image\n",
    "import os\n",
    "import numpy as np\n",
    "import pandas as pd\n",
    "from matplotlib import pyplot as plt\n",
    "import seaborn as sb\n",
    "\n",
    "from pathlib import Path\n",
    "\n",
    "from pyproj import Transformer\n",
    "\n",
    "from functools import partial\n",
    "from collections import OrderedDict\n",
    "\n",
    "from sklearn.metrics import classification_report, confusion_matrix, accuracy_score, precision_recall_fscore_support\n",
    "from sklearn.preprocessing import MinMaxScaler, StandardScaler\n",
    "\n",
    "import time\n",
    "import pickle\n",
    "\n",
    "from icefunctions import plot_component_strength_map"
   ]
  },
  {
   "cell_type": "code",
   "execution_count": 2,
   "id": "30eca0ef-65f3-4c60-8240-c82ee6e5db60",
   "metadata": {},
   "outputs": [],
   "source": [
    "n_components = 3\n",
    "\n",
    "component_selected = 0\n",
    "\n",
    "chip_size = 16\n",
    "\n",
    "data_root = \"saga_data\"\n",
    "n_channels = len(os.listdir(data_root)) // 2\n",
    "\n",
    "device = torch.device('cuda' if torch.cuda.is_available() else 'cpu')\n",
    "# device = 'cpu'\n",
    "\n",
    "L2_param = 1e-5\n",
    "\n",
    "transformer = Transformer.from_crs(\"epsg:4326\", \"epsg:3413\")\n",
    "\n",
    "models_dir = 'res_comp/'\n",
    "Path(models_dir).mkdir(parents=True, exist_ok=True)\n",
    "\n",
    "train_max_epoch = 50"
   ]
  },
  {
   "cell_type": "code",
   "execution_count": 3,
   "id": "05bd1bc4-61b9-4e41-8f9e-866dc8be75cd",
   "metadata": {},
   "outputs": [],
   "source": [
    "with open('components_analysis/mix_n{}.npy'.format(n_components), 'rb') as f:\n",
    "    mix = np.load(f)"
   ]
  },
  {
   "cell_type": "code",
   "execution_count": 4,
   "id": "5400e0a1-33a3-4a0a-923f-6f127b053c71",
   "metadata": {},
   "outputs": [],
   "source": [
    "df = pd.read_csv('components_analysis/df_unique.csv', header=[0])\n",
    "df['proj_x'], df['proj_y'] = transformer.transform(df.latitude,df.longitude)"
   ]
  },
  {
   "cell_type": "code",
   "execution_count": 5,
   "id": "fdae3152-779b-4a9d-aa61-3e0364d1acf2",
   "metadata": {},
   "outputs": [],
   "source": [
    "for i in range(mix.shape[1]):\n",
    "    df['component{}'.format(i)] = mix[:, i]"
   ]
  },
  {
   "cell_type": "code",
   "execution_count": 6,
   "id": "b4335684-c909-4d2d-8aa7-71687974c0e2",
   "metadata": {},
   "outputs": [
    {
     "data": {
      "text/html": [
       "<div>\n",
       "<style scoped>\n",
       "    .dataframe tbody tr th:only-of-type {\n",
       "        vertical-align: middle;\n",
       "    }\n",
       "\n",
       "    .dataframe tbody tr th {\n",
       "        vertical-align: top;\n",
       "    }\n",
       "\n",
       "    .dataframe thead th {\n",
       "        text-align: right;\n",
       "    }\n",
       "</style>\n",
       "<table border=\"1\" class=\"dataframe\">\n",
       "  <thead>\n",
       "    <tr style=\"text-align: right;\">\n",
       "      <th></th>\n",
       "      <th>latitude</th>\n",
       "      <th>longitude</th>\n",
       "      <th>time</th>\n",
       "      <th>borehole</th>\n",
       "      <th>depth</th>\n",
       "      <th>frozen</th>\n",
       "      <th>cryostructures</th>\n",
       "      <th>visible_ice</th>\n",
       "      <th>ASTM_2488</th>\n",
       "      <th>materials</th>\n",
       "      <th>...</th>\n",
       "      <th>bottom_of_interval</th>\n",
       "      <th>month</th>\n",
       "      <th>year</th>\n",
       "      <th>month_cyclic</th>\n",
       "      <th>visible_ice_code</th>\n",
       "      <th>proj_x</th>\n",
       "      <th>proj_y</th>\n",
       "      <th>component0</th>\n",
       "      <th>component1</th>\n",
       "      <th>component2</th>\n",
       "    </tr>\n",
       "  </thead>\n",
       "  <tbody>\n",
       "    <tr>\n",
       "      <th>0</th>\n",
       "      <td>69.16162</td>\n",
       "      <td>-133.08682</td>\n",
       "      <td>2012-03-21T00:00:00Z</td>\n",
       "      <td>0170-1-10</td>\n",
       "      <td>0.85</td>\n",
       "      <td>1</td>\n",
       "      <td>NaN</td>\n",
       "      <td>Pure ice</td>\n",
       "      <td>ICE</td>\n",
       "      <td>Ice</td>\n",
       "      <td>...</td>\n",
       "      <td>1.4</td>\n",
       "      <td>3</td>\n",
       "      <td>2012</td>\n",
       "      <td>3</td>\n",
       "      <td>4</td>\n",
       "      <td>-2.280305e+06</td>\n",
       "      <td>-76170.639998</td>\n",
       "      <td>3.020992e+00</td>\n",
       "      <td>-3.513280e-01</td>\n",
       "      <td>1.557754e+00</td>\n",
       "    </tr>\n",
       "    <tr>\n",
       "      <th>1</th>\n",
       "      <td>69.16105</td>\n",
       "      <td>-133.08880</td>\n",
       "      <td>2012-03-21T00:00:00Z</td>\n",
       "      <td>0170-1-12</td>\n",
       "      <td>1.20</td>\n",
       "      <td>1</td>\n",
       "      <td>Nf</td>\n",
       "      <td>No visible ice</td>\n",
       "      <td>GP-GM</td>\n",
       "      <td>Coarse till</td>\n",
       "      <td>...</td>\n",
       "      <td>2.4</td>\n",
       "      <td>3</td>\n",
       "      <td>2012</td>\n",
       "      <td>3</td>\n",
       "      <td>0</td>\n",
       "      <td>-2.280371e+06</td>\n",
       "      <td>-76093.964428</td>\n",
       "      <td>-9.836304e-15</td>\n",
       "      <td>-2.845538e-14</td>\n",
       "      <td>-3.625484e-15</td>\n",
       "    </tr>\n",
       "    <tr>\n",
       "      <th>2</th>\n",
       "      <td>69.15849</td>\n",
       "      <td>-133.08865</td>\n",
       "      <td>2012-03-20T00:00:00Z</td>\n",
       "      <td>0170-1-17</td>\n",
       "      <td>1.45</td>\n",
       "      <td>1</td>\n",
       "      <td>NaN</td>\n",
       "      <td>No visible ice</td>\n",
       "      <td>SM-SC</td>\n",
       "      <td>Sand</td>\n",
       "      <td>...</td>\n",
       "      <td>2.3</td>\n",
       "      <td>3</td>\n",
       "      <td>2012</td>\n",
       "      <td>3</td>\n",
       "      <td>0</td>\n",
       "      <td>-2.280657e+06</td>\n",
       "      <td>-76109.484296</td>\n",
       "      <td>-5.746523e+00</td>\n",
       "      <td>5.205425e-02</td>\n",
       "      <td>6.007709e-01</td>\n",
       "    </tr>\n",
       "    <tr>\n",
       "      <th>3</th>\n",
       "      <td>69.15908</td>\n",
       "      <td>-133.08968</td>\n",
       "      <td>2012-03-20T00:00:00Z</td>\n",
       "      <td>0170-1-18</td>\n",
       "      <td>1.20</td>\n",
       "      <td>1</td>\n",
       "      <td>NaN</td>\n",
       "      <td>No visible ice</td>\n",
       "      <td>ML</td>\n",
       "      <td>Silt</td>\n",
       "      <td>...</td>\n",
       "      <td>2.3</td>\n",
       "      <td>3</td>\n",
       "      <td>2012</td>\n",
       "      <td>3</td>\n",
       "      <td>0</td>\n",
       "      <td>-2.280593e+06</td>\n",
       "      <td>-76066.285386</td>\n",
       "      <td>-5.746523e+00</td>\n",
       "      <td>5.205425e-02</td>\n",
       "      <td>6.007709e-01</td>\n",
       "    </tr>\n",
       "    <tr>\n",
       "      <th>4</th>\n",
       "      <td>69.15886</td>\n",
       "      <td>-133.09090</td>\n",
       "      <td>2012-03-21T00:00:00Z</td>\n",
       "      <td>0170-1-19</td>\n",
       "      <td>1.20</td>\n",
       "      <td>1</td>\n",
       "      <td>Nf</td>\n",
       "      <td>No visible ice</td>\n",
       "      <td>GP</td>\n",
       "      <td>Gravel</td>\n",
       "      <td>...</td>\n",
       "      <td>2.4</td>\n",
       "      <td>3</td>\n",
       "      <td>2012</td>\n",
       "      <td>3</td>\n",
       "      <td>0</td>\n",
       "      <td>-2.280619e+06</td>\n",
       "      <td>-76018.544396</td>\n",
       "      <td>-5.850486e+00</td>\n",
       "      <td>9.056090e-01</td>\n",
       "      <td>5.064118e-01</td>\n",
       "    </tr>\n",
       "  </tbody>\n",
       "</table>\n",
       "<p>5 rows × 22 columns</p>\n",
       "</div>"
      ],
      "text/plain": [
       "   latitude  longitude                  time   borehole  depth  frozen  \\\n",
       "0  69.16162 -133.08682  2012-03-21T00:00:00Z  0170-1-10   0.85       1   \n",
       "1  69.16105 -133.08880  2012-03-21T00:00:00Z  0170-1-12   1.20       1   \n",
       "2  69.15849 -133.08865  2012-03-20T00:00:00Z  0170-1-17   1.45       1   \n",
       "3  69.15908 -133.08968  2012-03-20T00:00:00Z  0170-1-18   1.20       1   \n",
       "4  69.15886 -133.09090  2012-03-21T00:00:00Z  0170-1-19   1.20       1   \n",
       "\n",
       "  cryostructures     visible_ice ASTM_2488    materials  ...  \\\n",
       "0            NaN        Pure ice       ICE          Ice  ...   \n",
       "1             Nf  No visible ice     GP-GM  Coarse till  ...   \n",
       "2            NaN  No visible ice     SM-SC         Sand  ...   \n",
       "3            NaN  No visible ice        ML         Silt  ...   \n",
       "4             Nf  No visible ice        GP       Gravel  ...   \n",
       "\n",
       "   bottom_of_interval  month  year  month_cyclic  visible_ice_code  \\\n",
       "0                 1.4      3  2012             3                 4   \n",
       "1                 2.4      3  2012             3                 0   \n",
       "2                 2.3      3  2012             3                 0   \n",
       "3                 2.3      3  2012             3                 0   \n",
       "4                 2.4      3  2012             3                 0   \n",
       "\n",
       "         proj_x        proj_y    component0    component1    component2  \n",
       "0 -2.280305e+06 -76170.639998  3.020992e+00 -3.513280e-01  1.557754e+00  \n",
       "1 -2.280371e+06 -76093.964428 -9.836304e-15 -2.845538e-14 -3.625484e-15  \n",
       "2 -2.280657e+06 -76109.484296 -5.746523e+00  5.205425e-02  6.007709e-01  \n",
       "3 -2.280593e+06 -76066.285386 -5.746523e+00  5.205425e-02  6.007709e-01  \n",
       "4 -2.280619e+06 -76018.544396 -5.850486e+00  9.056090e-01  5.064118e-01  \n",
       "\n",
       "[5 rows x 22 columns]"
      ]
     },
     "execution_count": 6,
     "metadata": {},
     "output_type": "execute_result"
    }
   ],
   "source": [
    "df.head()"
   ]
  },
  {
   "cell_type": "code",
   "execution_count": 7,
   "id": "5ee0e1f4-5fa1-43c9-8975-489abf9dbdaa",
   "metadata": {},
   "outputs": [
    {
     "data": {
      "text/plain": [
       "561"
      ]
     },
     "execution_count": 7,
     "metadata": {},
     "output_type": "execute_result"
    }
   ],
   "source": [
    "len(df)"
   ]
  },
  {
   "cell_type": "code",
   "execution_count": 8,
   "id": "1caba5ba-2471-41fe-b1ef-7d97f0542767",
   "metadata": {},
   "outputs": [],
   "source": [
    "class SAGA10mDataset(Dataset):\n",
    "    def __init__(self, data_root, df, mix, chip_size=32):\n",
    "        \n",
    "        self.df = df\n",
    "        self.mix = mix\n",
    "        \n",
    "        # 1 pixel = 10|\n",
    "        self.n_pixels = 10000\n",
    "        self.base_y = -9995\n",
    "        self.base_x = -239995\n",
    "        \n",
    "        self.chip_size = chip_size\n",
    "        \n",
    "        self.trans = transforms.ToTensor()\n",
    "        \n",
    "        self.n_channels = len(os.listdir(data_root))//2\n",
    "        \n",
    "        print(\"Dataset contains {} channels\".format(self.n_channels))\n",
    "        \n",
    "        self.preloaded = torch.zeros(self.n_channels, self.n_pixels, self.n_pixels*2)\n",
    "        \n",
    "        file_list = os.listdir(data_root)\n",
    "        \n",
    "        for i in range(self.n_channels):\n",
    "            # name = file.split('_')[0]\n",
    "            # print(name)\n",
    "            self.preloaded[i, :, 0:10000] = self.trans(Image.open(data_root + os.path.sep + file_list[i*2]))\n",
    "            self.preloaded[i,:, 10000:20000] = self.trans(Image.open(data_root + os.path.sep + file_list[i*2 + 1]))\n",
    "        \n",
    "        self.preloaded[self.preloaded < -9000] = 0\n",
    "        \n",
    "        print('Dataset initialized')\n",
    "        \n",
    "    def __len__(self):\n",
    "        return self.df.shape[0]\n",
    "\n",
    "    def __getitem__(self, idx):\n",
    "        \n",
    "        row = self.df.iloc[idx]\n",
    "        \n",
    "#         bh_id = row.at['borehole']\n",
    "#         lat = row.at['latitude']\n",
    "#         lng = row.at['longitude']\n",
    "        \n",
    "        x = row.at['proj_x']\n",
    "        y = row.at['proj_y']\n",
    "        \n",
    "        \n",
    "        pixel_len = 10\n",
    "        \n",
    "        \n",
    "        \n",
    "        x_start = max(0 , np.round((x - self.base_x) / pixel_len - self.chip_size/2).astype(int))\n",
    "        x_end = min(20000, x_start + self.chip_size)\n",
    "        \n",
    "        y_start = max(0, np.round((- y) / pixel_len - self.chip_size/2).astype(int))\n",
    "        y_end = min(20000, y_start + self.chip_size)\n",
    "        \n",
    "\n",
    "        image= self.preloaded[:, y_start:y_end, x_start:x_end]\n",
    "        \n",
    "        mix = torch.tensor(self.mix[idx]).float()\n",
    "        \n",
    "        return {'image': image, 'components_strengths': mix, \\\n",
    "                'latitude': row.at['latitude'], 'longitude': row.at['longitude'], 'borehole': row.at['borehole']}"
   ]
  },
  {
   "cell_type": "code",
   "execution_count": 9,
   "id": "31cd4b44-e9ad-4717-ba3b-6c167cee766a",
   "metadata": {},
   "outputs": [
    {
     "name": "stdout",
     "output_type": "stream",
     "text": [
      "Dataset contains 1 channels\n"
     ]
    },
    {
     "name": "stderr",
     "output_type": "stream",
     "text": [
      "c:\\users\\mouju\\appdata\\local\\programs\\python\\python38\\lib\\site-packages\\PIL\\Image.py:2855: DecompressionBombWarning: Image size (100000000 pixels) exceeds limit of 89478485 pixels, could be decompression bomb DOS attack.\n",
      "  warnings.warn(\n"
     ]
    },
    {
     "name": "stdout",
     "output_type": "stream",
     "text": [
      "Dataset initialized\n"
     ]
    }
   ],
   "source": [
    "full_dataset = SAGA10mDataset(data_root, df, mix, chip_size)"
   ]
  },
  {
   "cell_type": "code",
   "execution_count": 10,
   "id": "15ec6abc-199d-4df7-92e8-55e6ed9ef86d",
   "metadata": {},
   "outputs": [
    {
     "name": "stdout",
     "output_type": "stream",
     "text": [
      "tensor(0.)\n",
      "tensor(0.1342)\n"
     ]
    }
   ],
   "source": [
    "# check max min values\n",
    "\n",
    "minval = 1000\n",
    "maxval = 0\n",
    "\n",
    "for i in range(len(full_dataset)):\n",
    "    image = full_dataset[i]['image'].flatten()\n",
    "    \n",
    "    minval = min(minval, min(image))\n",
    "    maxval = max(maxval, max(image))\n",
    "\n",
    "print(minval)\n",
    "print(maxval)\n",
    "\n",
    "# normalize image values\n",
    "magnitude_max = max(abs(minval), maxval)\n",
    "\n",
    "for i in range(len(full_dataset)):\n",
    "    full_dataset[i]['image'] = full_dataset[i]['image'] / magnitude_max\n",
    "    "
   ]
  },
  {
   "cell_type": "code",
   "execution_count": 11,
   "id": "21a0c1f4-dbd6-419c-8a67-faaa0895e71b",
   "metadata": {},
   "outputs": [],
   "source": [
    "def train(trainloader, testloader, print_epochs = False, loss_fn = torch.nn.BCELoss()):\n",
    "    \n",
    "    model= models.resnet18()\n",
    "    model.conv1 = nn.Conv2d(n_channels, 64, kernel_size=(7, 7), stride=(2, 2), padding=(3, 3), bias=False)\n",
    "    model.fc = nn.Linear(in_features=512, out_features=n_components)\n",
    "    \n",
    "    model.to(device)\n",
    "    \n",
    "    optimizer = torch.optim.Adam(model.parameters(), weight_decay = L2_param)\n",
    "\n",
    "    epoch_loss = np.zeros([train_max_epoch, 2])\n",
    "    for epoch in range(train_max_epoch):  # loop over the dataset multiple times\n",
    "\n",
    "        model.train()\n",
    "        running_loss_sum = 0.0\n",
    "        for i, data in enumerate(trainloader, 0): # loop over each sample\n",
    "            # get the inputs; data is a list of [inputs, labels]\n",
    "            image, labels = data['image'].to(device), data['components_strengths'].to(device)\n",
    "\n",
    "            predicted = model(image)\n",
    "            \n",
    "            \n",
    "#             print(predicted.squeeze().get_device())\n",
    "#             print('\\n')\n",
    "#             print(labels.get_device())\n",
    "            \n",
    "            \n",
    "            # squeeze: return tensor with all dimensions of size 1 removed\n",
    "            loss = loss_fn(predicted.squeeze(), labels)\n",
    "            \n",
    "            optimizer.zero_grad()\n",
    "\n",
    "            loss.backward()\n",
    "\n",
    "            optimizer.step()\n",
    "\n",
    "            running_loss_sum += loss.item()\n",
    "\n",
    "        # ----------- get validation loss for current epoch --------------\n",
    "        model.eval()\n",
    "        validation_loss_sum = 0.0\n",
    "        for i, data in enumerate(testloader, 0): # loop over each sample\n",
    "\n",
    "            image, labels = data['image'].to(device), data['components_strengths'].to(device)\n",
    "\n",
    "            predicted = model(image)\n",
    "            \n",
    "            loss = loss_fn(predicted.squeeze(), labels)\n",
    "\n",
    "            validation_loss_sum += loss.item()\n",
    "\n",
    "        # ---------------- print statistics ------------------------\n",
    "\n",
    "        running_loss = running_loss_sum / len(trainloader)\n",
    "        validation_loss = validation_loss_sum / len(testloader)\n",
    "        epoch_loss[epoch, :] =  [running_loss, validation_loss]\n",
    "        \n",
    "        if print_epochs:\n",
    "            print('epoch %2d: running loss: %.5f, validation loss: %.5f' %\n",
    "                          (epoch + 1, running_loss, validation_loss))\n",
    "        \n",
    "        torch.save(model.state_dict(), os.path.join(models_dir, 'epoch-{}.pt'.format(epoch+1)))\n",
    "    \n",
    "    if print_epochs:\n",
    "        print('Finished Training')\n",
    "        \n",
    "    return epoch_loss\n",
    "        \n",
    "def test(epoch_loss, print_model_epoch = False):\n",
    "    \n",
    "    # ------ select model ---------\n",
    "    ind = np.argmin(epoch_loss[:, 1])\n",
    "    \n",
    "    \n",
    "    model= models.resnet18()\n",
    "    model.conv1 = nn.Conv2d(n_channels, 64, kernel_size=(7, 7), stride=(2, 2), padding=(3, 3), bias=False)\n",
    "    model.fc = nn.Linear(in_features=512, out_features=n_components)\n",
    "    \n",
    "    model.load_state_dict(torch.load('{}epoch-{}.pt'.format(models_dir, ind+1)))\n",
    "    \n",
    "    model.to(device)\n",
    "    \n",
    "    if print_model_epoch:\n",
    "        print(\"epoch {} model selected\".format(ind+1))\n",
    "    \n",
    "    # evaluate model on test set\n",
    "    model.eval()\n",
    "\n",
    "    with torch.no_grad():\n",
    "        res_strengths = []\n",
    "        \n",
    "        for i, data in enumerate(testloader, 0):\n",
    "            image, labels = data['image'].to(device), data['components_strengths'].to(device)\n",
    "            # y_test.append(label.numpy().list())\n",
    "            # print(label.shape)\n",
    "            # print(images.shape)\n",
    "\n",
    "            output = model(image)\n",
    "            \n",
    "            res_strengths.extend(output)\n",
    "            \n",
    "    return res_strengths"
   ]
  },
  {
   "cell_type": "code",
   "execution_count": 12,
   "id": "df55f2b6-601c-4166-8f3b-f2a26076a912",
   "metadata": {},
   "outputs": [
    {
     "name": "stdout",
     "output_type": "stream",
     "text": [
      "20\n"
     ]
    }
   ],
   "source": [
    "train_size = int(0.8 * len(full_dataset))\n",
    "test_size = len(full_dataset) - train_size\n",
    "\n",
    "# batchsize can cause error when last leftover batchsize is 1, batchnorm cannot function on 1 sample data\n",
    "batchsize = 20\n",
    "while(train_size % batchsize == 1):\n",
    "    batchsize+=1\n",
    "print(batchsize)\n",
    "\n",
    "train_data, test_data = torch.utils.data.random_split(full_dataset, [train_size, test_size], generator=torch.Generator().manual_seed(42))\n",
    "\n",
    "trainloader = DataLoader(train_data, batch_size=batchsize, shuffle=True)\n",
    "testloader = DataLoader(test_data, batch_size=batchsize, shuffle=True)"
   ]
  },
  {
   "cell_type": "code",
   "execution_count": 13,
   "id": "f76219a7-9510-4123-b2a7-eac77ae04905",
   "metadata": {},
   "outputs": [
    {
     "data": {
      "text/plain": [
       "23"
      ]
     },
     "execution_count": 13,
     "metadata": {},
     "output_type": "execute_result"
    }
   ],
   "source": [
    "len(trainloader)"
   ]
  },
  {
   "cell_type": "code",
   "execution_count": 14,
   "id": "fbe395ee-ba55-462a-b773-0a2abe2f4f5d",
   "metadata": {},
   "outputs": [],
   "source": [
    "test_length = len(test_data)"
   ]
  },
  {
   "cell_type": "code",
   "execution_count": 15,
   "id": "bdc5dbbe-411e-437d-bf59-745fcdfd0b6b",
   "metadata": {},
   "outputs": [],
   "source": [
    "latitudes_map = np.zeros(test_length)\n",
    "longitudes_map = np.zeros(test_length)\n",
    "mix_map = np.zeros([test_length, n_components])\n",
    "for i in range(test_length):\n",
    "    data= test_data[i]\n",
    "    latitudes_map[i] = data['latitude']\n",
    "    longitudes_map[i] = data['longitude']\n",
    "    mix_map[i] = data['components_strengths']"
   ]
  },
  {
   "cell_type": "code",
   "execution_count": 16,
   "id": "b3c67903-92c8-4420-ac26-669087ed41d6",
   "metadata": {},
   "outputs": [
    {
     "data": {
      "text/plain": [
       "(113, 3)"
      ]
     },
     "execution_count": 16,
     "metadata": {},
     "output_type": "execute_result"
    }
   ],
   "source": [
    "mix_map.shape"
   ]
  },
  {
   "cell_type": "code",
   "execution_count": 17,
   "id": "a28b9e75-bd2c-4b98-bc95-55a74cb2f530",
   "metadata": {},
   "outputs": [
    {
     "name": "stderr",
     "output_type": "stream",
     "text": [
      "c:\\users\\mouju\\appdata\\local\\programs\\python\\python38\\lib\\site-packages\\torch\\nn\\functional.py:718: UserWarning: Named tensors and all their associated APIs are an experimental feature and subject to change. Please do not use them for anything important until they are released as stable. (Triggered internally at  ..\\c10/core/TensorImpl.h:1156.)\n",
      "  return torch.max_pool2d(input, kernel_size, stride, padding, dilation, ceil_mode)\n"
     ]
    },
    {
     "name": "stdout",
     "output_type": "stream",
     "text": [
      "epoch  1: running loss: 0.88054, validation loss: 1.21933\n",
      "epoch  2: running loss: 0.69844, validation loss: 2.34231\n",
      "epoch  3: running loss: 0.67683, validation loss: 0.77678\n",
      "epoch  4: running loss: 0.65867, validation loss: 0.67998\n",
      "epoch  5: running loss: 0.66646, validation loss: 0.73333\n",
      "epoch  6: running loss: 0.64768, validation loss: 0.73970\n",
      "epoch  7: running loss: 0.62871, validation loss: 0.67542\n",
      "epoch  8: running loss: 0.63032, validation loss: 0.86701\n",
      "epoch  9: running loss: 0.63718, validation loss: 0.82367\n",
      "epoch 10: running loss: 0.62916, validation loss: 0.71723\n",
      "epoch 11: running loss: 0.61227, validation loss: 0.72075\n",
      "epoch 12: running loss: 0.59953, validation loss: 0.72075\n",
      "epoch 13: running loss: 0.60655, validation loss: 0.64677\n",
      "epoch 14: running loss: 0.57905, validation loss: 0.79052\n",
      "epoch 15: running loss: 0.60187, validation loss: 0.83222\n",
      "epoch 16: running loss: 0.58442, validation loss: 0.88556\n",
      "epoch 17: running loss: 0.60725, validation loss: 0.83965\n",
      "epoch 18: running loss: 0.60336, validation loss: 0.69483\n",
      "epoch 19: running loss: 0.58146, validation loss: 0.64718\n",
      "epoch 20: running loss: 0.58653, validation loss: 0.67122\n",
      "epoch 21: running loss: 0.57640, validation loss: 0.70431\n",
      "epoch 22: running loss: 0.58403, validation loss: 0.94678\n",
      "epoch 23: running loss: 0.57067, validation loss: 0.78535\n",
      "epoch 24: running loss: 0.56835, validation loss: 0.71784\n",
      "epoch 25: running loss: 0.55286, validation loss: 0.81260\n",
      "epoch 26: running loss: 0.54537, validation loss: 1.00719\n",
      "epoch 27: running loss: 0.57209, validation loss: 0.64880\n",
      "epoch 28: running loss: 0.56344, validation loss: 0.87191\n",
      "epoch 29: running loss: 0.54320, validation loss: 0.78894\n",
      "epoch 30: running loss: 0.56385, validation loss: 0.88690\n",
      "epoch 31: running loss: 0.54509, validation loss: 0.70890\n",
      "epoch 32: running loss: 0.51771, validation loss: 1.05648\n",
      "epoch 33: running loss: 0.55930, validation loss: 1.07486\n",
      "epoch 34: running loss: 0.55195, validation loss: 1.06879\n",
      "epoch 35: running loss: 0.54245, validation loss: 1.06688\n",
      "epoch 36: running loss: 0.51744, validation loss: 0.85676\n",
      "epoch 37: running loss: 0.52881, validation loss: 1.66309\n",
      "epoch 38: running loss: 0.50296, validation loss: 0.87442\n",
      "epoch 39: running loss: 0.51995, validation loss: 1.04414\n",
      "epoch 40: running loss: 0.53091, validation loss: 0.71619\n",
      "epoch 41: running loss: 0.51013, validation loss: 0.81520\n",
      "epoch 42: running loss: 0.51035, validation loss: 0.69102\n",
      "epoch 43: running loss: 0.47448, validation loss: 0.74972\n",
      "epoch 44: running loss: 0.47009, validation loss: 0.73284\n",
      "epoch 45: running loss: 0.43157, validation loss: 1.02074\n",
      "epoch 46: running loss: 0.46273, validation loss: 0.70313\n",
      "epoch 47: running loss: 0.46105, validation loss: 1.20484\n",
      "epoch 48: running loss: 0.51170, validation loss: 0.83106\n",
      "epoch 49: running loss: 0.48263, validation loss: 1.58122\n",
      "epoch 50: running loss: 0.48668, validation loss: 0.69368\n",
      "Finished Training\n",
      "epoch 13 model selected\n",
      "iteration 1 elapsed time: 36.618518114089966\n"
     ]
    }
   ],
   "source": [
    "for it in range(1):\n",
    "    start = time.time()\n",
    "    \n",
    "    epoch_loss = train(trainloader,testloader, print_epochs = True, loss_fn = nn.HuberLoss())\n",
    "    res_strengths= test(epoch_loss, print_model_epoch = True)\n",
    "\n",
    "    end = time.time()\n",
    "    \n",
    "    print('iteration {} elapsed time: {}'.format(it+1, end-start))\n",
    "\n"
   ]
  },
  {
   "cell_type": "code",
   "execution_count": 18,
   "id": "fe524dd1-4a7f-4017-9e3d-20cc1fde2b60",
   "metadata": {},
   "outputs": [],
   "source": [
    "with open('components_analysis/sources_n{}.npy'.format(n_components), 'rb') as f:\n",
    "    sources = np.load(f)\n",
    "\n",
    "with open('components_analysis/bh_observations.npy', 'rb') as f:\n",
    "    bh_obs = np.load(f) # visible_ice class"
   ]
  },
  {
   "cell_type": "code",
   "execution_count": 19,
   "id": "d7ba2f1a-c3f7-41f6-a464-6ea239a40cd0",
   "metadata": {},
   "outputs": [
    {
     "data": {
      "text/plain": [
       "(561, 3)"
      ]
     },
     "execution_count": 19,
     "metadata": {},
     "output_type": "execute_result"
    }
   ],
   "source": [
    "mix.shape"
   ]
  },
  {
   "cell_type": "code",
   "execution_count": 20,
   "id": "ead727d8-d677-456b-8117-9d2e67a206e2",
   "metadata": {},
   "outputs": [
    {
     "data": {
      "text/plain": [
       "(10, 3)"
      ]
     },
     "execution_count": 20,
     "metadata": {},
     "output_type": "execute_result"
    }
   ],
   "source": [
    "sources.shape"
   ]
  },
  {
   "cell_type": "code",
   "execution_count": 21,
   "id": "94d8d126-e239-4d1f-b22f-287be2e6c5f8",
   "metadata": {},
   "outputs": [],
   "source": [
    "ica_approximation = np.matmul(mix, sources.T)"
   ]
  },
  {
   "cell_type": "code",
   "execution_count": 22,
   "id": "c700c032-ecf0-4cba-a43b-a0f31d0bf95c",
   "metadata": {},
   "outputs": [
    {
     "data": {
      "text/plain": [
       "(561, 10)"
      ]
     },
     "execution_count": 22,
     "metadata": {},
     "output_type": "execute_result"
    }
   ],
   "source": [
    "ica_approximation.shape"
   ]
  },
  {
   "cell_type": "code",
   "execution_count": 24,
   "id": "1953c29e-4580-4949-9557-763f6ae29013",
   "metadata": {},
   "outputs": [
    {
     "data": {
      "text/plain": [
       "113"
      ]
     },
     "execution_count": 24,
     "metadata": {},
     "output_type": "execute_result"
    }
   ],
   "source": [
    "len(res_strengths)"
   ]
  },
  {
   "cell_type": "code",
   "execution_count": 28,
   "id": "11f3ca3c-9b6d-4109-b3b9-dba1328aab17",
   "metadata": {},
   "outputs": [
    {
     "ename": "TypeError",
     "evalue": "vstack(): argument 'tensors' (position 1) must be tuple of Tensors, not Tensor",
     "output_type": "error",
     "traceback": [
      "\u001b[1;31m---------------------------------------------------------------------------\u001b[0m",
      "\u001b[1;31mTypeError\u001b[0m                                 Traceback (most recent call last)",
      "\u001b[1;32m<ipython-input-28-cad4833125aa>\u001b[0m in \u001b[0;36m<module>\u001b[1;34m\u001b[0m\n\u001b[1;32m----> 1\u001b[1;33m \u001b[0mres_strengths\u001b[0m \u001b[1;33m=\u001b[0m \u001b[0mtorch\u001b[0m\u001b[1;33m.\u001b[0m\u001b[0mvstack\u001b[0m\u001b[1;33m(\u001b[0m\u001b[0mres_strengths\u001b[0m\u001b[1;33m)\u001b[0m\u001b[1;33m/\u001b[0m\u001b[0mcpu\u001b[0m\u001b[1;33m(\u001b[0m\u001b[1;33m)\u001b[0m\u001b[1;33m\u001b[0m\u001b[1;33m\u001b[0m\u001b[0m\n\u001b[0m",
      "\u001b[1;31mTypeError\u001b[0m: vstack(): argument 'tensors' (position 1) must be tuple of Tensors, not Tensor"
     ]
    }
   ],
   "source": [
    "res_strengths = torch.vstack(res_strengths)"
   ]
  },
  {
   "cell_type": "code",
   "execution_count": 31,
   "id": "9637fd5f-83fc-48e0-a071-42989fc2392f",
   "metadata": {},
   "outputs": [],
   "source": [
    "res_strengths = res_strengths.cpu().detach().numpy()"
   ]
  },
  {
   "cell_type": "code",
   "execution_count": 26,
   "id": "f237ead4-21da-4f1f-8d22-2d58ef1a06d7",
   "metadata": {},
   "outputs": [],
   "source": [
    "# for i, row in enumerate(res_strengths):\n",
    "#     res_strengths_array[i] = res_strengths[i].cpu().detatch().numpy() # copies from gpu to cpu, detaches from graph, removes gradient, numpy() converts to np array\n",
    "\n",
    "# torch vstack/concatenate"
   ]
  },
  {
   "cell_type": "code",
   "execution_count": 32,
   "id": "7e4c3341-a3d9-4d80-9c34-2bc64e42c969",
   "metadata": {},
   "outputs": [
    {
     "data": {
      "text/plain": [
       "1.9839320265037763"
      ]
     },
     "execution_count": 32,
     "metadata": {},
     "output_type": "execute_result"
    }
   ],
   "source": [
    "err = ((res_strengths - mix_map).flatten())\n",
    "np.mean(err * err)\n",
    "\n"
   ]
  },
  {
   "cell_type": "code",
   "execution_count": 33,
   "id": "0aa9e4b7-1e49-494f-a1d1-c1422dcec5df",
   "metadata": {},
   "outputs": [
    {
     "data": {
      "image/png": "[encoded data removed]",
      "text/plain": [
       "<Figure size 432x288 with 1 Axes>"
      ]
     },
     "metadata": {
      "needs_background": "light"
     },
     "output_type": "display_data"
    }
   ],
   "source": [
    "plt.hist(abs(err), bins=20)\n",
    "plt.show()"
   ]
  },
  {
   "cell_type": "code",
   "execution_count": 34,
   "id": "b4450364-c2b5-4e54-a88a-8614fcc6ba98",
   "metadata": {},
   "outputs": [
    {
     "data": {
      "text/plain": [
       "4.112119674682617"
      ]
     },
     "execution_count": 34,
     "metadata": {},
     "output_type": "execute_result"
    }
   ],
   "source": [
    "np.amax(mix_map)"
   ]
  },
  {
   "cell_type": "code",
   "execution_count": 35,
   "id": "23e7f62b-29b6-475a-b2b6-9a2a7d323edd",
   "metadata": {},
   "outputs": [
    {
     "data": {
      "text/plain": [
       "-5.151512145996094"
      ]
     },
     "execution_count": 35,
     "metadata": {},
     "output_type": "execute_result"
    }
   ],
   "source": [
    "np.amin(mix_map)"
   ]
  },
  {
   "cell_type": "code",
   "execution_count": 54,
   "id": "066fde8b-d1e4-4a89-9b7e-d666d9425153",
   "metadata": {},
   "outputs": [],
   "source": [
    "stacked_array = np.hstack((mix_map, res_strengths))\n",
    "\n",
    "cols_a = ['ICA_{}'.format(i) for i in range(n_components)]\n",
    "cols_b = ['Resnet_{}'.format(i) for i in range(n_components)]\n",
    "\n",
    "cols = cols_a + cols_b\n",
    "\n",
    "stacked_df = pd.DataFrame(stacked_array, columns = cols)"
   ]
  },
  {
   "cell_type": "code",
   "execution_count": 59,
   "id": "de69aebe-3a3a-4af6-94a1-9a3f33255b8b",
   "metadata": {},
   "outputs": [],
   "source": [
    "def component_coherence(i): \n",
    "    sb.lmplot(x='ICA_{}'.format(i), y='Resnet_{}'.format(i), data=stacked_df);\n",
    "    plt.axis('equal')\n",
    "# #     plt.scatter(mix_map[:, i], res_strengths[:, i])\n",
    "    plt.savefig('components_analysis/component_coherence_n{}_channel{}.png'.format(n_components, i))\n",
    "    plt.show()"
   ]
  },
  {
   "cell_type": "code",
   "execution_count": 62,
   "id": "5e7889cc-69a2-4d7d-902d-31108d36f191",
   "metadata": {},
   "outputs": [
    {
     "data": {
      "image/png": "[encoded data removed]",
      "text/plain": [
       "<Figure size 360x360 with 1 Axes>"
      ]
     },
     "metadata": {
      "needs_background": "light"
     },
     "output_type": "display_data"
    }
   ],
   "source": [
    "component_coherence(2)"
   ]
  },
  {
   "cell_type": "code",
   "execution_count": null,
   "id": "36b15e4e-6763-4eca-a6fa-e0ea1a6246de",
   "metadata": {},
   "outputs": [],
   "source": []
  },
  {
   "cell_type": "code",
   "execution_count": null,
   "id": "aa3cd884-583d-42bc-8f04-f5c84e205d7a",
   "metadata": {},
   "outputs": [],
   "source": [
    "# for channel in range(3):\n",
    "    \n",
    "#     base = \"components_analysis/components_strengths_{}_n{}_channel{}.html\"\n",
    "#     name_res = base.format(\"resnet\", n_components, channel)\n",
    "#     name_nonres = base.format(\"nonres\", n_components, channel)\n",
    "    \n",
    "#     plot_component_strength_map(res_strengths[:, channel], channel, name_res, \\\n",
    "#                                 latitudes_map, longitudes_map)\n",
    "    \n",
    "#     plot_component_strength_map(mix_map[:, channel], channel, name_nonres, \\\n",
    "#                                 latitudes_map, longitudes_map)\n",
    "    "
   ]
  },
  {
   "cell_type": "code",
   "execution_count": null,
   "id": "4dabc2a0-e412-4bb4-94a6-2434c3d48fa6",
   "metadata": {},
   "outputs": [],
   "source": [
    "# n_max_bh = 50\n",
    "\n",
    "# plt.figure()\n",
    "# plt.subplot(311)\n",
    "# plt.imshow(bh_obs[:, 0:n_max_bh], interpolation = 'none', extent=[0,n_max_bh-1, 5, 0])\n",
    "# ax = plt.gca()\n",
    "# ax.set_aspect(2)\n",
    "# plt.colorbar()\n",
    "# plt.title(\"Observed Visible Ice\")\n",
    "# plt.xlabel(\"Boreholes\")\n",
    "# plt.ylabel('Depth')\n",
    "\n",
    "# plt.subplot(312)\n",
    "# plt.imshow(ica_approximation[:, 0:n_max_bh], interpolation = 'none', extent=[0,n_max_bh-1, 5, 0])\n",
    "# ax = plt.gca()\n",
    "# ax.set_aspect(2)\n",
    "# plt.colorbar()\n",
    "# plt.title(\"ICA Approximation\")\n",
    "# plt.xlabel(\"Boreholes\")\n",
    "# plt.ylabel('Depth')\n",
    "\n",
    "# plt.subplot(313)\n",
    "# plt.imshow(res_approximation[:, 0:n_max_bh], interpolation = 'none', extent=[0,n_max_bh-1, 5, 0])\n",
    "# ax = plt.gca()\n",
    "# ax.set_aspect(2)\n",
    "# plt.colorbar()\n",
    "# plt.title(\"Resnet\")\n",
    "# plt.xlabel(\"Boreholes\")\n",
    "# plt.ylabel('Depth')\n",
    "\n",
    "# # plt.savefig('components_analysis/comparison_n{}.png'.format(n_components))\n",
    "# plt.show()"
   ]
  }
 ],
 "metadata": {
  "kernelspec": {
   "display_name": "Python 3",
   "language": "python",
   "name": "python3"
  },
  "language_info": {
   "codemirror_mode": {
    "name": "ipython",
    "version": 3
   },
   "file_extension": ".py",
   "mimetype": "text/x-python",
   "name": "python",
   "nbconvert_exporter": "python",
   "pygments_lexer": "ipython3",
   "version": "3.8.8"
  }
 },
 "nbformat": 4,
 "nbformat_minor": 5
}
