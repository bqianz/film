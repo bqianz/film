{
 "cells": [
  {
   "cell_type": "code",
   "execution_count": 3,
   "id": "42b6094a-f4b1-40d2-ae54-78273c9cffe2",
   "metadata": {},
   "outputs": [],
   "source": [
    "# User input, generate depth profile of which terrain type\n",
    "\n",
    "terrainTypes =['Till', 'Organics', 'Valley', 'Eskers']\n",
    "terrainType = 'Till'"
   ]
  },
  {
   "cell_type": "code",
   "execution_count": 4,
   "id": "b8e36209-02bc-4336-8dcc-9a8aa77e2250",
   "metadata": {},
   "outputs": [],
   "source": [
    "import pandas as pd\n",
    "import numpy as np\n",
    "import matplotlib.pyplot as plt\n",
    "from sklearn import decomposition\n",
    "from sklearn.preprocessing import StandardScaler\n",
    "from sklearn.linear_model import LogisticRegression\n",
    "from sklearn.cluster import MeanShift, estimate_bandwidth\n",
    "import umap.umap_ as umap\n",
    "from itertools import cycle\n",
    "from functools import partial\n",
    "from scipy import stats\n",
    "from collections import Counter"
   ]
  },
  {
   "cell_type": "code",
   "execution_count": 5,
   "id": "7a5c4c40-8cd6-46cc-9cde-f8193b0e2627",
   "metadata": {},
   "outputs": [
    {
     "data": {
      "text/plain": [
       "224"
      ]
     },
     "execution_count": 5,
     "metadata": {},
     "output_type": "execute_result"
    }
   ],
   "source": [
    "bh_file_path = 'Lac_de_Gras_borehole_only.csv'\n",
    "df = pd.read_csv(bh_file_path, header=[0])\n",
    "len(df)"
   ]
  },
  {
   "cell_type": "code",
   "execution_count": 6,
   "id": "4ef0e4c4-d22b-40de-a9a2-741162ba9e62",
   "metadata": {},
   "outputs": [],
   "source": [
    "df = df.dropna(subset=['UnitCode'])"
   ]
  },
  {
   "cell_type": "code",
   "execution_count": 7,
   "id": "5157862c-13bf-4f7c-a998-04f4a1c84b24",
   "metadata": {},
   "outputs": [],
   "source": [
    "df.Frozen = df.Frozen.str.split(pat=',').str[0]\n",
    "df.Frozen = df.Frozen.eq('Yes').mul(1)"
   ]
  },
  {
   "cell_type": "code",
   "execution_count": 8,
   "id": "f77f513c-8ddd-44bd-b56d-d0870320a4fb",
   "metadata": {},
   "outputs": [
    {
     "data": {
      "text/plain": [
       "array(['Till', 'Organics', 'Boulder', 'Ice', 'Clay', 'Gravel/Cobbles',\n",
       "       'Soil', 'Sand', 'Silt'], dtype=object)"
      ]
     },
     "execution_count": 8,
     "metadata": {},
     "output_type": "execute_result"
    }
   ],
   "source": [
    "df.UnitCode = df.UnitCode.str.split(pat=',').str[0]\n",
    "df['UnitCode'].replace(['Till '], 'Till', regex=True, inplace=True)\n",
    "materials = df.UnitCode.unique()\n",
    "materials"
   ]
  },
  {
   "cell_type": "code",
   "execution_count": 9,
   "id": "87a52b95-00dc-4a51-99fb-d503ce22a25c",
   "metadata": {},
   "outputs": [],
   "source": [
    "parameters = ['ExIceCont_perc', 'GWCWetBase_perc', 'Frozen', 'Gravel_perc', 'Sand_perc', 'Fines_perc']\n",
    "# parameters = ['ExIceCont_perc', 'GWCWetBase_perc', 'Frozen']"
   ]
  },
  {
   "cell_type": "code",
   "execution_count": 10,
   "id": "8f64abaf-e10e-4c01-9431-0591c79232d2",
   "metadata": {},
   "outputs": [
    {
     "name": "stdout",
     "output_type": "stream",
     "text": [
      "There are 83 samples in terrain type Till\n"
     ]
    }
   ],
   "source": [
    "\n",
    "df_tt = df.loc[df['TerrainType'] == terrainType]\n",
    "df_tt = df_tt.dropna(subset=parameters)\n",
    "print(f'There are {len(df_tt)} samples in terrain type {terrainType}')"
   ]
  },
  {
   "cell_type": "code",
   "execution_count": 11,
   "id": "e94c6cb4-9eb8-4565-bbb6-4b0bc405acb2",
   "metadata": {},
   "outputs": [],
   "source": [
    "depths = df_tt['SampleDepth'].to_numpy(dtype='float')\n",
    "# df_tt = df_tt[parameters]"
   ]
  },
  {
   "cell_type": "code",
   "execution_count": 12,
   "id": "4df9bda0-3074-4264-80aa-2c4c9e05dc88",
   "metadata": {},
   "outputs": [
    {
     "data": {
      "text/plain": [
       "(83, 6)"
      ]
     },
     "execution_count": 12,
     "metadata": {},
     "output_type": "execute_result"
    }
   ],
   "source": [
    "np_tt = df_tt[parameters].to_numpy(dtype='float')\n",
    "scaler = StandardScaler()\n",
    "scaler.fit(np_tt)\n",
    "np_tt_scaled = scaler.transform(np_tt)\n",
    "np_tt_scaled.shape"
   ]
  },
  {
   "cell_type": "code",
   "execution_count": 13,
   "id": "23e7ab94-5808-49d9-b03a-c7af86b04a10",
   "metadata": {},
   "outputs": [
    {
     "data": {
      "text/plain": [
       "array([[ 0.  ,  5.19,  0.  ,  5.  , 90.  ,  5.  ],\n",
       "       [ 0.  ,  6.15,  0.  ,  5.  , 90.  ,  5.  ],\n",
       "       [ 0.  ,  9.6 ,  0.  , 10.  , 80.  , 10.  ],\n",
       "       [ 0.  ,  9.32,  0.  , 25.  , 65.  , 10.  ],\n",
       "       [ 0.  , 25.92,  0.  , 10.  , 80.  , 10.  ],\n",
       "       [ 0.  ,  6.28,  0.  , 25.  , 65.  , 10.  ],\n",
       "       [ 0.  , 12.87,  0.  , 10.  , 85.  ,  5.  ],\n",
       "       [ 0.  ,  7.66,  0.  , 20.  , 70.  , 10.  ],\n",
       "       [ 0.  , 13.07,  0.  ,  5.  , 90.  ,  5.  ],\n",
       "       [ 0.  ,  4.09,  0.  , 60.  , 35.  ,  5.  ],\n",
       "       [ 0.  ,  6.69,  0.  , 25.  , 65.  , 10.  ],\n",
       "       [33.19, 52.27,  1.  ,  0.  , 35.  , 65.  ],\n",
       "       [24.21, 40.85,  1.  , 30.  , 60.  , 10.  ],\n",
       "       [21.72, 32.98,  1.  , 15.  , 70.  , 15.  ],\n",
       "       [36.3 , 49.74,  1.  , 10.  , 70.  , 20.  ],\n",
       "       [14.79, 18.33,  1.  , 10.  , 70.  , 20.  ],\n",
       "       [17.08, 48.97,  1.  , 15.  , 75.  , 10.  ],\n",
       "       [43.27, 61.79,  1.  ,  5.  , 30.  , 65.  ],\n",
       "       [ 0.  ,  5.24,  1.  , 25.  , 65.  , 10.  ],\n",
       "       [ 0.  ,  8.13,  1.  , 25.  , 70.  ,  5.  ],\n",
       "       [ 0.  ,  9.8 ,  1.  , 20.  , 75.  ,  5.  ],\n",
       "       [ 0.  ,  9.32,  1.  , 25.  , 70.  ,  5.  ],\n",
       "       [ 0.  ,  5.6 ,  1.  , 50.  , 45.  ,  5.  ],\n",
       "       [12.85, 15.34,  1.  , 20.  , 70.  , 10.  ],\n",
       "       [ 0.  ,  7.33,  1.  , 30.  , 60.  , 10.  ],\n",
       "       [55.77, 92.38,  1.  , 45.  , 35.  , 20.  ],\n",
       "       [63.08, 88.7 ,  1.  , 45.  , 35.  , 20.  ],\n",
       "       [58.64, 83.59,  1.  , 55.  , 25.  , 20.  ],\n",
       "       [57.32, 86.18,  1.  , 45.  , 35.  , 20.  ],\n",
       "       [43.13, 79.59,  1.  , 60.  , 30.  , 10.  ],\n",
       "       [34.91, 52.27,  1.  , 65.  , 30.  ,  5.  ],\n",
       "       [41.88, 63.76,  1.  , 70.  , 20.  , 10.  ],\n",
       "       [19.01, 24.28,  1.  , 80.  , 15.  ,  5.  ],\n",
       "       [61.88, 86.06,  1.  , 70.  , 20.  , 10.  ],\n",
       "       [62.99, 90.04,  1.  , 55.  , 35.  , 10.  ],\n",
       "       [58.41, 82.15,  1.  , 70.  , 25.  ,  5.  ],\n",
       "       [33.37, 42.74,  1.  , 70.  , 20.  , 10.  ],\n",
       "       [28.18, 56.58,  1.  , 60.  , 30.  , 10.  ],\n",
       "       [14.68, 48.05,  1.  , 60.  , 30.  , 10.  ],\n",
       "       [28.91, 39.92,  1.  , 60.  , 30.  , 10.  ],\n",
       "       [60.78, 81.82,  1.  , 40.  , 40.  , 20.  ],\n",
       "       [76.14, 93.04,  1.  , 15.  , 65.  , 20.  ],\n",
       "       [73.92, 89.62,  1.  , 25.  , 60.  , 15.  ],\n",
       "       [56.8 , 67.53,  1.  , 85.  , 10.  ,  5.  ],\n",
       "       [ 0.  , 14.68,  0.  ,  5.  , 84.  , 10.  ],\n",
       "       [ 6.09, 14.42,  1.  , 30.  , 60.  , 10.  ],\n",
       "       [15.43, 20.56,  1.  , 45.  , 20.  , 35.  ],\n",
       "       [41.98, 61.04,  1.  , 40.  , 30.  , 30.  ],\n",
       "       [50.93, 63.9 ,  1.  , 25.  , 65.  , 10.  ],\n",
       "       [47.83, 76.1 ,  1.  , 20.  , 50.  , 30.  ],\n",
       "       [ 0.  ,  7.98,  0.  , 15.  , 80.  ,  4.  ],\n",
       "       [ 0.  , 12.61,  1.  , 60.  , 25.  , 15.  ],\n",
       "       [43.59, 75.86,  1.  , 30.  , 20.  , 40.  ],\n",
       "       [-6.71, 32.94,  1.  , 85.  ,  5.  , 10.  ],\n",
       "       [42.78, 69.19,  1.  , 20.  , 50.  , 30.  ],\n",
       "       [44.54, 65.74,  1.  , 20.  , 50.  , 29.  ],\n",
       "       [53.9 , 70.66,  1.  , 15.  , 60.  , 25.  ],\n",
       "       [ 0.  , 11.39,  0.  , 15.  , 65.  ,  5.  ],\n",
       "       [ 0.  ,  3.51,  0.  , 85.  ,  5.  , 10.  ],\n",
       "       [ 0.  , 15.28,  1.  , 10.  , 60.  , 30.  ],\n",
       "       [35.51, 73.13,  1.  , 10.  , 60.  , 30.  ],\n",
       "       [17.49, 34.59,  1.  , 10.  , 60.  , 30.  ],\n",
       "       [ 0.  ,  9.69,  0.  , 25.  , 70.  ,  4.  ],\n",
       "       [ 0.  ,  7.75,  0.  , 45.  , 45.  ,  5.  ],\n",
       "       [ 0.  ,  7.89,  0.  , 40.  , 50.  ,  5.  ],\n",
       "       [ 0.  ,  8.83,  0.  , 45.  , 10.  , 40.  ],\n",
       "       [26.41, 30.67,  1.  , 10.  , 30.  , 45.  ],\n",
       "       [ 0.  ,  6.91,  0.  , 25.  , 70.  ,  5.  ],\n",
       "       [ 0.  ,  6.8 ,  0.  , 30.  , 60.  , 10.  ],\n",
       "       [14.92, 68.05,  1.  ,  0.  ,  4.  ,  6.  ],\n",
       "       [ 0.  , 24.37,  1.  ,  0.  , 70.  ,  0.  ],\n",
       "       [ 0.  , 55.78,  1.  ,  0.  , 10.  ,  0.  ],\n",
       "       [55.34, 60.87,  1.  ,  0.  , 10.  , 20.  ],\n",
       "       [34.51, 52.02,  1.  ,  0.  , 45.  , 45.  ],\n",
       "       [36.78, 48.73,  1.  ,  0.  , 85.  , 10.  ],\n",
       "       [30.5 , 40.36,  1.  ,  0.  , 80.  , 15.  ],\n",
       "       [22.86, 31.29,  1.  ,  0.  , 85.  , 10.  ],\n",
       "       [ 0.  , 12.45,  0.  , 20.  , 50.  , 30.  ],\n",
       "       [46.16, 76.11,  1.  ,  5.  , 65.  , 30.  ],\n",
       "       [53.48, 70.58,  1.  , 10.  , 60.  , 30.  ],\n",
       "       [28.61, 53.54,  1.  ,  5.  , 35.  , 60.  ],\n",
       "       [44.17, 63.46,  1.  , 10.  , 50.  , 40.  ],\n",
       "       [42.75, 61.01,  1.  , 20.  , 60.  , 20.  ]])"
      ]
     },
     "execution_count": 13,
     "metadata": {},
     "output_type": "execute_result"
    }
   ],
   "source": [
    "np_tt"
   ]
  },
  {
   "cell_type": "markdown",
   "id": "b69b4879-c3ec-4248-90fd-327aafb1081e",
   "metadata": {},
   "source": [
    "## Clustering"
   ]
  },
  {
   "cell_type": "code",
   "execution_count": 14,
   "id": "195103a5-1454-4c58-90d4-e79040cee877",
   "metadata": {},
   "outputs": [
    {
     "name": "stdout",
     "output_type": "stream",
     "text": [
      "number of estimated clusters : 5\n"
     ]
    }
   ],
   "source": [
    "bandwidth = estimate_bandwidth(np_tt_scaled, quantile=0.2)\n",
    "\n",
    "ms = MeanShift(bandwidth=bandwidth, bin_seeding=True)\n",
    "ms.fit(np_tt_scaled)\n",
    "labels = ms.labels_\n",
    "#labels looks like [0, 0, 0, 1, 1, 1, 1, 2, 2,....]\n",
    "\n",
    "cluster_centers = ms.cluster_centers_\n",
    "\n",
    "labels_unique = np.unique(labels)\n",
    "n_clusters_ = len(labels_unique)\n",
    "\n",
    "print(\"number of estimated clusters : %d\" % n_clusters_)"
   ]
  },
  {
   "cell_type": "code",
   "execution_count": 15,
   "id": "3ae7c6f5-e698-4da7-9f52-45f5acf4a558",
   "metadata": {},
   "outputs": [],
   "source": [
    "reducer = umap.UMAP()"
   ]
  },
  {
   "cell_type": "code",
   "execution_count": 16,
   "id": "0eb939bc-b077-46a0-9b29-07bc427da9be",
   "metadata": {},
   "outputs": [
    {
     "data": {
      "text/plain": [
       "(83, 2)"
      ]
     },
     "execution_count": 16,
     "metadata": {},
     "output_type": "execute_result"
    }
   ],
   "source": [
    "embedding = reducer.fit_transform(np_tt_scaled)\n",
    "embedding.shape"
   ]
  },
  {
   "cell_type": "code",
   "execution_count": 20,
   "id": "b6cda5e7-1176-4935-8e71-98c0572f5e56",
   "metadata": {},
   "outputs": [
    {
     "data": {
      "image/png": "[encoded data removed]",
      "text/plain": [
       "<Figure size 432x288 with 1 Axes>"
      ]
     },
     "metadata": {
      "needs_background": "light"
     },
     "output_type": "display_data"
    }
   ],
   "source": [
    "plt.clf()\n",
    "# fig = plt.figure()\n",
    "# ax = plt.axes(projection='3d')\n",
    "\n",
    "colors = cycle(\"bgrcmykbgrcmykbgrcmykbgrcmyk\")\n",
    "for k, col in zip(range(n_clusters_), colors):\n",
    "    my_members = labels == k\n",
    "    plt.plot(embedding[my_members, 0], embedding[my_members, 1], col + \".\")\n",
    "    # plt.scatter(np_tt_scaled[my_members, 0], np_tt_scaled[my_members, 1], np_tt_scaled[my_members, 2], c=col)\n",
    "    \n",
    "plt.title(\"Clustering on 6-D data, visualized in embedded 2-D space for {} terrain type\".format(terrainType)) # Estimated number of clusters: %d\" % n_clusters_\n",
    "plt.xlabel(\"Embedded axis 0\")\n",
    "plt.ylabel(\"Embedded axis 1\")\n",
    "plt.axis('equal')\n",
    "plt.legend([\"Class 0\", \"Class 1\", \"Class 2\",\"Class 3\", \"Class 4\"])\n",
    "plt.show()"
   ]
  },
  {
   "cell_type": "markdown",
   "id": "9d2c0848-1ea6-4a6c-bbe3-96fe4cd86bfe",
   "metadata": {},
   "source": [
    "## Logistic Regression Classificiation"
   ]
  },
  {
   "cell_type": "code",
   "execution_count": null,
   "id": "400b0c5c-2acc-4ea5-8a64-5ce0cc544b24",
   "metadata": {},
   "outputs": [],
   "source": [
    "logreg = LogisticRegression()\n",
    "logreg.fit(depths.reshape(-1, 1), labels)"
   ]
  },
  {
   "cell_type": "code",
   "execution_count": null,
   "id": "e058c81a-d863-4711-a98a-414a3e44726f",
   "metadata": {},
   "outputs": [],
   "source": [
    "depths_syn = np.arange(np.floor(depths.min()),np.ceil(depths.max()),0.5)\n",
    "depths_syn_fine = np.arange(np.floor(depths.min()),np.ceil(depths.max()),0.1)\n",
    "profile = logreg.predict(depths_syn.reshape(-1,1))\n",
    "profile_fine = logreg.predict(depths_syn_fine.reshape(-1,1))"
   ]
  },
  {
   "cell_type": "code",
   "execution_count": null,
   "id": "d38e08f8-b1f4-4a58-8264-bce50da33d8c",
   "metadata": {},
   "outputs": [],
   "source": [
    "ind_change = np.where(profile_fine[:-1] != profile_fine[1:])[0]+1"
   ]
  },
  {
   "cell_type": "code",
   "execution_count": null,
   "id": "22b3f9ec-7a1d-4448-ad37-d0125cee152b",
   "metadata": {},
   "outputs": [],
   "source": [
    "ind_change = np.insert(ind_change, 0, 0)\n",
    "ind_change = np.append(ind_change, len(profile_fine))"
   ]
  },
  {
   "cell_type": "code",
   "execution_count": null,
   "id": "cf095422-fbdd-40cd-af51-bb9ff228e143",
   "metadata": {},
   "outputs": [],
   "source": [
    "plt.imshow(profile.reshape(-1,1))"
   ]
  },
  {
   "cell_type": "code",
   "execution_count": null,
   "id": "b27da346-dfb4-4511-871c-79fe3ea98d4c",
   "metadata": {},
   "outputs": [],
   "source": [
    "profile_samples = logreg.predict(depths.reshape(-1,1))"
   ]
  },
  {
   "cell_type": "code",
   "execution_count": null,
   "id": "a41005b1-2277-4043-983f-ebb5be75432f",
   "metadata": {},
   "outputs": [],
   "source": [
    "logreg.classes_"
   ]
  },
  {
   "cell_type": "code",
   "execution_count": null,
   "id": "995ddefd-c072-4283-a5ad-5073170dbcd5",
   "metadata": {},
   "outputs": [],
   "source": [
    "np.unique(profile_samples)"
   ]
  },
  {
   "cell_type": "code",
   "execution_count": null,
   "id": "a38b1ed9-71dc-4cbf-bec7-9dfe5dd33089",
   "metadata": {},
   "outputs": [],
   "source": [
    "n_rows = len(ind_change)-1\n",
    "n_cols = len(parameters) * 5 + 3 + len(materials)\n",
    "arr = np.zeros([n_rows, n_cols])"
   ]
  },
  {
   "cell_type": "code",
   "execution_count": null,
   "id": "c2e456c5-95c8-4611-8b4f-396f0463ead6",
   "metadata": {},
   "outputs": [],
   "source": [
    "n_params= len(parameters)"
   ]
  },
  {
   "cell_type": "code",
   "execution_count": null,
   "id": "35e3dac1-e1a8-42cc-9a37-3968dc32ef0f",
   "metadata": {},
   "outputs": [],
   "source": [
    "def material_percentage(current_material, cl_materials):\n",
    "    n_current_material = sum(cl_materials==current_material)\n",
    "    return float(n_current_material) / len(cl_materials)"
   ]
  },
  {
   "cell_type": "code",
   "execution_count": null,
   "id": "c75979b5-5516-4a54-98f1-4e00a6d26e47",
   "metadata": {},
   "outputs": [],
   "source": [
    "for i in range(len(ind_change)-1):\n",
    "    ind = ind_change[i]\n",
    "    ind_next = ind_change[i+1]\n",
    "    \n",
    "    cl = profile_fine[ind]\n",
    "    begin = depths_syn_fine[ind]\n",
    "    end = depths_syn_fine[ind_next-1]\n",
    "\n",
    "    arr[i, 0] = cl\n",
    "    arr[i, 1] = begin\n",
    "    arr[i, 2] = end\n",
    "\n",
    "    cl_ind = profile_samples==cl\n",
    "\n",
    "    cl_materials = df_tt.iloc[cl_ind].UnitCode\n",
    "\n",
    "    n_materials = len(materials)\n",
    "    arr[i, 3: 3+n_materials] = [float(sum(cl_materials==current_material)) / len(cl_materials) for current_material in materials]\n",
    "    \n",
    "    np_class = np_tt[cl_ind]\n",
    "    mean_arr = np.mean(np_class, axis=0)\n",
    "    min_arr = np.min(np_class, axis=0)\n",
    "    max_arr = np.max(np_class, axis=0)\n",
    "    mode_arr = 3*mean_arr - max_arr - min_arr\n",
    "\n",
    "    print(np_class)\n",
    "    print(mean_arr)\n",
    "    print(min_arr)\n",
    "    print(max_arr)\n",
    "    print(mode_arr)\n",
    "    values = np.concatenate([mean_arr, \n",
    "                             np.std(np_class, axis=0), \n",
    "                             min_arr, \n",
    "                             max_arr, \n",
    "                             mode_arr])\n",
    "\n",
    "    arr[i, 3 + n_materials:] = values\n",
    "    \n",
    "    #print(df_class.std())"
   ]
  },
  {
   "cell_type": "code",
   "execution_count": null,
   "id": "d8ac7b0d-e201-4457-8525-e68a68ef0dd8",
   "metadata": {},
   "outputs": [],
   "source": [
    "np.squeeze(stats.mode(np_class, axis=0).mode).shape"
   ]
  },
  {
   "cell_type": "code",
   "execution_count": null,
   "id": "15a610de-c57e-48f8-ab6d-cc9ecfa1ee93",
   "metadata": {},
   "outputs": [],
   "source": [
    "np.squeeze(stats.mode(np_class, axis=0).mode)"
   ]
  },
  {
   "cell_type": "code",
   "execution_count": null,
   "id": "91512162-14b7-409a-ae97-ca88c29f46a3",
   "metadata": {},
   "outputs": [],
   "source": [
    "column_values = ['layerClass', 'depthBegin', 'depthEnd']"
   ]
  },
  {
   "cell_type": "code",
   "execution_count": null,
   "id": "4dbab500-9a8d-492e-8555-8a1086e542ac",
   "metadata": {},
   "outputs": [],
   "source": [
    "mean_columns = [s + '_Mean' for s in parameters]\n",
    "std_columns = [s + '_Std' for s in parameters]\n",
    "materials_perc = [s + \"_perc\" for s in materials]\n",
    "\n",
    "min_col = [s + '_min' for s in parameters]\n",
    "max_col = [s + '_max' for s in parameters]\n",
    "mode_col = [s + '_mode' for s in parameters]\n",
    "\n",
    "column_values = column_values + materials_perc + mean_columns + std_columns + min_col + max_col + mode_col"
   ]
  },
  {
   "cell_type": "code",
   "execution_count": null,
   "id": "b8ca6a2b-c95f-48ff-8736-bd20e505fc9f",
   "metadata": {},
   "outputs": [],
   "source": [
    "df_tt_summary = pd.DataFrame(data = arr, columns = column_values)"
   ]
  },
  {
   "cell_type": "code",
   "execution_count": null,
   "id": "2116acd0-cab6-49b7-8e5e-453b39c66ee6",
   "metadata": {},
   "outputs": [],
   "source": [
    "df_tt_summary.to_csv('profile_' + terrainType+'_Summary.csv')"
   ]
  },
  {
   "cell_type": "code",
   "execution_count": null,
   "id": "4447dfd3-fe06-4fc5-96bc-c5a190de66e2",
   "metadata": {},
   "outputs": [],
   "source": []
  }
 ],
 "metadata": {
  "kernelspec": {
   "display_name": "Python 3",
   "language": "python",
   "name": "python3"
  },
  "language_info": {
   "codemirror_mode": {
    "name": "ipython",
    "version": 3
   },
   "file_extension": ".py",
   "mimetype": "text/x-python",
   "name": "python",
   "nbconvert_exporter": "python",
   "pygments_lexer": "ipython3",
   "version": "3.8.8"
  }
 },
 "nbformat": 4,
 "nbformat_minor": 5
}
