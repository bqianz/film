{
 "cells": [
  {
   "cell_type": "code",
   "execution_count": 1,
   "id": "42b6094a-f4b1-40d2-ae54-78273c9cffe2",
   "metadata": {},
   "outputs": [],
   "source": [
    "# User input, generate depth profile of which terrain type\n",
    "\n",
    "terrainTypes =['Till', 'Organics', 'Valley', 'Eskers']\n",
    "terrainType = 'Eskers'"
   ]
  },
  {
   "cell_type": "code",
   "execution_count": 2,
   "id": "b8e36209-02bc-4336-8dcc-9a8aa77e2250",
   "metadata": {},
   "outputs": [],
   "source": [
    "import pandas as pd\n",
    "import numpy as np\n",
    "import matplotlib.pyplot as plt\n",
    "from sklearn import decomposition\n",
    "from sklearn.preprocessing import StandardScaler\n",
    "from sklearn.linear_model import LogisticRegression\n",
    "from sklearn.cluster import MeanShift, estimate_bandwidth\n",
    "import umap.umap_ as umap\n",
    "from itertools import cycle\n",
    "from functools import partial"
   ]
  },
  {
   "cell_type": "code",
   "execution_count": 3,
   "id": "7a5c4c40-8cd6-46cc-9cde-f8193b0e2627",
   "metadata": {},
   "outputs": [
    {
     "data": {
      "text/plain": [
       "224"
      ]
     },
     "execution_count": 3,
     "metadata": {},
     "output_type": "execute_result"
    }
   ],
   "source": [
    "bh_file_path = 'Lac_de_Gras_borehole_only.csv'\n",
    "df = pd.read_csv(bh_file_path, header=[0])\n",
    "len(df)"
   ]
  },
  {
   "cell_type": "code",
   "execution_count": 4,
   "id": "4ef0e4c4-d22b-40de-a9a2-741162ba9e62",
   "metadata": {},
   "outputs": [],
   "source": [
    "df = df.dropna(subset=['UnitCode'])"
   ]
  },
  {
   "cell_type": "code",
   "execution_count": 5,
   "id": "5157862c-13bf-4f7c-a998-04f4a1c84b24",
   "metadata": {},
   "outputs": [],
   "source": [
    "df.Frozen = df.Frozen.str.split(pat=',').str[0]\n",
    "df.Frozen = df.Frozen.eq('Yes').mul(1)"
   ]
  },
  {
   "cell_type": "code",
   "execution_count": 6,
   "id": "f77f513c-8ddd-44bd-b56d-d0870320a4fb",
   "metadata": {},
   "outputs": [
    {
     "data": {
      "text/plain": [
       "array(['Till', 'Organics', 'Boulder', 'Ice', 'Clay', 'Gravel/Cobbles',\n",
       "       'Soil', 'Sand', 'Silt'], dtype=object)"
      ]
     },
     "execution_count": 6,
     "metadata": {},
     "output_type": "execute_result"
    }
   ],
   "source": [
    "df.UnitCode = df.UnitCode.str.split(pat=',').str[0]\n",
    "df['UnitCode'].replace(['Till '], 'Till', regex=True, inplace=True)\n",
    "materials = df.UnitCode.unique()\n",
    "materials"
   ]
  },
  {
   "cell_type": "code",
   "execution_count": 7,
   "id": "87a52b95-00dc-4a51-99fb-d503ce22a25c",
   "metadata": {},
   "outputs": [],
   "source": [
    "parameters = ['ExIceCont_perc', 'GWCWetBase_perc', 'Frozen', 'Gravel_perc', 'Sand_perc', 'Fines_perc']\n",
    "# parameters = ['ExIceCont_perc', 'GWCWetBase_perc', 'Frozen']"
   ]
  },
  {
   "cell_type": "code",
   "execution_count": 8,
   "id": "8f64abaf-e10e-4c01-9431-0591c79232d2",
   "metadata": {},
   "outputs": [
    {
     "name": "stdout",
     "output_type": "stream",
     "text": [
      "There are 14 samples in terrain type Eskers\n"
     ]
    }
   ],
   "source": [
    "\n",
    "df_tt = df.loc[df['TerrainType'] == terrainType]\n",
    "df_tt = df_tt.dropna(subset=parameters)\n",
    "print(f'There are {len(df_tt)} samples in terrain type {terrainType}')"
   ]
  },
  {
   "cell_type": "code",
   "execution_count": 9,
   "id": "e94c6cb4-9eb8-4565-bbb6-4b0bc405acb2",
   "metadata": {},
   "outputs": [],
   "source": [
    "depths = df_tt['SampleDepth'].to_numpy(dtype='float')\n",
    "# df_tt = df_tt[parameters]"
   ]
  },
  {
   "cell_type": "code",
   "execution_count": 10,
   "id": "4df9bda0-3074-4264-80aa-2c4c9e05dc88",
   "metadata": {},
   "outputs": [
    {
     "data": {
      "text/plain": [
       "(14, 6)"
      ]
     },
     "execution_count": 10,
     "metadata": {},
     "output_type": "execute_result"
    }
   ],
   "source": [
    "np_tt = df_tt[parameters].to_numpy(dtype='float')\n",
    "scaler = StandardScaler()\n",
    "scaler.fit(np_tt)\n",
    "np_tt_scaled = scaler.transform(np_tt)\n",
    "np_tt_scaled.shape"
   ]
  },
  {
   "cell_type": "markdown",
   "id": "b69b4879-c3ec-4248-90fd-327aafb1081e",
   "metadata": {},
   "source": [
    "## Clustering"
   ]
  },
  {
   "cell_type": "code",
   "execution_count": 11,
   "id": "195103a5-1454-4c58-90d4-e79040cee877",
   "metadata": {},
   "outputs": [
    {
     "name": "stdout",
     "output_type": "stream",
     "text": [
      "number of estimated clusters : 6\n"
     ]
    }
   ],
   "source": [
    "bandwidth = estimate_bandwidth(np_tt_scaled, quantile=0.2)\n",
    "\n",
    "ms = MeanShift(bandwidth=bandwidth, bin_seeding=True)\n",
    "ms.fit(np_tt_scaled)\n",
    "labels = ms.labels_\n",
    "#labels looks like [0, 0, 0, 1, 1, 1, 1, 2, 2,....]\n",
    "\n",
    "cluster_centers = ms.cluster_centers_\n",
    "\n",
    "labels_unique = np.unique(labels)\n",
    "n_clusters_ = len(labels_unique)\n",
    "\n",
    "print(\"number of estimated clusters : %d\" % n_clusters_)"
   ]
  },
  {
   "cell_type": "code",
   "execution_count": 12,
   "id": "3ae7c6f5-e698-4da7-9f52-45f5acf4a558",
   "metadata": {},
   "outputs": [],
   "source": [
    "reducer = umap.UMAP()"
   ]
  },
  {
   "cell_type": "code",
   "execution_count": 13,
   "id": "0eb939bc-b077-46a0-9b29-07bc427da9be",
   "metadata": {},
   "outputs": [
    {
     "name": "stderr",
     "output_type": "stream",
     "text": [
      "c:\\users\\mouju\\appdata\\local\\programs\\python\\python38\\lib\\site-packages\\umap\\umap_.py:2344: UserWarning: n_neighbors is larger than the dataset size; truncating to X.shape[0] - 1\n",
      "  warn(\n"
     ]
    },
    {
     "data": {
      "text/plain": [
       "(14, 2)"
      ]
     },
     "execution_count": 13,
     "metadata": {},
     "output_type": "execute_result"
    }
   ],
   "source": [
    "embedding = reducer.fit_transform(np_tt_scaled)\n",
    "embedding.shape"
   ]
  },
  {
   "cell_type": "code",
   "execution_count": 14,
   "id": "b6cda5e7-1176-4935-8e71-98c0572f5e56",
   "metadata": {},
   "outputs": [
    {
     "data": {
      "image/png": "[encoded data removed]",
      "text/plain": [
       "<Figure size 432x288 with 1 Axes>"
      ]
     },
     "metadata": {
      "needs_background": "light"
     },
     "output_type": "display_data"
    }
   ],
   "source": [
    "plt.clf()\n",
    "# fig = plt.figure()\n",
    "# ax = plt.axes(projection='3d')\n",
    "\n",
    "colors = cycle(\"bgrcmykbgrcmykbgrcmykbgrcmyk\")\n",
    "for k, col in zip(range(n_clusters_), colors):\n",
    "    my_members = labels == k\n",
    "    plt.plot(embedding[my_members, 0], embedding[my_members, 1], col + \".\")\n",
    "    # plt.scatter(np_tt_scaled[my_members, 0], np_tt_scaled[my_members, 1], np_tt_scaled[my_members, 2], c=col)\n",
    "    \n",
    "plt.title(\"Estimated number of clusters: %d\" % n_clusters_)\n",
    "# plt.axis('equal')\n",
    "plt.show()"
   ]
  },
  {
   "cell_type": "markdown",
   "id": "9d2c0848-1ea6-4a6c-bbe3-96fe4cd86bfe",
   "metadata": {},
   "source": [
    "## Logistic Regression Classificiation"
   ]
  },
  {
   "cell_type": "code",
   "execution_count": 15,
   "id": "400b0c5c-2acc-4ea5-8a64-5ce0cc544b24",
   "metadata": {},
   "outputs": [
    {
     "data": {
      "text/html": [
       "<style>#sk-container-id-1 {color: black;background-color: white;}#sk-container-id-1 pre{padding: 0;}#sk-container-id-1 div.sk-toggleable {background-color: white;}#sk-container-id-1 label.sk-toggleable__label {cursor: pointer;display: block;width: 100%;margin-bottom: 0;padding: 0.3em;box-sizing: border-box;text-align: center;}#sk-container-id-1 label.sk-toggleable__label-arrow:before {content: \"▸\";float: left;margin-right: 0.25em;color: #696969;}#sk-container-id-1 label.sk-toggleable__label-arrow:hover:before {color: black;}#sk-container-id-1 div.sk-estimator:hover label.sk-toggleable__label-arrow:before {color: black;}#sk-container-id-1 div.sk-toggleable__content {max-height: 0;max-width: 0;overflow: hidden;text-align: left;background-color: #f0f8ff;}#sk-container-id-1 div.sk-toggleable__content pre {margin: 0.2em;color: black;border-radius: 0.25em;background-color: #f0f8ff;}#sk-container-id-1 input.sk-toggleable__control:checked~div.sk-toggleable__content {max-height: 200px;max-width: 100%;overflow: auto;}#sk-container-id-1 input.sk-toggleable__control:checked~label.sk-toggleable__label-arrow:before {content: \"▾\";}#sk-container-id-1 div.sk-estimator input.sk-toggleable__control:checked~label.sk-toggleable__label {background-color: #d4ebff;}#sk-container-id-1 div.sk-label input.sk-toggleable__control:checked~label.sk-toggleable__label {background-color: #d4ebff;}#sk-container-id-1 input.sk-hidden--visually {border: 0;clip: rect(1px 1px 1px 1px);clip: rect(1px, 1px, 1px, 1px);height: 1px;margin: -1px;overflow: hidden;padding: 0;position: absolute;width: 1px;}#sk-container-id-1 div.sk-estimator {font-family: monospace;background-color: #f0f8ff;border: 1px dotted black;border-radius: 0.25em;box-sizing: border-box;margin-bottom: 0.5em;}#sk-container-id-1 div.sk-estimator:hover {background-color: #d4ebff;}#sk-container-id-1 div.sk-parallel-item::after {content: \"\";width: 100%;border-bottom: 1px solid gray;flex-grow: 1;}#sk-container-id-1 div.sk-label:hover label.sk-toggleable__label {background-color: #d4ebff;}#sk-container-id-1 div.sk-serial::before {content: \"\";position: absolute;border-left: 1px solid gray;box-sizing: border-box;top: 0;bottom: 0;left: 50%;z-index: 0;}#sk-container-id-1 div.sk-serial {display: flex;flex-direction: column;align-items: center;background-color: white;padding-right: 0.2em;padding-left: 0.2em;position: relative;}#sk-container-id-1 div.sk-item {position: relative;z-index: 1;}#sk-container-id-1 div.sk-parallel {display: flex;align-items: stretch;justify-content: center;background-color: white;position: relative;}#sk-container-id-1 div.sk-item::before, #sk-container-id-1 div.sk-parallel-item::before {content: \"\";position: absolute;border-left: 1px solid gray;box-sizing: border-box;top: 0;bottom: 0;left: 50%;z-index: -1;}#sk-container-id-1 div.sk-parallel-item {display: flex;flex-direction: column;z-index: 1;position: relative;background-color: white;}#sk-container-id-1 div.sk-parallel-item:first-child::after {align-self: flex-end;width: 50%;}#sk-container-id-1 div.sk-parallel-item:last-child::after {align-self: flex-start;width: 50%;}#sk-container-id-1 div.sk-parallel-item:only-child::after {width: 0;}#sk-container-id-1 div.sk-dashed-wrapped {border: 1px dashed gray;margin: 0 0.4em 0.5em 0.4em;box-sizing: border-box;padding-bottom: 0.4em;background-color: white;}#sk-container-id-1 div.sk-label label {font-family: monospace;font-weight: bold;display: inline-block;line-height: 1.2em;}#sk-container-id-1 div.sk-label-container {text-align: center;}#sk-container-id-1 div.sk-container {/* jupyter's `normalize.less` sets `[hidden] { display: none; }` but bootstrap.min.css set `[hidden] { display: none !important; }` so we also need the `!important` here to be able to override the default hidden behavior on the sphinx rendered scikit-learn.org. See: https://github.com/scikit-learn/scikit-learn/issues/21755 */display: inline-block !important;position: relative;}#sk-container-id-1 div.sk-text-repr-fallback {display: none;}</style><div id=\"sk-container-id-1\" class=\"sk-top-container\"><div class=\"sk-text-repr-fallback\"><pre>LogisticRegression()</pre><b>In a Jupyter environment, please rerun this cell to show the HTML representation or trust the notebook. <br />On GitHub, the HTML representation is unable to render, please try loading this page with nbviewer.org.</b></div><div class=\"sk-container\" hidden><div class=\"sk-item\"><div class=\"sk-estimator sk-toggleable\"><input class=\"sk-toggleable__control sk-hidden--visually\" id=\"sk-estimator-id-1\" type=\"checkbox\" checked><label for=\"sk-estimator-id-1\" class=\"sk-toggleable__label sk-toggleable__label-arrow\">LogisticRegression</label><div class=\"sk-toggleable__content\"><pre>LogisticRegression()</pre></div></div></div></div></div>"
      ],
      "text/plain": [
       "LogisticRegression()"
      ]
     },
     "execution_count": 15,
     "metadata": {},
     "output_type": "execute_result"
    }
   ],
   "source": [
    "logreg = LogisticRegression()\n",
    "logreg.fit(depths.reshape(-1, 1), labels)"
   ]
  },
  {
   "cell_type": "code",
   "execution_count": 16,
   "id": "e058c81a-d863-4711-a98a-414a3e44726f",
   "metadata": {},
   "outputs": [],
   "source": [
    "depths_syn = np.arange(np.floor(depths.min()),np.ceil(depths.max()),0.5)\n",
    "depths_syn_fine = np.arange(np.floor(depths.min()),np.ceil(depths.max()),0.1)\n",
    "profile = logreg.predict(depths_syn.reshape(-1,1))\n",
    "profile_fine = logreg.predict(depths_syn_fine.reshape(-1,1))"
   ]
  },
  {
   "cell_type": "code",
   "execution_count": 17,
   "id": "d38e08f8-b1f4-4a58-8264-bce50da33d8c",
   "metadata": {},
   "outputs": [],
   "source": [
    "ind_change = np.where(profile_fine[:-1] != profile_fine[1:])[0]+1"
   ]
  },
  {
   "cell_type": "code",
   "execution_count": 18,
   "id": "22b3f9ec-7a1d-4448-ad37-d0125cee152b",
   "metadata": {},
   "outputs": [],
   "source": [
    "ind_change = np.insert(ind_change, 0, 0)\n",
    "ind_change = np.append(ind_change, len(profile_fine))"
   ]
  },
  {
   "cell_type": "code",
   "execution_count": 19,
   "id": "cf095422-fbdd-40cd-af51-bb9ff228e143",
   "metadata": {},
   "outputs": [
    {
     "data": {
      "text/plain": [
       "<matplotlib.image.AxesImage at 0x1983abe7b80>"
      ]
     },
     "execution_count": 19,
     "metadata": {},
     "output_type": "execute_result"
    },
    {
     "data": {
      "image/png": "[encoded data removed]",
      "text/plain": [
       "<Figure size 432x288 with 1 Axes>"
      ]
     },
     "metadata": {
      "needs_background": "light"
     },
     "output_type": "display_data"
    }
   ],
   "source": [
    "plt.imshow(profile.reshape(-1,1))"
   ]
  },
  {
   "cell_type": "code",
   "execution_count": 20,
   "id": "b27da346-dfb4-4511-871c-79fe3ea98d4c",
   "metadata": {},
   "outputs": [],
   "source": [
    "profile_samples = logreg.predict(depths.reshape(-1,1))"
   ]
  },
  {
   "cell_type": "code",
   "execution_count": 21,
   "id": "a41005b1-2277-4043-983f-ebb5be75432f",
   "metadata": {},
   "outputs": [
    {
     "data": {
      "text/plain": [
       "array([0, 1, 2, 3, 4, 5], dtype=int64)"
      ]
     },
     "execution_count": 21,
     "metadata": {},
     "output_type": "execute_result"
    }
   ],
   "source": [
    "logreg.classes_"
   ]
  },
  {
   "cell_type": "code",
   "execution_count": 22,
   "id": "995ddefd-c072-4283-a5ad-5073170dbcd5",
   "metadata": {},
   "outputs": [
    {
     "data": {
      "text/plain": [
       "array([0, 1, 5], dtype=int64)"
      ]
     },
     "execution_count": 22,
     "metadata": {},
     "output_type": "execute_result"
    }
   ],
   "source": [
    "np.unique(profile_samples)"
   ]
  },
  {
   "cell_type": "code",
   "execution_count": 23,
   "id": "a38b1ed9-71dc-4cbf-bec7-9dfe5dd33089",
   "metadata": {},
   "outputs": [],
   "source": [
    "n_rows = len(ind_change)-1\n",
    "n_cols = len(parameters) * 2 + 3 + len(materials)\n",
    "arr = np.zeros([n_rows, n_cols])"
   ]
  },
  {
   "cell_type": "code",
   "execution_count": 24,
   "id": "c2e456c5-95c8-4611-8b4f-396f0463ead6",
   "metadata": {},
   "outputs": [],
   "source": [
    "n_params= len(parameters)"
   ]
  },
  {
   "cell_type": "code",
   "execution_count": 25,
   "id": "35e3dac1-e1a8-42cc-9a37-3968dc32ef0f",
   "metadata": {},
   "outputs": [],
   "source": [
    "def material_percentage(current_material, cl_materials):\n",
    "    n_current_material = sum(cl_materials==current_material)\n",
    "    return float(n_current_material) / len(cl_materials)"
   ]
  },
  {
   "cell_type": "code",
   "execution_count": 26,
   "id": "c75979b5-5516-4a54-98f1-4e00a6d26e47",
   "metadata": {},
   "outputs": [],
   "source": [
    "for i in range(len(ind_change)-1):\n",
    "    ind = ind_change[i]\n",
    "    ind_next = ind_change[i+1]\n",
    "    \n",
    "    cl = profile_fine[ind]\n",
    "    begin = depths_syn_fine[ind]\n",
    "    end = depths_syn_fine[ind_next-1]\n",
    "\n",
    "    arr[i, 0] = cl\n",
    "    arr[i, 1] = begin\n",
    "    arr[i, 2] = end\n",
    "\n",
    "    cl_ind = profile_samples==cl\n",
    "\n",
    "    cl_materials = df_tt.iloc[cl_ind].UnitCode\n",
    "\n",
    "    n_materials = len(materials)\n",
    "    arr[i, 3: 3+n_materials] = [float(sum(cl_materials==current_material)) / len(cl_materials) for current_material in materials]\n",
    "    \n",
    "    np_class = np_tt[cl_ind]\n",
    "    values = np.concatenate([np.mean(np_class, axis=0), np.std(np_class, axis=0)])\n",
    "\n",
    "    arr[i, 3 + n_materials:] = values\n",
    "    \n",
    "    #print(df_class.std())"
   ]
  },
  {
   "cell_type": "code",
   "execution_count": 27,
   "id": "91512162-14b7-409a-ae97-ca88c29f46a3",
   "metadata": {},
   "outputs": [],
   "source": [
    "column_values = ['layerClass', 'depthBegin', 'depthEnd']"
   ]
  },
  {
   "cell_type": "code",
   "execution_count": 28,
   "id": "4dbab500-9a8d-492e-8555-8a1086e542ac",
   "metadata": {},
   "outputs": [],
   "source": [
    "mean_columns = [s + '_Mean' for s in parameters]\n",
    "std_columns = [s + '_Std' for s in parameters]\n",
    "materials_perc = [s + \"_perc\" for s in materials]\n",
    "column_values = column_values + materials_perc + mean_columns + std_columns"
   ]
  },
  {
   "cell_type": "code",
   "execution_count": 29,
   "id": "b8ca6a2b-c95f-48ff-8736-bd20e505fc9f",
   "metadata": {},
   "outputs": [],
   "source": [
    "df_tt_summary = pd.DataFrame(data = arr, columns = column_values)"
   ]
  },
  {
   "cell_type": "code",
   "execution_count": 30,
   "id": "2116acd0-cab6-49b7-8e5e-453b39c66ee6",
   "metadata": {},
   "outputs": [],
   "source": [
    "df_tt_summary.to_csv('profile_' + terrainType+'_Summary.csv')"
   ]
  },
  {
   "cell_type": "code",
   "execution_count": null,
   "id": "2e6c8937-76e9-4f43-90f4-b385301ada1b",
   "metadata": {},
   "outputs": [],
   "source": []
  }
 ],
 "metadata": {
  "kernelspec": {
   "display_name": "Python 3",
   "language": "python",
   "name": "python3"
  },
  "language_info": {
   "codemirror_mode": {
    "name": "ipython",
    "version": 3
   },
   "file_extension": ".py",
   "mimetype": "text/x-python",
   "name": "python",
   "nbconvert_exporter": "python",
   "pygments_lexer": "ipython3",
   "version": "3.8.8"
  }
 },
 "nbformat": 4,
 "nbformat_minor": 5
}
