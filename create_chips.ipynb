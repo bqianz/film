{
 "cells": [
  {
   "cell_type": "code",
   "execution_count": 4,
   "id": "a86d0616-d851-4791-a0ba-4e452c8d759c",
   "metadata": {},
   "outputs": [],
   "source": [
    "from torchvision.utils import save_image\n",
    "import pandas as pd\n",
    "from PIL import Image"
   ]
  },
  {
   "cell_type": "code",
   "execution_count": 6,
   "id": "6c007859-7f46-45d1-a9bc-252b877f3bf4",
   "metadata": {},
   "outputs": [],
   "source": [
    "df = pd.read_csv(r\"C:\\Users\\mouju\\Desktop\\film\\components_analysis\\df_unique.csv\", header=[0])"
   ]
  },
  {
   "cell_type": "code",
   "execution_count": 1,
   "id": "d5474067-0b5f-4b63-a08a-490283533659",
   "metadata": {},
   "outputs": [],
   "source": [
    "data_root = r\"C:\\Users\\mouju\\Desktop\\film\\geomorph_data_test\"\n",
    "# chips_root = r\"C:\\Users\\mouju\\Desktop\\film\\geomorph_data_test\\chips\""
   ]
  },
  {
   "cell_type": "code",
   "execution_count": null,
   "id": "512e32e5-1744-45eb-9b2f-488566a39162",
   "metadata": {},
   "outputs": [],
   "source": [
    "image = Image.open(data_root + os.path.sep + file)\n",
    "chip_size = 32"
   ]
  },
  {
   "cell_type": "code",
   "execution_count": null,
   "id": "c8c57300-161a-4777-b4ba-936b566edb24",
   "metadata": {},
   "outputs": [],
   "source": [
    "for for index, row in df.iterrows():\n",
    "    \n",
    "        lat_index_start = np.round((self.base_lat - lat) / pixel_len - self.chip_size/2).astype(int)\n",
    "        lat_index_end = lat_index_start + self.chip_size\n",
    "        \n",
    "        lng_index_start = np.round((lng - self.base_lng) / pixel_len - self.chip_size/2).astype(int)\n",
    "        lng_index_end = lng_index_start + self.chip_size\n",
    "        \n",
    "        image = self.preloaded[:, lat_index_start:lat_index_end,lng_index_start:lng_index_end]\n",
    "        \n",
    "    \n",
    "    save_image(data['image'], os.path.join(data_root, 'chips', f'{i:04d}.png'))"
   ]
  }
 ],
 "metadata": {
  "kernelspec": {
   "display_name": "Python 3",
   "language": "python",
   "name": "python3"
  },
  "language_info": {
   "codemirror_mode": {
    "name": "ipython",
    "version": 3
   },
   "file_extension": ".py",
   "mimetype": "text/x-python",
   "name": "python",
   "nbconvert_exporter": "python",
   "pygments_lexer": "ipython3",
   "version": "3.8.8"
  }
 },
 "nbformat": 4,
 "nbformat_minor": 5
}
