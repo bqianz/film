{
 "cells": [
  {
   "cell_type": "code",
   "execution_count": 14,
   "id": "078c530e-e2e3-4e97-8133-65906fc5bae4",
   "metadata": {},
   "outputs": [],
   "source": [
    "from sklearn.datasets import load_digits\n",
    "from sklearn.decomposition import FastICA\n",
    "\n",
    "from ica_complete_rescale_white_centre import fica\n",
    "\n",
    "import numpy as np\n",
    "import pandas as pd\n",
    "from matplotlib import pyplot as plt\n",
    "import matplotlib.ticker as ticker\n",
    "from scipy import interpolate\n",
    "\n",
    "import gmplot as gp\n",
    "from matplotlib.colors import to_hex\n",
    "\n",
    "from sklearn.metrics import mean_squared_error\n",
    "from sklearn.preprocessing import normalize"
   ]
  },
  {
   "cell_type": "code",
   "execution_count": 15,
   "id": "81d349db-17af-4dcd-bed0-3d12eda35478",
   "metadata": {},
   "outputs": [],
   "source": [
    "n_components = 4"
   ]
  },
  {
   "cell_type": "code",
   "execution_count": 16,
   "id": "30e58525-a329-4a96-8821-2ed7183a4968",
   "metadata": {},
   "outputs": [],
   "source": [
    "df = pd.read_csv('data_stephen_fix_header.csv', header=[0])\n",
    "    "
   ]
  },
  {
   "cell_type": "code",
   "execution_count": 17,
   "id": "65a2c437-1a10-4b2b-9edd-7f85d2167117",
   "metadata": {},
   "outputs": [],
   "source": [
    "datetimes = pd.to_datetime(df['time'])\n",
    "df['month'] = datetimes.dt.month\n",
    "df['year'] = datetimes.dt.year\n",
    "\n",
    "df['month_cyclic'] = 7 - abs(df['month'] - 7)"
   ]
  },
  {
   "cell_type": "code",
   "execution_count": 18,
   "id": "e11e1364-c229-4036-b052-06b9bc86f964",
   "metadata": {},
   "outputs": [
    {
     "name": "stdout",
     "output_type": "stream",
     "text": [
      "2837\n",
      "566\n"
     ]
    },
    {
     "data": {
      "text/html": [
       "<div>\n",
       "<style scoped>\n",
       "    .dataframe tbody tr th:only-of-type {\n",
       "        vertical-align: middle;\n",
       "    }\n",
       "\n",
       "    .dataframe tbody tr th {\n",
       "        vertical-align: top;\n",
       "    }\n",
       "\n",
       "    .dataframe thead th {\n",
       "        text-align: right;\n",
       "    }\n",
       "</style>\n",
       "<table border=\"1\" class=\"dataframe\">\n",
       "  <thead>\n",
       "    <tr style=\"text-align: right;\">\n",
       "      <th></th>\n",
       "      <th>latitude</th>\n",
       "      <th>longitude</th>\n",
       "      <th>time</th>\n",
       "      <th>borehole</th>\n",
       "      <th>depth</th>\n",
       "      <th>frozen</th>\n",
       "      <th>cryostructures</th>\n",
       "      <th>visible_ice</th>\n",
       "      <th>ASTM_2488</th>\n",
       "      <th>materials</th>\n",
       "      <th>organic_cover</th>\n",
       "      <th>top_of_interval</th>\n",
       "      <th>bottom_of_interval</th>\n",
       "      <th>month</th>\n",
       "      <th>year</th>\n",
       "      <th>month_cyclic</th>\n",
       "    </tr>\n",
       "  </thead>\n",
       "  <tbody>\n",
       "    <tr>\n",
       "      <th>0</th>\n",
       "      <td>69.16162</td>\n",
       "      <td>-133.08682</td>\n",
       "      <td>2012-03-21T00:00:00Z</td>\n",
       "      <td>0170-1-10</td>\n",
       "      <td>0.15</td>\n",
       "      <td>0</td>\n",
       "      <td>NaN</td>\n",
       "      <td>NaN</td>\n",
       "      <td>TOPSOIL</td>\n",
       "      <td>Organics</td>\n",
       "      <td>0.3</td>\n",
       "      <td>0.0</td>\n",
       "      <td>0.3</td>\n",
       "      <td>3</td>\n",
       "      <td>2012</td>\n",
       "      <td>3</td>\n",
       "    </tr>\n",
       "    <tr>\n",
       "      <th>1</th>\n",
       "      <td>69.16162</td>\n",
       "      <td>-133.08682</td>\n",
       "      <td>2012-03-21T00:00:00Z</td>\n",
       "      <td>0170-1-10</td>\n",
       "      <td>0.85</td>\n",
       "      <td>1</td>\n",
       "      <td>NaN</td>\n",
       "      <td>Pure ice</td>\n",
       "      <td>ICE</td>\n",
       "      <td>Ice</td>\n",
       "      <td>0.3</td>\n",
       "      <td>0.3</td>\n",
       "      <td>1.4</td>\n",
       "      <td>3</td>\n",
       "      <td>2012</td>\n",
       "      <td>3</td>\n",
       "    </tr>\n",
       "    <tr>\n",
       "      <th>2</th>\n",
       "      <td>69.16162</td>\n",
       "      <td>-133.08682</td>\n",
       "      <td>2012-03-21T00:00:00Z</td>\n",
       "      <td>0170-1-10</td>\n",
       "      <td>1.90</td>\n",
       "      <td>1</td>\n",
       "      <td>Nf</td>\n",
       "      <td>No visible ice</td>\n",
       "      <td>SW-SM</td>\n",
       "      <td>Coarse till</td>\n",
       "      <td>0.3</td>\n",
       "      <td>1.4</td>\n",
       "      <td>2.4</td>\n",
       "      <td>3</td>\n",
       "      <td>2012</td>\n",
       "      <td>3</td>\n",
       "    </tr>\n",
       "    <tr>\n",
       "      <th>3</th>\n",
       "      <td>69.16162</td>\n",
       "      <td>-133.08682</td>\n",
       "      <td>2012-03-21T00:00:00Z</td>\n",
       "      <td>0170-1-10</td>\n",
       "      <td>5.40</td>\n",
       "      <td>1</td>\n",
       "      <td>Nf</td>\n",
       "      <td>No visible ice</td>\n",
       "      <td>GW-GM</td>\n",
       "      <td>Coarse till</td>\n",
       "      <td>0.3</td>\n",
       "      <td>2.4</td>\n",
       "      <td>8.4</td>\n",
       "      <td>3</td>\n",
       "      <td>2012</td>\n",
       "      <td>3</td>\n",
       "    </tr>\n",
       "    <tr>\n",
       "      <th>4</th>\n",
       "      <td>69.16105</td>\n",
       "      <td>-133.08880</td>\n",
       "      <td>2012-03-21T00:00:00Z</td>\n",
       "      <td>0170-1-12</td>\n",
       "      <td>1.20</td>\n",
       "      <td>1</td>\n",
       "      <td>Nf</td>\n",
       "      <td>No visible ice</td>\n",
       "      <td>GP-GM</td>\n",
       "      <td>Coarse till</td>\n",
       "      <td>0.0</td>\n",
       "      <td>0.0</td>\n",
       "      <td>2.4</td>\n",
       "      <td>3</td>\n",
       "      <td>2012</td>\n",
       "      <td>3</td>\n",
       "    </tr>\n",
       "  </tbody>\n",
       "</table>\n",
       "</div>"
      ],
      "text/plain": [
       "   latitude  longitude                  time   borehole  depth  frozen  \\\n",
       "0  69.16162 -133.08682  2012-03-21T00:00:00Z  0170-1-10   0.15       0   \n",
       "1  69.16162 -133.08682  2012-03-21T00:00:00Z  0170-1-10   0.85       1   \n",
       "2  69.16162 -133.08682  2012-03-21T00:00:00Z  0170-1-10   1.90       1   \n",
       "3  69.16162 -133.08682  2012-03-21T00:00:00Z  0170-1-10   5.40       1   \n",
       "4  69.16105 -133.08880  2012-03-21T00:00:00Z  0170-1-12   1.20       1   \n",
       "\n",
       "  cryostructures     visible_ice ASTM_2488    materials  organic_cover  \\\n",
       "0            NaN             NaN   TOPSOIL     Organics            0.3   \n",
       "1            NaN        Pure ice       ICE          Ice            0.3   \n",
       "2             Nf  No visible ice     SW-SM  Coarse till            0.3   \n",
       "3             Nf  No visible ice     GW-GM  Coarse till            0.3   \n",
       "4             Nf  No visible ice     GP-GM  Coarse till            0.0   \n",
       "\n",
       "   top_of_interval  bottom_of_interval  month  year  month_cyclic  \n",
       "0              0.0                 0.3      3  2012             3  \n",
       "1              0.3                 1.4      3  2012             3  \n",
       "2              1.4                 2.4      3  2012             3  \n",
       "3              2.4                 8.4      3  2012             3  \n",
       "4              0.0                 2.4      3  2012             3  "
      ]
     },
     "execution_count": 18,
     "metadata": {},
     "output_type": "execute_result"
    }
   ],
   "source": [
    "print(df.shape[0])\n",
    "print(df['borehole'].nunique())\n",
    "df.head()"
   ]
  },
  {
   "cell_type": "code",
   "execution_count": 19,
   "id": "af3ea4b2-012a-430a-90da-4acc19d9d5cc",
   "metadata": {},
   "outputs": [],
   "source": [
    "# drop borehole mis-located on water\n",
    "df = df.drop(df[df['latitude'] >= 69.4475].index)"
   ]
  },
  {
   "cell_type": "code",
   "execution_count": 20,
   "id": "d594a807-4bfd-4712-8767-9528dd6b75e9",
   "metadata": {},
   "outputs": [
    {
     "data": {
      "text/html": [
       "<div>\n",
       "<style scoped>\n",
       "    .dataframe tbody tr th:only-of-type {\n",
       "        vertical-align: middle;\n",
       "    }\n",
       "\n",
       "    .dataframe tbody tr th {\n",
       "        vertical-align: top;\n",
       "    }\n",
       "\n",
       "    .dataframe thead th {\n",
       "        text-align: right;\n",
       "    }\n",
       "</style>\n",
       "<table border=\"1\" class=\"dataframe\">\n",
       "  <thead>\n",
       "    <tr style=\"text-align: right;\">\n",
       "      <th></th>\n",
       "      <th>latitude</th>\n",
       "      <th>longitude</th>\n",
       "      <th>time</th>\n",
       "      <th>borehole</th>\n",
       "      <th>depth</th>\n",
       "      <th>frozen</th>\n",
       "      <th>cryostructures</th>\n",
       "      <th>visible_ice</th>\n",
       "      <th>ASTM_2488</th>\n",
       "      <th>materials</th>\n",
       "      <th>organic_cover</th>\n",
       "      <th>top_of_interval</th>\n",
       "      <th>bottom_of_interval</th>\n",
       "      <th>month</th>\n",
       "      <th>year</th>\n",
       "      <th>month_cyclic</th>\n",
       "    </tr>\n",
       "  </thead>\n",
       "  <tbody>\n",
       "    <tr>\n",
       "      <th>2814</th>\n",
       "      <td>68.37778</td>\n",
       "      <td>-133.70142</td>\n",
       "      <td>2013-04-27T00:00:00Z</td>\n",
       "      <td>W14103137-S6-BH12</td>\n",
       "      <td>3.75</td>\n",
       "      <td>1</td>\n",
       "      <td>Nbn</td>\n",
       "      <td>No visible ice</td>\n",
       "      <td>NaN</td>\n",
       "      <td>Till</td>\n",
       "      <td>0.1</td>\n",
       "      <td>3.4</td>\n",
       "      <td>4.1</td>\n",
       "      <td>4</td>\n",
       "      <td>2013</td>\n",
       "      <td>4</td>\n",
       "    </tr>\n",
       "    <tr>\n",
       "      <th>2815</th>\n",
       "      <td>68.37778</td>\n",
       "      <td>-133.70142</td>\n",
       "      <td>2013-04-27T00:00:00Z</td>\n",
       "      <td>W14103137-S6-BH12</td>\n",
       "      <td>5.70</td>\n",
       "      <td>1</td>\n",
       "      <td>Nf/Nbn</td>\n",
       "      <td>No visible ice</td>\n",
       "      <td>NaN</td>\n",
       "      <td>Till</td>\n",
       "      <td>0.1</td>\n",
       "      <td>4.1</td>\n",
       "      <td>7.3</td>\n",
       "      <td>4</td>\n",
       "      <td>2013</td>\n",
       "      <td>4</td>\n",
       "    </tr>\n",
       "    <tr>\n",
       "      <th>2816</th>\n",
       "      <td>68.37778</td>\n",
       "      <td>-133.70142</td>\n",
       "      <td>2013-04-27T00:00:00Z</td>\n",
       "      <td>W14103137-S6-BH12</td>\n",
       "      <td>8.20</td>\n",
       "      <td>1</td>\n",
       "      <td>Vx</td>\n",
       "      <td>No visible ice</td>\n",
       "      <td>NaN</td>\n",
       "      <td>Till</td>\n",
       "      <td>0.1</td>\n",
       "      <td>7.3</td>\n",
       "      <td>9.1</td>\n",
       "      <td>4</td>\n",
       "      <td>2013</td>\n",
       "      <td>4</td>\n",
       "    </tr>\n",
       "    <tr>\n",
       "      <th>2817</th>\n",
       "      <td>68.37810</td>\n",
       "      <td>-133.69862</td>\n",
       "      <td>2013-04-27T00:00:00Z</td>\n",
       "      <td>W14103137-S6-BH13</td>\n",
       "      <td>0.05</td>\n",
       "      <td>0</td>\n",
       "      <td>NaN</td>\n",
       "      <td>No visible ice</td>\n",
       "      <td>ORGANICS</td>\n",
       "      <td>Organics</td>\n",
       "      <td>0.1</td>\n",
       "      <td>0.0</td>\n",
       "      <td>0.1</td>\n",
       "      <td>4</td>\n",
       "      <td>2013</td>\n",
       "      <td>4</td>\n",
       "    </tr>\n",
       "    <tr>\n",
       "      <th>2818</th>\n",
       "      <td>68.37810</td>\n",
       "      <td>-133.69862</td>\n",
       "      <td>2013-04-27T00:00:00Z</td>\n",
       "      <td>W14103137-S6-BH13</td>\n",
       "      <td>0.30</td>\n",
       "      <td>1</td>\n",
       "      <td>Nbn</td>\n",
       "      <td>No visible ice</td>\n",
       "      <td>NaN</td>\n",
       "      <td>Till</td>\n",
       "      <td>0.1</td>\n",
       "      <td>0.1</td>\n",
       "      <td>0.5</td>\n",
       "      <td>4</td>\n",
       "      <td>2013</td>\n",
       "      <td>4</td>\n",
       "    </tr>\n",
       "  </tbody>\n",
       "</table>\n",
       "</div>"
      ],
      "text/plain": [
       "      latitude  longitude                  time           borehole  depth  \\\n",
       "2814  68.37778 -133.70142  2013-04-27T00:00:00Z  W14103137-S6-BH12   3.75   \n",
       "2815  68.37778 -133.70142  2013-04-27T00:00:00Z  W14103137-S6-BH12   5.70   \n",
       "2816  68.37778 -133.70142  2013-04-27T00:00:00Z  W14103137-S6-BH12   8.20   \n",
       "2817  68.37810 -133.69862  2013-04-27T00:00:00Z  W14103137-S6-BH13   0.05   \n",
       "2818  68.37810 -133.69862  2013-04-27T00:00:00Z  W14103137-S6-BH13   0.30   \n",
       "\n",
       "      frozen cryostructures     visible_ice ASTM_2488 materials  \\\n",
       "2814       1            Nbn  No visible ice       NaN      Till   \n",
       "2815       1         Nf/Nbn  No visible ice       NaN      Till   \n",
       "2816       1             Vx  No visible ice       NaN      Till   \n",
       "2817       0            NaN  No visible ice  ORGANICS  Organics   \n",
       "2818       1            Nbn  No visible ice       NaN      Till   \n",
       "\n",
       "      organic_cover  top_of_interval  bottom_of_interval  month  year  \\\n",
       "2814            0.1              3.4                 4.1      4  2013   \n",
       "2815            0.1              4.1                 7.3      4  2013   \n",
       "2816            0.1              7.3                 9.1      4  2013   \n",
       "2817            0.1              0.0                 0.1      4  2013   \n",
       "2818            0.1              0.1                 0.5      4  2013   \n",
       "\n",
       "      month_cyclic  \n",
       "2814             4  \n",
       "2815             4  \n",
       "2816             4  \n",
       "2817             4  \n",
       "2818             4  "
      ]
     },
     "execution_count": 20,
     "metadata": {},
     "output_type": "execute_result"
    }
   ],
   "source": [
    "df['visible_ice'].replace(['None'], 'No visible ice', regex=True, inplace=True)\n",
    "\n",
    "ordered_ice = ['No visible ice', 'Low', \"Medium to high\", 'High', 'Pure ice']\n",
    "df['visible_ice'] = pd.Series(pd.Categorical(df['visible_ice'], categories=ordered_ice, ordered=True))\n",
    "\n",
    "df = df.dropna(subset=['visible_ice'])\n",
    "\n",
    "df.tail()"
   ]
  },
  {
   "cell_type": "code",
   "execution_count": 21,
   "id": "7baf3ee6-e96e-43db-8ed0-5a75599b08be",
   "metadata": {},
   "outputs": [
    {
     "data": {
      "text/plain": [
       "0"
      ]
     },
     "execution_count": 21,
     "metadata": {},
     "output_type": "execute_result"
    }
   ],
   "source": [
    "# check None values have been replaced\n",
    "len(df[df['visible_ice'] == 'None'])"
   ]
  },
  {
   "cell_type": "code",
   "execution_count": 22,
   "id": "f1d75dcb-03d2-4092-af38-109ef39f1d07",
   "metadata": {},
   "outputs": [
    {
     "name": "stdout",
     "output_type": "stream",
     "text": [
      "['Pure ice', 'No visible ice', 'High', 'Medium to high', 'Low']\n",
      "Categories (5, object): ['No visible ice' < 'Low' < 'Medium to high' < 'High' < 'Pure ice']\n",
      "[4 0 3 2 1]\n"
     ]
    },
    {
     "data": {
      "text/plain": [
       "1             Pure ice\n",
       "2       No visible ice\n",
       "3       No visible ice\n",
       "4       No visible ice\n",
       "5       No visible ice\n",
       "             ...      \n",
       "2814    No visible ice\n",
       "2815    No visible ice\n",
       "2816    No visible ice\n",
       "2817    No visible ice\n",
       "2818    No visible ice\n",
       "Name: visible_ice, Length: 2716, dtype: category\n",
       "Categories (5, object): ['No visible ice' < 'Low' < 'Medium to high' < 'High' < 'Pure ice']"
      ]
     },
     "execution_count": 22,
     "metadata": {},
     "output_type": "execute_result"
    }
   ],
   "source": [
    "df['visible_ice_code'] =  df['visible_ice'].cat.codes\n",
    "print(df['visible_ice'].unique())\n",
    "print(df['visible_ice_code'].unique())\n",
    "df['visible_ice']"
   ]
  },
  {
   "cell_type": "code",
   "execution_count": 26,
   "id": "9224ce9a-8bc0-467f-b80d-6f12352a8d6e",
   "metadata": {},
   "outputs": [
    {
     "name": "stdout",
     "output_type": "stream",
     "text": [
      "number of boreholes = 561\n"
     ]
    }
   ],
   "source": [
    "\n",
    "\n",
    "\n",
    "# n_depth = 11\n",
    "# depth_grid = np.linspace(0,5, n_depth)\n",
    "depth_grid = np.arange(0,5,0.5)\n",
    "n_depth = len(depth_grid)\n",
    "\n",
    "n_bh = df['borehole'].nunique()\n",
    "input = np.zeros([n_depth, n_bh])\n",
    "print(\"number of boreholes = {}\".format(n_bh))"
   ]
  },
  {
   "cell_type": "code",
   "execution_count": 27,
   "id": "c18d0be9-2c8c-41d5-bda5-9711be771623",
   "metadata": {},
   "outputs": [
    {
     "data": {
      "text/html": [
       "<div>\n",
       "<style scoped>\n",
       "    .dataframe tbody tr th:only-of-type {\n",
       "        vertical-align: middle;\n",
       "    }\n",
       "\n",
       "    .dataframe tbody tr th {\n",
       "        vertical-align: top;\n",
       "    }\n",
       "\n",
       "    .dataframe thead th {\n",
       "        text-align: right;\n",
       "    }\n",
       "</style>\n",
       "<table border=\"1\" class=\"dataframe\">\n",
       "  <thead>\n",
       "    <tr style=\"text-align: right;\">\n",
       "      <th></th>\n",
       "      <th>latitude</th>\n",
       "      <th>longitude</th>\n",
       "      <th>time</th>\n",
       "      <th>borehole</th>\n",
       "      <th>depth</th>\n",
       "      <th>frozen</th>\n",
       "      <th>cryostructures</th>\n",
       "      <th>visible_ice</th>\n",
       "      <th>ASTM_2488</th>\n",
       "      <th>materials</th>\n",
       "      <th>organic_cover</th>\n",
       "      <th>top_of_interval</th>\n",
       "      <th>bottom_of_interval</th>\n",
       "      <th>month</th>\n",
       "      <th>year</th>\n",
       "      <th>month_cyclic</th>\n",
       "      <th>visible_ice_code</th>\n",
       "    </tr>\n",
       "  </thead>\n",
       "  <tbody>\n",
       "    <tr>\n",
       "      <th>1</th>\n",
       "      <td>69.16162</td>\n",
       "      <td>-133.08682</td>\n",
       "      <td>2012-03-21T00:00:00Z</td>\n",
       "      <td>0170-1-10</td>\n",
       "      <td>0.85</td>\n",
       "      <td>1</td>\n",
       "      <td>NaN</td>\n",
       "      <td>Pure ice</td>\n",
       "      <td>ICE</td>\n",
       "      <td>Ice</td>\n",
       "      <td>0.3</td>\n",
       "      <td>0.3</td>\n",
       "      <td>1.4</td>\n",
       "      <td>3</td>\n",
       "      <td>2012</td>\n",
       "      <td>3</td>\n",
       "      <td>4</td>\n",
       "    </tr>\n",
       "    <tr>\n",
       "      <th>2</th>\n",
       "      <td>69.16162</td>\n",
       "      <td>-133.08682</td>\n",
       "      <td>2012-03-21T00:00:00Z</td>\n",
       "      <td>0170-1-10</td>\n",
       "      <td>1.90</td>\n",
       "      <td>1</td>\n",
       "      <td>Nf</td>\n",
       "      <td>No visible ice</td>\n",
       "      <td>SW-SM</td>\n",
       "      <td>Coarse till</td>\n",
       "      <td>0.3</td>\n",
       "      <td>1.4</td>\n",
       "      <td>2.4</td>\n",
       "      <td>3</td>\n",
       "      <td>2012</td>\n",
       "      <td>3</td>\n",
       "      <td>0</td>\n",
       "    </tr>\n",
       "    <tr>\n",
       "      <th>3</th>\n",
       "      <td>69.16162</td>\n",
       "      <td>-133.08682</td>\n",
       "      <td>2012-03-21T00:00:00Z</td>\n",
       "      <td>0170-1-10</td>\n",
       "      <td>5.40</td>\n",
       "      <td>1</td>\n",
       "      <td>Nf</td>\n",
       "      <td>No visible ice</td>\n",
       "      <td>GW-GM</td>\n",
       "      <td>Coarse till</td>\n",
       "      <td>0.3</td>\n",
       "      <td>2.4</td>\n",
       "      <td>8.4</td>\n",
       "      <td>3</td>\n",
       "      <td>2012</td>\n",
       "      <td>3</td>\n",
       "      <td>0</td>\n",
       "    </tr>\n",
       "  </tbody>\n",
       "</table>\n",
       "</div>"
      ],
      "text/plain": [
       "   latitude  longitude                  time   borehole  depth  frozen  \\\n",
       "1  69.16162 -133.08682  2012-03-21T00:00:00Z  0170-1-10   0.85       1   \n",
       "2  69.16162 -133.08682  2012-03-21T00:00:00Z  0170-1-10   1.90       1   \n",
       "3  69.16162 -133.08682  2012-03-21T00:00:00Z  0170-1-10   5.40       1   \n",
       "\n",
       "  cryostructures     visible_ice ASTM_2488    materials  organic_cover  \\\n",
       "1            NaN        Pure ice       ICE          Ice            0.3   \n",
       "2             Nf  No visible ice     SW-SM  Coarse till            0.3   \n",
       "3             Nf  No visible ice     GW-GM  Coarse till            0.3   \n",
       "\n",
       "   top_of_interval  bottom_of_interval  month  year  month_cyclic  \\\n",
       "1              0.3                 1.4      3  2012             3   \n",
       "2              1.4                 2.4      3  2012             3   \n",
       "3              2.4                 8.4      3  2012             3   \n",
       "\n",
       "   visible_ice_code  \n",
       "1                 4  \n",
       "2                 0  \n",
       "3                 0  "
      ]
     },
     "execution_count": 27,
     "metadata": {},
     "output_type": "execute_result"
    }
   ],
   "source": [
    "df[df['borehole'] == '0170-1-10']"
   ]
  },
  {
   "cell_type": "code",
   "execution_count": 28,
   "id": "3692b1d8-09dd-4830-8548-53d52a513852",
   "metadata": {},
   "outputs": [],
   "source": [
    "unique_boreholes = df['borehole'].unique()\n",
    "n_bh = len(unique_boreholes)\n",
    "max_depths = np.empty(n_bh)\n",
    "\n",
    "for i, bh in enumerate(unique_boreholes):\n",
    "    maxd = np.max(df[df['borehole'] == bh]['depth'])\n",
    "#     if maxd < 5:\n",
    "#         df = df.drop(df.index[df['borehole'] == bh])\n",
    "        \n",
    "    max_depths[i] = maxd"
   ]
  },
  {
   "cell_type": "code",
   "execution_count": 29,
   "id": "2857992c-5d37-4d94-8b06-5fceacd1bcc8",
   "metadata": {},
   "outputs": [
    {
     "data": {
      "text/plain": [
       "Text(0.5, 1.0, 'Boreholes Max Depth')"
      ]
     },
     "execution_count": 29,
     "metadata": {},
     "output_type": "execute_result"
    },
    {
     "data": {
      "image/png": "[encoded data removed]",
      "text/plain": [
       "<Figure size 432x288 with 1 Axes>"
      ]
     },
     "metadata": {
      "needs_background": "light"
     },
     "output_type": "display_data"
    }
   ],
   "source": [
    "plt.hist(max_depths)\n",
    "plt.title(\"Boreholes Max Depth\")"
   ]
  },
  {
   "cell_type": "code",
   "execution_count": 30,
   "id": "39afaead-ea93-48cb-bfda-9812f3bed73c",
   "metadata": {},
   "outputs": [
    {
     "name": "stdout",
     "output_type": "stream",
     "text": [
      "number of boreholes = 561\n"
     ]
    }
   ],
   "source": [
    "print(\"number of boreholes = {}\".format(df['borehole'].nunique()))"
   ]
  },
  {
   "cell_type": "code",
   "execution_count": 31,
   "id": "f5dfbc53-a422-416f-a825-da35bdb4a9c5",
   "metadata": {},
   "outputs": [],
   "source": [
    "single_entries = []"
   ]
  },
  {
   "cell_type": "code",
   "execution_count": 32,
   "id": "20b3fd8a-553f-4333-8e2f-12993683a7c7",
   "metadata": {},
   "outputs": [],
   "source": [
    "\n",
    "# for i, bh in enumerate(df.borehole.unique()):\n",
    "#     df_chunk = df[df['borehole'] == bh]\n",
    "#     if df_chunk.shape[0] < 2:\n",
    "#         single_entries.append(i)\n",
    "#     else:\n",
    "#         f = interpolate.interp1d(df_chunk.depth, df_chunk.visible_ice_code, fill_value=\"extrapolate\")\n",
    "#         input[:, i] = f(depth_grid)\n",
    "    "
   ]
  },
  {
   "cell_type": "code",
   "execution_count": 33,
   "id": "acc492f8-bc0c-43c6-9ee5-9977f0e6876d",
   "metadata": {},
   "outputs": [],
   "source": [
    "# for i, bh in enumerate(df.borehole.unique()):\n",
    "#     df_chunk = df[df['borehole'] == bh]\n",
    "#     x = []\n",
    "#     y = []\n",
    "    \n",
    "#     if df_chunk.shape[0] < 2:\n",
    "#         single_entries.append(i)\n",
    "#         continue\n",
    "    \n",
    "#     # print(i)\n",
    "    \n",
    "#     for index, entry in df_chunk.iterrows():\n",
    "\n",
    "#         if entry.top_of_interval != entry.bottom_of_interval:\n",
    "#             x.extend([entry.top_of_interval, entry.depth, entry.bottom_of_interval])\n",
    "#             y.extend([entry.visible_ice_code] * 3)\n",
    "    \n",
    "#     if i == 174:\n",
    "#         print(x)\n",
    "#         print(y)\n",
    "\n",
    "    \n",
    "#     f = interpolate.interp1d(x, y, kind = 'nearest-up', fill_value=[0])\n",
    "    \n",
    "#     # print(i)\n",
    "#     input[:, i] = f(depth_grid)"
   ]
  },
  {
   "cell_type": "code",
   "execution_count": 34,
   "id": "137a1f4f-30ef-4c54-a807-8c0ad981d1aa",
   "metadata": {},
   "outputs": [],
   "source": [
    "for i, bh in enumerate(df.borehole.unique()):\n",
    "    df_chunk = df[df['borehole'] == bh]\n",
    "    \n",
    "    \n",
    "    # print(i)\n",
    "    \n",
    "    for index, entry in df_chunk.iterrows():\n",
    "        interval = [entry.top_of_interval, entry.depth, entry.bottom_of_interval]\n",
    "        \n",
    "        \n",
    "        start = int(max(0, round(min(interval) * 2.0)))\n",
    "        end = int(min(n_depth - 1, round(max(interval) * 2.0)))\n",
    "        \n",
    "        # fine if start is out of bounds\n",
    "        input[start:end+1, i] = entry.visible_ice_code\n"
   ]
  },
  {
   "cell_type": "code",
   "execution_count": 35,
   "id": "06fa9b8d-dff8-4ef2-b4f2-1bde941f8dc4",
   "metadata": {},
   "outputs": [
    {
     "data": {
      "text/plain": [
       "[]"
      ]
     },
     "execution_count": 35,
     "metadata": {},
     "output_type": "execute_result"
    }
   ],
   "source": [
    "single_entries"
   ]
  },
  {
   "cell_type": "code",
   "execution_count": null,
   "id": "bf350f20-5aee-4b80-891d-a098830a24ce",
   "metadata": {},
   "outputs": [],
   "source": []
  },
  {
   "cell_type": "code",
   "execution_count": 36,
   "id": "a92676bd-9f05-43f4-87b2-68c176de3d76",
   "metadata": {},
   "outputs": [],
   "source": [
    "input = np.delete(input, single_entries, axis=1)"
   ]
  },
  {
   "cell_type": "code",
   "execution_count": 37,
   "id": "dd8e51fa-bbef-41e7-ae2a-e1606d008b31",
   "metadata": {},
   "outputs": [
    {
     "data": {
      "text/plain": [
       "(10, 561)"
      ]
     },
     "execution_count": 37,
     "metadata": {},
     "output_type": "execute_result"
    }
   ],
   "source": [
    "input.shape"
   ]
  },
  {
   "cell_type": "code",
   "execution_count": null,
   "id": "2b821a55-12b9-47a4-94dc-52a97c49e0d8",
   "metadata": {},
   "outputs": [],
   "source": []
  },
  {
   "cell_type": "code",
   "execution_count": 23,
   "id": "b86632e0-d303-4cd6-b324-7c9891f3cc0c",
   "metadata": {},
   "outputs": [],
   "source": [
    "input[input < 0] = 0\n",
    "input[input > 4] = 4"
   ]
  },
  {
   "cell_type": "code",
   "execution_count": 24,
   "id": "d0bc2668-4c0f-4ab5-828e-dca523728383",
   "metadata": {},
   "outputs": [],
   "source": [
    "with open('components_analysis/bh_observations.npy', 'wb') as f:\n",
    "    np.save(f, input)"
   ]
  },
  {
   "cell_type": "code",
   "execution_count": 25,
   "id": "f7f87498-d88b-4f40-ba4c-692f7e51d5f6",
   "metadata": {},
   "outputs": [
    {
     "data": {
      "image/png": "[encoded data removed]",
      "text/plain": [
       "<Figure size 432x288 with 2 Axes>"
      ]
     },
     "metadata": {
      "needs_background": "light"
     },
     "output_type": "display_data"
    }
   ],
   "source": [
    "n_max_bh = 50\n",
    "# plt.imshow(input[:, 0:n_max_bh], interpolation = 'none', extent=[0,n_max_bh-1, 5, 0])\n",
    "plt.imshow(input[:, 50:100], interpolation = 'none', extent=[0,n_max_bh-1, 5, 0])\n",
    "# plt.imshow(input, interpolation = 'none')\n",
    "ax = plt.gca()\n",
    "ax.set_aspect(2)\n",
    "\n",
    "plt.colorbar()\n",
    "plt.title(\"Visible Ice\")\n",
    "plt.xlabel(\"Boreholes\")\n",
    "plt.ylabel('depth')\n",
    "\n",
    "plt.show()"
   ]
  },
  {
   "cell_type": "code",
   "execution_count": 26,
   "id": "c82e2b21-25ab-417f-aed2-1bb04a507271",
   "metadata": {},
   "outputs": [
    {
     "data": {
      "text/plain": [
       "0"
      ]
     },
     "execution_count": 26,
     "metadata": {},
     "output_type": "execute_result"
    }
   ],
   "source": [
    "# check if input contains NaN\n",
    "sum(sum(input == float('nan')))"
   ]
  },
  {
   "cell_type": "code",
   "execution_count": 27,
   "id": "73f6976d-b0bd-4253-8dd5-cc81d928f5ad",
   "metadata": {},
   "outputs": [
    {
     "data": {
      "text/plain": [
       "array([0., 0., 0., 0., 0., 0., 1., 1., 1., 1.])"
      ]
     },
     "execution_count": 27,
     "metadata": {},
     "output_type": "execute_result"
    }
   ],
   "source": [
    "input[:, 174]"
   ]
  },
  {
   "cell_type": "code",
   "execution_count": 28,
   "id": "28acb164-8486-4374-9ee3-80b4bca2297d",
   "metadata": {},
   "outputs": [
    {
     "data": {
      "text/plain": [
       "0.0"
      ]
     },
     "execution_count": 28,
     "metadata": {},
     "output_type": "execute_result"
    }
   ],
   "source": [
    "np.amin(input)"
   ]
  },
  {
   "cell_type": "code",
   "execution_count": 64,
   "id": "05b6ce40-8d1d-439f-bfad-7176377c7c9a",
   "metadata": {},
   "outputs": [],
   "source": [
    "transformer = FastICA(n_components=n_components, random_state=0, max_iter= 1000)\n",
    "\n",
    "sources = transformer.fit_transform(input)\n",
    "mix = transformer.mixing_\n",
    "# mix is n_bh x n_components"
   ]
  },
  {
   "cell_type": "code",
   "execution_count": null,
   "id": "4ecaf0db-d804-47b8-af49-320719f2ff0b",
   "metadata": {},
   "outputs": [],
   "source": []
  },
  {
   "cell_type": "code",
   "execution_count": 71,
   "id": "26ea7de0-a832-4f3d-8602-c8b66559e0e3",
   "metadata": {},
   "outputs": [
    {
     "data": {
      "text/plain": [
       "array([1., 1., 1., 1.])"
      ]
     },
     "execution_count": 71,
     "metadata": {},
     "output_type": "execute_result"
    }
   ],
   "source": [
    "# signflip=np.sign(np.max(sources,axis=0)-np.abs(np.min(sources,axis=0)))\n",
    "signflip=np.ones(sources.shape[1])\n",
    "# signflip = np.sign(np.mean(sources, axis = 0))\n",
    "signflip"
   ]
  },
  {
   "cell_type": "code",
   "execution_count": 38,
   "id": "1b575626-fdd9-4983-a626-b7099ccfd5f4",
   "metadata": {},
   "outputs": [
    {
     "data": {
      "text/plain": [
       "(10, 4)"
      ]
     },
     "execution_count": 38,
     "metadata": {},
     "output_type": "execute_result"
    }
   ],
   "source": [
    "sources.shape"
   ]
  },
  {
   "cell_type": "code",
   "execution_count": 39,
   "id": "b1e0b930-85e1-41f0-9140-b95c9f621d3c",
   "metadata": {},
   "outputs": [
    {
     "data": {
      "text/plain": [
       "(561, 4)"
      ]
     },
     "execution_count": 39,
     "metadata": {},
     "output_type": "execute_result"
    }
   ],
   "source": [
    "mix.shape"
   ]
  },
  {
   "cell_type": "code",
   "execution_count": 77,
   "id": "f9a424fe-c825-43a5-a83a-5306fc9fd859",
   "metadata": {},
   "outputs": [
    {
     "data": {
      "text/plain": [
       "(561, 4)"
      ]
     },
     "execution_count": 77,
     "metadata": {},
     "output_type": "execute_result"
    }
   ],
   "source": [
    "mix.shape"
   ]
  },
  {
   "cell_type": "code",
   "execution_count": 78,
   "id": "37a9e557-ca68-42a1-876b-7665b9eb4f2a",
   "metadata": {},
   "outputs": [
    {
     "data": {
      "text/plain": [
       "array([[ 0.52613186,  0.32314378, -0.09535989,  0.47170904],\n",
       "       [-0.00441332,  0.42967618, -0.06733386,  0.2676009 ],\n",
       "       [-0.40191298,  0.41395163, -0.13979189, -0.04445988],\n",
       "       [-0.31644869,  0.26544209, -0.01561707, -0.47387933],\n",
       "       [ 0.27076317,  0.00800207,  0.03041922, -0.51809737],\n",
       "       [ 0.44307052, -0.27927036, -0.26174344, -0.27212995],\n",
       "       [-0.0134774 , -0.3815915 , -0.32315015,  0.04871768],\n",
       "       [-0.31174536, -0.35640847, -0.08822852,  0.22072229],\n",
       "       [-0.29101616, -0.33189816,  0.07830331,  0.29278184],\n",
       "       [ 0.09904836, -0.09104725,  0.88250231,  0.00703478]])"
      ]
     },
     "execution_count": 78,
     "metadata": {},
     "output_type": "execute_result"
    }
   ],
   "source": [
    "sources"
   ]
  },
  {
   "cell_type": "code",
   "execution_count": 79,
   "id": "50e261fb-3b87-4c33-a61a-581ca97cddd7",
   "metadata": {},
   "outputs": [
    {
     "data": {
      "image/png": "[encoded data removed]",
      "text/plain": [
       "<Figure size 432x288 with 1 Axes>"
      ]
     },
     "metadata": {
      "needs_background": "light"
     },
     "output_type": "display_data"
    }
   ],
   "source": [
    "sources_flat = sources.flatten()\n",
    "sources_max = np.max(np.abs(sources_flat))\n",
    "plt.hist(sources_flat, range=(-sources_max, sources_max), bins=20)\n",
    "plt.title(\"Sources before Sign Flip\")\n",
    "plt.show()"
   ]
  },
  {
   "cell_type": "code",
   "execution_count": 80,
   "id": "21eb2896-3228-4529-9b16-866fca5007e5",
   "metadata": {},
   "outputs": [
    {
     "data": {
      "image/png": "[encoded data removed]",
      "text/plain": [
       "<Figure size 432x288 with 1 Axes>"
      ]
     },
     "metadata": {
      "needs_background": "light"
     },
     "output_type": "display_data"
    }
   ],
   "source": [
    "mix_flat = mix.flatten()\n",
    "mix_max = np.max(np.abs(mix_flat))\n",
    "plt.hist(mix.flatten(), range = (-mix_max, mix_max), bins=20)\n",
    "plt.title(\"Mixing original\")\n",
    "plt.show()"
   ]
  },
  {
   "cell_type": "code",
   "execution_count": 81,
   "id": "8d5df238-0b38-4f30-a0d5-601a06b5bdd3",
   "metadata": {},
   "outputs": [],
   "source": [
    "sources*=signflip\n",
    "mix=np.matmul(input.T,sources) "
   ]
  },
  {
   "cell_type": "code",
   "execution_count": 82,
   "id": "0d05788b-2ab4-4ffc-8be4-b35174fddc4c",
   "metadata": {},
   "outputs": [
    {
     "data": {
      "image/png": "[encoded data removed]",
      "text/plain": [
       "<Figure size 432x288 with 1 Axes>"
      ]
     },
     "metadata": {
      "needs_background": "light"
     },
     "output_type": "display_data"
    }
   ],
   "source": [
    "sources_flat = sources.flatten()\n",
    "sources_max = np.max(np.abs(sources_flat))\n",
    "plt.hist(sources_flat, range=(-sources_max, sources_max), bins=20)\n",
    "plt.title(\"Sources After Sign Flip\")\n",
    "plt.show()"
   ]
  },
  {
   "cell_type": "code",
   "execution_count": 83,
   "id": "2e8d4a7a-14fc-4537-b145-a0e9a4228889",
   "metadata": {},
   "outputs": [
    {
     "data": {
      "image/png": "[encoded data removed]",
      "text/plain": [
       "<Figure size 432x288 with 1 Axes>"
      ]
     },
     "metadata": {
      "needs_background": "light"
     },
     "output_type": "display_data"
    }
   ],
   "source": [
    "mix_flat = mix.flatten()\n",
    "mix_max = np.max(np.abs(mix_flat))\n",
    "plt.hist(mix.flatten(), range = (-mix_max, mix_max), bins=20)\n",
    "plt.title(\"Mixing Modified\")\n",
    "plt.show()"
   ]
  },
  {
   "cell_type": "code",
   "execution_count": 37,
   "id": "d0367bc6-af59-4099-ad01-f47e1846bbfc",
   "metadata": {},
   "outputs": [],
   "source": [
    "with open('components_analysis/sources_n{}.npy'.format(n_components), 'wb') as f:\n",
    "    np.save(f, sources)\n",
    "\n",
    "with open('components_analysis/mix_n{}.npy'.format(n_components), 'wb') as f:\n",
    "    np.save(f, mix)"
   ]
  },
  {
   "cell_type": "code",
   "execution_count": 38,
   "id": "2d8d6ae5-9276-4d67-9b73-b8bf788b6ed1",
   "metadata": {},
   "outputs": [
    {
     "data": {
      "image/png": "[encoded data removed]",
      "text/plain": [
       "<Figure size 432x288 with 2 Axes>"
      ]
     },
     "metadata": {
      "needs_background": "light"
     },
     "output_type": "display_data"
    }
   ],
   "source": [
    "plt.imshow(sources, interpolation = 'none', extent=[0, sources.shape[1], 5, 0])\n",
    "ax = plt.gca()\n",
    "ax.set_aspect(2)\n",
    "plt.colorbar()\n",
    "plt.title(\"Visible Ice of Components\")\n",
    "plt.xlabel(\"Components\")\n",
    "plt.ylabel('Depth')\n",
    "plt.savefig('components_analysis/components_n{}.png'.format(n_components))\n",
    "plt.show()\n",
    "\n"
   ]
  },
  {
   "cell_type": "code",
   "execution_count": null,
   "id": "ec4ca6dc-d51c-462a-957d-48da5c8b3a01",
   "metadata": {},
   "outputs": [],
   "source": []
  },
  {
   "cell_type": "code",
   "execution_count": 39,
   "id": "76a8c49b-5ada-4d3d-a55f-939014fee8b6",
   "metadata": {},
   "outputs": [
    {
     "data": {
      "image/png": "[encoded data removed]",
      "text/plain": [
       "<Figure size 432x288 with 2 Axes>"
      ]
     },
     "metadata": {
      "needs_background": "light"
     },
     "output_type": "display_data"
    }
   ],
   "source": [
    "plt.imshow(mix[0:10, :])\n",
    "plt.colorbar()\n",
    "plt.title(\"Mixture Matrix\")\n",
    "plt.xlabel(\"Components\")\n",
    "plt.ylabel('Boreholes')\n",
    "plt.savefig('components_analysis/mixture_n{}.png'.format(n_components))\n",
    "plt.show()"
   ]
  },
  {
   "cell_type": "code",
   "execution_count": 66,
   "id": "4595a678-d68d-4ca3-9bc3-2a24f6eb73ea",
   "metadata": {},
   "outputs": [],
   "source": [
    "recovered_mixture = transformer.inverse_transform(sources)"
   ]
  },
  {
   "cell_type": "code",
   "execution_count": 67,
   "id": "99276b66-dea2-44d3-a4f9-d999d616f029",
   "metadata": {},
   "outputs": [],
   "source": [
    "recovered_manual = np.dot(sources, mix.T)"
   ]
  },
  {
   "cell_type": "code",
   "execution_count": 68,
   "id": "f5e1208a-5e49-4f07-8d44-dce9ab9d88d9",
   "metadata": {},
   "outputs": [
    {
     "data": {
      "text/plain": [
       "113.47510740246074"
      ]
     },
     "execution_count": 68,
     "metadata": {},
     "output_type": "execute_result"
    }
   ],
   "source": [
    "np.linalg.norm(recovered_mixture-recovered_manual)"
   ]
  },
  {
   "cell_type": "code",
   "execution_count": 69,
   "id": "743e4406-e00a-4170-9e21-b4e11f076a37",
   "metadata": {},
   "outputs": [],
   "source": [
    "recovered_manual_with_mean = np.dot(sources, mix.T) + mean"
   ]
  },
  {
   "cell_type": "code",
   "execution_count": 70,
   "id": "502f44b8-47bf-48a3-8359-3683c2d1e73e",
   "metadata": {},
   "outputs": [
    {
     "data": {
      "text/plain": [
       "0.0"
      ]
     },
     "execution_count": 70,
     "metadata": {},
     "output_type": "execute_result"
    }
   ],
   "source": [
    "np.linalg.norm(recovered_mixture-recovered_manual_with_mean)"
   ]
  },
  {
   "cell_type": "code",
   "execution_count": 41,
   "id": "f59d7d53-4c47-4192-b0ba-0c38ab6ed00d",
   "metadata": {},
   "outputs": [
    {
     "data": {
      "text/plain": [
       "(10, 561)"
      ]
     },
     "execution_count": 41,
     "metadata": {},
     "output_type": "execute_result"
    }
   ],
   "source": [
    "recovered_mixture.shape"
   ]
  },
  {
   "cell_type": "code",
   "execution_count": 42,
   "id": "9d7732ff-f44e-42da-a814-5be30aa6ef9c",
   "metadata": {},
   "outputs": [
    {
     "data": {
      "image/png": "[encoded data removed]",
      "text/plain": [
       "<Figure size 432x288 with 4 Axes>"
      ]
     },
     "metadata": {
      "needs_background": "light"
     },
     "output_type": "display_data"
    }
   ],
   "source": [
    "n_max_bh = 50\n",
    "\n",
    "plt.figure()\n",
    "plt.subplot(211)\n",
    "plt.imshow(input[:, 0:n_max_bh], interpolation = 'none', extent=[0,n_max_bh-1, 5, 0])\n",
    "ax = plt.gca()\n",
    "ax.set_aspect(2)\n",
    "plt.colorbar()\n",
    "plt.title(\"Observed Visible Ice\")\n",
    "plt.xlabel(\"Boreholes\")\n",
    "plt.ylabel('Depth')\n",
    "\n",
    "plt.subplot(212)\n",
    "plt.imshow(recovered_mixture[:, 0:n_max_bh], interpolation = 'none', extent=[0,n_max_bh-1, 5, 0])\n",
    "ax = plt.gca()\n",
    "ax.set_aspect(2)\n",
    "plt.colorbar()\n",
    "plt.title(\"Recovered From Sources\")\n",
    "plt.xlabel(\"Boreholes\")\n",
    "plt.ylabel('Depth')\n",
    "\n",
    "plt.savefig('components_analysis/comparison_n{}.png'.format(n_components))\n",
    "plt.show()"
   ]
  },
  {
   "cell_type": "code",
   "execution_count": 43,
   "id": "fa3dc4b4-a553-4efe-ba84-7ed6cd35a93a",
   "metadata": {},
   "outputs": [],
   "source": [
    "diff = input - recovered_mixture"
   ]
  },
  {
   "cell_type": "code",
   "execution_count": 44,
   "id": "564f3d63-3258-4b32-9bc3-e5a9d74381f0",
   "metadata": {},
   "outputs": [
    {
     "data": {
      "text/plain": [
       "0.7083319835504857"
      ]
     },
     "execution_count": 44,
     "metadata": {},
     "output_type": "execute_result"
    }
   ],
   "source": [
    "mean_squared_error(input, recovered_mixture)"
   ]
  },
  {
   "cell_type": "code",
   "execution_count": 45,
   "id": "59c501fe-c4fc-4c38-b8ce-50b4b4e8126d",
   "metadata": {},
   "outputs": [
    {
     "data": {
      "text/plain": [
       "5.689904013811143"
      ]
     },
     "execution_count": 45,
     "metadata": {},
     "output_type": "execute_result"
    }
   ],
   "source": [
    "np.amax(abs(diff))"
   ]
  },
  {
   "cell_type": "code",
   "execution_count": 46,
   "id": "a8f3909e-0817-4e44-8a32-556f1eb7b4a3",
   "metadata": {},
   "outputs": [
    {
     "data": {
      "image/png": "[encoded data removed]",
      "text/plain": [
       "<Figure size 432x288 with 2 Axes>"
      ]
     },
     "metadata": {
      "needs_background": "light"
     },
     "output_type": "display_data"
    }
   ],
   "source": [
    "n_max_bh = 50\n",
    "plt.imshow(diff[:, 0:n_max_bh], interpolation = 'none', extent=[0,n_max_bh-1, 5, 0])\n",
    "ax = plt.gca()\n",
    "\n",
    "ax.set_aspect(2)\n",
    "plt.colorbar()\n",
    "\n",
    "plt.title(\"Difference Between Observed and Recovered\")\n",
    "plt.xlabel(\"Boreholes\")\n",
    "plt.ylabel('Depth')\n",
    "\n",
    "plt.show()"
   ]
  },
  {
   "cell_type": "code",
   "execution_count": 47,
   "id": "78c42fd3-3003-48fd-8253-fb81abecbedb",
   "metadata": {},
   "outputs": [
    {
     "data": {
      "image/png": "[encoded data removed]",
      "text/plain": [
       "<Figure size 432x288 with 1 Axes>"
      ]
     },
     "metadata": {
      "needs_background": "light"
     },
     "output_type": "display_data"
    }
   ],
   "source": [
    "plt.hist(diff.flatten(), bins=100)\n",
    "plt.title(\"Histogram of Difference Between Observed and Recovered\")\n",
    "# test if gaussian\n",
    "plt.show()"
   ]
  },
  {
   "cell_type": "code",
   "execution_count": 48,
   "id": "b859b011-14d0-4487-ae4d-a51e2493adcf",
   "metadata": {},
   "outputs": [
    {
     "data": {
      "image/png": "[encoded data removed]",
      "text/plain": [
       "<Figure size 432x288 with 2 Axes>"
      ]
     },
     "metadata": {
      "needs_background": "light"
     },
     "output_type": "display_data"
    }
   ],
   "source": [
    "plt.imshow(mix[50:100, :])\n",
    "plt.colorbar()\n",
    "plt.title(\"Mixture Matrix\")\n",
    "plt.xlabel(\"Components\")\n",
    "plt.ylabel('Boreholes')\n",
    "plt.show()"
   ]
  },
  {
   "cell_type": "code",
   "execution_count": 49,
   "id": "3558a60e-d784-45b8-a167-8039fe8d0ece",
   "metadata": {},
   "outputs": [],
   "source": [
    "dominants = np.argmax(abs(mix), axis = -1)"
   ]
  },
  {
   "cell_type": "code",
   "execution_count": 50,
   "id": "37889762-2d38-487a-85d7-d8aa8cfcb2dc",
   "metadata": {},
   "outputs": [
    {
     "data": {
      "image/png": "[encoded data removed]",
      "text/plain": [
       "<Figure size 432x288 with 1 Axes>"
      ]
     },
     "metadata": {
      "needs_background": "light"
     },
     "output_type": "display_data"
    }
   ],
   "source": [
    "plt.hist(dominants)\n",
    "plt.xticks(np.unique(dominants))\n",
    "plt.title('Histogram of Boreholes dominated by components')\n",
    "plt.xlabel('Components')\n",
    "plt.savefig('components_analysis/dominants_n{}'.format(n_components))\n",
    "plt.show()"
   ]
  },
  {
   "cell_type": "code",
   "execution_count": 51,
   "id": "9a175547-7f00-4c1d-ae1b-1074fbb971b5",
   "metadata": {},
   "outputs": [],
   "source": [
    "dominant_strengths = np.amax(abs(mix), axis=-1)"
   ]
  },
  {
   "cell_type": "code",
   "execution_count": 52,
   "id": "2ba2ee49-1602-452b-8714-ce4d7d62f88d",
   "metadata": {},
   "outputs": [
    {
     "data": {
      "image/png": "[encoded data removed]",
      "text/plain": [
       "<Figure size 432x288 with 1 Axes>"
      ]
     },
     "metadata": {
      "needs_background": "light"
     },
     "output_type": "display_data"
    }
   ],
   "source": [
    "plt.hist(dominant_strengths)\n",
    "plt.title('Histogram of Dominant Strengths')\n",
    "plt.xlabel('Strength')\n",
    "plt.show()"
   ]
  },
  {
   "cell_type": "code",
   "execution_count": null,
   "id": "1a942cbd-d1c1-484e-8bef-d16f377de109",
   "metadata": {},
   "outputs": [],
   "source": []
  },
  {
   "cell_type": "code",
   "execution_count": 53,
   "id": "7a419578-921a-4ef0-93f9-20f1078d9dfb",
   "metadata": {},
   "outputs": [
    {
     "data": {
      "text/plain": [
       "(561, 4)"
      ]
     },
     "execution_count": 53,
     "metadata": {},
     "output_type": "execute_result"
    }
   ],
   "source": [
    "mix.shape"
   ]
  },
  {
   "cell_type": "code",
   "execution_count": 54,
   "id": "6361bd59-8bb9-4e29-ad54-1a62f01afa25",
   "metadata": {},
   "outputs": [],
   "source": [
    "# unique_bh_attributes = np.zeros([n_bh, 3])\n",
    "\n",
    "# for i, bh in enumerate(unique_boreholes):\n",
    "#     unique_bh_attributes[i, 0] = df[df['borehole'] == bh]['latitude'].iloc[0]\n",
    "#     unique_bh_attributes[i, 1] = df[df['borehole'] == bh]['longitude'].iloc[0]\n",
    "#     unique_bh_attributes[i, 2] = df[df['borehole'] == bh]['organic_cover'].iloc[0]"
   ]
  },
  {
   "cell_type": "code",
   "execution_count": 55,
   "id": "8b035ff7-aeff-4da0-a48e-f5db6ab8553d",
   "metadata": {},
   "outputs": [],
   "source": [
    "# unique_bh_attributes = np.delete(unique_bh_attributes, single_entries, axis=0)"
   ]
  },
  {
   "cell_type": "code",
   "execution_count": 56,
   "id": "142c7375-d7d7-4e34-94fa-c59014a12876",
   "metadata": {},
   "outputs": [],
   "source": [
    "df_unique = df.drop_duplicates(subset=['borehole'], ignore_index=True)"
   ]
  },
  {
   "cell_type": "code",
   "execution_count": 57,
   "id": "a00eabd8-e682-4ccf-8fb9-202286117581",
   "metadata": {},
   "outputs": [
    {
     "data": {
      "text/plain": [
       "(561, 17)"
      ]
     },
     "execution_count": 57,
     "metadata": {},
     "output_type": "execute_result"
    }
   ],
   "source": [
    "df_unique = df_unique.drop(single_entries)\n",
    "df_unique.reset_index()\n",
    "df_unique.shape"
   ]
  },
  {
   "cell_type": "code",
   "execution_count": 58,
   "id": "9e0e85f6-58fe-4ec8-a2d0-c4068c84eaf8",
   "metadata": {},
   "outputs": [],
   "source": [
    "df_unique.to_csv('components_analysis/df_unique.csv', index=False)"
   ]
  },
  {
   "cell_type": "code",
   "execution_count": 59,
   "id": "2a22d16a-2dd0-4d4a-8ddd-5130f8ab7251",
   "metadata": {},
   "outputs": [
    {
     "name": "stdout",
     "output_type": "stream",
     "text": [
      "[[ 1.        -0.0570857]\n",
      " [-0.0570857  1.       ]]\n",
      "[[ 1.         -0.11686145]\n",
      " [-0.11686145  1.        ]]\n",
      "[[1.         0.01872866]\n",
      " [0.01872866 1.        ]]\n",
      "[[1.         0.08997105]\n",
      " [0.08997105 1.        ]]\n"
     ]
    }
   ],
   "source": [
    "# pandas.Series.unique() is in order of appearance, not sorted\n",
    "# latitude, longitude, organic_cover, year, month_cyclic\n",
    "\n",
    "for i in range(mix.shape[1]):\n",
    "    print(np.corrcoef(df_unique['longitude'], mix[:,i]))"
   ]
  },
  {
   "cell_type": "code",
   "execution_count": 60,
   "id": "52f085e5-9f67-4a35-b8bf-594daa7f0307",
   "metadata": {},
   "outputs": [
    {
     "data": {
      "text/plain": [
       "(561, 17)"
      ]
     },
     "execution_count": 60,
     "metadata": {},
     "output_type": "execute_result"
    }
   ],
   "source": [
    "df_unique.shape"
   ]
  },
  {
   "cell_type": "code",
   "execution_count": 61,
   "id": "a01480f0-b201-48e4-9172-971d150aab8e",
   "metadata": {},
   "outputs": [],
   "source": [
    "with open('components_analysis/apikey.txt') as f:\n",
    "    apikey = f.readlines()[0]"
   ]
  },
  {
   "cell_type": "code",
   "execution_count": 62,
   "id": "8f0d7e42-a4f0-446e-8295-dc101cf98cf7",
   "metadata": {},
   "outputs": [],
   "source": [
    "mean_lat = df.latitude.unique().mean()\n",
    "mean_lng = df.longitude.unique().mean()"
   ]
  },
  {
   "cell_type": "code",
   "execution_count": 63,
   "id": "15479b1c-9109-418d-834c-982fcd90cf23",
   "metadata": {},
   "outputs": [],
   "source": [
    "def normalize_col(v):\n",
    "    minvalue = min(v)\n",
    "    maxvalue = max(v)\n",
    "    return (v - minvalue) / (maxvalue - minvalue)"
   ]
  },
  {
   "cell_type": "code",
   "execution_count": 64,
   "id": "a21176d7-e232-46e5-9fda-511b435ce43e",
   "metadata": {},
   "outputs": [],
   "source": [
    "# mix_normalized = mix\n",
    "# for j in range(mix.shape[1]):\n",
    "#     mix_normalized[:, j] = normalize_col(mix[:, j])\n",
    "\n",
    "flattened_min = min(mix.flatten())\n",
    "flattened_max = max(mix.flatten())\n",
    "\n",
    "mix_normalized = (mix - flattened_min) / (flattened_max - flattened_min)\n",
    "\n",
    "colour = mix_normalized"
   ]
  },
  {
   "cell_type": "code",
   "execution_count": 65,
   "id": "4292f9f2-9ae5-4976-97cf-ea9d126e0c2d",
   "metadata": {},
   "outputs": [],
   "source": [
    "channel = 0 # red\n",
    "# channel = 1 # green\n",
    "# channel = 2 # blue\n",
    "\n",
    "colour = np.zeros(mix.shape)\n",
    "\n",
    "for i, c in enumerate(mix[:, 0]):\n",
    "    if c > 0:\n",
    "        colour[i, channel] = c\n",
    "    else:\n",
    "        for k in range(3):\n",
    "            if k!=channel:\n",
    "                colour[i, k] = -c\n",
    "\n",
    "    "
   ]
  },
  {
   "cell_type": "code",
   "execution_count": 66,
   "id": "64c0528a-73bb-4b50-95ea-e7a0c63bf994",
   "metadata": {},
   "outputs": [],
   "source": [
    "colour = colour / np.max(colour.flatten())"
   ]
  },
  {
   "cell_type": "code",
   "execution_count": 67,
   "id": "2e628dac-5c9f-4fce-98db-73be4575bf2e",
   "metadata": {},
   "outputs": [],
   "source": [
    "# white = mix_normalized[:, 3]\n",
    "# colour = mix_normalized[:, 0:3]"
   ]
  },
  {
   "cell_type": "code",
   "execution_count": 68,
   "id": "8fa9b400-a50d-47ee-9315-0797c1588261",
   "metadata": {},
   "outputs": [],
   "source": [
    "# for i, row in enumerate(colour):\n",
    "#     colour[i] = row * white[i]\n",
    "# [r, g, b, white] into [rw, gw, bw]"
   ]
  },
  {
   "cell_type": "code",
   "execution_count": 69,
   "id": "92f6ee2d-e7bf-46b6-a2dc-dc439087b499",
   "metadata": {},
   "outputs": [],
   "source": [
    "# for i, row in enumerate(colour):\n",
    "#     ind = np.argmax(row)\n",
    "#     maxval = row[ind]\n",
    "#     colour[i] = [0, 0, 0]\n",
    "#     # colour[i][ind] = maxval\n",
    "#     colour[i][ind] = 1\n",
    "\n",
    "# channel_colours = [[1, 0, 0], [0, 1, 0], [0, 0, 1], [0, 0, 0]]\n",
    "# colour = mix\n",
    "# for i, row in enumerate(mix):\n",
    "#     ind = np.argmax(row)\n",
    "#     colour[i] = channel_colours[ind]\n",
    "\n"
   ]
  },
  {
   "cell_type": "code",
   "execution_count": 70,
   "id": "7f14d820-3ece-436f-8c20-504846e373ea",
   "metadata": {},
   "outputs": [
    {
     "data": {
      "text/plain": [
       "(561, 4)"
      ]
     },
     "execution_count": 70,
     "metadata": {},
     "output_type": "execute_result"
    }
   ],
   "source": [
    "colour.shape"
   ]
  },
  {
   "cell_type": "code",
   "execution_count": 71,
   "id": "ff0716fe-cef1-4182-a43a-004c55384802",
   "metadata": {},
   "outputs": [
    {
     "data": {
      "text/plain": [
       "561"
      ]
     },
     "execution_count": 71,
     "metadata": {},
     "output_type": "execute_result"
    }
   ],
   "source": [
    "len(df_unique['latitude'])"
   ]
  },
  {
   "cell_type": "code",
   "execution_count": 72,
   "id": "dcdfa3d6-50d2-4c8b-ad36-e5c2563ead9e",
   "metadata": {},
   "outputs": [],
   "source": [
    "colour_hex = [None] * len(colour)\n",
    "\n",
    "for i, color in enumerate(colour):\n",
    "    colour_hex[i] = to_hex(color)\n"
   ]
  },
  {
   "cell_type": "code",
   "execution_count": 73,
   "id": "824e2615-802b-4e2c-86a4-27012a0e9ddd",
   "metadata": {},
   "outputs": [],
   "source": [
    "gmap = gp.GoogleMapPlotter(mean_lat, mean_lng, 8, apikey = apikey)\n",
    "\n",
    "\n",
    "gmap.scatter(list(df_unique.latitude), list(df_unique.longitude), size = 50, color=colour_hex, marker=False) \n",
    "\n",
    "\n",
    "gmap.draw( \"components_analysis/components_strengths_n{}.html\".format(n_components) )"
   ]
  },
  {
   "cell_type": "code",
   "execution_count": null,
   "id": "3f3f63b0-bd17-403a-93c8-f7148d8d2846",
   "metadata": {},
   "outputs": [],
   "source": []
  }
 ],
 "metadata": {
  "kernelspec": {
   "display_name": "Python 3",
   "language": "python",
   "name": "python3"
  },
  "language_info": {
   "codemirror_mode": {
    "name": "ipython",
    "version": 3
   },
   "file_extension": ".py",
   "mimetype": "text/x-python",
   "name": "python",
   "nbconvert_exporter": "python",
   "pygments_lexer": "ipython3",
   "version": "3.8.8"
  }
 },
 "nbformat": 4,
 "nbformat_minor": 5
}
