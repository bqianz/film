{
 "cells": [
  {
   "cell_type": "code",
   "execution_count": 1,
   "id": "078c530e-e2e3-4e97-8133-65906fc5bae4",
   "metadata": {},
   "outputs": [],
   "source": [
    "from sklearn.datasets import load_digits\n",
    "from sklearn.decomposition import FastICA\n",
    "\n",
    "import numpy as np\n",
    "import pandas as pd\n",
    "from matplotlib import pyplot as plt\n",
    "import matplotlib.ticker as ticker\n",
    "from scipy import interpolate\n",
    "\n",
    "from sklearn.metrics import mean_squared_error"
   ]
  },
  {
   "cell_type": "code",
   "execution_count": 2,
   "id": "30e58525-a329-4a96-8821-2ed7183a4968",
   "metadata": {},
   "outputs": [],
   "source": [
    "df = pd.read_csv('data_stephen_fix_header.csv', header=[0])\n",
    "    "
   ]
  },
  {
   "cell_type": "code",
   "execution_count": 3,
   "id": "e11e1364-c229-4036-b052-06b9bc86f964",
   "metadata": {},
   "outputs": [
    {
     "name": "stdout",
     "output_type": "stream",
     "text": [
      "2837\n",
      "566\n"
     ]
    },
    {
     "data": {
      "text/html": [
       "<div>\n",
       "<style scoped>\n",
       "    .dataframe tbody tr th:only-of-type {\n",
       "        vertical-align: middle;\n",
       "    }\n",
       "\n",
       "    .dataframe tbody tr th {\n",
       "        vertical-align: top;\n",
       "    }\n",
       "\n",
       "    .dataframe thead th {\n",
       "        text-align: right;\n",
       "    }\n",
       "</style>\n",
       "<table border=\"1\" class=\"dataframe\">\n",
       "  <thead>\n",
       "    <tr style=\"text-align: right;\">\n",
       "      <th></th>\n",
       "      <th>latitude</th>\n",
       "      <th>longitude</th>\n",
       "      <th>time</th>\n",
       "      <th>borehole</th>\n",
       "      <th>depth</th>\n",
       "      <th>frozen</th>\n",
       "      <th>cryostructures</th>\n",
       "      <th>visible_ice</th>\n",
       "      <th>ASTM_2488</th>\n",
       "      <th>materials</th>\n",
       "      <th>organic_cover</th>\n",
       "      <th>top_of_interval</th>\n",
       "      <th>bottom_of_interval</th>\n",
       "    </tr>\n",
       "  </thead>\n",
       "  <tbody>\n",
       "    <tr>\n",
       "      <th>0</th>\n",
       "      <td>69.16162</td>\n",
       "      <td>-133.08682</td>\n",
       "      <td>2012-03-21T00:00:00Z</td>\n",
       "      <td>0170-1-10</td>\n",
       "      <td>0.15</td>\n",
       "      <td>0</td>\n",
       "      <td>NaN</td>\n",
       "      <td>NaN</td>\n",
       "      <td>TOPSOIL</td>\n",
       "      <td>Organics</td>\n",
       "      <td>0.3</td>\n",
       "      <td>0.0</td>\n",
       "      <td>0.3</td>\n",
       "    </tr>\n",
       "    <tr>\n",
       "      <th>1</th>\n",
       "      <td>69.16162</td>\n",
       "      <td>-133.08682</td>\n",
       "      <td>2012-03-21T00:00:00Z</td>\n",
       "      <td>0170-1-10</td>\n",
       "      <td>0.85</td>\n",
       "      <td>1</td>\n",
       "      <td>NaN</td>\n",
       "      <td>Pure ice</td>\n",
       "      <td>ICE</td>\n",
       "      <td>Ice</td>\n",
       "      <td>0.3</td>\n",
       "      <td>0.3</td>\n",
       "      <td>1.4</td>\n",
       "    </tr>\n",
       "    <tr>\n",
       "      <th>2</th>\n",
       "      <td>69.16162</td>\n",
       "      <td>-133.08682</td>\n",
       "      <td>2012-03-21T00:00:00Z</td>\n",
       "      <td>0170-1-10</td>\n",
       "      <td>1.90</td>\n",
       "      <td>1</td>\n",
       "      <td>Nf</td>\n",
       "      <td>No visible ice</td>\n",
       "      <td>SW-SM</td>\n",
       "      <td>Coarse till</td>\n",
       "      <td>0.3</td>\n",
       "      <td>1.4</td>\n",
       "      <td>2.4</td>\n",
       "    </tr>\n",
       "    <tr>\n",
       "      <th>3</th>\n",
       "      <td>69.16162</td>\n",
       "      <td>-133.08682</td>\n",
       "      <td>2012-03-21T00:00:00Z</td>\n",
       "      <td>0170-1-10</td>\n",
       "      <td>5.40</td>\n",
       "      <td>1</td>\n",
       "      <td>Nf</td>\n",
       "      <td>No visible ice</td>\n",
       "      <td>GW-GM</td>\n",
       "      <td>Coarse till</td>\n",
       "      <td>0.3</td>\n",
       "      <td>2.4</td>\n",
       "      <td>8.4</td>\n",
       "    </tr>\n",
       "    <tr>\n",
       "      <th>4</th>\n",
       "      <td>69.16105</td>\n",
       "      <td>-133.08880</td>\n",
       "      <td>2012-03-21T00:00:00Z</td>\n",
       "      <td>0170-1-12</td>\n",
       "      <td>1.20</td>\n",
       "      <td>1</td>\n",
       "      <td>Nf</td>\n",
       "      <td>No visible ice</td>\n",
       "      <td>GP-GM</td>\n",
       "      <td>Coarse till</td>\n",
       "      <td>0.0</td>\n",
       "      <td>0.0</td>\n",
       "      <td>2.4</td>\n",
       "    </tr>\n",
       "  </tbody>\n",
       "</table>\n",
       "</div>"
      ],
      "text/plain": [
       "   latitude  longitude                  time   borehole  depth  frozen  \\\n",
       "0  69.16162 -133.08682  2012-03-21T00:00:00Z  0170-1-10   0.15       0   \n",
       "1  69.16162 -133.08682  2012-03-21T00:00:00Z  0170-1-10   0.85       1   \n",
       "2  69.16162 -133.08682  2012-03-21T00:00:00Z  0170-1-10   1.90       1   \n",
       "3  69.16162 -133.08682  2012-03-21T00:00:00Z  0170-1-10   5.40       1   \n",
       "4  69.16105 -133.08880  2012-03-21T00:00:00Z  0170-1-12   1.20       1   \n",
       "\n",
       "  cryostructures     visible_ice ASTM_2488    materials  organic_cover  \\\n",
       "0            NaN             NaN   TOPSOIL     Organics            0.3   \n",
       "1            NaN        Pure ice       ICE          Ice            0.3   \n",
       "2             Nf  No visible ice     SW-SM  Coarse till            0.3   \n",
       "3             Nf  No visible ice     GW-GM  Coarse till            0.3   \n",
       "4             Nf  No visible ice     GP-GM  Coarse till            0.0   \n",
       "\n",
       "   top_of_interval  bottom_of_interval  \n",
       "0              0.0                 0.3  \n",
       "1              0.3                 1.4  \n",
       "2              1.4                 2.4  \n",
       "3              2.4                 8.4  \n",
       "4              0.0                 2.4  "
      ]
     },
     "execution_count": 3,
     "metadata": {},
     "output_type": "execute_result"
    }
   ],
   "source": [
    "print(df.shape[0])\n",
    "print(df['borehole'].nunique())\n",
    "df.head()"
   ]
  },
  {
   "cell_type": "code",
   "execution_count": 4,
   "id": "af3ea4b2-012a-430a-90da-4acc19d9d5cc",
   "metadata": {},
   "outputs": [],
   "source": [
    "# drop borehole mis-located on water\n",
    "df = df.drop(df[df['latitude'] >= 69.4475].index)"
   ]
  },
  {
   "cell_type": "code",
   "execution_count": 5,
   "id": "d594a807-4bfd-4712-8767-9528dd6b75e9",
   "metadata": {},
   "outputs": [
    {
     "data": {
      "text/html": [
       "<div>\n",
       "<style scoped>\n",
       "    .dataframe tbody tr th:only-of-type {\n",
       "        vertical-align: middle;\n",
       "    }\n",
       "\n",
       "    .dataframe tbody tr th {\n",
       "        vertical-align: top;\n",
       "    }\n",
       "\n",
       "    .dataframe thead th {\n",
       "        text-align: right;\n",
       "    }\n",
       "</style>\n",
       "<table border=\"1\" class=\"dataframe\">\n",
       "  <thead>\n",
       "    <tr style=\"text-align: right;\">\n",
       "      <th></th>\n",
       "      <th>latitude</th>\n",
       "      <th>longitude</th>\n",
       "      <th>time</th>\n",
       "      <th>borehole</th>\n",
       "      <th>depth</th>\n",
       "      <th>frozen</th>\n",
       "      <th>cryostructures</th>\n",
       "      <th>visible_ice</th>\n",
       "      <th>ASTM_2488</th>\n",
       "      <th>materials</th>\n",
       "      <th>organic_cover</th>\n",
       "      <th>top_of_interval</th>\n",
       "      <th>bottom_of_interval</th>\n",
       "    </tr>\n",
       "  </thead>\n",
       "  <tbody>\n",
       "    <tr>\n",
       "      <th>2814</th>\n",
       "      <td>68.37778</td>\n",
       "      <td>-133.70142</td>\n",
       "      <td>2013-04-27T00:00:00Z</td>\n",
       "      <td>W14103137-S6-BH12</td>\n",
       "      <td>3.75</td>\n",
       "      <td>1</td>\n",
       "      <td>Nbn</td>\n",
       "      <td>No visible ice</td>\n",
       "      <td>NaN</td>\n",
       "      <td>Till</td>\n",
       "      <td>0.1</td>\n",
       "      <td>3.4</td>\n",
       "      <td>4.1</td>\n",
       "    </tr>\n",
       "    <tr>\n",
       "      <th>2815</th>\n",
       "      <td>68.37778</td>\n",
       "      <td>-133.70142</td>\n",
       "      <td>2013-04-27T00:00:00Z</td>\n",
       "      <td>W14103137-S6-BH12</td>\n",
       "      <td>5.70</td>\n",
       "      <td>1</td>\n",
       "      <td>Nf/Nbn</td>\n",
       "      <td>No visible ice</td>\n",
       "      <td>NaN</td>\n",
       "      <td>Till</td>\n",
       "      <td>0.1</td>\n",
       "      <td>4.1</td>\n",
       "      <td>7.3</td>\n",
       "    </tr>\n",
       "    <tr>\n",
       "      <th>2816</th>\n",
       "      <td>68.37778</td>\n",
       "      <td>-133.70142</td>\n",
       "      <td>2013-04-27T00:00:00Z</td>\n",
       "      <td>W14103137-S6-BH12</td>\n",
       "      <td>8.20</td>\n",
       "      <td>1</td>\n",
       "      <td>Vx</td>\n",
       "      <td>No visible ice</td>\n",
       "      <td>NaN</td>\n",
       "      <td>Till</td>\n",
       "      <td>0.1</td>\n",
       "      <td>7.3</td>\n",
       "      <td>9.1</td>\n",
       "    </tr>\n",
       "    <tr>\n",
       "      <th>2817</th>\n",
       "      <td>68.37810</td>\n",
       "      <td>-133.69862</td>\n",
       "      <td>2013-04-27T00:00:00Z</td>\n",
       "      <td>W14103137-S6-BH13</td>\n",
       "      <td>0.05</td>\n",
       "      <td>0</td>\n",
       "      <td>NaN</td>\n",
       "      <td>No visible ice</td>\n",
       "      <td>ORGANICS</td>\n",
       "      <td>Organics</td>\n",
       "      <td>0.1</td>\n",
       "      <td>0.0</td>\n",
       "      <td>0.1</td>\n",
       "    </tr>\n",
       "    <tr>\n",
       "      <th>2818</th>\n",
       "      <td>68.37810</td>\n",
       "      <td>-133.69862</td>\n",
       "      <td>2013-04-27T00:00:00Z</td>\n",
       "      <td>W14103137-S6-BH13</td>\n",
       "      <td>0.30</td>\n",
       "      <td>1</td>\n",
       "      <td>Nbn</td>\n",
       "      <td>No visible ice</td>\n",
       "      <td>NaN</td>\n",
       "      <td>Till</td>\n",
       "      <td>0.1</td>\n",
       "      <td>0.1</td>\n",
       "      <td>0.5</td>\n",
       "    </tr>\n",
       "  </tbody>\n",
       "</table>\n",
       "</div>"
      ],
      "text/plain": [
       "      latitude  longitude                  time           borehole  depth  \\\n",
       "2814  68.37778 -133.70142  2013-04-27T00:00:00Z  W14103137-S6-BH12   3.75   \n",
       "2815  68.37778 -133.70142  2013-04-27T00:00:00Z  W14103137-S6-BH12   5.70   \n",
       "2816  68.37778 -133.70142  2013-04-27T00:00:00Z  W14103137-S6-BH12   8.20   \n",
       "2817  68.37810 -133.69862  2013-04-27T00:00:00Z  W14103137-S6-BH13   0.05   \n",
       "2818  68.37810 -133.69862  2013-04-27T00:00:00Z  W14103137-S6-BH13   0.30   \n",
       "\n",
       "      frozen cryostructures     visible_ice ASTM_2488 materials  \\\n",
       "2814       1            Nbn  No visible ice       NaN      Till   \n",
       "2815       1         Nf/Nbn  No visible ice       NaN      Till   \n",
       "2816       1             Vx  No visible ice       NaN      Till   \n",
       "2817       0            NaN  No visible ice  ORGANICS  Organics   \n",
       "2818       1            Nbn  No visible ice       NaN      Till   \n",
       "\n",
       "      organic_cover  top_of_interval  bottom_of_interval  \n",
       "2814            0.1              3.4                 4.1  \n",
       "2815            0.1              4.1                 7.3  \n",
       "2816            0.1              7.3                 9.1  \n",
       "2817            0.1              0.0                 0.1  \n",
       "2818            0.1              0.1                 0.5  "
      ]
     },
     "execution_count": 5,
     "metadata": {},
     "output_type": "execute_result"
    }
   ],
   "source": [
    "df['visible_ice'].replace(['None'], 'No visible ice', regex=True, inplace=True)\n",
    "\n",
    "ordered_ice = ['No visible ice', 'Low', \"Medium to high\", 'High', 'Pure ice']\n",
    "df['visible_ice'] = pd.Series(pd.Categorical(df['visible_ice'], categories=ordered_ice, ordered=True))\n",
    "\n",
    "df = df.dropna(subset=['visible_ice'])\n",
    "\n",
    "df.tail()"
   ]
  },
  {
   "cell_type": "code",
   "execution_count": 6,
   "id": "7baf3ee6-e96e-43db-8ed0-5a75599b08be",
   "metadata": {},
   "outputs": [
    {
     "data": {
      "text/plain": [
       "0"
      ]
     },
     "execution_count": 6,
     "metadata": {},
     "output_type": "execute_result"
    }
   ],
   "source": [
    "# check None values have been replaced\n",
    "len(df[df['visible_ice'] == 'None'])"
   ]
  },
  {
   "cell_type": "code",
   "execution_count": 7,
   "id": "f1d75dcb-03d2-4092-af38-109ef39f1d07",
   "metadata": {},
   "outputs": [
    {
     "name": "stdout",
     "output_type": "stream",
     "text": [
      "['Pure ice', 'No visible ice', 'High', 'Medium to high', 'Low']\n",
      "Categories (5, object): ['No visible ice' < 'Low' < 'Medium to high' < 'High' < 'Pure ice']\n",
      "[4 0 3 2 1]\n"
     ]
    },
    {
     "data": {
      "text/plain": [
       "1             Pure ice\n",
       "2       No visible ice\n",
       "3       No visible ice\n",
       "4       No visible ice\n",
       "5       No visible ice\n",
       "             ...      \n",
       "2814    No visible ice\n",
       "2815    No visible ice\n",
       "2816    No visible ice\n",
       "2817    No visible ice\n",
       "2818    No visible ice\n",
       "Name: visible_ice, Length: 2716, dtype: category\n",
       "Categories (5, object): ['No visible ice' < 'Low' < 'Medium to high' < 'High' < 'Pure ice']"
      ]
     },
     "execution_count": 7,
     "metadata": {},
     "output_type": "execute_result"
    }
   ],
   "source": [
    "df['visible_ice_code'] =  df['visible_ice'].cat.codes\n",
    "print(df['visible_ice'].unique())\n",
    "print(df['visible_ice_code'].unique())\n",
    "df['visible_ice']"
   ]
  },
  {
   "cell_type": "code",
   "execution_count": 8,
   "id": "9224ce9a-8bc0-467f-b80d-6f12352a8d6e",
   "metadata": {},
   "outputs": [
    {
     "name": "stdout",
     "output_type": "stream",
     "text": [
      "number of boreholes = 561\n"
     ]
    }
   ],
   "source": [
    "# n_depth = 11\n",
    "# depth_grid = np.linspace(0,5, n_depth)\n",
    "depth_grid = np.arange(0,5,0.5)\n",
    "n_depth = len(depth_grid)\n",
    "\n",
    "n_bh = df['borehole'].nunique()\n",
    "input = np.zeros([n_depth, n_bh])\n",
    "print(\"number of boreholes = {}\".format(n_bh))"
   ]
  },
  {
   "cell_type": "code",
   "execution_count": 9,
   "id": "c18d0be9-2c8c-41d5-bda5-9711be771623",
   "metadata": {},
   "outputs": [
    {
     "data": {
      "text/html": [
       "<div>\n",
       "<style scoped>\n",
       "    .dataframe tbody tr th:only-of-type {\n",
       "        vertical-align: middle;\n",
       "    }\n",
       "\n",
       "    .dataframe tbody tr th {\n",
       "        vertical-align: top;\n",
       "    }\n",
       "\n",
       "    .dataframe thead th {\n",
       "        text-align: right;\n",
       "    }\n",
       "</style>\n",
       "<table border=\"1\" class=\"dataframe\">\n",
       "  <thead>\n",
       "    <tr style=\"text-align: right;\">\n",
       "      <th></th>\n",
       "      <th>latitude</th>\n",
       "      <th>longitude</th>\n",
       "      <th>time</th>\n",
       "      <th>borehole</th>\n",
       "      <th>depth</th>\n",
       "      <th>frozen</th>\n",
       "      <th>cryostructures</th>\n",
       "      <th>visible_ice</th>\n",
       "      <th>ASTM_2488</th>\n",
       "      <th>materials</th>\n",
       "      <th>organic_cover</th>\n",
       "      <th>top_of_interval</th>\n",
       "      <th>bottom_of_interval</th>\n",
       "      <th>visible_ice_code</th>\n",
       "    </tr>\n",
       "  </thead>\n",
       "  <tbody>\n",
       "    <tr>\n",
       "      <th>1</th>\n",
       "      <td>69.16162</td>\n",
       "      <td>-133.08682</td>\n",
       "      <td>2012-03-21T00:00:00Z</td>\n",
       "      <td>0170-1-10</td>\n",
       "      <td>0.85</td>\n",
       "      <td>1</td>\n",
       "      <td>NaN</td>\n",
       "      <td>Pure ice</td>\n",
       "      <td>ICE</td>\n",
       "      <td>Ice</td>\n",
       "      <td>0.3</td>\n",
       "      <td>0.3</td>\n",
       "      <td>1.4</td>\n",
       "      <td>4</td>\n",
       "    </tr>\n",
       "    <tr>\n",
       "      <th>2</th>\n",
       "      <td>69.16162</td>\n",
       "      <td>-133.08682</td>\n",
       "      <td>2012-03-21T00:00:00Z</td>\n",
       "      <td>0170-1-10</td>\n",
       "      <td>1.90</td>\n",
       "      <td>1</td>\n",
       "      <td>Nf</td>\n",
       "      <td>No visible ice</td>\n",
       "      <td>SW-SM</td>\n",
       "      <td>Coarse till</td>\n",
       "      <td>0.3</td>\n",
       "      <td>1.4</td>\n",
       "      <td>2.4</td>\n",
       "      <td>0</td>\n",
       "    </tr>\n",
       "    <tr>\n",
       "      <th>3</th>\n",
       "      <td>69.16162</td>\n",
       "      <td>-133.08682</td>\n",
       "      <td>2012-03-21T00:00:00Z</td>\n",
       "      <td>0170-1-10</td>\n",
       "      <td>5.40</td>\n",
       "      <td>1</td>\n",
       "      <td>Nf</td>\n",
       "      <td>No visible ice</td>\n",
       "      <td>GW-GM</td>\n",
       "      <td>Coarse till</td>\n",
       "      <td>0.3</td>\n",
       "      <td>2.4</td>\n",
       "      <td>8.4</td>\n",
       "      <td>0</td>\n",
       "    </tr>\n",
       "  </tbody>\n",
       "</table>\n",
       "</div>"
      ],
      "text/plain": [
       "   latitude  longitude                  time   borehole  depth  frozen  \\\n",
       "1  69.16162 -133.08682  2012-03-21T00:00:00Z  0170-1-10   0.85       1   \n",
       "2  69.16162 -133.08682  2012-03-21T00:00:00Z  0170-1-10   1.90       1   \n",
       "3  69.16162 -133.08682  2012-03-21T00:00:00Z  0170-1-10   5.40       1   \n",
       "\n",
       "  cryostructures     visible_ice ASTM_2488    materials  organic_cover  \\\n",
       "1            NaN        Pure ice       ICE          Ice            0.3   \n",
       "2             Nf  No visible ice     SW-SM  Coarse till            0.3   \n",
       "3             Nf  No visible ice     GW-GM  Coarse till            0.3   \n",
       "\n",
       "   top_of_interval  bottom_of_interval  visible_ice_code  \n",
       "1              0.3                 1.4                 4  \n",
       "2              1.4                 2.4                 0  \n",
       "3              2.4                 8.4                 0  "
      ]
     },
     "execution_count": 9,
     "metadata": {},
     "output_type": "execute_result"
    }
   ],
   "source": [
    "df[df['borehole'] == '0170-1-10']"
   ]
  },
  {
   "cell_type": "code",
   "execution_count": 10,
   "id": "3692b1d8-09dd-4830-8548-53d52a513852",
   "metadata": {},
   "outputs": [],
   "source": [
    "unique_boreholes = df['borehole'].unique()\n",
    "n_bh = len(unique_boreholes)\n",
    "max_depths = np.empty(n_bh)\n",
    "\n",
    "for i, bh in enumerate(unique_boreholes):\n",
    "    maxd = np.max(df[df['borehole'] == bh]['depth'])\n",
    "#     if maxd < 5:\n",
    "#         df = df.drop(df.index[df['borehole'] == bh])\n",
    "        \n",
    "    max_depths[i] = maxd"
   ]
  },
  {
   "cell_type": "code",
   "execution_count": 11,
   "id": "2857992c-5d37-4d94-8b06-5fceacd1bcc8",
   "metadata": {},
   "outputs": [
    {
     "data": {
      "text/plain": [
       "(array([ 21.,  92., 178., 130.,  91.,   8.,  12.,   7.,  11.,  11.]),\n",
       " array([ 0.3 ,  2.38,  4.46,  6.54,  8.62, 10.7 , 12.78, 14.86, 16.94,\n",
       "        19.02, 21.1 ]),\n",
       " <BarContainer object of 10 artists>)"
      ]
     },
     "execution_count": 11,
     "metadata": {},
     "output_type": "execute_result"
    },
    {
     "data": {
      "image/png": "[encoded data removed]",
      "text/plain": [
       "<Figure size 432x288 with 1 Axes>"
      ]
     },
     "metadata": {
      "needs_background": "light"
     },
     "output_type": "display_data"
    }
   ],
   "source": [
    "plt.hist(max_depths)"
   ]
  },
  {
   "cell_type": "code",
   "execution_count": 12,
   "id": "39afaead-ea93-48cb-bfda-9812f3bed73c",
   "metadata": {},
   "outputs": [
    {
     "name": "stdout",
     "output_type": "stream",
     "text": [
      "number of boreholes = 561\n"
     ]
    }
   ],
   "source": [
    "print(\"number of boreholes = {}\".format(df['borehole'].nunique()))"
   ]
  },
  {
   "cell_type": "code",
   "execution_count": 13,
   "id": "f5dfbc53-a422-416f-a825-da35bdb4a9c5",
   "metadata": {},
   "outputs": [],
   "source": [
    "single_entries = []"
   ]
  },
  {
   "cell_type": "code",
   "execution_count": 14,
   "id": "20b3fd8a-553f-4333-8e2f-12993683a7c7",
   "metadata": {},
   "outputs": [],
   "source": [
    "for i, bh in enumerate(df.borehole.unique()):\n",
    "    df_chunk = df[df['borehole'] == bh]\n",
    "    if df_chunk.shape[0] < 2:\n",
    "        single_entries.append(i)\n",
    "    else:\n",
    "        f = interpolate.interp1d(df_chunk.depth, df_chunk.visible_ice_code, fill_value=\"extrapolate\")\n",
    "        input[:, i] = f(depth_grid)\n",
    "    "
   ]
  },
  {
   "cell_type": "code",
   "execution_count": 15,
   "id": "06fa9b8d-dff8-4ef2-b4f2-1bde941f8dc4",
   "metadata": {},
   "outputs": [
    {
     "data": {
      "text/plain": [
       "[17, 20, 21, 25, 36, 114, 118, 132, 134, 135, 139, 209, 396, 430, 488]"
      ]
     },
     "execution_count": 15,
     "metadata": {},
     "output_type": "execute_result"
    }
   ],
   "source": [
    "single_entries"
   ]
  },
  {
   "cell_type": "code",
   "execution_count": 16,
   "id": "a92676bd-9f05-43f4-87b2-68c176de3d76",
   "metadata": {},
   "outputs": [],
   "source": [
    "input = np.delete(input, single_entries, axis=1)"
   ]
  },
  {
   "cell_type": "code",
   "execution_count": 17,
   "id": "dd8e51fa-bbef-41e7-ae2a-e1606d008b31",
   "metadata": {},
   "outputs": [
    {
     "data": {
      "text/plain": [
       "(10, 546)"
      ]
     },
     "execution_count": 17,
     "metadata": {},
     "output_type": "execute_result"
    }
   ],
   "source": [
    "input.shape"
   ]
  },
  {
   "cell_type": "code",
   "execution_count": 18,
   "id": "b86632e0-d303-4cd6-b324-7c9891f3cc0c",
   "metadata": {},
   "outputs": [],
   "source": [
    "input[input < 0] = 0\n",
    "input[input > 4] = 4"
   ]
  },
  {
   "cell_type": "code",
   "execution_count": 19,
   "id": "f7f87498-d88b-4f40-ba4c-692f7e51d5f6",
   "metadata": {},
   "outputs": [
    {
     "data": {
      "image/png": "[encoded data removed]",
      "text/plain": [
       "<Figure size 432x288 with 2 Axes>"
      ]
     },
     "metadata": {
      "needs_background": "light"
     },
     "output_type": "display_data"
    }
   ],
   "source": [
    "n_max_bh = 50\n",
    "plt.imshow(input[:, 0:n_max_bh], interpolation = 'none', extent=[0,n_max_bh-1, 5, 0])\n",
    "ax = plt.gca()\n",
    "ax.set_aspect(2)\n",
    "\n",
    "plt.colorbar()\n",
    "plt.title(\"Visible Ice\")\n",
    "plt.xlabel(\"Boreholes\")\n",
    "plt.ylabel('depth')\n",
    "\n",
    "plt.show()"
   ]
  },
  {
   "cell_type": "code",
   "execution_count": 20,
   "id": "7293d3d1-9bb2-4e94-b0b0-73d8b2f4f5f8",
   "metadata": {},
   "outputs": [],
   "source": [
    "n_components = 4"
   ]
  },
  {
   "cell_type": "code",
   "execution_count": 21,
   "id": "aa7b25e1-1f18-4752-a23e-148488c52dfb",
   "metadata": {},
   "outputs": [],
   "source": [
    "transformer = FastICA(n_components=n_components, random_state=0, max_iter= 200)"
   ]
  },
  {
   "cell_type": "code",
   "execution_count": 22,
   "id": "0dc9d2f2-a226-496a-b6ad-d2a67450d8d0",
   "metadata": {},
   "outputs": [],
   "source": [
    "sources = transformer.fit_transform(input)"
   ]
  },
  {
   "cell_type": "code",
   "execution_count": 23,
   "id": "2d8d6ae5-9276-4d67-9b73-b8bf788b6ed1",
   "metadata": {},
   "outputs": [
    {
     "data": {
      "image/png": "[encoded data removed]",
      "text/plain": [
       "<Figure size 432x288 with 2 Axes>"
      ]
     },
     "metadata": {
      "needs_background": "light"
     },
     "output_type": "display_data"
    }
   ],
   "source": [
    "plt.imshow(sources, interpolation = 'none', extent=[0, sources.shape[1], 5, 0])\n",
    "ax = plt.gca()\n",
    "ax.set_aspect(2)\n",
    "plt.colorbar()\n",
    "plt.title(\"Visible Ice of Components\")\n",
    "plt.xlabel(\"Components\")\n",
    "plt.ylabel('Depth')\n",
    "plt.savefig('components_analysis/components_n{}.png'.format(n_components))\n",
    "plt.show()"
   ]
  },
  {
   "cell_type": "code",
   "execution_count": 24,
   "id": "eb9167ad-f550-41f6-983e-f16e153698b2",
   "metadata": {},
   "outputs": [],
   "source": [
    "mix = transformer.mixing_\n",
    "# mix is n_bh x n_components"
   ]
  },
  {
   "cell_type": "code",
   "execution_count": 25,
   "id": "e509c42d-c813-45a8-b03f-0b14bbfd9ac0",
   "metadata": {},
   "outputs": [
    {
     "data": {
      "image/png": "[encoded data removed]",
      "text/plain": [
       "<Figure size 432x288 with 2 Axes>"
      ]
     },
     "metadata": {
      "needs_background": "light"
     },
     "output_type": "display_data"
    }
   ],
   "source": [
    "plt.imshow(mix[0:10, :])\n",
    "plt.colorbar()\n",
    "plt.title(\"Mixture Matrix\")\n",
    "plt.xlabel(\"Components\")\n",
    "plt.ylabel('Boreholes')\n",
    "plt.savefig('components_analysis/mixture_n{}.png'.format(n_components))\n",
    "plt.show()"
   ]
  },
  {
   "cell_type": "code",
   "execution_count": 26,
   "id": "4595a678-d68d-4ca3-9bc3-2a24f6eb73ea",
   "metadata": {},
   "outputs": [],
   "source": [
    "recovered_mixture = transformer.inverse_transform(sources)"
   ]
  },
  {
   "cell_type": "code",
   "execution_count": 27,
   "id": "f59d7d53-4c47-4192-b0ba-0c38ab6ed00d",
   "metadata": {},
   "outputs": [
    {
     "data": {
      "text/plain": [
       "(10, 546)"
      ]
     },
     "execution_count": 27,
     "metadata": {},
     "output_type": "execute_result"
    }
   ],
   "source": [
    "recovered_mixture.shape"
   ]
  },
  {
   "cell_type": "code",
   "execution_count": 28,
   "id": "9d7732ff-f44e-42da-a814-5be30aa6ef9c",
   "metadata": {},
   "outputs": [
    {
     "data": {
      "image/png": "[encoded data removed]",
      "text/plain": [
       "<Figure size 432x288 with 4 Axes>"
      ]
     },
     "metadata": {
      "needs_background": "light"
     },
     "output_type": "display_data"
    }
   ],
   "source": [
    "n_max_bh = 50\n",
    "\n",
    "plt.figure()\n",
    "plt.subplot(211)\n",
    "plt.imshow(input[:, 0:n_max_bh], interpolation = 'none', extent=[0,n_max_bh-1, 5, 0])\n",
    "ax = plt.gca()\n",
    "ax.set_aspect(2)\n",
    "\n",
    "plt.colorbar()\n",
    "plt.title(\"Observed Visible Ice\")\n",
    "plt.xlabel(\"Boreholes\")\n",
    "plt.ylabel('Depth')\n",
    "\n",
    "plt.subplot(212)\n",
    "plt.imshow(recovered_mixture[:, 0:n_max_bh], interpolation = 'none', extent=[0,n_max_bh-1, 5, 0])\n",
    "ax = plt.gca()\n",
    "ax.set_aspect(2)\n",
    "plt.colorbar()\n",
    "plt.title(\"Recovered From Sources\")\n",
    "plt.xlabel(\"Boreholes\")\n",
    "plt.ylabel('Depth')\n",
    "\n",
    "plt.savefig('components_analysis/comparison_n{}.png'.format(n_components))\n",
    "plt.show()"
   ]
  },
  {
   "cell_type": "code",
   "execution_count": 29,
   "id": "fa3dc4b4-a553-4efe-ba84-7ed6cd35a93a",
   "metadata": {},
   "outputs": [],
   "source": [
    "diff = input - recovered_mixture"
   ]
  },
  {
   "cell_type": "code",
   "execution_count": 30,
   "id": "564f3d63-3258-4b32-9bc3-e5a9d74381f0",
   "metadata": {},
   "outputs": [
    {
     "data": {
      "text/plain": [
       "0.02578718819478075"
      ]
     },
     "execution_count": 30,
     "metadata": {},
     "output_type": "execute_result"
    }
   ],
   "source": [
    "mean_squared_error(input, recovered_mixture)"
   ]
  },
  {
   "cell_type": "code",
   "execution_count": 31,
   "id": "59c501fe-c4fc-4c38-b8ce-50b4b4e8126d",
   "metadata": {},
   "outputs": [
    {
     "data": {
      "text/plain": [
       "2.4852127817927485"
      ]
     },
     "execution_count": 31,
     "metadata": {},
     "output_type": "execute_result"
    }
   ],
   "source": [
    "np.amax(abs(diff))"
   ]
  },
  {
   "cell_type": "code",
   "execution_count": 32,
   "id": "a8f3909e-0817-4e44-8a32-556f1eb7b4a3",
   "metadata": {},
   "outputs": [
    {
     "data": {
      "image/png": "[encoded data removed]",
      "text/plain": [
       "<Figure size 432x288 with 2 Axes>"
      ]
     },
     "metadata": {
      "needs_background": "light"
     },
     "output_type": "display_data"
    }
   ],
   "source": [
    "n_max_bh = 50\n",
    "plt.imshow(diff[:, 0:n_max_bh], interpolation = 'none', extent=[0,n_max_bh-1, 5, 0])\n",
    "ax = plt.gca()\n",
    "\n",
    "ax.set_aspect(2)\n",
    "plt.colorbar()\n",
    "\n",
    "plt.title(\"Difference Between Observed and Recovered\")\n",
    "plt.xlabel(\"Boreholes\")\n",
    "plt.ylabel('Depth')\n",
    "\n",
    "plt.show()"
   ]
  },
  {
   "cell_type": "code",
   "execution_count": 33,
   "id": "78c42fd3-3003-48fd-8253-fb81abecbedb",
   "metadata": {},
   "outputs": [
    {
     "data": {
      "image/png": "[encoded data removed]",
      "text/plain": [
       "<Figure size 432x288 with 1 Axes>"
      ]
     },
     "metadata": {
      "needs_background": "light"
     },
     "output_type": "display_data"
    }
   ],
   "source": [
    "plt.hist(diff.flatten(), bins=100)\n",
    "plt.title(\"Histogram of Difference Between Observed and Recovered\")\n",
    "\n",
    "plt.show()"
   ]
  },
  {
   "cell_type": "code",
   "execution_count": 34,
   "id": "b859b011-14d0-4487-ae4d-a51e2493adcf",
   "metadata": {},
   "outputs": [
    {
     "data": {
      "image/png": "[encoded data removed]",
      "text/plain": [
       "<Figure size 432x288 with 2 Axes>"
      ]
     },
     "metadata": {
      "needs_background": "light"
     },
     "output_type": "display_data"
    }
   ],
   "source": [
    "plt.imshow(mix[50:100, :])\n",
    "plt.colorbar()\n",
    "plt.title(\"Mixture Matrix\")\n",
    "plt.xlabel(\"Components\")\n",
    "plt.ylabel('Boreholes')\n",
    "plt.show()"
   ]
  },
  {
   "cell_type": "code",
   "execution_count": 35,
   "id": "3558a60e-d784-45b8-a167-8039fe8d0ece",
   "metadata": {},
   "outputs": [],
   "source": [
    "dominants = np.argmax(abs(mix), axis = -1)"
   ]
  },
  {
   "cell_type": "code",
   "execution_count": 36,
   "id": "37889762-2d38-487a-85d7-d8aa8cfcb2dc",
   "metadata": {},
   "outputs": [
    {
     "data": {
      "image/png": "[encoded data removed]",
      "text/plain": [
       "<Figure size 432x288 with 1 Axes>"
      ]
     },
     "metadata": {
      "needs_background": "light"
     },
     "output_type": "display_data"
    }
   ],
   "source": [
    "plt.hist(dominants)\n",
    "plt.xticks(np.unique(dominants))\n",
    "plt.title('Histogram of Boreholes dominated by components')\n",
    "plt.xlabel('Components')\n",
    "plt.savefig('components_analysis/dominants_n{}'.format(n_components))\n",
    "plt.show()"
   ]
  },
  {
   "cell_type": "code",
   "execution_count": 39,
   "id": "9a175547-7f00-4c1d-ae1b-1074fbb971b5",
   "metadata": {},
   "outputs": [],
   "source": [
    "dominant_strengths = np.amax(abs(mix), axis=-1)"
   ]
  },
  {
   "cell_type": "code",
   "execution_count": 43,
   "id": "2ba2ee49-1602-452b-8714-ce4d7d62f88d",
   "metadata": {},
   "outputs": [
    {
     "data": {
      "image/png": "[encoded data removed]",
      "text/plain": [
       "<Figure size 432x288 with 1 Axes>"
      ]
     },
     "metadata": {
      "needs_background": "light"
     },
     "output_type": "display_data"
    }
   ],
   "source": [
    "plt.hist(dominant_strengths)\n",
    "plt.title('Histogram of Dominant Strengths')\n",
    "plt.xlabel('Strength')\n",
    "plt.show()"
   ]
  },
  {
   "cell_type": "code",
   "execution_count": null,
   "id": "7a419578-921a-4ef0-93f9-20f1078d9dfb",
   "metadata": {},
   "outputs": [],
   "source": []
  },
  {
   "cell_type": "code",
   "execution_count": null,
   "id": "2a22d16a-2dd0-4d4a-8ddd-5130f8ab7251",
   "metadata": {},
   "outputs": [],
   "source": [
    "for i, bh in enumerate(df.borehole.unique()):\n",
    "    df_chunk = df[df['borehole'] == bh]\n",
    "    if df_chunk.shape[0] < 2:\n",
    "        single_entries.append(i)\n",
    "    else:\n",
    "        f = interpolate.interp1d(df_chunk.depth, df_chunk.visible_ice_code, fill_value=\"extrapolate\")\n",
    "        input[:, i] = f(depth_grid)"
   ]
  }
 ],
 "metadata": {
  "kernelspec": {
   "display_name": "Python 3",
   "language": "python",
   "name": "python3"
  },
  "language_info": {
   "codemirror_mode": {
    "name": "ipython",
    "version": 3
   },
   "file_extension": ".py",
   "mimetype": "text/x-python",
   "name": "python",
   "nbconvert_exporter": "python",
   "pygments_lexer": "ipython3",
   "version": "3.8.8"
  }
 },
 "nbformat": 4,
 "nbformat_minor": 5
}
