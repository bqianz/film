{
 "cells": [
  {
   "cell_type": "code",
   "execution_count": 19,
   "id": "f8e1a280-dcfc-4f7a-80e2-e55d2ee5dba6",
   "metadata": {},
   "outputs": [],
   "source": [
    "from osgeo import ogr\n",
    "import os\n",
    "import pandas as pd\n",
    "import matplotlib.pyplot as plt\n",
    "from scipy.stats import triang\n",
    "import numpy as np"
   ]
  },
  {
   "cell_type": "markdown",
   "id": "fea53dd9-4a11-4e01-894e-a52a7a2f2b9b",
   "metadata": {},
   "source": [
    "## Plots"
   ]
  },
  {
   "cell_type": "code",
   "execution_count": 20,
   "id": "ac811d31-ed72-41d2-93c8-22b71b4df97c",
   "metadata": {},
   "outputs": [],
   "source": [
    "bh_file_path = 'profile_Till_Summary.csv'\n",
    "df = pd.read_csv(bh_file_path, header=[0])"
   ]
  },
  {
   "cell_type": "code",
   "execution_count": 21,
   "id": "ad72c814-41a5-40fc-b639-7927423aeee9",
   "metadata": {},
   "outputs": [
    {
     "data": {
      "text/html": [
       "<div>\n",
       "<style scoped>\n",
       "    .dataframe tbody tr th:only-of-type {\n",
       "        vertical-align: middle;\n",
       "    }\n",
       "\n",
       "    .dataframe tbody tr th {\n",
       "        vertical-align: top;\n",
       "    }\n",
       "\n",
       "    .dataframe thead th {\n",
       "        text-align: right;\n",
       "    }\n",
       "</style>\n",
       "<table border=\"1\" class=\"dataframe\">\n",
       "  <thead>\n",
       "    <tr style=\"text-align: right;\">\n",
       "      <th></th>\n",
       "      <th>Unnamed: 0</th>\n",
       "      <th>layerClass</th>\n",
       "      <th>depthBegin</th>\n",
       "      <th>depthEnd</th>\n",
       "      <th>Till_perc</th>\n",
       "      <th>Organics_perc</th>\n",
       "      <th>Boulder_perc</th>\n",
       "      <th>Ice_perc</th>\n",
       "      <th>Clay_perc</th>\n",
       "      <th>Gravel/Cobbles_perc</th>\n",
       "      <th>...</th>\n",
       "      <th>Frozen_max</th>\n",
       "      <th>Gravel_perc_max</th>\n",
       "      <th>Sand_perc_max</th>\n",
       "      <th>Fines_perc_max</th>\n",
       "      <th>ExIceCont_perc_mode</th>\n",
       "      <th>GWCWetBase_perc_mode</th>\n",
       "      <th>Frozen_mode</th>\n",
       "      <th>Gravel_perc_mode</th>\n",
       "      <th>Sand_perc_mode</th>\n",
       "      <th>Fines_perc_mode</th>\n",
       "    </tr>\n",
       "  </thead>\n",
       "  <tbody>\n",
       "    <tr>\n",
       "      <th>0</th>\n",
       "      <td>0</td>\n",
       "      <td>1.0</td>\n",
       "      <td>0.0</td>\n",
       "      <td>1.3</td>\n",
       "      <td>0.545455</td>\n",
       "      <td>0.090909</td>\n",
       "      <td>0.045455</td>\n",
       "      <td>0.00000</td>\n",
       "      <td>0.0</td>\n",
       "      <td>0.045455</td>\n",
       "      <td>...</td>\n",
       "      <td>1.0</td>\n",
       "      <td>85.0</td>\n",
       "      <td>90.0</td>\n",
       "      <td>65.0</td>\n",
       "      <td>-19.241364</td>\n",
       "      <td>-5.760455</td>\n",
       "      <td>-0.045455</td>\n",
       "      <td>-14.090909</td>\n",
       "      <td>77.363636</td>\n",
       "      <td>-29.136364</td>\n",
       "    </tr>\n",
       "    <tr>\n",
       "      <th>1</th>\n",
       "      <td>1</td>\n",
       "      <td>0.0</td>\n",
       "      <td>1.4</td>\n",
       "      <td>4.4</td>\n",
       "      <td>0.829268</td>\n",
       "      <td>0.024390</td>\n",
       "      <td>0.000000</td>\n",
       "      <td>0.02439</td>\n",
       "      <td>0.0</td>\n",
       "      <td>0.024390</td>\n",
       "      <td>...</td>\n",
       "      <td>1.0</td>\n",
       "      <td>85.0</td>\n",
       "      <td>90.0</td>\n",
       "      <td>65.0</td>\n",
       "      <td>11.992683</td>\n",
       "      <td>19.730488</td>\n",
       "      <td>1.487805</td>\n",
       "      <td>-23.170732</td>\n",
       "      <td>69.463415</td>\n",
       "      <td>-10.731707</td>\n",
       "    </tr>\n",
       "    <tr>\n",
       "      <th>2</th>\n",
       "      <td>2</td>\n",
       "      <td>2.0</td>\n",
       "      <td>4.5</td>\n",
       "      <td>9.9</td>\n",
       "      <td>1.000000</td>\n",
       "      <td>0.000000</td>\n",
       "      <td>0.000000</td>\n",
       "      <td>0.00000</td>\n",
       "      <td>0.0</td>\n",
       "      <td>0.000000</td>\n",
       "      <td>...</td>\n",
       "      <td>1.0</td>\n",
       "      <td>85.0</td>\n",
       "      <td>65.0</td>\n",
       "      <td>60.0</td>\n",
       "      <td>48.152000</td>\n",
       "      <td>84.464500</td>\n",
       "      <td>1.000000</td>\n",
       "      <td>63.000000</td>\n",
       "      <td>24.750000</td>\n",
       "      <td>-17.750000</td>\n",
       "    </tr>\n",
       "  </tbody>\n",
       "</table>\n",
       "<p>3 rows × 43 columns</p>\n",
       "</div>"
      ],
      "text/plain": [
       "   Unnamed: 0  layerClass  depthBegin  depthEnd  Till_perc  Organics_perc  \\\n",
       "0           0         1.0         0.0       1.3   0.545455       0.090909   \n",
       "1           1         0.0         1.4       4.4   0.829268       0.024390   \n",
       "2           2         2.0         4.5       9.9   1.000000       0.000000   \n",
       "\n",
       "   Boulder_perc  Ice_perc  Clay_perc  Gravel/Cobbles_perc  ...  Frozen_max  \\\n",
       "0      0.045455   0.00000        0.0             0.045455  ...         1.0   \n",
       "1      0.000000   0.02439        0.0             0.024390  ...         1.0   \n",
       "2      0.000000   0.00000        0.0             0.000000  ...         1.0   \n",
       "\n",
       "   Gravel_perc_max  Sand_perc_max  Fines_perc_max  ExIceCont_perc_mode  \\\n",
       "0             85.0           90.0            65.0           -19.241364   \n",
       "1             85.0           90.0            65.0            11.992683   \n",
       "2             85.0           65.0            60.0            48.152000   \n",
       "\n",
       "   GWCWetBase_perc_mode  Frozen_mode  Gravel_perc_mode  Sand_perc_mode  \\\n",
       "0             -5.760455    -0.045455        -14.090909       77.363636   \n",
       "1             19.730488     1.487805        -23.170732       69.463415   \n",
       "2             84.464500     1.000000         63.000000       24.750000   \n",
       "\n",
       "   Fines_perc_mode  \n",
       "0       -29.136364  \n",
       "1       -10.731707  \n",
       "2       -17.750000  \n",
       "\n",
       "[3 rows x 43 columns]"
      ]
     },
     "execution_count": 21,
     "metadata": {},
     "output_type": "execute_result"
    }
   ],
   "source": [
    "df"
   ]
  },
  {
   "cell_type": "code",
   "execution_count": 32,
   "id": "1c1f3fad-341f-41ed-aa3a-e899dc6a608f",
   "metadata": {},
   "outputs": [],
   "source": [
    "min = np.array(df.ExIceCont_perc_min)\n",
    "max = np.array(df.ExIceCont_perc_max)\n",
    "mode = np.array(df.ExIceCont_perc_mode)\n",
    "mean = np.array(df.ExIceCont_perc_Mean)"
   ]
  },
  {
   "cell_type": "code",
   "execution_count": 33,
   "id": "aa8e1816-42b4-45fc-9479-09cd0a99137a",
   "metadata": {},
   "outputs": [],
   "source": []
  },
  {
   "cell_type": "code",
   "execution_count": 55,
   "id": "a20ea712-cae6-49a7-abd6-c0602ec282aa",
   "metadata": {},
   "outputs": [
    {
     "data": {
      "text/plain": [
       "<Figure size 432x288 with 0 Axes>"
      ]
     },
     "metadata": {},
     "output_type": "display_data"
    },
    {
     "data": {
      "image/png": "[encoded data removed]",
      "text/plain": [
       "<Figure size 432x288 with 1 Axes>"
      ]
     },
     "metadata": {
      "needs_background": "light"
     },
     "output_type": "display_data"
    }
   ],
   "source": [
    "plt.clf()\n",
    "fig, ax = plt.subplots(1,1)\n",
    "\n",
    "for i in range(len(min)):\n",
    "    scale = max[i]-min[i]\n",
    "    c = np.divide(mean[i] - min[i], scale)\n",
    "    x = np.linspace(min[i], max[i], 20)\n",
    "    y = triang.pdf(x, c, min[i], scale)\n",
    "    ax.plot(x, y, label=\"Layer {}\".format(i))\n",
    "\n",
    "plt.legend()\n",
    "plt.title(\"Triangular Distribution: Excess Ice content percentage of terrain type Till\")\n",
    "plt.gca().axes.get_yaxis().set_visible(False)"
   ]
  },
  {
   "cell_type": "code",
   "execution_count": 6,
   "id": "61a0a8f8-2aa7-4c31-85bb-01c6e6c48a85",
   "metadata": {},
   "outputs": [],
   "source": [
    "filter_field = 'ULABLE1'\n",
    "value = 'Th'\n",
    "\n",
    "in_shapefile = r'C:\\Users\\mouju\\Downloads\\cgm_0184_p2\\Data\\SHP\\Surficial\\GEO_POLYS.shp'\n",
    "out_shapefile = 'lacdegras_{}.shp'.format(value)\n",
    "\n",
    "query_str = '\"{}\" = \"{}\"'.format(filter_field, value)"
   ]
  },
  {
   "cell_type": "code",
   "execution_count": 7,
   "id": "97891658-ae2f-4775-ab25-bf59544f7395",
   "metadata": {},
   "outputs": [],
   "source": [
    "DriverName = \"ESRI Shapefile\"      # e.g.: GeoJSON, ESRI Shapefile\n",
    "driver = ogr.GetDriverByName(DriverName)"
   ]
  },
  {
   "cell_type": "code",
   "execution_count": 8,
   "id": "55e8b48f-7b97-469c-b2d3-c9500ec25b09",
   "metadata": {},
   "outputs": [],
   "source": [
    "out_ds = driver.CreateDataSource(out_shapefile)"
   ]
  },
  {
   "cell_type": "code",
   "execution_count": 11,
   "id": "ae41d702-e127-4ebf-837a-f8ff95842c96",
   "metadata": {},
   "outputs": [
    {
     "name": "stdout",
     "output_type": "stream",
     "text": [
      "Opened C:\\Users\\mouju\\Downloads\\cgm_0184_p2\\Data\\SHP\\Surficial\\GEO_POLYS.shp\n",
      "Number of features in GEO_POLYS.shp: 3895\n"
     ]
    }
   ],
   "source": [
    "daShapefile = in_shapefile\n",
    "dataSource = driver.Open(daShapefile, 0) # 0 means read-only. 1 means writeable.\n",
    "# Check to see if shapefile is found.\n",
    "if dataSource is None:\n",
    "    print('Could not open %s' % (daShapefile))\n",
    "else:\n",
    "    print('Opened %s' % (daShapefile))\n",
    "    layer = dataSource.GetLayer()\n",
    "    featureCount = layer.GetFeatureCount()\n",
    "    print(\"Number of features in %s: %d\" % (os.path.basename(daShapefile),featureCount))"
   ]
  },
  {
   "cell_type": "code",
   "execution_count": 12,
   "id": "97d19239-1dd8-428b-b785-382acfa66e97",
   "metadata": {},
   "outputs": [
    {
     "data": {
      "text/plain": [
       "0"
      ]
     },
     "execution_count": 12,
     "metadata": {},
     "output_type": "execute_result"
    }
   ],
   "source": [
    "layer.SetAttributeFilter(\"ULABEL1 = 'Th'\")"
   ]
  },
  {
   "cell_type": "code",
   "execution_count": 15,
   "id": "b21e149f-6ec2-427b-ba68-50d5a985658b",
   "metadata": {},
   "outputs": [],
   "source": [
    "out_layer = out_ds.CopyLayer(layer, str(value))\n",
    "del layer, out_layer, out_ds"
   ]
  },
  {
   "cell_type": "code",
   "execution_count": null,
   "id": "b424bb94-6f40-46a4-8b5a-07212b5184fb",
   "metadata": {},
   "outputs": [],
   "source": []
  }
 ],
 "metadata": {
  "kernelspec": {
   "display_name": "Python 3",
   "language": "python",
   "name": "python3"
  },
  "language_info": {
   "codemirror_mode": {
    "name": "ipython",
    "version": 3
   },
   "file_extension": ".py",
   "mimetype": "text/x-python",
   "name": "python",
   "nbconvert_exporter": "python",
   "pygments_lexer": "ipython3",
   "version": "3.8.8"
  }
 },
 "nbformat": 4,
 "nbformat_minor": 5
}
