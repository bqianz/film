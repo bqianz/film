{
 "cells": [
  {
   "cell_type": "code",
   "execution_count": 1,
   "id": "4e44c628-f73a-4f11-9c97-d33f65039383",
   "metadata": {},
   "outputs": [],
   "source": [
    "import torch\n",
    "import torch.nn as nn\n",
    "from torch.utils.data import Dataset\n",
    "from torch.utils.data import DataLoader\n",
    "from torchvision import transforms\n",
    "from torchvision.transforms import ToTensor\n",
    "import torchvision.models as models\n",
    "from PIL import Image\n",
    "import os\n",
    "import numpy as np\n",
    "import pandas as pd\n",
    "from matplotlib import pyplot as plt\n",
    "import seaborn as sb\n",
    "\n",
    "from functools import partial\n",
    "from collections import OrderedDict\n",
    "\n",
    "from sklearn.metrics import classification_report, confusion_matrix, accuracy_score, precision_recall_fscore_support\n",
    "from sklearn.preprocessing import MinMaxScaler, StandardScaler\n",
    "\n",
    "import time\n",
    "\n",
    "hidden_width = 32\n",
    "hidden_nblocks = 4\n",
    "train_max_epoch = 15\n",
    "\n",
    "device = torch.device('cuda' if torch.cuda.is_available() else 'cpu')\n",
    "L2_param = 1e-4"
   ]
  },
  {
   "cell_type": "code",
   "execution_count": 2,
   "id": "bacf9237-9a3e-4b26-801b-341f884d94f1",
   "metadata": {},
   "outputs": [],
   "source": [
    "def preprocess_df(df):\n",
    "    # convert timecodes to year and month columns\n",
    "    datetimes = pd.to_datetime(df['time'])\n",
    "    df['month'] = datetimes.dt.month\n",
    "    df['year'] = datetimes.dt.year\n",
    "\n",
    "    df['month_cyclic'] = 7 - abs(df['month'] - 7)\n",
    "\n",
    "df = pd.read_csv('data_stephen_fix_header.csv', header=[0])\n",
    "preprocess_df(df)"
   ]
  },
  {
   "cell_type": "code",
   "execution_count": 3,
   "id": "5c1e0341-4a1a-4d41-a669-731b52b28c1b",
   "metadata": {},
   "outputs": [
    {
     "data": {
      "text/html": [
       "<div>\n",
       "<style scoped>\n",
       "    .dataframe tbody tr th:only-of-type {\n",
       "        vertical-align: middle;\n",
       "    }\n",
       "\n",
       "    .dataframe tbody tr th {\n",
       "        vertical-align: top;\n",
       "    }\n",
       "\n",
       "    .dataframe thead th {\n",
       "        text-align: right;\n",
       "    }\n",
       "</style>\n",
       "<table border=\"1\" class=\"dataframe\">\n",
       "  <thead>\n",
       "    <tr style=\"text-align: right;\">\n",
       "      <th></th>\n",
       "      <th>latitude</th>\n",
       "      <th>longitude</th>\n",
       "      <th>time</th>\n",
       "      <th>borehole</th>\n",
       "      <th>depth</th>\n",
       "      <th>frozen</th>\n",
       "      <th>cryostructures</th>\n",
       "      <th>visible_ice</th>\n",
       "      <th>ASTM_2488</th>\n",
       "      <th>materials</th>\n",
       "      <th>organic_cover</th>\n",
       "      <th>top_of_interval</th>\n",
       "      <th>bottom_of_interval</th>\n",
       "      <th>month</th>\n",
       "      <th>year</th>\n",
       "      <th>month_cyclic</th>\n",
       "    </tr>\n",
       "  </thead>\n",
       "  <tbody>\n",
       "    <tr>\n",
       "      <th>0</th>\n",
       "      <td>69.16162</td>\n",
       "      <td>-133.08682</td>\n",
       "      <td>2012-03-21T00:00:00Z</td>\n",
       "      <td>0170-1-10</td>\n",
       "      <td>0.15</td>\n",
       "      <td>0</td>\n",
       "      <td>NaN</td>\n",
       "      <td>NaN</td>\n",
       "      <td>TOPSOIL</td>\n",
       "      <td>Organics</td>\n",
       "      <td>0.3</td>\n",
       "      <td>0.0</td>\n",
       "      <td>0.3</td>\n",
       "      <td>3</td>\n",
       "      <td>2012</td>\n",
       "      <td>3</td>\n",
       "    </tr>\n",
       "    <tr>\n",
       "      <th>1</th>\n",
       "      <td>69.16162</td>\n",
       "      <td>-133.08682</td>\n",
       "      <td>2012-03-21T00:00:00Z</td>\n",
       "      <td>0170-1-10</td>\n",
       "      <td>0.85</td>\n",
       "      <td>1</td>\n",
       "      <td>NaN</td>\n",
       "      <td>Pure ice</td>\n",
       "      <td>ICE</td>\n",
       "      <td>Ice</td>\n",
       "      <td>0.3</td>\n",
       "      <td>0.3</td>\n",
       "      <td>1.4</td>\n",
       "      <td>3</td>\n",
       "      <td>2012</td>\n",
       "      <td>3</td>\n",
       "    </tr>\n",
       "    <tr>\n",
       "      <th>2</th>\n",
       "      <td>69.16162</td>\n",
       "      <td>-133.08682</td>\n",
       "      <td>2012-03-21T00:00:00Z</td>\n",
       "      <td>0170-1-10</td>\n",
       "      <td>1.90</td>\n",
       "      <td>1</td>\n",
       "      <td>Nf</td>\n",
       "      <td>No visible ice</td>\n",
       "      <td>SW-SM</td>\n",
       "      <td>Coarse till</td>\n",
       "      <td>0.3</td>\n",
       "      <td>1.4</td>\n",
       "      <td>2.4</td>\n",
       "      <td>3</td>\n",
       "      <td>2012</td>\n",
       "      <td>3</td>\n",
       "    </tr>\n",
       "    <tr>\n",
       "      <th>3</th>\n",
       "      <td>69.16162</td>\n",
       "      <td>-133.08682</td>\n",
       "      <td>2012-03-21T00:00:00Z</td>\n",
       "      <td>0170-1-10</td>\n",
       "      <td>5.40</td>\n",
       "      <td>1</td>\n",
       "      <td>Nf</td>\n",
       "      <td>No visible ice</td>\n",
       "      <td>GW-GM</td>\n",
       "      <td>Coarse till</td>\n",
       "      <td>0.3</td>\n",
       "      <td>2.4</td>\n",
       "      <td>8.4</td>\n",
       "      <td>3</td>\n",
       "      <td>2012</td>\n",
       "      <td>3</td>\n",
       "    </tr>\n",
       "    <tr>\n",
       "      <th>4</th>\n",
       "      <td>69.16105</td>\n",
       "      <td>-133.08880</td>\n",
       "      <td>2012-03-21T00:00:00Z</td>\n",
       "      <td>0170-1-12</td>\n",
       "      <td>1.20</td>\n",
       "      <td>1</td>\n",
       "      <td>Nf</td>\n",
       "      <td>No visible ice</td>\n",
       "      <td>GP-GM</td>\n",
       "      <td>Coarse till</td>\n",
       "      <td>0.0</td>\n",
       "      <td>0.0</td>\n",
       "      <td>2.4</td>\n",
       "      <td>3</td>\n",
       "      <td>2012</td>\n",
       "      <td>3</td>\n",
       "    </tr>\n",
       "  </tbody>\n",
       "</table>\n",
       "</div>"
      ],
      "text/plain": [
       "   latitude  longitude                  time   borehole  depth  frozen  \\\n",
       "0  69.16162 -133.08682  2012-03-21T00:00:00Z  0170-1-10   0.15       0   \n",
       "1  69.16162 -133.08682  2012-03-21T00:00:00Z  0170-1-10   0.85       1   \n",
       "2  69.16162 -133.08682  2012-03-21T00:00:00Z  0170-1-10   1.90       1   \n",
       "3  69.16162 -133.08682  2012-03-21T00:00:00Z  0170-1-10   5.40       1   \n",
       "4  69.16105 -133.08880  2012-03-21T00:00:00Z  0170-1-12   1.20       1   \n",
       "\n",
       "  cryostructures     visible_ice ASTM_2488    materials  organic_cover  \\\n",
       "0            NaN             NaN   TOPSOIL     Organics            0.3   \n",
       "1            NaN        Pure ice       ICE          Ice            0.3   \n",
       "2             Nf  No visible ice     SW-SM  Coarse till            0.3   \n",
       "3             Nf  No visible ice     GW-GM  Coarse till            0.3   \n",
       "4             Nf  No visible ice     GP-GM  Coarse till            0.0   \n",
       "\n",
       "   top_of_interval  bottom_of_interval  month  year  month_cyclic  \n",
       "0              0.0                 0.3      3  2012             3  \n",
       "1              0.3                 1.4      3  2012             3  \n",
       "2              1.4                 2.4      3  2012             3  \n",
       "3              2.4                 8.4      3  2012             3  \n",
       "4              0.0                 2.4      3  2012             3  "
      ]
     },
     "execution_count": 3,
     "metadata": {},
     "output_type": "execute_result"
    }
   ],
   "source": [
    "df.head()"
   ]
  },
  {
   "cell_type": "code",
   "execution_count": 4,
   "id": "58d07edd-59a6-43bc-ba73-a38da8f7d8af",
   "metadata": {},
   "outputs": [
    {
     "data": {
      "text/html": [
       "<div>\n",
       "<style scoped>\n",
       "    .dataframe tbody tr th:only-of-type {\n",
       "        vertical-align: middle;\n",
       "    }\n",
       "\n",
       "    .dataframe tbody tr th {\n",
       "        vertical-align: top;\n",
       "    }\n",
       "\n",
       "    .dataframe thead th {\n",
       "        text-align: right;\n",
       "    }\n",
       "</style>\n",
       "<table border=\"1\" class=\"dataframe\">\n",
       "  <thead>\n",
       "    <tr style=\"text-align: right;\">\n",
       "      <th></th>\n",
       "      <th>depth</th>\n",
       "      <th>month_cyclic</th>\n",
       "      <th>latitude</th>\n",
       "      <th>longitude</th>\n",
       "      <th>year</th>\n",
       "    </tr>\n",
       "  </thead>\n",
       "  <tbody>\n",
       "    <tr>\n",
       "      <th>0</th>\n",
       "      <td>0.15</td>\n",
       "      <td>3</td>\n",
       "      <td>69.16162</td>\n",
       "      <td>-133.08682</td>\n",
       "      <td>2012</td>\n",
       "    </tr>\n",
       "    <tr>\n",
       "      <th>1</th>\n",
       "      <td>0.85</td>\n",
       "      <td>3</td>\n",
       "      <td>69.16162</td>\n",
       "      <td>-133.08682</td>\n",
       "      <td>2012</td>\n",
       "    </tr>\n",
       "    <tr>\n",
       "      <th>2</th>\n",
       "      <td>1.90</td>\n",
       "      <td>3</td>\n",
       "      <td>69.16162</td>\n",
       "      <td>-133.08682</td>\n",
       "      <td>2012</td>\n",
       "    </tr>\n",
       "    <tr>\n",
       "      <th>3</th>\n",
       "      <td>5.40</td>\n",
       "      <td>3</td>\n",
       "      <td>69.16162</td>\n",
       "      <td>-133.08682</td>\n",
       "      <td>2012</td>\n",
       "    </tr>\n",
       "    <tr>\n",
       "      <th>4</th>\n",
       "      <td>1.20</td>\n",
       "      <td>3</td>\n",
       "      <td>69.16105</td>\n",
       "      <td>-133.08880</td>\n",
       "      <td>2012</td>\n",
       "    </tr>\n",
       "  </tbody>\n",
       "</table>\n",
       "</div>"
      ],
      "text/plain": [
       "   depth  month_cyclic  latitude  longitude  year\n",
       "0   0.15             3  69.16162 -133.08682  2012\n",
       "1   0.85             3  69.16162 -133.08682  2012\n",
       "2   1.90             3  69.16162 -133.08682  2012\n",
       "3   5.40             3  69.16162 -133.08682  2012\n",
       "4   1.20             3  69.16105 -133.08880  2012"
      ]
     },
     "execution_count": 4,
     "metadata": {},
     "output_type": "execute_result"
    }
   ],
   "source": [
    "df_cp = df.filter(['depth', 'month_cyclic', 'latitude', 'longitude', 'year'])\n",
    "df_cp.head()"
   ]
  },
  {
   "cell_type": "code",
   "execution_count": 5,
   "id": "30b13926-718d-4423-8329-b2d58ec0d76f",
   "metadata": {},
   "outputs": [],
   "source": [
    "from torch.utils.data import Dataset\n",
    "class Geo90Dataset(Dataset):\n",
    "    def __init__(self, data_root, df, base_lat, base_lng, chip_size=32, label_name = 'frozen'):\n",
    "        \n",
    "        self.base_lat = base_lat\n",
    "        self.base_lng = base_lng\n",
    "        \n",
    "        self.df = df\n",
    "        \n",
    "        self.chip_size = chip_size\n",
    "        self.label_name = label_name\n",
    "        \n",
    "        self.trans = transforms.ToTensor()\n",
    "        \n",
    "        self.n_channels = len(os.listdir(data_root))\n",
    "        self.preloaded = torch.zeros(self.n_channels, 6000, 6000)\n",
    "        \n",
    "        for i, file in enumerate(os.listdir(data_root)):\n",
    "            # name = file.split('_')[0]\n",
    "            # print(name)\n",
    "            self.preloaded[i] = self.trans(Image.open(data_root + os.path.sep + file))\n",
    "        \n",
    "        print('Dataset initialized')\n",
    "        \n",
    "    def __len__(self):\n",
    "        return self.df.shape[0]\n",
    "\n",
    "    def __getitem__(self, idx):\n",
    "        row = self.df.iloc[idx]\n",
    "        \n",
    "        bh_id = row.at['borehole']\n",
    "        lat = row.at['latitude']\n",
    "        lng = row.at['longitude']\n",
    "        \n",
    "\n",
    "        pixel_len = 5/6000\n",
    "        \n",
    "\n",
    "        lat_index_start = np.round((self.base_lat - lat) / pixel_len - self.chip_size/2).astype(int)\n",
    "        lat_index_end = lat_index_start + self.chip_size\n",
    "        \n",
    "        lng_index_start = np.round((lng - self.base_lng) / pixel_len - self.chip_size/2).astype(int)\n",
    "        lng_index_end = lng_index_start + self.chip_size\n",
    "        \n",
    "        image = self.preloaded[:, lat_index_start:lat_index_end,lng_index_start:lng_index_end]\n",
    "        \n",
    "        # surface = torch.tensor(row.filter(['depth'])).float()\n",
    "        surface = torch.tensor(row.filter(['depth', 'month_cyclic', 'latitude', 'longitude', 'year'])).float()\n",
    "        \n",
    "        frozen = torch.tensor(row.at['frozen']).float()\n",
    "        \n",
    "        # bh_id = row.at['borehole']\n",
    "        \n",
    "        return {'image': image, 'surface_data': surface, 'frozen': frozen}#, 'bh_id': bh_id}"
   ]
  },
  {
   "cell_type": "code",
   "execution_count": 6,
   "id": "8cb0c494-c682-47e9-a52c-20a96e8c43fb",
   "metadata": {},
   "outputs": [
    {
     "name": "stdout",
     "output_type": "stream",
     "text": [
      "Dataset initialized\n"
     ]
    }
   ],
   "source": [
    "base_lat = 70\n",
    "base_lng = -135\n",
    "\n",
    "full_dataset = Geo90Dataset(\"geomorph_data\", df, base_lat, base_lng, chip_size = 32)"
   ]
  },
  {
   "cell_type": "code",
   "execution_count": 37,
   "id": "cd89505a-8eed-462b-a42d-f4c189468166",
   "metadata": {},
   "outputs": [],
   "source": [
    "# get rid of -9999 values\n",
    "image = full_dataset[0]['image']\n",
    "n_channels = list(image.shape)[0]\n",
    "\n",
    "for data in full_dataset:\n",
    "    image = data['image']\n",
    "    for i in range(n_channels):\n",
    "        channel = image[i]\n",
    "        ind = (channel == -9999)\n",
    "#         mean_val = torch.mean(channel[~ind])\n",
    "        channel[ind] = 0\n",
    "        data['image'][i] = channel\n",
    "        \n",
    "        "
   ]
  },
  {
   "cell_type": "code",
   "execution_count": 9,
   "id": "8d110b9c-9c44-4420-8b48-31b198fa3586",
   "metadata": {},
   "outputs": [],
   "source": [
    "batchsize = 20\n",
    "train_size = int(0.8 * len(full_dataset))\n",
    "test_size = len(full_dataset) - train_size\n",
    "\n",
    "train_data, test_data = torch.utils.data.random_split(full_dataset, [train_size, test_size], generator=torch.Generator().manual_seed(42))"
   ]
  },
  {
   "cell_type": "markdown",
   "id": "79a01d9a-2e76-477a-974c-d16ceea68c77",
   "metadata": {},
   "source": [
    "# Unit Variance"
   ]
  },
  {
   "cell_type": "code",
   "execution_count": 7,
   "id": "797dd379-7554-4ddb-ad14-6f614aef1808",
   "metadata": {},
   "outputs": [],
   "source": [
    "infinity = float('inf')\n",
    "\n",
    "image = full_dataset[0]['image']\n",
    "n_channels = list(image.shape)[0]\n",
    "\n",
    "for j, data in enumerate(full_dataset):\n",
    "    image = data['image']\n",
    "    for i in range(n_channels):\n",
    "        channel = image[i]\n",
    "        ind = (channel == infinity)\n",
    "        if torch.any(ind):\n",
    "            print(\"sample {}, channel {}\".format(j,i))"
   ]
  },
  {
   "cell_type": "code",
   "execution_count": 10,
   "id": "8a57464d-322d-4158-97ca-819653ad4ae8",
   "metadata": {},
   "outputs": [
    {
     "name": "stdout",
     "output_type": "stream",
     "text": [
      "Channel 0 scaled.\n",
      "Channel 1 scaled.\n",
      "Channel 2 scaled.\n",
      "Channel 3 scaled.\n",
      "Channel 4 scaled.\n",
      "Channel 5 scaled.\n",
      "Channel 6 scaled.\n",
      "Channel 7 scaled.\n",
      "Channel 8 scaled.\n",
      "Channel 9 scaled.\n",
      "Channel 10 scaled.\n",
      "Channel 11 scaled.\n",
      "Channel 12 scaled.\n",
      "Channel 13 scaled.\n",
      "Channel 14 scaled.\n"
     ]
    }
   ],
   "source": [
    "image = full_dataset[0]['image']\n",
    "n_samples = len(train_data)\n",
    "n_channels = list(image.shape)[0]\n",
    "\n",
    "scalers = []\n",
    "for i in range(n_channels):\n",
    "    \n",
    "    scaler = StandardScaler()\n",
    "    X = torch.empty((n_samples, full_dataset.chip_size, full_dataset.chip_size))\n",
    "    \n",
    "    for j, data in enumerate(train_data):\n",
    "        #print(data['image'][i].shape)\n",
    "        # print(X[j].shape)\n",
    "        X[j] = data['image'][i]\n",
    "    X = torch.reshape(X, (-1,1))\n",
    "    scaler.fit(X)\n",
    "    scalers.append(scaler)\n",
    "    \n",
    "    def scale_data(subset):\n",
    "        for data in subset:\n",
    "            X = data['image'][i]\n",
    "            X_flat = torch.reshape(X, (-1,1))\n",
    "            X_trans = scaler.transform(X_flat)\n",
    "            data['image'][i] = torch.reshape(torch.Tensor(X_trans), (full_dataset.chip_size, full_dataset.chip_size))\n",
    "    \n",
    "    scale_data(train_data)\n",
    "    scale_data(test_data)\n",
    "    print(\"Channel {} scaled.\".format(i))\n",
    "       "
   ]
  },
  {
   "cell_type": "markdown",
   "id": "2853a12f-e621-41f8-aea4-a91095068aea",
   "metadata": {},
   "source": [
    "# MaxMin"
   ]
  },
  {
   "cell_type": "code",
   "execution_count": 39,
   "id": "88cfd3ca-ffc9-4814-9653-6bf2ce42aab9",
   "metadata": {},
   "outputs": [
    {
     "data": {
      "text/plain": [
       "tensor([[0., 0., 0.,  ..., 0., 0., 0.],\n",
       "        [0., 0., 0.,  ..., 0., 0., 0.],\n",
       "        [0., 0., 0.,  ..., 0., 0., 0.],\n",
       "        ...,\n",
       "        [0., 0., 0.,  ..., 0., 0., 0.],\n",
       "        [0., 0., 0.,  ..., 0., 0., 0.],\n",
       "        [0., 0., 0.,  ..., 0., 0., 0.]])"
      ]
     },
     "execution_count": 39,
     "metadata": {},
     "output_type": "execute_result"
    }
   ],
   "source": [
    "a = train_data[87]['image'][10]\n",
    "a"
   ]
  },
  {
   "cell_type": "code",
   "execution_count": 35,
   "id": "33cbe4d0-d8cd-48a1-b7a6-cad75b028018",
   "metadata": {},
   "outputs": [
    {
     "data": {
      "text/plain": [
       "tensor(nan)"
      ]
     },
     "execution_count": 35,
     "metadata": {},
     "output_type": "execute_result"
    }
   ],
   "source": [
    "torch.min(a)"
   ]
  },
  {
   "cell_type": "code",
   "execution_count": 32,
   "id": "141ec436-1bec-4078-85be-b1493231c006",
   "metadata": {},
   "outputs": [
    {
     "data": {
      "text/plain": [
       "tensor([  11.5500,    3.0000,   69.4475, -133.7629, 2013.0000])"
      ]
     },
     "execution_count": 32,
     "metadata": {},
     "output_type": "execute_result"
    }
   ],
   "source": [
    "train_data[87]['surface_data']"
   ]
  },
  {
   "cell_type": "code",
   "execution_count": 11,
   "id": "340279aa-102e-4985-b95b-82495fde8c66",
   "metadata": {},
   "outputs": [
    {
     "data": {
      "text/plain": [
       "torch.return_types.min(\n",
       "values=tensor([0.0976, 0.0977, 0.0980, 0.0983, 0.0974, 0.0976, 0.0976, 0.0976, 0.0940,\n",
       "        0.0976, 0.0953, 0.0976, 0.0976, 0.0941, 0.0976]),\n",
       "indices=tensor([0, 0, 0, 0, 0, 0, 0, 0, 0, 0, 0, 0, 0, 0, 0]))"
      ]
     },
     "execution_count": 11,
     "metadata": {},
     "output_type": "execute_result"
    }
   ],
   "source": [
    "image_flat = torch.reshape(train_data[87]['image'], (n_channels, -1))\n",
    "torch.min(image_flat[:, :1022], dim = -1)\n"
   ]
  },
  {
   "cell_type": "code",
   "execution_count": 12,
   "id": "8909e13d-31c1-4243-92a0-7217e346aae5",
   "metadata": {},
   "outputs": [
    {
     "data": {
      "text/plain": [
       "tensor([[0.0953, 0.0953, 0.0953,  ..., 0.0953, 0.0953, 0.0953],\n",
       "        [0.0953, 0.0953, 0.0953,  ..., 0.0953, 0.0953, 0.0953],\n",
       "        [0.0953, 0.0953, 0.0953,  ..., 0.0953, 0.0953, 0.0953],\n",
       "        ...,\n",
       "        [0.0953, 0.0953, 0.0953,  ..., 0.0953, 0.0953, 0.0953],\n",
       "        [0.0953, 0.0953, 0.0953,  ..., 0.0953, 0.0953, 0.0953],\n",
       "        [0.0953, 0.0953, 0.0953,  ..., 0.0953, 0.0953, 0.0953]])"
      ]
     },
     "execution_count": 12,
     "metadata": {},
     "output_type": "execute_result"
    }
   ],
   "source": [
    "test_data[500]['image'][10]"
   ]
  },
  {
   "cell_type": "code",
   "execution_count": 43,
   "id": "d9037a0f-bbb0-4e70-b8ef-26a8050cf480",
   "metadata": {},
   "outputs": [
    {
     "data": {
      "text/plain": [
       "tensor([[-9.9986e-01,  9.9995e-01,  1.9998e+00],\n",
       "        [-9.9988e-01,  9.9991e-01,  1.9998e+00],\n",
       "        [ 0.0000e+00,  3.5995e+02,  3.5995e+02],\n",
       "        [-9.1768e+01,  7.7070e+01,  1.6884e+02],\n",
       "        [-4.0262e+00,  1.0211e+01,  1.4237e+01],\n",
       "        [-3.3761e+00,  8.4137e+00,  1.1790e+01],\n",
       "        [ 0.0000e+00,  3.9970e+03,  3.9970e+03],\n",
       "        [-3.4000e-03,  2.8610e-03,  6.2610e-03],\n",
       "        [-1.0609e-03,  1.5045e-03,  2.5653e-03],\n",
       "        [-1.6431e-01,  2.1378e-01,  3.7809e-01],\n",
       "        [-3.7510e-03,  2.0001e-03,  5.7511e-03],\n",
       "        [-1.8733e-01,  2.1753e-01,  4.0485e-01],\n",
       "        [-1.6195e-01,  2.0886e-01,  3.7081e-01],\n",
       "        [ 0.0000e+00,  1.8424e+01,  1.8424e+01],\n",
       "        [ 0.0000e+00,  3.9216e-02,  3.9216e-02],\n",
       "        [-1.8360e-01,  2.1204e-01,  3.9564e-01],\n",
       "        [-4.0668e-03,  1.8909e-03,  5.9576e-03],\n",
       "        [ 0.0000e+00,  6.6115e+00,  6.6115e+00],\n",
       "        [ 0.0000e+00,  3.9970e+03,  3.9970e+03],\n",
       "        [ 0.0000e+00,  5.2410e+01,  5.2410e+01],\n",
       "        [ 0.0000e+00,  1.2731e+01,  1.2731e+01],\n",
       "        [ 0.0000e+00,  2.6696e+01,  2.6696e+01],\n",
       "        [-2.4062e-03,  1.8109e-03,  4.2171e-03],\n",
       "        [-1.7371e+01,  1.1846e+01,  2.9217e+01],\n",
       "        [ 0.0000e+00,  1.8856e+01,  1.8856e+01],\n",
       "        [-6.2292e-09,  1.1794e-02,  1.1794e-02]])"
      ]
     },
     "execution_count": 43,
     "metadata": {},
     "output_type": "execute_result"
    }
   ],
   "source": [
    "image = train_data[0]['image']\n",
    "n_channels = list(image.shape)[0]\n",
    "image_scaler = torch.zeros(n_channels, 3)\n",
    "image_flat = torch.reshape(image, (n_channels, -1))\n",
    "\n",
    "# ind = (image_flat == -9999)\n",
    "# mean_val = torch.mean(image_flat[~ind], dim = -1)\n",
    "# image_flat[ind] = mean_val\n",
    "\n",
    "image_scaler[:,0] = torch.min(image_flat, dim=-1).values\n",
    "image_scaler[:,1] = torch.max(image_flat, dim=-1).values\n",
    "\n",
    "for i, data in enumerate(train_data):\n",
    "    image = data['image']\n",
    "    image_flat = torch.reshape(image, (n_channels, -1))\n",
    "    \n",
    "#     ind = (image_flat == -9999)\n",
    "#     mean_val = torch.mean(image_flat[~ind], dim = -1)\n",
    "#     image_flat[ind] = mean_val\n",
    "\n",
    "    image_min = torch.min(image_flat, dim=-1).values\n",
    "    image_max = torch.max(image_flat, dim=-1).values\n",
    "    image_scaler[:,0] = torch.minimum(image_min, image_scaler[:,0])\n",
    "    # print(\"iteration {}\".format(i))\n",
    "    #print(torch.minimum(image_min, image_scaler[:,0]))\n",
    "    # print(torch.maximum(image_max, image_scaler[:,1]))\n",
    "    image_scaler[:,1] = torch.maximum(image_max, image_scaler[:,1])\n",
    "\n",
    "image_scaler[:,2] = image_scaler[:,1] - image_scaler[:,0]\n",
    "\n",
    "#if min == max, let the divisor (max-min) be 1\n",
    "ind = image_scaler[:,2] == 0\n",
    "mean_divisor = torch.mean(image_scaler[~ind, 2])\n",
    "image_scaler[ind,2] = mean_divisor\n",
    "\n",
    "image_scaler"
   ]
  },
  {
   "cell_type": "code",
   "execution_count": 44,
   "id": "7f3bda3a-a72d-48b3-9afb-8a0301ae8c3e",
   "metadata": {},
   "outputs": [],
   "source": [
    "def normalize_chips(data_subset):\n",
    "    for data in data_subset:\n",
    "        image = data['image']\n",
    "        \n",
    "        for i in range(n_channels):\n",
    "            image[i] = (image[i] - image_scaler[i,0]) / image_scaler[i,2]\n",
    "        \n",
    "        data['image'] = image\n",
    "\n",
    "normalize_chips(train_data)\n",
    "normalize_chips(test_data)"
   ]
  },
  {
   "cell_type": "code",
   "execution_count": null,
   "id": "b304ff28-62f6-44bf-a248-f5e881ea7351",
   "metadata": {},
   "outputs": [],
   "source": [
    "len(train_data)"
   ]
  },
  {
   "cell_type": "code",
   "execution_count": 50,
   "id": "ab66035a-ed19-4537-ad01-556b964786e0",
   "metadata": {},
   "outputs": [
    {
     "data": {
      "text/plain": [
       "tensor([[0.0000e+00, 0.0000e+00, 0.0000e+00,  ..., 0.0000e+00, 0.0000e+00,\n",
       "         0.0000e+00],\n",
       "        [0.0000e+00, 0.0000e+00, 0.0000e+00,  ..., 0.0000e+00, 0.0000e+00,\n",
       "         0.0000e+00],\n",
       "        [0.0000e+00, 0.0000e+00, 0.0000e+00,  ..., 0.0000e+00, 0.0000e+00,\n",
       "         0.0000e+00],\n",
       "        ...,\n",
       "        [0.0000e+00, 0.0000e+00, 0.0000e+00,  ..., 4.3452e-24, 4.3452e-24,\n",
       "         7.0579e-24],\n",
       "        [0.0000e+00, 0.0000e+00, 0.0000e+00,  ..., 8.7998e-09, 1.0749e-08,\n",
       "         1.0749e-08],\n",
       "        [0.0000e+00, 0.0000e+00, 0.0000e+00,  ..., 1.0451e-08, 1.0451e-08,\n",
       "         1.1758e-08]])"
      ]
     },
     "execution_count": 50,
     "metadata": {},
     "output_type": "execute_result"
    }
   ],
   "source": [
    "test_data[34]['image'][2]"
   ]
  },
  {
   "cell_type": "code",
   "execution_count": null,
   "id": "4e6d49ca-6568-444d-afc6-bffd38a67b30",
   "metadata": {},
   "outputs": [],
   "source": []
  }
 ],
 "metadata": {
  "kernelspec": {
   "display_name": "Python 3",
   "language": "python",
   "name": "python3"
  },
  "language_info": {
   "codemirror_mode": {
    "name": "ipython",
    "version": 3
   },
   "file_extension": ".py",
   "mimetype": "text/x-python",
   "name": "python",
   "nbconvert_exporter": "python",
   "pygments_lexer": "ipython3",
   "version": "3.8.8"
  }
 },
 "nbformat": 4,
 "nbformat_minor": 5
}
