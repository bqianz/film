{
 "cells": [
  {
   "cell_type": "code",
   "execution_count": 1,
   "id": "0efa537d-92c9-4f72-9453-4cb7536e2799",
   "metadata": {},
   "outputs": [],
   "source": [
    "from matplotlib import pyplot as plt\n",
    "import numpy as np\n",
    "import pandas as pd\n",
    "import seaborn as sb\n",
    "import gmplot as gp\n",
    "from PIL import Image\n",
    "\n",
    "from xgboost import XGBClassifier\n",
    "import xgboost\n",
    "import shap\n",
    "\n",
    "from sklearn.model_selection import train_test_split\n",
    "from sklearn.model_selection import cross_val_score\n",
    "from sklearn.metrics import classification_report, confusion_matrix, accuracy_score\n",
    "\n",
    "from scipy.interpolate import LinearNDInterpolator"
   ]
  },
  {
   "cell_type": "code",
   "execution_count": 2,
   "id": "60296761-36f5-4afe-8c84-7fcbad4252d6",
   "metadata": {},
   "outputs": [],
   "source": [
    "df = pd.read_csv('data_stephen_fix_header.csv', header=[0])\n",
    "df = df.drop(df[df['latitude'] >= 69.4475].index)"
   ]
  },
  {
   "cell_type": "code",
   "execution_count": 3,
   "id": "0c27118c-23eb-4bb1-8d7e-3b7cdb86353f",
   "metadata": {},
   "outputs": [
    {
     "data": {
      "text/html": [
       "<div>\n",
       "<style scoped>\n",
       "    .dataframe tbody tr th:only-of-type {\n",
       "        vertical-align: middle;\n",
       "    }\n",
       "\n",
       "    .dataframe tbody tr th {\n",
       "        vertical-align: top;\n",
       "    }\n",
       "\n",
       "    .dataframe thead th {\n",
       "        text-align: right;\n",
       "    }\n",
       "</style>\n",
       "<table border=\"1\" class=\"dataframe\">\n",
       "  <thead>\n",
       "    <tr style=\"text-align: right;\">\n",
       "      <th></th>\n",
       "      <th>latitude</th>\n",
       "      <th>longitude</th>\n",
       "      <th>time</th>\n",
       "      <th>borehole</th>\n",
       "      <th>depth</th>\n",
       "      <th>frozen</th>\n",
       "      <th>cryostructures</th>\n",
       "      <th>visible_ice</th>\n",
       "      <th>ASTM_2488</th>\n",
       "      <th>materials</th>\n",
       "      <th>organic_cover</th>\n",
       "      <th>top_of_interval</th>\n",
       "      <th>bottom_of_interval</th>\n",
       "    </tr>\n",
       "  </thead>\n",
       "  <tbody>\n",
       "    <tr>\n",
       "      <th>2832</th>\n",
       "      <td>68.38262</td>\n",
       "      <td>-133.71211</td>\n",
       "      <td>2013-04-27T00:00:00Z</td>\n",
       "      <td>W14103137-S6-BH15</td>\n",
       "      <td>5.45</td>\n",
       "      <td>1</td>\n",
       "      <td>Nf/Nbn</td>\n",
       "      <td>No visible ice</td>\n",
       "      <td>NaN</td>\n",
       "      <td>Till</td>\n",
       "      <td>0.0</td>\n",
       "      <td>2.7</td>\n",
       "      <td>8.2</td>\n",
       "    </tr>\n",
       "    <tr>\n",
       "      <th>2833</th>\n",
       "      <td>68.38262</td>\n",
       "      <td>-133.71211</td>\n",
       "      <td>2013-04-27T00:00:00Z</td>\n",
       "      <td>W14103137-S6-BH15</td>\n",
       "      <td>8.65</td>\n",
       "      <td>1</td>\n",
       "      <td>Nbn</td>\n",
       "      <td>No visible ice</td>\n",
       "      <td>NaN</td>\n",
       "      <td>Till</td>\n",
       "      <td>0.0</td>\n",
       "      <td>8.2</td>\n",
       "      <td>9.1</td>\n",
       "    </tr>\n",
       "    <tr>\n",
       "      <th>2834</th>\n",
       "      <td>68.38386</td>\n",
       "      <td>-133.70967</td>\n",
       "      <td>2013-04-27T00:00:00Z</td>\n",
       "      <td>W14103137-S6-BH16</td>\n",
       "      <td>0.05</td>\n",
       "      <td>0</td>\n",
       "      <td>NaN</td>\n",
       "      <td>None</td>\n",
       "      <td>ORGANICS</td>\n",
       "      <td>Organics</td>\n",
       "      <td>0.1</td>\n",
       "      <td>0.0</td>\n",
       "      <td>0.1</td>\n",
       "    </tr>\n",
       "    <tr>\n",
       "      <th>2835</th>\n",
       "      <td>68.38386</td>\n",
       "      <td>-133.70967</td>\n",
       "      <td>2013-04-27T00:00:00Z</td>\n",
       "      <td>W14103137-S6-BH16</td>\n",
       "      <td>0.35</td>\n",
       "      <td>0</td>\n",
       "      <td>NaN</td>\n",
       "      <td>None</td>\n",
       "      <td>NaN</td>\n",
       "      <td>Till</td>\n",
       "      <td>0.1</td>\n",
       "      <td>0.1</td>\n",
       "      <td>0.6</td>\n",
       "    </tr>\n",
       "    <tr>\n",
       "      <th>2836</th>\n",
       "      <td>68.38386</td>\n",
       "      <td>-133.70967</td>\n",
       "      <td>2013-04-27T00:00:00Z</td>\n",
       "      <td>W14103137-S6-BH16</td>\n",
       "      <td>4.85</td>\n",
       "      <td>1</td>\n",
       "      <td>Nbn</td>\n",
       "      <td>No visible ice</td>\n",
       "      <td>NaN</td>\n",
       "      <td>Till</td>\n",
       "      <td>0.1</td>\n",
       "      <td>0.6</td>\n",
       "      <td>9.1</td>\n",
       "    </tr>\n",
       "  </tbody>\n",
       "</table>\n",
       "</div>"
      ],
      "text/plain": [
       "      latitude  longitude                  time           borehole  depth  \\\n",
       "2832  68.38262 -133.71211  2013-04-27T00:00:00Z  W14103137-S6-BH15   5.45   \n",
       "2833  68.38262 -133.71211  2013-04-27T00:00:00Z  W14103137-S6-BH15   8.65   \n",
       "2834  68.38386 -133.70967  2013-04-27T00:00:00Z  W14103137-S6-BH16   0.05   \n",
       "2835  68.38386 -133.70967  2013-04-27T00:00:00Z  W14103137-S6-BH16   0.35   \n",
       "2836  68.38386 -133.70967  2013-04-27T00:00:00Z  W14103137-S6-BH16   4.85   \n",
       "\n",
       "      frozen cryostructures     visible_ice ASTM_2488 materials  \\\n",
       "2832       1         Nf/Nbn  No visible ice       NaN      Till   \n",
       "2833       1            Nbn  No visible ice       NaN      Till   \n",
       "2834       0            NaN            None  ORGANICS  Organics   \n",
       "2835       0            NaN            None       NaN      Till   \n",
       "2836       1            Nbn  No visible ice       NaN      Till   \n",
       "\n",
       "      organic_cover  top_of_interval  bottom_of_interval  \n",
       "2832            0.0              2.7                 8.2  \n",
       "2833            0.0              8.2                 9.1  \n",
       "2834            0.1              0.0                 0.1  \n",
       "2835            0.1              0.1                 0.6  \n",
       "2836            0.1              0.6                 9.1  "
      ]
     },
     "execution_count": 3,
     "metadata": {},
     "output_type": "execute_result"
    }
   ],
   "source": [
    "df.tail()"
   ]
  },
  {
   "cell_type": "code",
   "execution_count": 4,
   "id": "0185589c-6db8-4d61-bb87-168f6b33b020",
   "metadata": {},
   "outputs": [],
   "source": [
    "# df.loc[df['cryostructures'].str.contains('Vx', na=False), 'cryostructures'] = 'Vx'\n",
    "# df.loc[df['cryostructures'].str.contains('Nf', na=False), 'cryostructures'] = 'Nf'\n",
    "# df.loc[df['cryostructures'].str.contains('Nbn', na=False), 'cryostructures'] = 'Nbn'\n",
    "df['cryostructures'] = df['cryostructures'].str.split('/').str[0]\n",
    "df['cryostructures'].replace(['Vx, Vs'], 'Vx', regex=True, inplace=True)\n",
    "df['cryostructures'].replace(['Vx, Vc'], 'Vx', regex=True, inplace=True)"
   ]
  },
  {
   "cell_type": "code",
   "execution_count": 5,
   "id": "23237e8a-2237-4236-a519-a3fcd2c75fe5",
   "metadata": {},
   "outputs": [],
   "source": [
    "# merge materials (target) classes\n",
    "# types of ice -> ice\n",
    "# types of till -> till\n",
    "\n",
    "# df['materials'].replace(['ICE'], 'ice', regex=True, inplace=True)\n",
    "# df['materials'].replace(['ICE'], 'Ice', regex=True, inplace=True)\n",
    "# df['materials'].replace(['ice'], 'Ice', regex=True, inplace=True)\n",
    "# df['materials'].replace(['Pure Ice'], 'Ice', regex=True, inplace=True)\n",
    "\n",
    "# df['materials'].replace(['Coarse till'], 'Till', regex=True, inplace=True)\n",
    "# df['materials'].replace(['till'], 'Till', regex=True, inplace=True)\n",
    "# df['materials'].replace(['Fine till'], 'Till', regex=True, inplace=True)\n",
    "# df['materials'].replace(['Fine Till'], 'Till', regex=True, inplace=True)\n",
    "\n",
    "# # df['materials'].replace(['Till'], 'Sand', regex=True, inplace=True)\n",
    "# # df['materials'].replace(['Silt'], 'Sand', regex=True, inplace=True)\n",
    "\n",
    "# # df['materials'].replace(['Cobbles'], 'Gravel', regex=True, inplace=True)\n",
    "\n",
    "# df['visible_ice'].replace(['None'], 'No visible ice', regex=True, inplace=True)\n",
    "\n",
    "\n",
    "df['materials'].replace(['Pure Ice'], 'Ice', regex=True, inplace=True)\n",
    "\n",
    "df['materials'].replace(['Coarse till'], 'Till', regex=True, inplace=True)\n",
    "df['materials'].replace(['till'], 'Till', regex=True, inplace=True)\n",
    "df['materials'].replace(['Fine till'], 'Till', regex=True, inplace=True)\n",
    "df['materials'].replace(['Fine Till'], 'Till', regex=True, inplace=True)\n",
    "\n",
    "df['materials'].replace(['Till'], 'Sand', regex=True, inplace=True)\n",
    "df['materials'].replace(['Silt'], 'Sand', regex=True, inplace=True)\n",
    "\n",
    "df['materials'].replace(['Cobbles'], 'Gravel', regex=True, inplace=True)\n",
    "\n",
    "\n",
    "#df['materials'].replace(['Rock'], 'Gravel', regex=True, inplace=True)\n",
    "\n",
    "# -------------\n",
    "df['materials'].replace(['ICE'], 'Ice', regex=True, inplace=True)\n",
    "df['materials'].replace(['ice'], 'Ice', regex=True, inplace=True)\n",
    "\n",
    "# print(df.materials.value_counts().index)\n",
    "# df.materials = df.materials.astype('category').cat.codes\n",
    "# print(df.materials.value_counts().index)\n",
    "\n",
    "# convert_to_code('materials')\n",
    "# convert_to_code('cryostructures')\n",
    "# convert_to_code('ASTM_2488')\n",
    "\n",
    "ordered_ice = ['No visible ice', 'Low', \"Medium to high\", 'High', 'Pure ice']\n",
    "df['visible_ice'] = pd.Series(pd.Categorical(df['visible_ice'], categories=ordered_ice, ordered=True))\n",
    "# convert_to_code('visible_ice')\n",
    "\n",
    "\n",
    "# convert timecodes to year and month columns\n",
    "datetimes = pd.to_datetime(df['time'])\n",
    "df['month'] = datetimes.dt.month\n",
    "df['year'] = datetimes.dt.year"
   ]
  },
  {
   "cell_type": "code",
   "execution_count": 6,
   "id": "7b438829-7f2a-482e-8d82-f8c01abef218",
   "metadata": {},
   "outputs": [
    {
     "data": {
      "text/plain": [
       "7"
      ]
     },
     "execution_count": 6,
     "metadata": {},
     "output_type": "execute_result"
    }
   ],
   "source": [
    "df.materials.nunique()"
   ]
  },
  {
   "cell_type": "code",
   "execution_count": 7,
   "id": "e4bd71b9-9f54-48bd-acf6-30ee14bbf6da",
   "metadata": {},
   "outputs": [],
   "source": [
    "df['interval_length'] = df['bottom_of_interval'] - df['top_of_interval']"
   ]
  },
  {
   "cell_type": "code",
   "execution_count": 8,
   "id": "175fed03-96eb-4cab-86d4-f9693a88f8f1",
   "metadata": {},
   "outputs": [],
   "source": [
    "def convert_to_code(df, column):\n",
    "    print(df[column].value_counts().index)\n",
    "    df[column] = df[column].astype('category').cat.codes\n",
    "    print(df[column].value_counts().index)"
   ]
  },
  {
   "cell_type": "code",
   "execution_count": 9,
   "id": "92c0a370-cd3a-486a-895d-4794afa37e8b",
   "metadata": {},
   "outputs": [],
   "source": [
    "feature_names = ['latitude', 'longitude', 'year', 'month', 'depth', 'interval_length'] #, 'organic_cover']"
   ]
  },
  {
   "cell_type": "markdown",
   "id": "1e293001-68a1-4ef9-9e60-743285f9f280",
   "metadata": {},
   "source": [
    "## Plot visible ice mean over depth"
   ]
  },
  {
   "cell_type": "code",
   "execution_count": 10,
   "id": "ccaddb69-ba4d-4a89-ad0f-79b3c1d3c3fc",
   "metadata": {},
   "outputs": [],
   "source": [
    "# df = df.dropna(subset=['visible_ice'])\n",
    "# convert_to_code(df, 'visible_ice')"
   ]
  },
  {
   "cell_type": "code",
   "execution_count": 11,
   "id": "65c5850d-1b93-4ffb-9572-a84d76c74983",
   "metadata": {},
   "outputs": [],
   "source": [
    "# visible_ice_mean = df.groupby(['borehole'])['visible_ice'].mean().values"
   ]
  },
  {
   "cell_type": "code",
   "execution_count": 12,
   "id": "8b3b01e5-dd1d-4b76-9202-9ad026ead503",
   "metadata": {},
   "outputs": [],
   "source": [
    "df_unique = df.drop_duplicates(subset='borehole')"
   ]
  },
  {
   "cell_type": "code",
   "execution_count": 13,
   "id": "37724ff7-121c-4c80-b2d5-86fb6bf85df8",
   "metadata": {},
   "outputs": [],
   "source": [
    "# df_unique['visible_ice_mean'] = visible_ice_mean"
   ]
  },
  {
   "cell_type": "code",
   "execution_count": 14,
   "id": "e0a754b9-b215-423e-a42a-1b5cbd62b37d",
   "metadata": {},
   "outputs": [],
   "source": [
    "# plt.scatter(df_unique.longitude, df_unique.latitude, c = visible_ice_mean)\n",
    "# plt.axis('equal')\n",
    "# plt.colorbar()"
   ]
  },
  {
   "cell_type": "markdown",
   "id": "0d97126b-d681-4e43-93cf-46b92aeecad5",
   "metadata": {},
   "source": [
    "## xgboost stuff"
   ]
  },
  {
   "cell_type": "code",
   "execution_count": 15,
   "id": "a4860a6b-656d-49e6-97f4-db456b0ef0b8",
   "metadata": {},
   "outputs": [
    {
     "name": "stdout",
     "output_type": "stream",
     "text": [
      "69.34394\n",
      "68.36933\n",
      "-132.89346\n",
      "-133.82843\n"
     ]
    }
   ],
   "source": [
    "print(df.latitude.max())\n",
    "print(df.latitude.min())\n",
    "print(df.longitude.max())\n",
    "print(df.longitude.min())"
   ]
  },
  {
   "cell_type": "code",
   "execution_count": 16,
   "id": "63b6ce5b-1e02-42a3-9654-bad9c703d418",
   "metadata": {},
   "outputs": [],
   "source": [
    "def xgboost_shap(label_name):\n",
    "    df_temp = df.dropna(subset=[label_name])\n",
    "    convert_to_code(df_temp, label_name)\n",
    "    data = np.array(df_temp.filter(feature_names))\n",
    "    labels = df_temp[label_name]\n",
    "\n",
    "    X_train, X_test, y_train, y_test = train_test_split(data, labels, test_size=0.2) #, random_state=0\n",
    "\n",
    "    classifier = XGBClassifier()\n",
    "    classifier.fit(X_train, y_train) \n",
    "\n",
    "    y_pred = classifier.predict(X_test)\n",
    "\n",
    "    print(confusion_matrix(y_test,y_pred))\n",
    "    print(classification_report(y_test,y_pred))\n",
    "    print(accuracy_score(y_test, y_pred))\n",
    "\n",
    "    explainer = shap.TreeExplainer(classifier)\n",
    "    shap_values = explainer.shap_values(data)\n",
    "\n",
    "    shap.summary_plot(shap_values, plot_type=\"bar\", feature_names=feature_names, show=False)\n",
    "    plt.title(label_name)\n",
    "    plt.show()"
   ]
  },
  {
   "cell_type": "code",
   "execution_count": 17,
   "id": "c0cd2589-b454-44e8-90ce-0c38bc086533",
   "metadata": {},
   "outputs": [],
   "source": [
    "def xgboost_shap_layers(label_name, depth_top, depth_bottom=1000):\n",
    "    df_temp = df.dropna(subset=[label_name])\n",
    "    \n",
    "    df_temp = df_temp.loc[(df_temp['depth'] >= depth_top) & (df_temp['depth'] <= depth_bottom)]\n",
    "    \n",
    "    convert_to_code(df_temp, label_name)\n",
    "    data = np.array(df_temp.filter(feature_names))\n",
    "    labels = df_temp[label_name]\n",
    "\n",
    "    X_train, X_test, y_train, y_test = train_test_split(data, labels, test_size=0.3) #, random_state=0\n",
    "\n",
    "    classifier = XGBClassifier()\n",
    "    classifier.fit(X_train, y_train) \n",
    "\n",
    "    y_pred = classifier.predict(X_test)\n",
    "\n",
    "    print(confusion_matrix(y_test,y_pred))\n",
    "    print(classification_report(y_test,y_pred))\n",
    "    print(accuracy_score(y_test, y_pred))\n",
    "\n",
    "    explainer = shap.TreeExplainer(classifier)\n",
    "    shap_values = explainer.shap_values(data)\n",
    "        \n",
    "    shap.summary_plot(shap_values, plot_type=\"bar\", feature_names=feature_names, show=False)\n",
    "    plt.title(label_name)\n",
    "    plt.show()"
   ]
  },
  {
   "cell_type": "code",
   "execution_count": 18,
   "id": "66069c8e-9d4d-4387-a54c-a57631d662f6",
   "metadata": {},
   "outputs": [],
   "source": [
    "def xgboost_shap_train_all_layers(label_name, depth_top, depth_bottom=1000):\n",
    "    df_temp = df.dropna(subset=[label_name])\n",
    "    \n",
    "    convert_to_code(df_temp, label_name)\n",
    "    data = np.array(df_temp.filter(feature_names))\n",
    "    labels = df_temp[label_name]\n",
    "\n",
    "    X_train, X_test, y_train, y_test = train_test_split(data, labels, test_size=0.3) #, random_state=0\n",
    "    \n",
    "    print((X_test['depth'] >= depth_top) & (X_test['depth'] <= depth_bottom))\n",
    "#     X_test = X_test.loc[(X_test['depth'] >= depth_top) & (X_test['depth'] <= depth_bottom)]\n",
    "#     Y_test = Y_test.loc[(X_test['depth'] >= depth_top) & (X_test['depth'] <= depth_bottom)]\n",
    "\n",
    "    classifier = XGBClassifier()\n",
    "    classifier.fit(X_train, y_train) \n",
    "\n",
    "    y_pred = classifier.predict(X_test)\n",
    "\n",
    "    print(confusion_matrix(y_test,y_pred))\n",
    "    print(classification_report(y_test,y_pred))\n",
    "    print(accuracy_score(y_test, y_pred))\n",
    "\n",
    "    explainer = shap.TreeExplainer(classifier)\n",
    "    shap_values = explainer.shap_values(data)\n",
    "    print(\"shap_values shape is:\")\n",
    "    print(np.array(shap_values).shape)\n",
    "    shap.summary_plot(shap_values, plot_type=\"bar\", feature_names=feature_names, show=False)\n",
    "    plt.title(label_name)\n",
    "    plt.show()"
   ]
  },
  {
   "cell_type": "markdown",
   "id": "99a489da-d22a-4863-a05b-7e9f36bb1cdd",
   "metadata": {},
   "source": [
    "## visualize layers"
   ]
  },
  {
   "cell_type": "code",
   "execution_count": 19,
   "id": "7c94091d-9976-45b3-a3ec-d7ced2016142",
   "metadata": {},
   "outputs": [
    {
     "name": "stdout",
     "output_type": "stream",
     "text": [
      "Int64Index([1, 0], dtype='int64')\n",
      "Int64Index([1, 0], dtype='int64')\n",
      "[18:01:03] WARNING: C:/Users/Administrator/workspace/xgboost-win64_release_1.4.0/src/learner.cc:1095: Starting in XGBoost 1.3.0, the default evaluation metric used with the objective 'binary:logistic' was changed from 'error' to 'logloss'. Explicitly set eval_metric if you'd like to restore the old behavior.\n",
      "[[ 64  18]\n",
      " [  9 473]]\n",
      "              precision    recall  f1-score   support\n",
      "\n",
      "           0       0.88      0.78      0.83        82\n",
      "           1       0.96      0.98      0.97       482\n",
      "\n",
      "    accuracy                           0.95       564\n",
      "   macro avg       0.92      0.88      0.90       564\n",
      "weighted avg       0.95      0.95      0.95       564\n",
      "\n",
      "0.9521276595744681\n"
     ]
    },
    {
     "name": "stderr",
     "output_type": "stream",
     "text": [
      "The use of label encoder in XGBClassifier is deprecated and will be removed in a future release. To remove this warning, do the following: 1) Pass option use_label_encoder=False when constructing XGBClassifier object; and 2) Encode your labels (y) as integers starting with 0, i.e. 0, 1, 2, ..., [num_class - 1].\n"
     ]
    }
   ],
   "source": [
    "label_name = 'frozen'\n",
    "df_temp = df.dropna(subset=[label_name])\n",
    "convert_to_code(df_temp, label_name)\n",
    "data = np.array(df_temp.filter(feature_names))\n",
    "labels = df_temp[label_name]\n",
    "\n",
    "X_train, X_test, y_train, y_test = train_test_split(data, labels, test_size=0.2) #, random_state=0\n",
    "\n",
    "classifier = XGBClassifier()\n",
    "classifier.fit(X_train, y_train) \n",
    "\n",
    "y_pred = classifier.predict(X_test)\n",
    "\n",
    "print(confusion_matrix(y_test,y_pred))\n",
    "print(classification_report(y_test,y_pred))\n",
    "print(accuracy_score(y_test, y_pred))"
   ]
  },
  {
   "cell_type": "code",
   "execution_count": 20,
   "id": "8e4158f7-45a2-457b-8fb2-8979a49b2245",
   "metadata": {},
   "outputs": [
    {
     "data": {
      "text/plain": [
       "['latitude', 'longitude', 'year', 'month', 'depth', 'interval_length']"
      ]
     },
     "execution_count": 20,
     "metadata": {},
     "output_type": "execute_result"
    }
   ],
   "source": [
    "feature_names"
   ]
  },
  {
   "cell_type": "code",
   "execution_count": 21,
   "id": "c4dafbd4-d82d-4e94-a660-aee8e535bc69",
   "metadata": {},
   "outputs": [],
   "source": [
    "latitude_max = 69.5\n",
    "latitude_min = 68.3\n",
    "longitude_max = -132.8\n",
    "longitude_min = -133.9\n",
    "# latitude_max = df.latitude.max()\n",
    "# latitude_min = df.latitude.min()\n",
    "# longitude_max = df.longitude.max()\n",
    "# longitude_min = df.longitude.min()\n",
    "\n",
    "n_lat = 80\n",
    "n_lng = 40\n",
    "\n",
    "lng_range = np.linspace(longitude_min, longitude_max, n_lng)\n",
    "lat_range = np.linspace(latitude_min, latitude_max, n_lat)\n",
    "depth_range = [1, 3, 5, 7, 9]\n",
    "grid_lng, grid_lat, grid_depth = np.meshgrid(lng_range, lat_range, depth_range)\n",
    "X_syn = np.zeros([len(grid_lng.flatten()), len(feature_names)])\n"
   ]
  },
  {
   "cell_type": "code",
   "execution_count": 22,
   "id": "700775d4-41f1-4fee-8f33-4ddc8d9d97fc",
   "metadata": {},
   "outputs": [
    {
     "data": {
      "text/plain": [
       "(16000, 6)"
      ]
     },
     "execution_count": 22,
     "metadata": {},
     "output_type": "execute_result"
    }
   ],
   "source": [
    "X_syn.shape"
   ]
  },
  {
   "cell_type": "code",
   "execution_count": 23,
   "id": "1dfed9f5-e418-4c91-81bf-09abb840c96b",
   "metadata": {},
   "outputs": [],
   "source": [
    "X_syn[:, 0] = grid_lat.flatten() # latitude\n",
    "X_syn[:, 1] = grid_lng.flatten() # longitude\n",
    "X_syn[:, 2] = 2013 # year\n",
    "X_syn[:, 3] = 3 # month\n",
    "X_syn[:, 4] = grid_depth.flatten() # depth\n",
    "X_syn[:, 5] = 2 # interval length"
   ]
  },
  {
   "cell_type": "code",
   "execution_count": 24,
   "id": "35824465-1ed7-4160-9667-aa4615cd6261",
   "metadata": {},
   "outputs": [],
   "source": [
    "Y_syn = classifier.predict(X_syn)"
   ]
  },
  {
   "cell_type": "code",
   "execution_count": 25,
   "id": "e144fd92-2a93-4f6e-a6ff-1ce79195d438",
   "metadata": {},
   "outputs": [],
   "source": [
    "Y_syn_reshaped = Y_syn.reshape(n_lng, n_lat, len(depth_range))"
   ]
  },
  {
   "cell_type": "code",
   "execution_count": 26,
   "id": "d54c4fa9-9d38-4a1b-8273-14dfcf21e974",
   "metadata": {},
   "outputs": [
    {
     "data": {
      "text/plain": [
       "(40, 80, 5)"
      ]
     },
     "execution_count": 26,
     "metadata": {},
     "output_type": "execute_result"
    }
   ],
   "source": [
    "Y_syn_reshaped.shape"
   ]
  },
  {
   "cell_type": "code",
   "execution_count": 27,
   "id": "271a4946-43c9-4847-924c-5137f9ea8bbf",
   "metadata": {},
   "outputs": [],
   "source": [
    "Y_syn_sum = np.sum(Y_syn_reshaped, axis=-1)"
   ]
  },
  {
   "cell_type": "markdown",
   "id": "20f312f1-a82c-4545-b0ee-cdd7a044aa07",
   "metadata": {},
   "source": [
    "## plot layers on map"
   ]
  },
  {
   "cell_type": "code",
   "execution_count": 28,
   "id": "e02ff3d1-0e71-45ed-96a7-7022cf8d8c2c",
   "metadata": {},
   "outputs": [],
   "source": [
    "import matplotlib.pyplot as plt\n",
    "from matplotlib import cm\n",
    "from matplotlib.colors import ListedColormap, LinearSegmentedColormap\n",
    "from matplotlib.colors import to_hex"
   ]
  },
  {
   "cell_type": "code",
   "execution_count": 29,
   "id": "2471ec17-3a8d-4de1-ad49-47f7f3518f24",
   "metadata": {},
   "outputs": [
    {
     "data": {
      "text/plain": [
       "Text(0.5, 1.0, 'Sum of depth layers')"
      ]
     },
     "execution_count": 29,
     "metadata": {},
     "output_type": "execute_result"
    },
    {
     "data": {
      "image/png": "[encoded data removed]",
      "text/plain": [
       "<Figure size 432x288 with 2 Axes>"
      ]
     },
     "metadata": {
      "needs_background": "light"
     },
     "output_type": "display_data"
    }
   ],
   "source": [
    "plt.imshow(Y_syn_sum)\n",
    "plt.rcParams['figure.figsize'] = [5,5]\n",
    "plt.colorbar()\n",
    "plt.title(\"Sum of depth layers\")"
   ]
  },
  {
   "cell_type": "code",
   "execution_count": 30,
   "id": "ee352819-c4d3-4c59-a54e-306521cf970f",
   "metadata": {},
   "outputs": [
    {
     "data": {
      "image/png": "[encoded data removed]",
      "text/plain": [
       "<Figure size 1440x720 with 10 Axes>"
      ]
     },
     "metadata": {
      "needs_background": "light"
     },
     "output_type": "display_data"
    }
   ],
   "source": [
    "plt.rcParams['figure.figsize'] = [20, 10]\n",
    "for i in range(5):\n",
    "    plt.subplot(5,1,i+1)\n",
    "    plt.imshow(Y_syn_reshaped[:,:,i])\n",
    "    plt.colorbar()\n",
    "    plt.title('Depth = {}'.format(depth_range[i]))\n",
    "\n",
    "plt.tight_layout()\n",
    "plt.savefig('xgboost_predicted_depth_layers.png')"
   ]
  },
  {
   "cell_type": "code",
   "execution_count": null,
   "id": "d00a7bf3-185b-413d-9012-f732b7fe4f76",
   "metadata": {},
   "outputs": [],
   "source": []
  },
  {
   "cell_type": "code",
   "execution_count": null,
   "id": "f2b8d685-d95b-4b22-823d-552f7442e1a4",
   "metadata": {},
   "outputs": [],
   "source": []
  },
  {
   "cell_type": "code",
   "execution_count": 31,
   "id": "13f4f44b-858f-4205-b541-641ffca274f2",
   "metadata": {},
   "outputs": [
    {
     "data": {
      "text/plain": [
       "(3200,)"
      ]
     },
     "execution_count": 31,
     "metadata": {},
     "output_type": "execute_result"
    }
   ],
   "source": [
    "import gmplot as gp\n",
    "\n",
    "mean_lat = df.latitude.unique().mean()\n",
    "mean_lng = df.longitude.unique().mean()\n",
    "\n",
    "grid_lng_2d, grid_lat_2d = np.meshgrid(lng_range, lat_range)\n",
    "grid_lng_2d = grid_lng_2d.flatten()\n",
    "grid_lat_2d = grid_lat_2d.flatten()\n",
    "\n",
    "grid_lat_2d.shape"
   ]
  },
  {
   "cell_type": "code",
   "execution_count": 32,
   "id": "88b67247-730b-403d-bf32-c90cfab92bf4",
   "metadata": {},
   "outputs": [
    {
     "data": {
      "text/plain": [
       "3200"
      ]
     },
     "execution_count": 32,
     "metadata": {},
     "output_type": "execute_result"
    }
   ],
   "source": [
    "predicted_2d = Y_syn_reshaped[:, :, 0]\n",
    "predicted_2d = predicted_2d.flatten()\n",
    "ocean = cm.get_cmap('inferno',predicted_2d.max())\n",
    "color_ice = ocean(predicted_2d)\n",
    "len(color_ice)"
   ]
  },
  {
   "cell_type": "code",
   "execution_count": 33,
   "id": "f75ba9d8-2e59-4353-8d48-2c1bd8fec8a0",
   "metadata": {},
   "outputs": [],
   "source": [
    "color_ice_hex = [None] * len(color_ice)"
   ]
  },
  {
   "cell_type": "code",
   "execution_count": 34,
   "id": "244f7dd7-fe83-4d0b-af67-b148f6833986",
   "metadata": {},
   "outputs": [
    {
     "data": {
      "text/plain": [
       "array([1.4620e-03, 4.6600e-04, 1.3866e-02, 1.0000e+00])"
      ]
     },
     "execution_count": 34,
     "metadata": {},
     "output_type": "execute_result"
    }
   ],
   "source": [
    "color_ice[0]"
   ]
  },
  {
   "cell_type": "code",
   "execution_count": 35,
   "id": "40dbda0e-da10-403d-bd83-1c34119d9dac",
   "metadata": {},
   "outputs": [],
   "source": [
    "for i, color in enumerate(color_ice):\n",
    "    color_ice_hex[i] = to_hex(color)"
   ]
  },
  {
   "cell_type": "markdown",
   "id": "e936b2ce-4174-4911-9170-7773139cb243",
   "metadata": {},
   "source": [
    "## xgboost train on all layers, test on single layer"
   ]
  },
  {
   "cell_type": "code",
   "execution_count": 36,
   "id": "04d82a62-f357-4ac6-8ec0-4a7fe4f93b8a",
   "metadata": {},
   "outputs": [],
   "source": [
    "current_label_name = 'visible_ice'"
   ]
  },
  {
   "cell_type": "code",
   "execution_count": 37,
   "id": "86e04d04-5114-450e-aafc-a3e65868bfa8",
   "metadata": {},
   "outputs": [],
   "source": [
    "#xgboost_shap_train_all_layers(current_label_name, 0, 2.5)"
   ]
  },
  {
   "cell_type": "code",
   "execution_count": null,
   "id": "6a58e514-7e40-4aa6-90ad-86970e42891c",
   "metadata": {},
   "outputs": [],
   "source": []
  },
  {
   "cell_type": "code",
   "execution_count": null,
   "id": "1ab774ff-58a3-4905-b09c-f40e140b2c5f",
   "metadata": {},
   "outputs": [],
   "source": []
  },
  {
   "cell_type": "code",
   "execution_count": null,
   "id": "5098d830-3f8e-4d1a-bd4e-4855d8a04b79",
   "metadata": {},
   "outputs": [],
   "source": []
  },
  {
   "cell_type": "markdown",
   "id": "23afff76-6f25-4eea-b0a1-1d32c9f8887a",
   "metadata": {},
   "source": [
    "## xgboot with depth layers"
   ]
  },
  {
   "cell_type": "code",
   "execution_count": 38,
   "id": "434c39d4-8a2b-4239-97ad-6b65a05af878",
   "metadata": {},
   "outputs": [
    {
     "name": "stdout",
     "output_type": "stream",
     "text": [
      "CategoricalIndex(['Medium to high', 'No visible ice', 'Low', 'Pure ice',\n",
      "                  'High'],\n",
      "                 categories=['No visible ice', 'Low', 'Medium to high', 'High', 'Pure ice'], ordered=True, dtype='category')\n",
      "Int64Index([2, 0, 1, 4, 3], dtype='int64')\n",
      "[18:01:04] WARNING: C:/Users/Administrator/workspace/xgboost-win64_release_1.4.0/src/learner.cc:1095: Starting in XGBoost 1.3.0, the default evaluation metric used with the objective 'multi:softprob' was changed from 'merror' to 'mlogloss'. Explicitly set eval_metric if you'd like to restore the old behavior.\n"
     ]
    },
    {
     "name": "stderr",
     "output_type": "stream",
     "text": [
      "The use of label encoder in XGBClassifier is deprecated and will be removed in a future release. To remove this warning, do the following: 1) Pass option use_label_encoder=False when constructing XGBClassifier object; and 2) Encode your labels (y) as integers starting with 0, i.e. 0, 1, 2, ..., [num_class - 1].\n"
     ]
    },
    {
     "name": "stdout",
     "output_type": "stream",
     "text": [
      "[[56 17 14  0  3]\n",
      " [14 25 25  2  1]\n",
      " [ 8 23 51  0  5]\n",
      " [ 0  4  4  0  0]\n",
      " [ 8  2 12  0  0]]\n",
      "              precision    recall  f1-score   support\n",
      "\n",
      "           0       0.65      0.62      0.64        90\n",
      "           1       0.35      0.37      0.36        67\n",
      "           2       0.48      0.59      0.53        87\n",
      "           3       0.00      0.00      0.00         8\n",
      "           4       0.00      0.00      0.00        22\n",
      "\n",
      "    accuracy                           0.48       274\n",
      "   macro avg       0.30      0.32      0.31       274\n",
      "weighted avg       0.45      0.48      0.47       274\n",
      "\n",
      "0.48175182481751827\n"
     ]
    },
    {
     "name": "stderr",
     "output_type": "stream",
     "text": [
      "ntree_limit is deprecated, use `iteration_range` or model slicing instead.\n"
     ]
    },
    {
     "data": {
      "image/png": "[encoded data removed]",
      "text/plain": [
       "<Figure size 576x280.8 with 1 Axes>"
      ]
     },
     "metadata": {
      "needs_background": "light"
     },
     "output_type": "display_data"
    }
   ],
   "source": [
    "xgboost_shap_layers(current_label_name, 0, 2.5)"
   ]
  },
  {
   "cell_type": "code",
   "execution_count": 39,
   "id": "abd8134f-0e0c-489f-917a-81b0735232dc",
   "metadata": {},
   "outputs": [
    {
     "name": "stdout",
     "output_type": "stream",
     "text": [
      "CategoricalIndex(['Low', 'No visible ice', 'Medium to high', 'Pure ice',\n",
      "                  'High'],\n",
      "                 categories=['No visible ice', 'Low', 'Medium to high', 'High', 'Pure ice'], ordered=True, dtype='category')\n",
      "Int64Index([1, 0, 2, 4, 3], dtype='int64')\n",
      "[18:01:04] WARNING: C:/Users/Administrator/workspace/xgboost-win64_release_1.4.0/src/learner.cc:1095: Starting in XGBoost 1.3.0, the default evaluation metric used with the objective 'multi:softprob' was changed from 'merror' to 'mlogloss'. Explicitly set eval_metric if you'd like to restore the old behavior.\n"
     ]
    },
    {
     "name": "stderr",
     "output_type": "stream",
     "text": [
      "The use of label encoder in XGBClassifier is deprecated and will be removed in a future release. To remove this warning, do the following: 1) Pass option use_label_encoder=False when constructing XGBClassifier object; and 2) Encode your labels (y) as integers starting with 0, i.e. 0, 1, 2, ..., [num_class - 1].\n"
     ]
    },
    {
     "name": "stdout",
     "output_type": "stream",
     "text": [
      "[[24 10 10  0  8]\n",
      " [16 21 19  3  6]\n",
      " [11 18 14  1  5]\n",
      " [ 0  4  0  0  1]\n",
      " [13 14  1  0 11]]\n",
      "              precision    recall  f1-score   support\n",
      "\n",
      "           0       0.38      0.46      0.41        52\n",
      "           1       0.31      0.32      0.32        65\n",
      "           2       0.32      0.29      0.30        49\n",
      "           3       0.00      0.00      0.00         5\n",
      "           4       0.35      0.28      0.31        39\n",
      "\n",
      "    accuracy                           0.33       210\n",
      "   macro avg       0.27      0.27      0.27       210\n",
      "weighted avg       0.33      0.33      0.33       210\n",
      "\n",
      "0.3333333333333333\n"
     ]
    },
    {
     "name": "stderr",
     "output_type": "stream",
     "text": [
      "ntree_limit is deprecated, use `iteration_range` or model slicing instead.\n"
     ]
    },
    {
     "data": {
      "image/png": "[encoded data removed]",
      "text/plain": [
       "<Figure size 576x280.8 with 1 Axes>"
      ]
     },
     "metadata": {
      "needs_background": "light"
     },
     "output_type": "display_data"
    }
   ],
   "source": [
    "xgboost_shap_layers(current_label_name, 2.5, 5)"
   ]
  },
  {
   "cell_type": "code",
   "execution_count": 40,
   "id": "a760c18d-1be1-4ada-844c-b202162ddfe1",
   "metadata": {},
   "outputs": [
    {
     "name": "stdout",
     "output_type": "stream",
     "text": [
      "CategoricalIndex(['Low', 'No visible ice', 'Medium to high', 'Pure ice',\n",
      "                  'High'],\n",
      "                 categories=['No visible ice', 'Low', 'Medium to high', 'High', 'Pure ice'], ordered=True, dtype='category')\n",
      "Int64Index([1, 0, 2, 4, 3], dtype='int64')\n",
      "[18:01:05] WARNING: C:/Users/Administrator/workspace/xgboost-win64_release_1.4.0/src/learner.cc:1095: Starting in XGBoost 1.3.0, the default evaluation metric used with the objective 'multi:softprob' was changed from 'merror' to 'mlogloss'. Explicitly set eval_metric if you'd like to restore the old behavior.\n",
      "[[19 11  5  0  0]\n",
      " [14 11 13  3  1]\n",
      " [ 8  9  9  0  3]\n",
      " [ 0  1  1  0  0]\n",
      " [ 9  7  4  0  3]]\n",
      "              precision    recall  f1-score   support\n",
      "\n",
      "           0       0.38      0.54      0.45        35\n",
      "           1       0.28      0.26      0.27        42\n",
      "           2       0.28      0.31      0.30        29\n",
      "           3       0.00      0.00      0.00         2\n",
      "           4       0.43      0.13      0.20        23\n",
      "\n",
      "    accuracy                           0.32       131\n",
      "   macro avg       0.27      0.25      0.24       131\n",
      "weighted avg       0.33      0.32      0.31       131\n"
     ]
    },
    {
     "name": "stderr",
     "output_type": "stream",
     "text": [
      "The use of label encoder in XGBClassifier is deprecated and will be removed in a future release. To remove this warning, do the following: 1) Pass option use_label_encoder=False when constructing XGBClassifier object; and 2) Encode your labels (y) as integers starting with 0, i.e. 0, 1, 2, ..., [num_class - 1].\n"
     ]
    },
    {
     "name": "stdout",
     "output_type": "stream",
     "text": [
      "\n",
      "0.32061068702290074\n"
     ]
    },
    {
     "name": "stderr",
     "output_type": "stream",
     "text": [
      "ntree_limit is deprecated, use `iteration_range` or model slicing instead.\n"
     ]
    },
    {
     "data": {
      "image/png": "[encoded data removed]",
      "text/plain": [
       "<Figure size 576x280.8 with 1 Axes>"
      ]
     },
     "metadata": {
      "needs_background": "light"
     },
     "output_type": "display_data"
    }
   ],
   "source": [
    "xgboost_shap_layers(current_label_name, 5, 7.5)"
   ]
  },
  {
   "cell_type": "code",
   "execution_count": 41,
   "id": "e99e7c5a-c939-4958-85ca-0beb193ec231",
   "metadata": {},
   "outputs": [
    {
     "name": "stdout",
     "output_type": "stream",
     "text": [
      "CategoricalIndex(['Low', 'No visible ice', 'Medium to high', 'Pure ice',\n",
      "                  'High'],\n",
      "                 categories=['No visible ice', 'Low', 'Medium to high', 'High', 'Pure ice'], ordered=True, dtype='category')\n",
      "Int64Index([1, 0, 2, 4, 3], dtype='int64')\n",
      "[18:01:06] WARNING: C:/Users/Administrator/workspace/xgboost-win64_release_1.4.0/src/learner.cc:1095: Starting in XGBoost 1.3.0, the default evaluation metric used with the objective 'multi:softprob' was changed from 'merror' to 'mlogloss'. Explicitly set eval_metric if you'd like to restore the old behavior.\n",
      "[[10  7  4  0  2]\n",
      " [10  8 12  0  1]\n",
      " [ 6  3  8  0  2]\n",
      " [ 0  0  1  0  0]\n",
      " [ 4  1  0  0  1]]\n",
      "              precision    recall  f1-score   support\n",
      "\n",
      "           0       0.33      0.43      0.38        23\n",
      "           1       0.42      0.26      0.32        31\n",
      "           2       0.32      0.42      0.36        19\n",
      "           3       0.00      0.00      0.00         1\n",
      "           4       0.17      0.17      0.17         6\n",
      "\n",
      "    accuracy                           0.34        80\n",
      "   macro avg       0.25      0.26      0.25        80\n",
      "weighted avg       0.35      0.34      0.33        80\n",
      "\n",
      "0.3375\n"
     ]
    },
    {
     "name": "stderr",
     "output_type": "stream",
     "text": [
      "The use of label encoder in XGBClassifier is deprecated and will be removed in a future release. To remove this warning, do the following: 1) Pass option use_label_encoder=False when constructing XGBClassifier object; and 2) Encode your labels (y) as integers starting with 0, i.e. 0, 1, 2, ..., [num_class - 1].\n",
      "Precision and F-score are ill-defined and being set to 0.0 in labels with no predicted samples. Use `zero_division` parameter to control this behavior.\n",
      "Precision and F-score are ill-defined and being set to 0.0 in labels with no predicted samples. Use `zero_division` parameter to control this behavior.\n",
      "Precision and F-score are ill-defined and being set to 0.0 in labels with no predicted samples. Use `zero_division` parameter to control this behavior.\n",
      "ntree_limit is deprecated, use `iteration_range` or model slicing instead.\n"
     ]
    },
    {
     "data": {
      "image/png": "[encoded data removed]",
      "text/plain": [
       "<Figure size 576x280.8 with 1 Axes>"
      ]
     },
     "metadata": {
      "needs_background": "light"
     },
     "output_type": "display_data"
    }
   ],
   "source": [
    "xgboost_shap_layers(current_label_name, 7.5, 10)"
   ]
  },
  {
   "cell_type": "code",
   "execution_count": 42,
   "id": "d1c72fc4-c421-4016-b120-999e16620609",
   "metadata": {},
   "outputs": [
    {
     "name": "stdout",
     "output_type": "stream",
     "text": [
      "CategoricalIndex(['Low', 'Medium to high', 'No visible ice', 'Pure ice',\n",
      "                  'High'],\n",
      "                 categories=['No visible ice', 'Low', 'Medium to high', 'High', 'Pure ice'], ordered=True, dtype='category')\n",
      "Int64Index([1, 2, 0, 4, 3], dtype='int64')\n",
      "[18:01:06] WARNING: C:/Users/Administrator/workspace/xgboost-win64_release_1.4.0/src/learner.cc:1095: Starting in XGBoost 1.3.0, the default evaluation metric used with the objective 'multi:softprob' was changed from 'merror' to 'mlogloss'. Explicitly set eval_metric if you'd like to restore the old behavior.\n",
      "[[ 2  8  1  0  0]\n",
      " [ 2 10  3  0  1]\n",
      " [ 1 11  4  0  1]\n",
      " [ 1  0  1  0  0]\n",
      " [ 0  2  0  0  0]]\n",
      "              precision    recall  f1-score   support\n",
      "\n",
      "           0       0.33      0.18      0.24        11\n",
      "           1       0.32      0.62      0.43        16\n",
      "           2       0.44      0.24      0.31        17\n",
      "           3       0.00      0.00      0.00         2\n",
      "           4       0.00      0.00      0.00         2\n",
      "\n",
      "    accuracy                           0.33        48\n",
      "   macro avg       0.22      0.21      0.19        48\n",
      "weighted avg       0.34      0.33      0.30        48\n",
      "\n",
      "0.3333333333333333\n"
     ]
    },
    {
     "name": "stderr",
     "output_type": "stream",
     "text": [
      "The use of label encoder in XGBClassifier is deprecated and will be removed in a future release. To remove this warning, do the following: 1) Pass option use_label_encoder=False when constructing XGBClassifier object; and 2) Encode your labels (y) as integers starting with 0, i.e. 0, 1, 2, ..., [num_class - 1].\n",
      "Precision and F-score are ill-defined and being set to 0.0 in labels with no predicted samples. Use `zero_division` parameter to control this behavior.\n",
      "Precision and F-score are ill-defined and being set to 0.0 in labels with no predicted samples. Use `zero_division` parameter to control this behavior.\n",
      "Precision and F-score are ill-defined and being set to 0.0 in labels with no predicted samples. Use `zero_division` parameter to control this behavior.\n",
      "ntree_limit is deprecated, use `iteration_range` or model slicing instead.\n"
     ]
    },
    {
     "data": {
      "image/png": "[encoded data removed]",
      "text/plain": [
       "<Figure size 576x280.8 with 1 Axes>"
      ]
     },
     "metadata": {
      "needs_background": "light"
     },
     "output_type": "display_data"
    }
   ],
   "source": [
    "xgboost_shap_layers(current_label_name, 10)"
   ]
  },
  {
   "cell_type": "markdown",
   "id": "e739e7fb-b8f9-4c77-b551-2584a10183f5",
   "metadata": {},
   "source": [
    "## xgboost without depth layers"
   ]
  },
  {
   "cell_type": "code",
   "execution_count": 43,
   "id": "d0deec9e-516f-4939-bbe0-9092131fb4c1",
   "metadata": {},
   "outputs": [
    {
     "name": "stderr",
     "output_type": "stream",
     "text": [
      "\n",
      "A value is trying to be set on a copy of a slice from a DataFrame.\n",
      "Try using .loc[row_indexer,col_indexer] = value instead\n",
      "\n",
      "See the caveats in the documentation: https://pandas.pydata.org/pandas-docs/stable/user_guide/indexing.html#returning-a-view-versus-a-copy\n",
      "The use of label encoder in XGBClassifier is deprecated and will be removed in a future release. To remove this warning, do the following: 1) Pass option use_label_encoder=False when constructing XGBClassifier object; and 2) Encode your labels (y) as integers starting with 0, i.e. 0, 1, 2, ..., [num_class - 1].\n"
     ]
    },
    {
     "name": "stdout",
     "output_type": "stream",
     "text": [
      "CategoricalIndex(['Low', 'Medium to high', 'No visible ice', 'Pure ice',\n",
      "                  'High'],\n",
      "                 categories=['No visible ice', 'Low', 'Medium to high', 'High', 'Pure ice'], ordered=True, dtype='category')\n",
      "Int64Index([2, 1, 0, 4, 3], dtype='int64')\n",
      "[18:01:07] WARNING: C:/Users/Administrator/workspace/xgboost-win64_release_1.4.0/src/learner.cc:1095: Starting in XGBoost 1.3.0, the default evaluation metric used with the objective 'multi:softprob' was changed from 'merror' to 'mlogloss'. Explicitly set eval_metric if you'd like to restore the old behavior.\n",
      "[[72 29 24  1  3]\n",
      " [30 51 45  2  9]\n",
      " [25 33 83  1  9]\n",
      " [ 3  7  9  1  0]\n",
      " [11 10 14  0 18]]\n",
      "              precision    recall  f1-score   support\n",
      "\n",
      "           0       0.51      0.56      0.53       129\n",
      "           1       0.39      0.37      0.38       137\n",
      "           2       0.47      0.55      0.51       151\n",
      "           3       0.20      0.05      0.08        20\n",
      "           4       0.46      0.34      0.39        53\n",
      "\n",
      "    accuracy                           0.46       490\n",
      "   macro avg       0.41      0.37      0.38       490\n",
      "weighted avg       0.45      0.46      0.45       490\n",
      "\n",
      "0.45918367346938777\n"
     ]
    },
    {
     "name": "stderr",
     "output_type": "stream",
     "text": [
      "ntree_limit is deprecated, use `iteration_range` or model slicing instead.\n"
     ]
    },
    {
     "data": {
      "image/png": "[encoded data removed]",
      "text/plain": [
       "<Figure size 576x280.8 with 1 Axes>"
      ]
     },
     "metadata": {
      "needs_background": "light"
     },
     "output_type": "display_data"
    }
   ],
   "source": [
    "xgboost_shap('visible_ice')"
   ]
  },
  {
   "cell_type": "code",
   "execution_count": 44,
   "id": "49caba21-b43f-46af-927d-dabd1df5ebfa",
   "metadata": {},
   "outputs": [],
   "source": [
    "y_pred = classifier.predict(X_test)"
   ]
  },
  {
   "cell_type": "code",
   "execution_count": 45,
   "id": "0c9eab2f-b645-4d57-903f-4595dae7d4a5",
   "metadata": {},
   "outputs": [
    {
     "name": "stdout",
     "output_type": "stream",
     "text": [
      "Index(['Sand', 'Clay', 'Organics', 'Ice', 'Gravel', 'Rock', 'Pure Ice'], dtype='object')\n",
      "Int64Index([6, 0, 3, 2, 1, 5, 4], dtype='int64')\n",
      "[18:01:08] WARNING: C:/Users/Administrator/workspace/xgboost-win64_release_1.4.0/src/learner.cc:1095: Starting in XGBoost 1.3.0, the default evaluation metric used with the objective 'multi:softprob' was changed from 'merror' to 'mlogloss'. Explicitly set eval_metric if you'd like to restore the old behavior.\n"
     ]
    },
    {
     "name": "stderr",
     "output_type": "stream",
     "text": [
      "The use of label encoder in XGBClassifier is deprecated and will be removed in a future release. To remove this warning, do the following: 1) Pass option use_label_encoder=False when constructing XGBClassifier object; and 2) Encode your labels (y) as integers starting with 0, i.e. 0, 1, 2, ..., [num_class - 1].\n"
     ]
    },
    {
     "name": "stdout",
     "output_type": "stream",
     "text": [
      "[[ 66   0  11   2   0  42]\n",
      " [  1  12   1   1   0  26]\n",
      " [  7   2  10   4   0  24]\n",
      " [  1   0   0  80   0  16]\n",
      " [  0   0   0   0   2   1]\n",
      " [ 30  15   7   7   0 196]]\n",
      "              precision    recall  f1-score   support\n",
      "\n",
      "           0       0.63      0.55      0.58       121\n",
      "           1       0.41      0.29      0.34        41\n",
      "           2       0.34      0.21      0.26        47\n",
      "           3       0.85      0.82      0.84        97\n",
      "           5       1.00      0.67      0.80         3\n",
      "           6       0.64      0.77      0.70       255\n",
      "\n",
      "    accuracy                           0.65       564\n",
      "   macro avg       0.65      0.55      0.59       564\n",
      "weighted avg       0.64      0.65      0.64       564\n",
      "\n",
      "0.648936170212766\n"
     ]
    },
    {
     "name": "stderr",
     "output_type": "stream",
     "text": [
      "ntree_limit is deprecated, use `iteration_range` or model slicing instead.\n"
     ]
    },
    {
     "data": {
      "image/png": "[encoded data removed]",
      "text/plain": [
       "<Figure size 576x280.8 with 1 Axes>"
      ]
     },
     "metadata": {
      "needs_background": "light"
     },
     "output_type": "display_data"
    }
   ],
   "source": [
    "xgboost_shap('materials')"
   ]
  },
  {
   "cell_type": "code",
   "execution_count": 46,
   "id": "43148797-0904-4de0-b608-9e6e7a5403ea",
   "metadata": {},
   "outputs": [
    {
     "name": "stdout",
     "output_type": "stream",
     "text": [
      "Index(['Vx', 'Nf', 'Nbn', 'Nbe', 'Vs', 'Vr', 'Vc'], dtype='object')\n",
      "Int64Index([6, 2, 1, 0, 5, 4, 3], dtype='int64')\n",
      "[18:01:09] WARNING: C:/Users/Administrator/workspace/xgboost-win64_release_1.4.0/src/learner.cc:1095: Starting in XGBoost 1.3.0, the default evaluation metric used with the objective 'multi:softprob' was changed from 'merror' to 'mlogloss'. Explicitly set eval_metric if you'd like to restore the old behavior.\n"
     ]
    },
    {
     "name": "stderr",
     "output_type": "stream",
     "text": [
      "\n",
      "A value is trying to be set on a copy of a slice from a DataFrame.\n",
      "Try using .loc[row_indexer,col_indexer] = value instead\n",
      "\n",
      "See the caveats in the documentation: https://pandas.pydata.org/pandas-docs/stable/user_guide/indexing.html#returning-a-view-versus-a-copy\n",
      "The use of label encoder in XGBClassifier is deprecated and will be removed in a future release. To remove this warning, do the following: 1) Pass option use_label_encoder=False when constructing XGBClassifier object; and 2) Encode your labels (y) as integers starting with 0, i.e. 0, 1, 2, ..., [num_class - 1].\n"
     ]
    },
    {
     "name": "stdout",
     "output_type": "stream",
     "text": [
      "[[ 2  6  3  0  0  0  6]\n",
      " [ 4 14 13  0  2  0 28]\n",
      " [ 3 15 52  1  0  0 26]\n",
      " [ 0  0  3  1  0  0  5]\n",
      " [ 0  2  0  2  2  0  7]\n",
      " [ 0  1  1  0  0  1 11]\n",
      " [ 4 25 23  1  1  1 93]]\n",
      "              precision    recall  f1-score   support\n",
      "\n",
      "           0       0.15      0.12      0.13        17\n",
      "           1       0.22      0.23      0.23        61\n",
      "           2       0.55      0.54      0.54        97\n",
      "           3       0.20      0.11      0.14         9\n",
      "           4       0.40      0.15      0.22        13\n",
      "           5       0.50      0.07      0.12        14\n",
      "           6       0.53      0.63      0.57       148\n",
      "\n",
      "    accuracy                           0.46       359\n",
      "   macro avg       0.36      0.26      0.28       359\n",
      "weighted avg       0.45      0.46      0.44       359\n",
      "\n",
      "0.4596100278551532\n"
     ]
    },
    {
     "name": "stderr",
     "output_type": "stream",
     "text": [
      "ntree_limit is deprecated, use `iteration_range` or model slicing instead.\n"
     ]
    },
    {
     "data": {
      "image/png": "[encoded data removed]",
      "text/plain": [
       "<Figure size 576x280.8 with 1 Axes>"
      ]
     },
     "metadata": {
      "needs_background": "light"
     },
     "output_type": "display_data"
    }
   ],
   "source": [
    "xgboost_shap('cryostructures')"
   ]
  },
  {
   "cell_type": "code",
   "execution_count": 47,
   "id": "1004b19a-d70e-4650-8f97-8e2ab44b9ddb",
   "metadata": {},
   "outputs": [
    {
     "name": "stdout",
     "output_type": "stream",
     "text": [
      "Int64Index([1, 0], dtype='int64')\n",
      "Int64Index([1, 0], dtype='int64')\n",
      "[18:01:10] WARNING: C:/Users/Administrator/workspace/xgboost-win64_release_1.4.0/src/learner.cc:1095: Starting in XGBoost 1.3.0, the default evaluation metric used with the objective 'binary:logistic' was changed from 'error' to 'logloss'. Explicitly set eval_metric if you'd like to restore the old behavior.\n",
      "[[ 48  21]\n",
      " [  5 490]]\n",
      "              precision    recall  f1-score   support\n",
      "\n",
      "           0       0.91      0.70      0.79        69\n",
      "           1       0.96      0.99      0.97       495\n",
      "\n",
      "    accuracy                           0.95       564\n",
      "   macro avg       0.93      0.84      0.88       564\n",
      "weighted avg       0.95      0.95      0.95       564\n",
      "\n",
      "0.9539007092198581\n"
     ]
    },
    {
     "name": "stderr",
     "output_type": "stream",
     "text": [
      "The use of label encoder in XGBClassifier is deprecated and will be removed in a future release. To remove this warning, do the following: 1) Pass option use_label_encoder=False when constructing XGBClassifier object; and 2) Encode your labels (y) as integers starting with 0, i.e. 0, 1, 2, ..., [num_class - 1].\n",
      "ntree_limit is deprecated, use `iteration_range` or model slicing instead.\n"
     ]
    },
    {
     "data": {
      "image/png": "[encoded data removed]",
      "text/plain": [
       "<Figure size 576x280.8 with 1 Axes>"
      ]
     },
     "metadata": {
      "needs_background": "light"
     },
     "output_type": "display_data"
    }
   ],
   "source": [
    "xgboost_shap('frozen')"
   ]
  },
  {
   "cell_type": "code",
   "execution_count": 48,
   "id": "781fafcf-768d-4533-b357-20cb4c9822be",
   "metadata": {},
   "outputs": [
    {
     "name": "stdout",
     "output_type": "stream",
     "text": [
      "Index(['CL', 'ICE', 'PEAT', 'ML', 'ORGANICS', 'SM', 'SP', 'SC', 'TOPSOIL',\n",
      "       'CL-ML', 'GP-GM', 'SC-SM', 'SP-SM', 'TILL', 'GP', 'CH', 'GW', 'GW-GM',\n",
      "       'SM-SC', 'SW', 'GM', 'SW-SM', 'GC', 'GP-GC', 'GM-GC', 'MH', 'SP-SC',\n",
      "       'SW-SC', 'GC-GM', 'SP-SW', 'GW-GC', 'SW-SP', 'COBBLES', 'ROCK', 'ML-CL',\n",
      "       'SP-GP', 'SW-GC', 'ML-SM'],\n",
      "      dtype='object')\n",
      "Int64Index([ 1, 14, 20, 16, 19, 24, 26, 22, 37,  2, 10, 23, 29, 36,  8,  0, 11,\n",
      "            25, 13, 31,  6, 34,  4, 15,  9,  7, 28, 33,  5, 30, 12, 17, 21,  3,\n",
      "            35, 32, 27, 18],\n",
      "           dtype='int64')\n",
      "[18:01:11] WARNING: C:/Users/Administrator/workspace/xgboost-win64_release_1.4.0/src/learner.cc:1095: Starting in XGBoost 1.3.0, the default evaluation metric used with the objective 'multi:softprob' was changed from 'merror' to 'mlogloss'. Explicitly set eval_metric if you'd like to restore the old behavior.\n"
     ]
    },
    {
     "name": "stderr",
     "output_type": "stream",
     "text": [
      "\n",
      "A value is trying to be set on a copy of a slice from a DataFrame.\n",
      "Try using .loc[row_indexer,col_indexer] = value instead\n",
      "\n",
      "See the caveats in the documentation: https://pandas.pydata.org/pandas-docs/stable/user_guide/indexing.html#returning-a-view-versus-a-copy\n",
      "The use of label encoder in XGBClassifier is deprecated and will be removed in a future release. To remove this warning, do the following: 1) Pass option use_label_encoder=False when constructing XGBClassifier object; and 2) Encode your labels (y) as integers starting with 0, i.e. 0, 1, 2, ..., [num_class - 1].\n"
     ]
    },
    {
     "name": "stdout",
     "output_type": "stream",
     "text": [
      "[[ 3  0  0  0  0  0  0  0  0  0  0  3  0  0  0  0  0  0  0  0  0  0  1  0\n",
      "   0  1  0  0  0  0]\n",
      " [ 0 41  1  0  0  1  0  1  0  0  0  3  0  2  0  1  0  0  6  0  1  0  0  0\n",
      "   0  0  0  0  0  0]\n",
      " [ 0  0 13  0  0  0  0  0  0  0  0  3  0  2  0  0  1  0  0  5  2  0  0  0\n",
      "   0  0  0  0  0  0]\n",
      " [ 0  1  0  0  0  0  0  0  0  0  0  0  0  1  0  1  0  0  1  0  0  0  0  0\n",
      "   0  0  0  0  0  0]\n",
      " [ 0  0  0  0  0  0  0  0  0  0  0  1  0  0  0  0  0  0  0  0  0  0  0  0\n",
      "   0  0  0  0  0  0]\n",
      " [ 0  0  0  0  0  0  0  0  0  0  0  1  0  0  0  0  0  0  0  1  0  0  1  0\n",
      "   0  0  0  0  0  0]\n",
      " [ 0  0  0  0  0  0  0  0  0  0  0  2  0  0  0  0  0  0  0  0  1  0  0  0\n",
      "   0  0  0  0  0  0]\n",
      " [ 0  0  0  0  0  0  0  2  0  1  0  0  0  2  0  1  0  0  0  0  0  0  1  0\n",
      "   0  2  0  0  0  0]\n",
      " [ 0  0  0  0  0  0  0  0  5  2  2  0  0  0  0  0  0  0  0  0  3  0  0  0\n",
      "   0  0  0  0  0  0]\n",
      " [ 0  0  0  0  0  0  0  0  2  0  0  1  0  0  0  0  0  0  0  0  1  0  2  0\n",
      "   0  1  0  0  0  0]\n",
      " [ 0  0  1  0  0  0  0  0  0  1  2  2  0  0  0  0  0  0  0  0  0  0  1  0\n",
      "   0  0  0  0  0  0]\n",
      " [ 0  8  2  0  0  1  0  1  2  2  1 16  0  0  0  1  2  0  2  0  5  1  4  0\n",
      "   0  1  0  0  1  1]\n",
      " [ 0  1  0  0  0  0  0  0  0  0  0  0  0  0  0  0  1  0  0  0  0  0  0  0\n",
      "   0  0  0  0  0  0]\n",
      " [ 0  2  3  0  0  1  0  1  0  0  0  3  0 11  0  1  1  0  0  0  7  0  0  0\n",
      "   0  0  0  0  2  0]\n",
      " [ 0  0  0  0  0  0  0  0  0  0  0  0  0  0  0  0  0  0  0  0  0  0  0  0\n",
      "   0  0  0  0  1  0]\n",
      " [ 0  0  0  0  0  1  0  0  0  0  0  1  0  1  0 29  4  0  0  0  4  0  0  0\n",
      "   0  1  0  0  0  2]\n",
      " [ 0  1  0  0  0  0  0  0  0  0  0  3  0  2  0  5 26  0  0  1  0  0  0  0\n",
      "   0  0  0  0  2  4]\n",
      " [ 0  0  0  0  0  0  0  0  0  0  0  0  0  0  0  0  0  0  0  0  0  0  1  0\n",
      "   0  0  0  0  0  0]\n",
      " [ 1  7  0  0  0  0  0  1  0  0  0  6  0  0  0  0  0  0  7  3  4  1  1  0\n",
      "   0  0  0  1  0  0]\n",
      " [ 0  1  0  0  0  0  0  0  0  0  0  2  0  1  0  0  0  0  2  6  0  0  0  0\n",
      "   0  0  0  0  0  0]\n",
      " [ 0  1  2  0  0  1  0  0  1  1  0  7  0  2  0  2  0  0  3  0  6  0  1  0\n",
      "   0  0  0  0  0  0]\n",
      " [ 0  0  0  0  0  0  0  0  0  0  0  1  0  1  0  0  0  0  0  0  1  1  0  0\n",
      "   0  1  0  0  0  0]\n",
      " [ 1  2  0  0  0  0  0  3  0  1  0  1  0  0  0  0  0  0  1  0  0  2 11  0\n",
      "   0  2  1  0  3  0]\n",
      " [ 0  0  0  0  0  0  0  0  0  0  0  1  0  0  0  0  0  0  0  0  0  0  0  0\n",
      "   0  0  0  0  0  0]\n",
      " [ 0  0  1  0  0  0  0  0  0  0  0  0  0  0  0  0  0  0  0  0  0  0  0  0\n",
      "   0  0  0  0  0  0]\n",
      " [ 0  0  0  0  0  0  0  1  0  0  1  2  0  1  0  0  0  0  0  0  1  0  2  0\n",
      "   0  1  0  0  0  0]\n",
      " [ 0  0  0  0  0  0  0  0  1  0  0  0  0  0  0  0  0  0  1  0  0  0  0  0\n",
      "   0  1  0  0  0  0]\n",
      " [ 0  0  1  0  0  0  0  0  0  0  0  0  0  0  0  0  0  0  0  0  0  0  0  0\n",
      "   0  0  0  0  0  0]\n",
      " [ 0  2  0  0  0  0  0  0  0  0  0  0  0  0  0  0  0  0  0  0  0  0  1  0\n",
      "   0  0  0  0  9  0]\n",
      " [ 0  0  0  0  0  0  0  0  0  0  0  0  0  0  0  0  6  0  0  0  0  0  0  0\n",
      "   0  0  0  0  0 11]]\n",
      "              precision    recall  f1-score   support\n",
      "\n",
      "           0       0.60      0.38      0.46         8\n",
      "           1       0.61      0.72      0.66        57\n",
      "           2       0.54      0.50      0.52        26\n",
      "           4       0.00      0.00      0.00         4\n",
      "           5       0.00      0.00      0.00         1\n",
      "           6       0.00      0.00      0.00         3\n",
      "           7       0.00      0.00      0.00         3\n",
      "           8       0.20      0.22      0.21         9\n",
      "          10       0.45      0.42      0.43        12\n",
      "          11       0.00      0.00      0.00         7\n",
      "          13       0.33      0.29      0.31         7\n",
      "          14       0.27      0.31      0.29        51\n",
      "          15       0.00      0.00      0.00         2\n",
      "          16       0.42      0.34      0.38        32\n",
      "          17       0.00      0.00      0.00         1\n",
      "          19       0.71      0.67      0.69        43\n",
      "          20       0.63      0.59      0.61        44\n",
      "          21       0.00      0.00      0.00         1\n",
      "          22       0.30      0.22      0.25        32\n",
      "          23       0.38      0.50      0.43        12\n",
      "          24       0.17      0.22      0.19        27\n",
      "          25       0.20      0.20      0.20         5\n",
      "          26       0.41      0.39      0.40        28\n",
      "          27       0.00      0.00      0.00         1\n",
      "          28       0.00      0.00      0.00         1\n",
      "          29       0.09      0.11      0.10         9\n",
      "          31       0.00      0.00      0.00         3\n",
      "          34       0.00      0.00      0.00         1\n",
      "          36       0.50      0.75      0.60        12\n",
      "          37       0.61      0.65      0.63        17\n",
      "\n",
      "    accuracy                           0.44       459\n",
      "   macro avg       0.25      0.25      0.25       459\n",
      "weighted avg       0.43      0.44      0.43       459\n",
      "\n",
      "0.4357298474945534\n"
     ]
    },
    {
     "name": "stderr",
     "output_type": "stream",
     "text": [
      "Precision and F-score are ill-defined and being set to 0.0 in labels with no predicted samples. Use `zero_division` parameter to control this behavior.\n",
      "Precision and F-score are ill-defined and being set to 0.0 in labels with no predicted samples. Use `zero_division` parameter to control this behavior.\n",
      "Precision and F-score are ill-defined and being set to 0.0 in labels with no predicted samples. Use `zero_division` parameter to control this behavior.\n",
      "ntree_limit is deprecated, use `iteration_range` or model slicing instead.\n"
     ]
    },
    {
     "data": {
      "image/png": "[encoded data removed]",
      "text/plain": [
       "<Figure size 576x280.8 with 1 Axes>"
      ]
     },
     "metadata": {
      "needs_background": "light"
     },
     "output_type": "display_data"
    }
   ],
   "source": [
    "xgboost_shap('ASTM_2488')"
   ]
  },
  {
   "cell_type": "code",
   "execution_count": 49,
   "id": "4e1c927b-d787-4563-bae8-41a20e358b6b",
   "metadata": {},
   "outputs": [
    {
     "name": "stdout",
     "output_type": "stream",
     "text": [
      "Index(['Sand', 'Clay', 'Organics', 'Ice', 'Gravel', 'Rock', 'Pure Ice'], dtype='object')\n",
      "Int64Index([6, 0, 3, 2, 1, 5, 4], dtype='int64')\n"
     ]
    }
   ],
   "source": [
    "label_name = 'materials'\n",
    "df_temp = df.dropna(subset=[label_name])\n",
    "\n",
    "convert_to_code(df_temp, label_name)\n",
    "data = np.array(df_temp.filter(feature_names))\n",
    "labels = df_temp[label_name]\n",
    "\n",
    "X_train, X_test, y_train, y_test = train_test_split(data, labels, test_size=0.3) #, random_state=0\n",
    "\n",
    "# print((X_test['depth'] >= depth_top) & (X_test['depth'] <= depth_bottom))\n",
    "#     X_test = X_test.loc[(X_test['depth'] >= depth_top) & (X_test['depth'] <= depth_bottom)]\n",
    "#     Y_test = Y_test.loc[(X_test['depth'] >= depth_top) & (X_test['depth'] <= depth_bottom)]"
   ]
  },
  {
   "cell_type": "code",
   "execution_count": 50,
   "id": "ea736b28-b682-42f7-adc3-2041fdb86771",
   "metadata": {},
   "outputs": [
    {
     "name": "stdout",
     "output_type": "stream",
     "text": [
      "[18:01:15] WARNING: C:/Users/Administrator/workspace/xgboost-win64_release_1.4.0/src/learner.cc:1095: Starting in XGBoost 1.3.0, the default evaluation metric used with the objective 'multi:softprob' was changed from 'merror' to 'mlogloss'. Explicitly set eval_metric if you'd like to restore the old behavior.\n"
     ]
    },
    {
     "name": "stderr",
     "output_type": "stream",
     "text": [
      "The use of label encoder in XGBClassifier is deprecated and will be removed in a future release. To remove this warning, do the following: 1) Pass option use_label_encoder=False when constructing XGBClassifier object; and 2) Encode your labels (y) as integers starting with 0, i.e. 0, 1, 2, ..., [num_class - 1].\n"
     ]
    },
    {
     "name": "stdout",
     "output_type": "stream",
     "text": [
      "[[ 91   1   7   5   0   0  67]\n",
      " [  0  16   2   3   0   0  47]\n",
      " [ 17   5  16   0   0   0  48]\n",
      " [  4   0   3  99   0   0  20]\n",
      " [  0   0   1   0   0   0   0]\n",
      " [  0   0   0   0   0   1   1]\n",
      " [ 45  16  14  11   0   0 306]]\n",
      "              precision    recall  f1-score   support\n",
      "\n",
      "           0       0.58      0.53      0.55       171\n",
      "           1       0.42      0.24      0.30        68\n",
      "           2       0.37      0.19      0.25        86\n",
      "           3       0.84      0.79      0.81       126\n",
      "           4       0.00      0.00      0.00         1\n",
      "           5       1.00      0.50      0.67         2\n",
      "           6       0.63      0.78      0.69       392\n",
      "\n",
      "    accuracy                           0.63       846\n",
      "   macro avg       0.55      0.43      0.47       846\n",
      "weighted avg       0.61      0.63      0.61       846\n",
      "\n",
      "0.6252955082742316\n"
     ]
    },
    {
     "name": "stderr",
     "output_type": "stream",
     "text": [
      "Precision and F-score are ill-defined and being set to 0.0 in labels with no predicted samples. Use `zero_division` parameter to control this behavior.\n",
      "Precision and F-score are ill-defined and being set to 0.0 in labels with no predicted samples. Use `zero_division` parameter to control this behavior.\n",
      "Precision and F-score are ill-defined and being set to 0.0 in labels with no predicted samples. Use `zero_division` parameter to control this behavior.\n",
      "ntree_limit is deprecated, use `iteration_range` or model slicing instead.\n"
     ]
    },
    {
     "name": "stdout",
     "output_type": "stream",
     "text": [
      "shap_values shape is:\n",
      "(6, 2819, 6)\n"
     ]
    },
    {
     "data": {
      "image/png": "[encoded data removed]",
      "text/plain": [
       "<Figure size 576x280.8 with 1 Axes>"
      ]
     },
     "metadata": {
      "needs_background": "light"
     },
     "output_type": "display_data"
    }
   ],
   "source": [
    "classifier = XGBClassifier()\n",
    "classifier.fit(X_train, y_train) \n",
    "\n",
    "y_pred = classifier.predict(X_test)\n",
    "\n",
    "print(confusion_matrix(y_test,y_pred))\n",
    "print(classification_report(y_test,y_pred))\n",
    "print(accuracy_score(y_test, y_pred))\n",
    "\n",
    "explainer = shap.TreeExplainer(classifier)\n",
    "shap_values = explainer.shap_values(data)\n",
    "print(\"shap_values shape is:\")\n",
    "print(np.array(shap_values).shape)\n",
    "type(shap_values)\n",
    "\n",
    "shap.summary_plot(shap_values, plot_type=\"bar\", feature_names=feature_names, show=False)\n",
    "plt.title(label_name)\n",
    "plt.show()"
   ]
  },
  {
   "cell_type": "code",
   "execution_count": 51,
   "id": "1262f4f9-8c04-4dd0-9e7d-ce35c58b1ec3",
   "metadata": {},
   "outputs": [
    {
     "name": "stdout",
     "output_type": "stream",
     "text": [
      "<class 'list'>\n"
     ]
    }
   ],
   "source": [
    "print(type(shap_values))"
   ]
  },
  {
   "cell_type": "code",
   "execution_count": 52,
   "id": "095f9732-2f2e-40f1-a5ad-b8a258ae0808",
   "metadata": {},
   "outputs": [
    {
     "data": {
      "text/plain": [
       "numpy.ndarray"
      ]
     },
     "execution_count": 52,
     "metadata": {},
     "output_type": "execute_result"
    }
   ],
   "source": [
    "type(shap_values[0])"
   ]
  },
  {
   "cell_type": "code",
   "execution_count": null,
   "id": "215bc2e5-70cb-4d88-8067-a8f52672fcc0",
   "metadata": {},
   "outputs": [],
   "source": []
  }
 ],
 "metadata": {
  "kernelspec": {
   "display_name": "Python 3",
   "language": "python",
   "name": "python3"
  },
  "language_info": {
   "codemirror_mode": {
    "name": "ipython",
    "version": 3
   },
   "file_extension": ".py",
   "mimetype": "text/x-python",
   "name": "python",
   "nbconvert_exporter": "python",
   "pygments_lexer": "ipython3",
   "version": "3.8.8"
  }
 },
 "nbformat": 4,
 "nbformat_minor": 5
}
