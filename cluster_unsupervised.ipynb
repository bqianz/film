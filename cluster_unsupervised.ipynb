{
 "cells": [
  {
   "cell_type": "code",
   "execution_count": 68,
   "id": "8ea3db6a-e70e-4aa8-83ac-1146d622b24d",
   "metadata": {},
   "outputs": [],
   "source": [
    "import pandas as pd\n",
    "import numpy as np\n",
    "import matplotlib.pyplot as plt\n",
    "from dataPreprocess import *\n",
    "from sklearn.preprocessing import MinMaxScaler, StandardScaler\n",
    "from sklearn.cluster import MeanShift, estimate_bandwidth\n",
    "from itertools import cycle\n",
    "from random import uniform"
   ]
  },
  {
   "cell_type": "markdown",
   "id": "472bb62c-e199-46f0-b5d0-ca5c4c726c62",
   "metadata": {},
   "source": [
    "## Organize borehole locations into clusters"
   ]
  },
  {
   "cell_type": "code",
   "execution_count": 56,
   "id": "bec129ec-0391-43dc-a156-cd3495540be2",
   "metadata": {},
   "outputs": [],
   "source": [
    "bh_file_path = 'components_analysis/df_unique.csv'\n",
    "df = pd.read_csv(bh_file_path, header=[0])"
   ]
  },
  {
   "cell_type": "code",
   "execution_count": 78,
   "id": "04901fba-14c9-4618-815c-ef1e8cff6ced",
   "metadata": {},
   "outputs": [],
   "source": [
    "X = np.array(df[['latitude','longitude']])"
   ]
  },
  {
   "cell_type": "code",
   "execution_count": 79,
   "id": "4e8599c5-fc49-47b4-ac7f-a0244bfc67d9",
   "metadata": {},
   "outputs": [
    {
     "data": {
      "text/plain": [
       "array([[  69.16162, -133.08682],\n",
       "       [  69.16162, -133.08682],\n",
       "       [  69.16162, -133.08682],\n",
       "       ...,\n",
       "       [  68.38386, -133.70967],\n",
       "       [  68.38386, -133.70967],\n",
       "       [  68.38386, -133.70967]])"
      ]
     },
     "execution_count": 79,
     "metadata": {},
     "output_type": "execute_result"
    }
   ],
   "source": [
    "X"
   ]
  },
  {
   "cell_type": "code",
   "execution_count": null,
   "id": "1e53f23c-cb0b-4e0c-b43b-f38f6a6c7426",
   "metadata": {},
   "outputs": [],
   "source": [
    "# The following bandwidth can be automatically detected using\n",
    "bandwidth = estimate_bandwidth(X, quantile=0.01)\n",
    "\n",
    "ms = MeanShift(bandwidth=bandwidth, bin_seeding=True)\n",
    "ms.fit(X)\n",
    "labels = ms.labels_\n",
    "#labels looks like [0, 0, 0, 1, 1, 1, 1, 2, 2,....]\n",
    "\n",
    "cluster_centers = ms.cluster_centers_\n",
    "\n",
    "labels_unique = np.unique(labels)\n",
    "n_clusters_ = len(labels_unique)\n",
    "\n",
    "print(\"number of estimated clusters : %d\" % n_clusters_)\n",
    "\n",
    "# #############################################################################\n",
    "# Plot result\n",
    "plt.figure(1)\n",
    "plt.clf()\n",
    "\n",
    "colors = cycle(\"bgrcmykbgrcmykbgrcmykbgrcmyk\")\n",
    "for k, col in zip(range(n_clusters_), colors):\n",
    "    my_members = labels == k\n",
    "    plt.plot(X[my_members, 0], X[my_members, 1], col + \".\")\n",
    "    \n",
    "plt.title(\"Estimated number of clusters: %d\" % n_clusters_)\n",
    "plt.axis('equal')\n",
    "plt.show()"
   ]
  },
  {
   "cell_type": "code",
   "execution_count": 58,
   "id": "55e321a1-6eba-4486-b09d-010f73e377a6",
   "metadata": {},
   "outputs": [
    {
     "data": {
      "image/png": "[encoded data removed]",
      "text/plain": [
       "<Figure size 432x288 with 1 Axes>"
      ]
     },
     "metadata": {
      "needs_background": "light"
     },
     "output_type": "display_data"
    }
   ],
   "source": [
    "colors = cycle(\"bgrcmykbgrcmykbgrcmykbgrcmyk\")\n",
    "\n",
    "for k, col in zip(range(n_clusters_), colors):\n",
    "    my_members = labels == k\n",
    "    if k == 0:\n",
    "        plt.plot(X[my_members, 0], X[my_members, 1], col + \".\")\n",
    "        break\n",
    "    \n",
    "plt.title(\"Number of borehole locations in cluster 0 : %d\" % sum(labels==0))\n",
    "plt.axis('equal')\n",
    "plt.show()"
   ]
  },
  {
   "cell_type": "code",
   "execution_count": 59,
   "id": "82696775-0b4c-4032-baea-f701b19960e8",
   "metadata": {},
   "outputs": [],
   "source": [
    "df_cluster = df.iloc[labels==0]\n",
    "bh_id_cluster = df_cluster.borehole\n"
   ]
  },
  {
   "cell_type": "code",
   "execution_count": 60,
   "id": "417f2b16-27f7-42e9-98a7-de3492c44e49",
   "metadata": {},
   "outputs": [
    {
     "name": "stdout",
     "output_type": "stream",
     "text": [
      "Dataframe has length 2837\n",
      "Number of unique boreholes is 566\n",
      "Latitude ranges from 68.36933 to 69.44755\n",
      "Longitude ranges from -133.82843 to -132.89346\n",
      "List of columns normalized: ['latitude_norm', 'longitude_norm', 'depth_norm']\n",
      "visible_ice: 'None' entries have been replaced by 'No visible ice'\n",
      "visible_ice column entries has been ordered:\n",
      "[NaN, 'Pure ice', 'No visible ice', 'High', 'Medium to high', 'Low']\n",
      "Categories (5, object): ['No visible ice' < 'Low' < 'Medium to high' < 'High' < 'Pure ice']\n",
      "with corresponding codes in visible_ice_code column:\n",
      "[-1  4  0  3  2  1]\n",
      "visible_ice: binary column generated\n",
      "materials: 'ICE' and 'ice' entries has been standardized into 'Ice'\n",
      "'material_ice' column generated\n",
      "materials has been categorized into codes in materials_code\n",
      "Null entries of visible_ice dropped\n"
     ]
    }
   ],
   "source": [
    "bh_file_path = 'data_stephen_fix_header.csv'\n",
    "label = 'visible_ice'\n",
    "list_cols = ['latitude', 'longitude','depth']\n",
    "\n",
    "df = pd.read_csv(bh_file_path, header=[0])\n",
    "\n",
    "df, n_classes = prepare_df(df, list_cols, label)                              "
   ]
  },
  {
   "cell_type": "code",
   "execution_count": 61,
   "id": "7de701a9-d7bc-4887-a1a7-b074d596c1b4",
   "metadata": {},
   "outputs": [],
   "source": [
    "df[['materials_code_norm', 'visible_ice_code_norm']] = scale_column(df[['materials_code', 'visible_ice_code']])\n",
    "df=df.dropna(subset=['materials'])"
   ]
  },
  {
   "cell_type": "code",
   "execution_count": 63,
   "id": "0f8bece7-7fbb-41c0-b95c-a24a7563d588",
   "metadata": {},
   "outputs": [],
   "source": [
    "df2 = df[df['borehole'].isin(bh_id_cluster)]"
   ]
  },
  {
   "cell_type": "code",
   "execution_count": 65,
   "id": "87911645-e912-453d-8456-a5db43d4f201",
   "metadata": {},
   "outputs": [],
   "source": [
    "df2 = df2[['latitude_norm', 'longitude_norm', 'depth_norm', 'materials_code_norm', 'visible_ice_code_norm']]"
   ]
  },
  {
   "cell_type": "code",
   "execution_count": 91,
   "id": "eaad1b4b-9216-43d7-b2ff-1ee0f0058955",
   "metadata": {},
   "outputs": [],
   "source": [
    "X = df2.to_numpy()"
   ]
  },
  {
   "cell_type": "code",
   "execution_count": 99,
   "id": "becded88-9cbf-4032-9643-7c86e54e8586",
   "metadata": {},
   "outputs": [],
   "source": [
    "X=X[:,2:5]"
   ]
  },
  {
   "cell_type": "code",
   "execution_count": 101,
   "id": "71fbc234-4bfa-4c21-8c06-1e097a113fc3",
   "metadata": {},
   "outputs": [
    {
     "name": "stdout",
     "output_type": "stream",
     "text": [
      "number of estimated clusters : 8\n"
     ]
    }
   ],
   "source": [
    "\n",
    "# The following bandwidth can be automatically detected using\n",
    "bandwidth = estimate_bandwidth(X, quantile=0.1)\n",
    "\n",
    "ms = MeanShift(bandwidth=bandwidth, bin_seeding=True)\n",
    "ms.fit(X)\n",
    "labels = ms.labels_\n",
    "#labels looks like [0, 0, 0, 1, 1, 1, 1, 2, 2,....]\n",
    "\n",
    "cluster_centers = ms.cluster_centers_\n",
    "\n",
    "labels_unique = np.unique(labels)\n",
    "n_clusters_ = len(labels_unique)\n",
    "\n",
    "print(\"number of estimated clusters : %d\" % n_clusters_)\n"
   ]
  },
  {
   "cell_type": "code",
   "execution_count": 102,
   "id": "cc010893-1b5e-4964-a116-e34b5fc12320",
   "metadata": {},
   "outputs": [
    {
     "data": {
      "text/plain": [
       "array([[-0.37443663,  0.95964595, -0.97118293],\n",
       "       [ 0.04628672, -1.30696678, -0.74489437],\n",
       "       [ 0.14414103, -1.35996797,  0.14263005],\n",
       "       [-0.2857036 ,  1.04359811,  0.26963456],\n",
       "       [ 1.05948412,  1.01193506, -0.03673799],\n",
       "       [ 0.13340669, -0.08793933,  2.22936243],\n",
       "       [ 3.41406479, -1.37112611, -1.02452535],\n",
       "       [ 2.37847198, -1.37112611, -1.02452535]])"
      ]
     },
     "execution_count": 102,
     "metadata": {},
     "output_type": "execute_result"
    }
   ],
   "source": [
    "cluster_centers"
   ]
  },
  {
   "cell_type": "code",
   "execution_count": 69,
   "id": "629b51f4-68ae-42da-a8d4-1ad72860f677",
   "metadata": {},
   "outputs": [],
   "source": [
    "n_dividers = 2\n",
    "dividers = [uniform(-1, 1) for _ in range(n_dividers)]\n"
   ]
  },
  {
   "cell_type": "code",
   "execution_count": 10,
   "id": "35999a98-274e-4506-bc99-621fc0b095bd",
   "metadata": {},
   "outputs": [],
   "source": [
    "long_max = df.longitude_norm.max()\n",
    "long_min = df.longitude_norm.min()\n",
    "long_range = np.linspace(long_min, long_max, 10)\n",
    "\n",
    "lat_max = df.latitude_norm.max()\n",
    "lat_min = df.latitude_norm.min()\n",
    "lat_range = np.linspace(lat_min, lat_max, 10)"
   ]
  },
  {
   "cell_type": "code",
   "execution_count": 11,
   "id": "0fb35b04-e387-4114-ae2b-ba2acf3b08f6",
   "metadata": {},
   "outputs": [],
   "source": [
    "xx, yy = np.meshgrid(long_range, lat_range)"
   ]
  },
  {
   "cell_type": "code",
   "execution_count": 12,
   "id": "73c2bc4d-b5d0-48d2-863d-63fe31ff0c8b",
   "metadata": {},
   "outputs": [],
   "source": [
    "z = -b/w[2] - w[0]/w[2] * yy - w[1]/w[2] * xx"
   ]
  },
  {
   "cell_type": "code",
   "execution_count": 16,
   "id": "f6cc8773-61e8-4d22-97bf-232f0419d059",
   "metadata": {},
   "outputs": [
    {
     "data": {
      "text/plain": [
       "array([-1.77035232])"
      ]
     },
     "execution_count": 16,
     "metadata": {},
     "output_type": "execute_result"
    }
   ],
   "source": [
    "-b/w[2]"
   ]
  },
  {
   "cell_type": "code",
   "execution_count": 18,
   "id": "fa857216-4296-4f5f-98ca-2238b9d4f111",
   "metadata": {},
   "outputs": [
    {
     "data": {
      "text/plain": [
       "array([-0.07057003])"
      ]
     },
     "execution_count": 18,
     "metadata": {},
     "output_type": "execute_result"
    }
   ],
   "source": [
    "-w[0]/w[2]"
   ]
  },
  {
   "cell_type": "code",
   "execution_count": 19,
   "id": "f4fb195f-ca37-4bba-bdca-a2d19fa646e9",
   "metadata": {},
   "outputs": [
    {
     "data": {
      "text/plain": [
       "<mpl_toolkits.mplot3d.art3d.Poly3DCollection at 0x1646d030ac0>"
      ]
     },
     "execution_count": 19,
     "metadata": {},
     "output_type": "execute_result"
    },
    {
     "data": {
      "image/png": "[encoded data removed]",
      "text/plain": [
       "<Figure size 640x480 with 1 Axes>"
      ]
     },
     "metadata": {},
     "output_type": "display_data"
    }
   ],
   "source": [
    "%matplotlib widget\n",
    "# Create the figure\n",
    "fig = plt.figure()\n",
    "\n",
    "# Add an axes\n",
    "ax = fig.add_subplot(111,projection='3d')\n",
    "\n",
    "# plot the surface\n",
    "ax.plot_surface(xx, yy, z, alpha=0.2)\n",
    "\n",
    "# and plot the point \n",
    "# ax.scatter(df.longitude_norm , df.latitude_norm , df.depth_norm)"
   ]
  },
  {
   "cell_type": "code",
   "execution_count": 14,
   "id": "e0d42447-5236-4f5c-b1fa-1ab350b8dd08",
   "metadata": {},
   "outputs": [],
   "source": [
    "import pickle\n",
    "pickle.dump(fig, open('DecisionBoundary.fig.pickle', 'wb'))"
   ]
  },
  {
   "cell_type": "code",
   "execution_count": null,
   "id": "753a3bd8-0113-42a8-a546-36975c019942",
   "metadata": {},
   "outputs": [],
   "source": []
  }
 ],
 "metadata": {
  "kernelspec": {
   "display_name": "Python 3",
   "language": "python",
   "name": "python3"
  },
  "language_info": {
   "codemirror_mode": {
    "name": "ipython",
    "version": 3
   },
   "file_extension": ".py",
   "mimetype": "text/x-python",
   "name": "python",
   "nbconvert_exporter": "python",
   "pygments_lexer": "ipython3",
   "version": "3.8.8"
  }
 },
 "nbformat": 4,
 "nbformat_minor": 5
}
